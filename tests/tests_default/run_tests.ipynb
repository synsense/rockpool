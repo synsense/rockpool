{
 "cells": [
  {
   "cell_type": "code",
   "execution_count": null,
   "metadata": {},
   "outputs": [],
   "source": [
    "from test_ahp_lif_torch import *\n",
    "from rockpool.nn.modules.torch.ahp_lif_torch import aLIFTorch\n",
    "from rockpool.parameters import Constant\n",
    "import torch"
   ]
  },
  {
   "cell_type": "code",
   "execution_count": null,
   "metadata": {},
   "outputs": [],
   "source": [
    "N_neurons = 3\n",
    "N_syn = 2\n",
    "n_batchs = 10\n",
    "T = 20\n",
    "\n",
    "# w_ahp = Constant(torch.ones(1, N_neurons))\n",
    "w_ahp = Constant(torch.ones(N_neurons, N_syn))\n",
    "\n",
    "for n in range(N_neurons):\n",
    "\n",
    "    w_ahp[n, :] *= -(n + 1)\n",
    "\n",
    "print(w_ahp)"
   ]
  },
  {
   "cell_type": "code",
   "execution_count": null,
   "metadata": {},
   "outputs": [],
   "source": [
    "mod = aLIFTorch(shape=(N_syn * N_neurons, N_neurons), w_ahp=w_ahp, bias=Constant(0))"
   ]
  },
  {
   "cell_type": "code",
   "execution_count": null,
   "metadata": {},
   "outputs": [],
   "source": [
    "input = torch.zeros(n_batchs, T, N_syn * N_neurons)\n",
    "input[:, 0, :] = 1"
   ]
  },
  {
   "cell_type": "code",
   "execution_count": null,
   "metadata": {},
   "outputs": [],
   "source": [
    "mod.reset_state()\n",
    "out, st, rd = mod(input, record=True)"
   ]
  },
  {
   "cell_type": "code",
   "execution_count": null,
   "metadata": {},
   "outputs": [],
   "source": [
    "print(rd.keys())"
   ]
  },
  {
   "cell_type": "code",
   "execution_count": null,
   "metadata": {},
   "outputs": [],
   "source": [
    "print(rd[\"iahp\"][:, 19, 1])"
   ]
  },
  {
   "cell_type": "code",
   "execution_count": null,
   "metadata": {},
   "outputs": [],
   "source": [
    "print(rd[\"vmem\"][:, 19, 0])"
   ]
  },
  {
   "cell_type": "code",
   "execution_count": null,
   "metadata": {},
   "outputs": [],
   "source": [
    "print(rd[\"vmem\"][:, 19, 1])"
   ]
  },
  {
   "cell_type": "code",
   "execution_count": null,
   "metadata": {},
   "outputs": [],
   "source": [
    "print(rd[\"vmem\"][:, 19, 2])"
   ]
  },
  {
   "cell_type": "code",
   "execution_count": null,
   "metadata": {},
   "outputs": [],
   "source": [
    "torch.all(rd[\"vmem\"][:, 1:, 0] > rd[\"vmem\"][:, 1:, 1])"
   ]
  },
  {
   "cell_type": "code",
   "execution_count": null,
   "metadata": {},
   "outputs": [],
   "source": [
    "torch.all(rd[\"vmem\"][:, 1:, 1] > rd[\"vmem\"][:, 1:, 2])"
   ]
  },
  {
   "cell_type": "code",
   "execution_count": null,
   "metadata": {},
   "outputs": [],
   "source": [
    "N_neurons = 3\n",
    "N_syn = 1\n",
    "n_batchs = 10\n",
    "T = 20\n",
    "\n",
    "w_ahp = -Constant(torch.ones(N_neurons, N_syn))\n",
    "tau_ahp = torch.zeros((N_neurons, N_syn), requires_grad=False)\n",
    "\n",
    "for n in range(N_neurons):\n",
    "\n",
    "    tau_ahp[n, :] = (n + 1) * 0.2\n",
    "\n",
    "print(tau_ahp)\n",
    "# tau_ahp = torch.tensor(tau_ahp, requires_grad=False)\n",
    "print(tau_ahp.grad_fn)"
   ]
  },
  {
   "cell_type": "code",
   "execution_count": null,
   "metadata": {},
   "outputs": [],
   "source": [
    "input = torch.zeros(n_batchs, T, N_syn * N_neurons)\n",
    "input[:, 0, :] = 100\n",
    "mod = ahp_LIFTorch(\n",
    "    shape=(N_syn * N_neurons, N_neurons),\n",
    "    has_ahp=True,\n",
    "    w_ahp=w_ahp,\n",
    "    tau_ahp=tau_ahp,\n",
    "    bias=Constant(0),\n",
    ")\n",
    "print(tau_ahp)"
   ]
  },
  {
   "cell_type": "code",
   "execution_count": null,
   "metadata": {},
   "outputs": [],
   "source": [
    "mod.reset_state()\n",
    "out, st, rd = mod(input, record=True)"
   ]
  },
  {
   "cell_type": "code",
   "execution_count": null,
   "metadata": {},
   "outputs": [],
   "source": [
    "torch.all(rd[\"iahp\"][:, -1, 0] < rd[\"iahp\"][:, -1, 2])"
   ]
  },
  {
   "cell_type": "code",
   "execution_count": 23,
   "metadata": {},
   "outputs": [
    {
     "name": "stdout",
     "output_type": "stream",
     "text": [
      "tensor(1., grad_fn=<SumBackward0>)\n"
     ]
    },
    {
     "data": {
      "image/png": "[encoded data removed]",
      "text/plain": [
       "<Figure size 432x288 with 2 Axes>"
      ]
     },
     "metadata": {
      "needs_background": "light"
     },
     "output_type": "display_data"
    }
   ],
   "source": [
    "from rockpool.nn.modules.torch.ahp_lif_torch import aLIFTorch\n",
    "from rockpool.nn.modules.torch.lif_torch import LIFTorch\n",
    "from rockpool.parameters import Constant\n",
    "import matplotlib.pyplot as plt\n",
    "import torch\n",
    "import numpy as np\n",
    "\n",
    "n_synapses = 1\n",
    "n_neurons = 1\n",
    "n_batches = 1\n",
    "T = 20\n",
    "tau_mem = torch.rand(n_neurons)\n",
    "# tau_mem  = 0.02\n",
    "tau_syn = 0.02\n",
    "bias = torch.ones(n_neurons) * 0.1\n",
    "dt = 1e-3\n",
    "w_ahp = -0.5\n",
    "mod = aLIFTorch(\n",
    "    shape=(n_synapses * n_neurons, n_neurons),\n",
    "    tau_mem=tau_mem,\n",
    "    tau_syn=tau_syn,\n",
    "    threshold=1.0,\n",
    "    bias=bias,\n",
    "    dt=dt,\n",
    "    w_ahp=Constant(w_ahp),\n",
    "    noise_std=0.0,\n",
    ")\n",
    "\n",
    "input_data = torch.zeros(n_batches, T, n_synapses * n_neurons, requires_grad=True)\n",
    "\n",
    "# - Test Rockpool interface\n",
    "out, ns, rd = mod(input_data, record=True)\n",
    "\n",
    "out.sum().backward()\n",
    "# print(ns[\"isyn\"])\n",
    "# print(rd[\"isyn\"])\n",
    "isyn = rd[\"isyn\"].detach().numpy()\n",
    "vmem = rd[\"vmem\"].detach().numpy()\n",
    "\n",
    "print(out.sum())\n",
    "# print(test)\n",
    "plt.subplot(121)\n",
    "plt.plot(isyn[0, :, 0, 0])\n",
    "plt.subplot(122)\n",
    "plt.plot(\n",
    "    vmem[\n",
    "        0,\n",
    "        :,\n",
    "        0,\n",
    "    ]\n",
    ")\n",
    "\n",
    "assert torch.all(ns[\"isyn\"] <= 0)\n",
    "assert torch.all(rd[\"isyn\"] <= 0)\n",
    "assert torch.all(rd[\"vmem\"][:, 0] == 0.1)  # match bias in the fist timestep\n",
    "assert torch.all(\n",
    "    rd[\"vmem\"][:, 1] == 0.1 * torch.exp(-dt / tau_mem) + 0.1\n",
    ")  # decay one timestep + bias\n",
    "\n",
    "# assert bias has gradients\n",
    "assert not torch.all(mod.bias.grad == 0)"
   ]
  },
  {
   "cell_type": "code",
   "execution_count": 24,
   "metadata": {},
   "outputs": [],
   "source": [
    "from rockpool.nn.modules.torch.ahp_lif_torch import aLIFTorch\n",
    "import torch\n",
    "\n",
    "n_synapses = 1\n",
    "n_neurons = 1\n",
    "n_batches = 1\n",
    "T = 20\n",
    "tau_mem = torch.rand(n_neurons)\n",
    "tau_syn = 0.02\n",
    "bias = torch.ones(n_neurons) * 0.1\n",
    "w_ahp = -0.5\n",
    "\n",
    "dt = 1e-3\n",
    "\n",
    "mod = aLIFTorch(\n",
    "    shape=(n_synapses * n_neurons, n_neurons),\n",
    "    tau_mem=tau_mem,\n",
    "    tau_syn=tau_syn,\n",
    "    threshold=1.0,\n",
    "    bias=bias,\n",
    "    dt=dt,\n",
    "    w_ahp=Constant(w_ahp),\n",
    "    noise_std=0.0,\n",
    ")\n",
    "\n",
    "# - Generate some data\n",
    "input_data = torch.zeros(n_batches, T, n_synapses * n_neurons, requires_grad=True)\n",
    "\n",
    "# - Test Rockpool interface\n",
    "out, ns, rd = mod(input_data, record=True)\n",
    "\n",
    "out.sum().backward()\n",
    "\n",
    "assert torch.all(ns[\"isyn\"] <= 0)\n",
    "assert torch.all(rd[\"isyn\"] <= 0)\n",
    "assert torch.all(rd[\"vmem\"][:, 0] == 0.1)  # match bias in the fist timestep\n",
    "assert torch.all(\n",
    "    rd[\"vmem\"][:, 1] == 0.1 * torch.exp(-dt / tau_mem) + 0.1\n",
    ")  # decay one timestep + bias\n",
    "\n",
    "# assert bias has gradients\n",
    "assert not torch.all(mod.bias.grad == 0)"
   ]
  },
  {
   "cell_type": "code",
   "execution_count": null,
   "metadata": {},
   "outputs": [],
   "source": []
  }
 ],
 "metadata": {
  "interpreter": {
   "hash": "f7fd9ef7b31f6924d43d4d567b59fd1d0198dc1377f552c59e4333b5446b5bdc"
  },
  "kernelspec": {
   "display_name": "Python 3.8.7 64-bit ('dev_rp')",
   "language": "python",
   "name": "python3"
  },
  "language_info": {
   "codemirror_mode": {
    "name": "ipython",
    "version": 3
   },
   "file_extension": ".py",
   "mimetype": "text/x-python",
   "name": "python",
   "nbconvert_exporter": "python",
   "pygments_lexer": "ipython3",
   "version": "3.8.7"
  },
  "orig_nbformat": 4
 },
 "nbformat": 4,
 "nbformat_minor": 2
}
