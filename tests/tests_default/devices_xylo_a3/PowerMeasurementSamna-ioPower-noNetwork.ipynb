{
 "cells": [
  {
   "cell_type": "markdown",
   "metadata": {},
   "source": [
    "# io power - Samna only - v0.39.9\n",
    "\n",
    "- Use PDM_CLK and PDM_DATA driven by FPGA to XA3:\n",
    "- PDM_CLK and PDM_DATA toggle in the normal way\n",
    "- only PDM_CLK toggles\n",
    "- only PDM_DATA toggles\n",
    "- PDM_CLK and PDM_DATA stays at all level combinations:\n",
    "    - PDM_CLK=0, PDM_DATA=0\n",
    "    - PDM_CLK=0, PDM_DATA=1\n",
    "    - PDM_CLK=1, PDM_DATA=0\n",
    "    - PDM_CLK=1, PDM_DATA=1"
   ]
  },
  {
   "cell_type": "markdown",
   "metadata": {},
   "source": [
    "### Initialization and connection to the board"
   ]
  },
  {
   "cell_type": "code",
   "execution_count": 1,
   "metadata": {},
   "outputs": [
    {
     "name": "stdout",
     "output_type": "stream",
     "text": [
      "Samna version 0.39.9.0\n"
     ]
    }
   ],
   "source": [
    "import samna\n",
    "print(f'Samna version {samna.__version__}')\n",
    "import numpy as np\n",
    "\n",
    "# Open the device and connect it to the power monitor.\n",
    "xylo_node = samna.device.open_device(\"XyloAudio3TestBoard\")\n",
    "\n",
    "power_monitor = xylo_node.get_power_monitor()\n",
    "sink_pm = samna.graph.sink_from(power_monitor.get_source_node())\n",
    "stopwatch = xylo_node.get_stop_watch()\n",
    "io = xylo_node.get_io_module()\n",
    "\n",
    "xylo_model = xylo_node.get_model()\n",
    "source = samna.graph.source_to(xylo_model.get_sink_node())\n",
    "\n",
    "# We are only interested in Readout events, so we make a filter graph to filter only these events.\n",
    "# Important note: `graph` needs to be kept alive for the filter to work.\n",
    "graph = samna.graph.EventFilterGraph()\n",
    "_, etf, readout_sink = graph.sequential([xylo_model.get_source_node(), \"XyloAudio3OutputEventTypeFilter\", samna.graph.JitSink()])\n",
    "etf.set_desired_type('xyloAudio3::event::Readout')\n",
    "\n",
    "# XyloCOnfiguration\n",
    "xylo_config = samna.xyloAudio3.configuration.XyloConfiguration()\n",
    "\n",
    "## With the network, clock frequency can not go low as 6.25\n",
    "clock_frequencies = [12.5, 25, 50]\n",
    "ts = 1e-3\n",
    "\n",
    "power_measurements_625 = []\n",
    "power_measurements_125 = []\n",
    "power_measurements_25 = []\n",
    "power_measurements_50 = []"
   ]
  },
  {
   "cell_type": "code",
   "execution_count": 2,
   "metadata": {},
   "outputs": [],
   "source": [
    "disable_main_clock = False"
   ]
  },
  {
   "cell_type": "markdown",
   "metadata": {},
   "source": [
    "### Encode a PDM input chirp"
   ]
  },
  {
   "cell_type": "code",
   "execution_count": 3,
   "metadata": {},
   "outputs": [
    {
     "name": "stderr",
     "output_type": "stream",
     "text": [
      "WARNING:root:`dn_rate_scale_bitshift` = (6, 0) is obtained given the target `rate_scale_factor` = 63, with diff = 0.000000e+00\n",
      "WARNING:root:`dn_low_pass_bitshift` = 12 is obtained given the target `low_pass_averaging_window` = 0.084, with diff = 1.139200e-04\n",
      "WARNING:root:`down_sampling_factor` = 50 is obtained given the target `dt` = 0.001024, with diff = 0.000000e+00\n",
      "WARNING    /home/vleite/SynSense/rockpool/rockpool/devices/xylo/syns65302/afe/pdm/microphone_pdm.py:146: UserWarning: \n",
      "\n",
      "+++++++++++++++++++++++++++++++++++++++++++++++++++++++ warnings +++++++++++++++++++++++++++++++++++++++++++++++++++++++\n",
      "In practice, the input to the PDM microphone (fed by a clock of rate:1562500.0) is the analog audio signal.\n",
      "In simulations, however, we have to use sampled audio signal at the input to mimic this analog signal.\n",
      "Here we resample the input audio to the higher sampling rate of PDM microphone (1562500.0).\n",
      "For a more realistic simulation, it is better to provide an audio signal which is originally sampled with a higher rate.\n",
      "++++++++++++++++++++++++++++++++++++++++++++++++++++++++++++++++++++++++++++++++++++++++++++++++++++++++++++++++++++++++\n",
      "\n",
      "\n",
      "  warnings.warn(\n",
      " [py.warnings]\n",
      "WARNING:py.warnings:/home/vleite/SynSense/rockpool/rockpool/devices/xylo/syns65302/afe/pdm/microphone_pdm.py:146: UserWarning: \n",
      "\n",
      "+++++++++++++++++++++++++++++++++++++++++++++++++++++++ warnings +++++++++++++++++++++++++++++++++++++++++++++++++++++++\n",
      "In practice, the input to the PDM microphone (fed by a clock of rate:1562500.0) is the analog audio signal.\n",
      "In simulations, however, we have to use sampled audio signal at the input to mimic this analog signal.\n",
      "Here we resample the input audio to the higher sampling rate of PDM microphone (1562500.0).\n",
      "For a more realistic simulation, it is better to provide an audio signal which is originally sampled with a higher rate.\n",
      "++++++++++++++++++++++++++++++++++++++++++++++++++++++++++++++++++++++++++++++++++++++++++++++++++++++++++++++++++++++++\n",
      "\n",
      "\n",
      "  warnings.warn(\n",
      "\n"
     ]
    },
    {
     "name": "stdout",
     "output_type": "stream",
     "text": [
      "1000000\n",
      "[0. 1. 1. ... 1. 0. 1.]\n"
     ]
    }
   ],
   "source": [
    "# - Encode a PDM input chirp\n",
    "from rockpool.devices.xylo.syns65302 import AFESimPDM\n",
    "# from rockpool.devices.xylo.syns65302.afe import PDM_SAMPLING_RATE\n",
    "\n",
    "import numpy as np \n",
    "from scipy.signal import chirp\n",
    "\n",
    "PDM_SAMPLING_RATE = 1 * 1000000\n",
    "\n",
    "pdm_sr = PDM_SAMPLING_RATE\n",
    "print(pdm_sr)\n",
    "net_dt = 1024e-6\n",
    "audio_sr = PDM_SAMPLING_RATE # 48e3\n",
    "\n",
    "afesim_pdm = AFESimPDM.from_specification(\n",
    "    select_filters=(0, 1, 2, 3, 4, 5, 6, 7, 8, 9, 10, 11, 12, 13, 14, 15),\n",
    "    spike_gen_mode=\"divisive_norm\",\n",
    "    # spike_gen_mode=\"threshold\",\n",
    "    # fixed_threshold_vec = [2**25 for i in range(16)],\n",
    "    rate_scale_factor=63,\n",
    "    low_pass_averaging_window=84e-3,\n",
    "    dn_EPS=1,\n",
    "    fixed_threshold_vec=None,\n",
    "    dt=net_dt,\n",
    ")\n",
    "\n",
    "dur = 200e-3\n",
    "\n",
    "T = int(audio_sr * dur)\n",
    "f_start = 1000\n",
    "f_end = 20e3\n",
    "times = np.arange(0, T) / audio_sr\n",
    "signal = chirp(times, f_start, T/audio_sr, f_end, method='linear', phi = 90)\n",
    "# signal = np.sin(2 * np.pi * f_start * times)\n",
    "\n",
    "__scale = 0.95\n",
    "out_pdm, state_pdm, rec_pdm = afesim_pdm((signal * __scale, audio_sr))\n",
    "\n",
    "input_pdm = (rec_pdm['0_PDMADC']['0_MicrophonePDM_output'] + 1) / 2\n",
    "\n",
    "print(input_pdm)\n",
    "\n",
    "PDM_SAMPLES_PER_DT = int(PDM_SAMPLING_RATE * net_dt)\n",
    "num_dt = np.size(input_pdm) // PDM_SAMPLES_PER_DT\n",
    "\n",
    "# - Bin samples into `dt`-length windows and trim\n",
    "input_raster = np.reshape(\n",
    "    input_pdm[: int(num_dt * PDM_SAMPLES_PER_DT)], [-1, PDM_SAMPLES_PER_DT]\n",
    ")"
   ]
  },
  {
   "cell_type": "code",
   "execution_count": 4,
   "metadata": {},
   "outputs": [],
   "source": [
    "try:\n",
    "    from tqdm.autonotebook import tqdm\n",
    "except:\n",
    "    tqdm = lambda x: x"
   ]
  },
  {
   "cell_type": "markdown",
   "metadata": {},
   "source": [
    "### Configure PDM_CLK in 1 MHz and MAIN_CLK"
   ]
  },
  {
   "cell_type": "code",
   "execution_count": 5,
   "metadata": {},
   "outputs": [],
   "source": [
    "def configure_clocks():\n",
    "\n",
    "    if (disable_main_clock):\n",
    "        # Defines PDM clock rate\n",
    "        config = samna.xyloAudio3.XyloAudio3TestBoardDefaultConfig()\n",
    "        config.pdm_clock_frequency = 1000000\n",
    "        xylo_node.reset_board_soft(config)\n",
    "\n",
    "        # Disable main clock\n",
    "        io.write_config(0x0008, 0)\n",
    "\n",
    "    else:\n",
    "        # Defines PDM clock rate\n",
    "        config = samna.xyloAudio3.XyloAudio3TestBoardDefaultConfig()\n",
    "        config.main_clock_frequency = 6250000\n",
    "        config.pdm_clock_frequency = 1000000\n",
    "        xylo_node.reset_board_soft(config)\n",
    "\n"
   ]
  },
  {
   "cell_type": "markdown",
   "metadata": {},
   "source": [
    "### Use PDM_CLK and PDM_DATA driven by FPGA:\n",
    "- No network mapped and main clock disabled\n",
    "  \n",
    "- PDM_CLK and PDM_DATA toggle in the normal way:\n",
    "    * PDM_CLK toggles at ~ 1 MHz\n",
    "    * PDM_DATA toggles with random data, not constant zero or one, but no specific pattern requirement either"
   ]
  },
  {
   "cell_type": "code",
   "execution_count": 6,
   "metadata": {},
   "outputs": [
    {
     "data": {
      "application/vnd.jupyter.widget-view+json": {
       "model_id": "f083cd30011c4448b0e8c01f3d587c34",
       "version_major": 2,
       "version_minor": 0
      },
      "text/plain": [
       "  0%|          | 0/305 [00:00<?, ?it/s]"
      ]
     },
     "metadata": {},
     "output_type": "display_data"
    },
    {
     "name": "stdout",
     "output_type": "stream",
     "text": [
      "io:\t50 uW\tAFE core:\t14 uW\tDFE+SNN core:\t520 uW\n"
     ]
    }
   ],
   "source": [
    "import time\n",
    "\n",
    "# Feed PDM_CLK externally\n",
    "xylo_config.digital_frontend.pdm_preprocessing.clock_direction = 1\n",
    "\n",
    "configure_clocks()\n",
    "\n",
    "xylo_node.get_model().apply_configuration(xylo_config)\n",
    "\n",
    "# PDM data\n",
    "xylo_config.input_source = samna.xyloAudio3.InputSource.PdmEvents\n",
    "\n",
    "# Send PDM data\n",
    "# - Send PDM data and extract activity\n",
    "# Start the stopwatch to enable time-stamped power sampling.\n",
    "stopwatch.start()\n",
    "\n",
    "# Start sampling power on all channels at a rate of 100 Hz.\n",
    "power_monitor.start_auto_power_measurement(100)\n",
    "power_events = []\n",
    "for input_sample in tqdm(input_raster):\n",
    "    # - Send PDM events for this dt\n",
    "    pdm_events = [\n",
    "        samna.xyloAudio3.event.AfeSample(data=int(i)) for i in input_sample\n",
    "    ]\n",
    "    source.write(pdm_events)\n",
    "    time.sleep(0.5)\n",
    "    source.write([samna.xyloAudio3.event.TriggerProcessing()])\n",
    "\n",
    "    # Auto power measurement streams PowerMeasurement events continuously.\n",
    "    power_events += sink_pm.get_events()\n",
    "    # power_events.append(events)\n",
    "\n",
    "# Stop the automatic power measurement process.\n",
    "power_monitor.stop_auto_power_measurement()\n",
    "\n",
    "# Calculate the average power consumption for each channel over 3 seconds.\n",
    "counts = [0, 0, 0]\n",
    "sums = [0, 0, 0]\n",
    "for e in power_events:\n",
    "    assert isinstance(e, samna.unifirm.modules.events.PowerMeasurement)\n",
    "    sums[e.channel] += e.value\n",
    "    counts[e.channel] += 1\n",
    "\n",
    "# Compute the averages and convert to milliwatts (W -> mW).\n",
    "avgs = [sum/count * 1000 for sum, count in zip(sums, counts)]\n",
    "\n",
    "print(f'io:\\t{np.ceil(avgs[0] * 1000):.0f} uW\\tAFE core:\\t{np.ceil(avgs[1] * 1000):.0f} uW\\tDFE+SNN core:\\t{np.ceil(avgs[2] * 1000):.0f} uW')\n"
   ]
  },
  {
   "cell_type": "markdown",
   "metadata": {},
   "source": [
    "### Use PDM_CLK and PDM_DATA driven by FPGA:\n",
    "- No network mapped and main clock disabled\n",
    "  \n",
    "- PDM_CLK only toggle:\n",
    "    * PDM_CLK toggles at ~ 1 MHz\n",
    "    * PDM_DATA constant zero"
   ]
  },
  {
   "cell_type": "code",
   "execution_count": 6,
   "metadata": {},
   "outputs": [
    {
     "data": {
      "application/vnd.jupyter.widget-view+json": {
       "model_id": "5511ab7c8f564a42822f3410c06d85a9",
       "version_major": 2,
       "version_minor": 0
      },
      "text/plain": [
       "  0%|          | 0/305 [00:00<?, ?it/s]"
      ]
     },
     "metadata": {},
     "output_type": "display_data"
    },
    {
     "name": "stdout",
     "output_type": "stream",
     "text": [
      "io:\t50 uW\tAFE core:\t14 uW\tDFE+SNN core:\t520 uW\n"
     ]
    }
   ],
   "source": [
    "import time\n",
    "\n",
    "# Feed PDM_CLK externally\n",
    "xylo_config.digital_frontend.pdm_preprocessing.clock_direction = 1\n",
    "\n",
    "configure_clocks()\n",
    "\n",
    "xylo_node.get_model().apply_configuration(xylo_config)\n",
    "\n",
    "# PDM data\n",
    "xylo_config.input_source = samna.xyloAudio3.InputSource.PdmEvents\n",
    "\n",
    "# Start the stopwatch to enable time-stamped power sampling.\n",
    "stopwatch.start()\n",
    "\n",
    "# Start sampling power on all channels at a rate of 100 Hz.\n",
    "power_monitor.start_auto_power_measurement(100)\n",
    "\n",
    "# Send PDM data\n",
    "power_events = []\n",
    "for input_sample in tqdm(input_raster):\n",
    "    # - Send all zeros with same size samples as the chirp\n",
    "    pdm_events = [\n",
    "        samna.xyloAudio3.event.AfeSample(data=int(0)) for i in input_sample\n",
    "    ]\n",
    "    source.write(pdm_events)\n",
    "    time.sleep(0.5)\n",
    "    source.write([samna.xyloAudio3.event.TriggerProcessing()])\n",
    "\n",
    "    # Auto power measurement streams PowerMeasurement events continuously.\n",
    "    power_events += sink_pm.get_events()\n",
    "    # power_events.append(events)\n",
    "\n",
    "# Stop the automatic power measurement process.\n",
    "power_monitor.stop_auto_power_measurement()\n",
    "\n",
    "# Calculate the average power consumption for each channel over 3 seconds.\n",
    "counts = [0, 0, 0]\n",
    "sums = [0, 0, 0]\n",
    "for e in power_events:\n",
    "    assert isinstance(e, samna.unifirm.modules.events.PowerMeasurement)\n",
    "    sums[e.channel] += e.value\n",
    "    counts[e.channel] += 1\n",
    "\n",
    "# Compute the averages and convert to milliwatts (W -> mW).\n",
    "avgs = [sum/count * 1000 for sum, count in zip(sums, counts)]\n",
    "\n",
    "print(f'io:\\t{np.ceil(avgs[0] * 1000):.0f} uW\\tAFE core:\\t{np.ceil(avgs[1] * 1000):.0f} uW\\tDFE+SNN core:\\t{np.ceil(avgs[2] * 1000):.0f} uW')\n",
    "\n"
   ]
  },
  {
   "cell_type": "markdown",
   "metadata": {},
   "source": [
    "### Use PDM_CLK and PDM_DATA driven by XyloAudio 3:\n",
    "- No network mapped and main clock disabled\n",
    "  \n",
    "- PDM_CLK and PDM_DATA toggle in the normal way:\n",
    "    * PDM_CLK toggles at ~ 1 MHz\n",
    "    * PDM_DATA toggles with random data, not constant zero or one, but no specific pattern requirement either"
   ]
  },
  {
   "cell_type": "code",
   "execution_count": 6,
   "metadata": {},
   "outputs": [
    {
     "data": {
      "application/vnd.jupyter.widget-view+json": {
       "model_id": "b2ed273974df438d94410274b245e928",
       "version_major": 2,
       "version_minor": 0
      },
      "text/plain": [
       "  0%|          | 0/305 [00:00<?, ?it/s]"
      ]
     },
     "metadata": {},
     "output_type": "display_data"
    },
    {
     "name": "stdout",
     "output_type": "stream",
     "text": [
      "io:\t50 uW\tAFE core:\t14 uW\tDFE+SNN core:\t520 uW\n"
     ]
    }
   ],
   "source": [
    "import time\n",
    "\n",
    "# Feed PDM_CLK internally\n",
    "xylo_config.digital_frontend.pdm_preprocessing.clock_direction = 0\n",
    "\n",
    "configure_clocks()\n",
    "\n",
    "xylo_node.get_model().apply_configuration(xylo_config)\n",
    "\n",
    "# PDM data\n",
    "xylo_config.input_source = samna.xyloAudio3.InputSource.PdmEvents\n",
    "\n",
    "# Send PDM data\n",
    "# - Send PDM data and extract activity\n",
    "# Start the stopwatch to enable time-stamped power sampling.\n",
    "stopwatch.start()\n",
    "\n",
    "# Start sampling power on all channels at a rate of 100 Hz.\n",
    "power_monitor.start_auto_power_measurement(100)\n",
    "power_events = []\n",
    "for input_sample in tqdm(input_raster):\n",
    "    # - Send PDM events for this dt\n",
    "    pdm_events = [\n",
    "        samna.xyloAudio3.event.AfeSample(data=int(i)) for i in input_sample\n",
    "    ]\n",
    "    source.write(pdm_events)\n",
    "    time.sleep(0.5)\n",
    "    source.write([samna.xyloAudio3.event.TriggerProcessing()])\n",
    "\n",
    "    # Auto power measurement streams PowerMeasurement events continuously.\n",
    "    power_events += sink_pm.get_events()\n",
    "    # power_events.append(events)\n",
    "\n",
    "# Stop the automatic power measurement process.\n",
    "power_monitor.stop_auto_power_measurement()\n",
    "\n",
    "# Calculate the average power consumption for each channel over 3 seconds.\n",
    "counts = [0, 0, 0]\n",
    "sums = [0, 0, 0]\n",
    "for e in power_events:\n",
    "    assert isinstance(e, samna.unifirm.modules.events.PowerMeasurement)\n",
    "    sums[e.channel] += e.value\n",
    "    counts[e.channel] += 1\n",
    "\n",
    "# Compute the averages and convert to milliwatts (W -> mW).\n",
    "avgs = [sum/count * 1000 for sum, count in zip(sums, counts)]\n",
    "\n",
    "print(f'io:\\t{np.ceil(avgs[0] * 1000):.0f} uW\\tAFE core:\\t{np.ceil(avgs[1] * 1000):.0f} uW\\tDFE+SNN core:\\t{np.ceil(avgs[2] * 1000):.0f} uW')\n",
    "\n"
   ]
  },
  {
   "cell_type": "markdown",
   "metadata": {},
   "source": [
    "### Use PDM_CLK and PDM_DATA driven by XyloAudio 3:\n",
    "- No network mapped and main clock disabled\n",
    "  \n",
    "- only PDM_CLK toggle:\n",
    "    * PDM_CLK toggles at ~ 1 MHz\n",
    "    * PDM_DATA constant zero"
   ]
  },
  {
   "cell_type": "code",
   "execution_count": 6,
   "metadata": {},
   "outputs": [
    {
     "data": {
      "application/vnd.jupyter.widget-view+json": {
       "model_id": "2ee18670aeed492fbcb27fbc5e6d04de",
       "version_major": 2,
       "version_minor": 0
      },
      "text/plain": [
       "  0%|          | 0/305 [00:00<?, ?it/s]"
      ]
     },
     "metadata": {},
     "output_type": "display_data"
    },
    {
     "name": "stdout",
     "output_type": "stream",
     "text": [
      "io:\t50 uW\tAFE core:\t14 uW\tDFE+SNN core:\t519 uW\n"
     ]
    }
   ],
   "source": [
    "import time\n",
    "\n",
    "# Feed PDM_CLK internally\n",
    "xylo_config.digital_frontend.pdm_preprocessing.clock_direction = 0\n",
    "\n",
    "configure_clocks()\n",
    "\n",
    "xylo_node.get_model().apply_configuration(xylo_config)\n",
    "\n",
    "# PDM data\n",
    "xylo_config.input_source = samna.xyloAudio3.InputSource.PdmEvents\n",
    "\n",
    "# Send PDM data\n",
    "# - Send PDM data and extract activity\n",
    "# Start the stopwatch to enable time-stamped power sampling.\n",
    "stopwatch.start()\n",
    "\n",
    "# Start sampling power on all channels at a rate of 100 Hz.\n",
    "power_monitor.start_auto_power_measurement(100)\n",
    "power_events = []\n",
    "for input_sample in tqdm(input_raster):\n",
    "    # - Send PDM events for this dt\n",
    "    pdm_events = [\n",
    "        samna.xyloAudio3.event.AfeSample(data=int(0)) for i in input_sample\n",
    "    ]\n",
    "    source.write(pdm_events)\n",
    "    time.sleep(0.5)\n",
    "    source.write([samna.xyloAudio3.event.TriggerProcessing()])\n",
    "\n",
    "    # Auto power measurement streams PowerMeasurement events continuously.\n",
    "    power_events += sink_pm.get_events()\n",
    "    # power_events.append(events)\n",
    "\n",
    "# Stop the automatic power measurement process.\n",
    "power_monitor.stop_auto_power_measurement()\n",
    "\n",
    "# Calculate the average power consumption for each channel over 3 seconds.\n",
    "counts = [0, 0, 0]\n",
    "sums = [0, 0, 0]\n",
    "for e in power_events:\n",
    "    assert isinstance(e, samna.unifirm.modules.events.PowerMeasurement)\n",
    "    sums[e.channel] += e.value\n",
    "    counts[e.channel] += 1\n",
    "\n",
    "# Compute the averages and convert to milliwatts (W -> mW).\n",
    "avgs = [sum/count * 1000 for sum, count in zip(sums, counts)]\n",
    "\n",
    "print(f'io:\\t{np.ceil(avgs[0] * 1000):.0f} uW\\tAFE core:\\t{np.ceil(avgs[1] * 1000):.0f} uW\\tDFE+SNN core:\\t{np.ceil(avgs[2] * 1000):.0f} uW')\n",
    "\n"
   ]
  },
  {
   "cell_type": "code",
   "execution_count": null,
   "metadata": {},
   "outputs": [],
   "source": []
  }
 ],
 "metadata": {
  "interpreter": {
   "hash": "80082753f825f5fd87c9e01bdff400ed5e0a1d73f0e7712adc135a3cda2f38fe"
  },
  "kernelspec": {
   "display_name": "Python 3 (ipykernel)",
   "language": "python",
   "name": "python3"
  },
  "language_info": {
   "codemirror_mode": {
    "name": "ipython",
    "version": 3
   },
   "file_extension": ".py",
   "mimetype": "text/x-python",
   "name": "python",
   "nbconvert_exporter": "python",
   "pygments_lexer": "ipython3",
   "version": "3.10.12"
  }
 },
 "nbformat": 4,
 "nbformat_minor": 4
}
