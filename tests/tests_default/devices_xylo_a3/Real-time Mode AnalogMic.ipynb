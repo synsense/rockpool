{
 "cells": [
  {
   "cell_type": "markdown",
   "id": "baa3f1f9-7ce8-494f-a8b5-c3be438b1784",
   "metadata": {},
   "source": [
    "# Real-time Steps\n",
    "\n",
    "-- This needs to be verified if for analog we need different information"
   ]
  },
  {
   "cell_type": "markdown",
   "id": "6be1fd9c-8f83-4b33-b6a9-6652a384b2a0",
   "metadata": {},
   "source": [
    "## Extras"
   ]
  },
  {
   "cell_type": "code",
   "execution_count": 1,
   "id": "5c7e4dc6-d726-47f0-81f7-f2855b3edc44",
   "metadata": {},
   "outputs": [
    {
     "name": "stdout",
     "output_type": "stream",
     "text": [
      "500000\n"
     ]
    }
   ],
   "source": [
    "ts_duration   = 10*1e-3; # in second\n",
    "main_clk_freq = 50*1e6 # in Hz\n",
    "tr_wrap       = int(ts_duration*main_clk_freq)\n",
    "print(tr_wrap)\n",
    "\n",
    "# 0: input for Xylo, 1: Xylo output\n",
    "PDM_CLK_DIR  = 1\n",
    "# 0: Xylo samples PDM_DATA at risinge edge, 1: Xylo samples PDM_DATA at falling edge\n",
    "PDM_CLK_EDGE = 0\n",
    "\n",
    "def get_tr_wrap(ts_in_ms, main_clk_freq_in_mhz, debug=0):\n",
    "    ts_duration   = ts_in_ms*1e-3; # in second\n",
    "    main_clk_freq = main_clk_freq_in_mhz*1e6 # in Hz\n",
    "    tr_wrap       = int(ts_duration*main_clk_freq)\n",
    "    print(f\"set tr_wrap to 0x{format(tr_wrap,'_X')}\") if debug>=1 else None\n",
    "    return tr_wrap"
   ]
  },
  {
   "cell_type": "markdown",
   "id": "2bd0de7c-c363-4228-a03c-b93e7c4762b1",
   "metadata": {},
   "source": [
    "## Example with Rockpool\n",
    "\n",
    "Open Dev Kit\n",
    "\n",
    "* Call open_device() on a discovered device with Samna."
   ]
  },
  {
   "cell_type": "code",
   "execution_count": 2,
   "id": "6cebeac6-db3d-4ad5-a6c9-98cb9c0b5544",
   "metadata": {},
   "outputs": [
    {
     "name": "stdout",
     "output_type": "stream",
     "text": [
      "Rockpool version 2.8.8.dev\n",
      "Samna version 0.39.9.0\n",
      "The connected Xylo HDK contains a XyloAudio 3. Importing `rockpool.devices.xylo.syns65302`\n",
      "[<samna.xyloAudio3.XyloAudio3TestBoard object at 0x7b618b4edeb0>] [<module 'rockpool.devices.xylo.syns65302' from '/home/vleite/SynSense/rockpool/rockpool/devices/xylo/syns65302/__init__.py'>] ['syns65302']\n"
     ]
    }
   ],
   "source": [
    "import warnings\n",
    "warnings.filterwarnings(\"ignore\")\n",
    "\n",
    "import rockpool\n",
    "print(f'Rockpool version {rockpool.__version__}')\n",
    "import samna\n",
    "print(f'Samna version {samna.__version__}')\n",
    "from rockpool.devices.xylo.syns65302 import config_from_specification, mapper, XyloMonitor, XyloSamna\n",
    "\n",
    "from rockpool.devices.xylo import find_xylo_hdks\n",
    "\n",
    "from rockpool.transform.quantize_methods import channel_quantize\n",
    "from rockpool.nn.modules import LIF, Linear\n",
    "from rockpool.nn.combinators import Sequential\n",
    "\n",
    "import numpy as np\n",
    "\n",
    "# find_xylo_hdks() directly calls the Samna device finder and opens all available devices.\n",
    "# When Samna opens a device, it will perform actions on the board. Such as, powering on the chip, resetting it,\n",
    "# applying a default configuration, and configuring the FPGA for default operation.\n",
    "\n",
    "hdks, modules, versions = find_xylo_hdks()\n",
    "print(hdks, modules, versions)\n",
    "\n",
    "for version, xylo in zip(versions, hdks):\n",
    "    if version == \"syns65302\":\n",
    "        xylo_node = xylo"
   ]
  },
  {
   "cell_type": "markdown",
   "id": "3af52c3d-130f-4597-af8d-c1f18c44adb1",
   "metadata": {},
   "source": [
    "## Build a model and map it to hardware"
   ]
  },
  {
   "cell_type": "code",
   "execution_count": 3,
   "id": "c4282fb5-6573-47b8-9613-c6d2fe89e1ee",
   "metadata": {},
   "outputs": [
    {
     "name": "stdout",
     "output_type": "stream",
     "text": [
      "ModSequential  with shape (16, 16) {\n",
      "    Linear '0_Linear' with shape (16, 63)\n",
      "    LIF '1_LIF' with shape (63, 63)\n",
      "    Linear '2_Linear' with shape (63, 16)\n",
      "    LIF '3_LIF' with shape (16, 16)\n",
      "}\n"
     ]
    }
   ],
   "source": [
    "# simple model to test\n",
    "\n",
    "net = Sequential(\n",
    "    Linear((16, 63)),\n",
    "    LIF((63, 63)),\n",
    "\n",
    "    Linear((63, 16)),\n",
    "    LIF(16),\n",
    ")\n",
    "\n",
    "print(net)\n",
    "\n",
    "Nin = 16\n",
    "# net[0].weight *= 0.05\n",
    "spec = mapper(net.as_graph())\n",
    "Q_spec = spec\n",
    "Q_spec.update(channel_quantize(**Q_spec))\n",
    "config, is_valid, msg = config_from_specification(**Q_spec)\n",
    "\n",
    "if not is_valid:\n",
    "    print(msg)"
   ]
  },
  {
   "cell_type": "markdown",
   "id": "8e3862ef-1054-46c2-99e9-300cac3d9bae",
   "metadata": {},
   "source": [
    "## Set up Samna graphs and configuration\n",
    "\n",
    "* Create a buffer sink for events from the chip model source node. Readout events will be captured here.\n",
    "* Set Xylo configuration as desired for PDM and network config\n",
    "* Set Xylo TR_WRAP register for desired time step length with default 25 MHz clock\n",
    "* Set Xylo to real-time mode\n",
    "* Enable PCB switches for PDM microphones\n",
    "* Set FPGA module to real-time mode\n",
    "   * io.write_config(0x12, 0) and io.write_config(0x31, 2)"
   ]
  },
  {
   "cell_type": "code",
   "execution_count": 4,
   "id": "e7c34a35-b254-4335-99e3-a8a900a5416c",
   "metadata": {},
   "outputs": [
    {
     "name": "stdout",
     "output_type": "stream",
     "text": [
      "<samna.xyloAudio3.XyloAudio3TestBoard object at 0x7b618b4edeb0>\n",
      "[xyloAudio3::event::RegisterValue(address=4, data=500000)]\n"
     ]
    },
    {
     "name": "stderr",
     "output_type": "stream",
     "text": [
      "[2024-10-29 08:01:18.794] [XyloAudio3] [warning] Requested SAER clock frequency 6 could not be achieved, used 5.9999995200000384 instead\n",
      "[2024-10-29 08:01:18.794] [XyloAudio3] [warning] Requested SADC clock frequency 6 could not be achieved, used 5.9999995200000384 instead\n"
     ]
    }
   ],
   "source": [
    "# create xylo monitor\n",
    "dt = 0.01\n",
    "print(xylo_node)\n",
    "\n",
    "\n",
    "config.operation_mode                                        = samna.xyloAudio3.OperationMode.RealTime\n",
    "# inside XyloMonitor the buffers are created and FPGA modules are set\n",
    "xylo_monitor = XyloMonitor(device=xylo_node, \n",
    "    config=config, \n",
    "    dt = dt,\n",
    "    output_mode='Spike',\n",
    "    digital_microphone = False)\n",
    "\n",
    "# print(xylo_monitor)\n",
    "xylo_monitor._write_buffer.write([samna.xyloAudio3.event.ReadRegisterValue(0x0004)])\n",
    "print(xylo_monitor._read_buffer.get_n_events(1, 2000))\n",
    "# print(xylo_monitor.config)\n"
   ]
  },
  {
   "cell_type": "code",
   "execution_count": 5,
   "id": "cc748542-ffb8-465d-b69d-310a9c0cbffd",
   "metadata": {},
   "outputs": [
    {
     "name": "stdout",
     "output_type": "stream",
     "text": [
      "samna version: 0.39.9.0\n",
      "\n"
     ]
    }
   ],
   "source": [
    "import samna\n",
    "print(f\"samna version: {samna.__version__}\")\n",
    "import time\n",
    "\n",
    "# set device configuration\n",
    "ioc = xylo_node.get_io_control_module()\n",
    "io = xylo_node.get_io_module()\n",
    "model = xylo_node.get_model()\n",
    "\n",
    "ctrl1 = 0x0001\n",
    "ctrl2 = 0x0002\n",
    "ctrl3 = 0x0003\n",
    "tr_wrap = 0x0004\n",
    "hm_tr_wrap = 0x0005\n",
    "clk_ctrl = 0x0006\n",
    "clk_div = 0x0007\n",
    "pwr_ctrl1 = 0x0008\n",
    "pwr_ctrl2 = 0x0009\n",
    "pwr_ctrl3 = 0x000A\n",
    "pwr_ctrl4 = 0x000B\n",
    "pad_ctrl = 0x000C\n",
    "ie1 = 0x000E\n",
    "ie2 = 0x000F\n",
    "out_ctrl = 0x0011\n",
    "monsel = 0x0166\n",
    "mon_grp_sel = 0x0167\n",
    "dbg_ctrl1 = 0x0168\n",
    "dbg_stat1 = 0x0171\n",
    "dfe_ctrl = 0x001B\n",
    "ivgen = 0x0015\n",
    "ivgen2 = 0x0016\n",
    "ivgen3 = 0x0017\n",
    "ivgen4 = 0x0018\n",
    "ivgen5 = 0x0019\n",
    "ivgen6 = 0x001A\n",
    "adctest = 0x016E\n",
    "\n",
    "# create access to xylo input/output\n",
    "source = samna.graph.source_to(model.get_sink_node())\n",
    "sink   = samna.graph.sink_from(model.get_source_node())\n",
    "\n",
    "# source.write([samna.xyloAudio3.event.WriteRegisterValue(address=dfe_ctrl, data=0x510)])\n",
    "\n",
    "# source.write([samna.xyloAudio3.event.WriteRegisterValue(address=0x0015, data=0x7331_85F8)])\n",
    "# source.write([samna.xyloAudio3.event.WriteRegisterValue(address=0x0016, data=0x1323_1107)])\n",
    "# source.write([samna.xyloAudio3.event.WriteRegisterValue(address=0x0017, data=0x1112_1003)])\n",
    "# source.write([samna.xyloAudio3.event.WriteRegisterValue(address=0x0018, data=0x0000_1210)])\n",
    "# source.write([samna.xyloAudio3.event.WriteRegisterValue(address=0x0019, data=0x0000_0C07)])\n",
    "# source.write([samna.xyloAudio3.event.WriteRegisterValue(address=0x001A, data=0x0000_0037)])\n",
    "\n",
    "\n",
    "def read_register(addr):\n",
    "    source.write([samna.xyloAudio3.event.ReadRegisterValue(address = addr)])\n",
    "    events = sink.get_n_events(1, 3000)\n",
    "    assert(len(events) == 1)\n",
    "    return events[0].data\n",
    "\n",
    "# print(\"\\n# ======= read important registers =======\\n\")\n",
    "\n",
    "# print(f\"adctest       : 0x{format(read_register(adctest),'_X')}\")\n",
    "# print(f\"ivgen       : 0x{format(read_register(ivgen),'_X')} vs 7331_85F8\")\n",
    "# print(f\"ivgen2       : 0x{format(read_register(ivgen2),'_X')} vs 1323_1107\")\n",
    "# print(f\"ivgen3       : 0x{format(read_register(ivgen3),'_X')} vs 1112_1003\")\n",
    "# print(f\"ivgen4       : 0x{format(read_register(ivgen4),'_X')} vs 0000_1210\")\n",
    "# print(f\"ivgen5       : 0x{format(read_register(ivgen5),'_X')} vs 0000_0C07\")\n",
    "# print(f\"ivgen6       : 0x{format(read_register(ivgen6),'_X')} vs 0000_0031\")\n",
    "# # ctrl[1-3]\n",
    "# print(f\"ctrl1       : 0x{format(read_register(ctrl1),'_X')} vs 0x143_011C\")\n",
    "# print(f\"ctrl2       : 0x{format(read_register(ctrl2),'_X')} vs 0x9_0902\")\n",
    "# print(f\"ctrl3       : 0x{format(read_register(ctrl3),'_X')} vs 0x901\")\n",
    "# print()\n",
    "# # *_wrap\n",
    "# print(f\"tr_wrap     : 0x{format(read_register(tr_wrap),'_X')} vs 0x2FA_F080\")\n",
    "# print(f\"hm_tr_wrap  : 0x{format(read_register(hm_tr_wrap),'_X')} vs 0x0\")\n",
    "# print()\n",
    "# # clk_*\n",
    "# print(f\"clk_ctrl    : 0x{format(read_register(clk_ctrl),'_X')} vs 0x11\")\n",
    "# print(f\"clk_div     : 0x{format(read_register(clk_div),'_X')} vs 0x18_0000\")\n",
    "# print()\n",
    "# # pwr_ctrl[1-4]\n",
    "# print(f\"pwr_ctrl1   : 0x{format(read_register(pwr_ctrl1),'_X')} vs 0x33_00FF\")\n",
    "# print(f\"pwr_ctrl2   : 0x{format(read_register(pwr_ctrl2),'_X')} vs 0x3_0001\")\n",
    "# print(f\"pwr_ctrl3   : 0x{format(read_register(pwr_ctrl3),'_X')} vs 0xFFFF_FFFF\")\n",
    "# print(f\"pwr_ctrl4   : 0x{format(read_register(pwr_ctrl4),'_X')} vs 0xFFFF_0001\")\n",
    "# print()\n",
    "# # misc\n",
    "# print(f\"pad_ctrl    : 0x{format(read_register(pad_ctrl),'_X')} vs 0x0\")\n",
    "# print(f\"ie1         : 0x{format(read_register(ie1),'_X')} vs 0x0\")\n",
    "# print(f\"ie2         : 0x{format(read_register(ie2),'_X')} vs 0x1\")\n",
    "# print(f\"out_ctrl    : 0x{format(read_register(out_ctrl),'_X')} vs 0x70\")\n",
    "# print()\n",
    "# # debug regs\n",
    "# print(f\"monsel      : 0x{format(read_register(monsel),'_X')} vs 0x0\")\n",
    "# print(f\"mon_grp_sel : 0x{format(read_register(mon_grp_sel),'_X')} vs 0x1F1F_0773\")\n",
    "# print(f\"dbg_ctrl1   : 0x{format(read_register(dbg_ctrl1),'_X')} vs 0x0\")\n",
    "# print(f\"dbg_stat1   : 0x{format(read_register(dbg_stat1),'_X')} vs 0x0\")\n",
    "# print(f\"dfe_ctrl   : 0x{format(read_register(dfe_ctrl),'_X')} vs 0x510\")\n",
    "print()\n",
    "\n"
   ]
  },
  {
   "cell_type": "markdown",
   "id": "992ec60e-f1c5-4f97-b225-d684e97d240c",
   "metadata": {},
   "source": [
    "## Start processing and collect events\n",
    "\n",
    "* Send TriggerProcessing event from Samna with the desired time step\n",
    "* Collect readout events in the BufferSink attached to the model source node"
   ]
  },
  {
   "cell_type": "code",
   "execution_count": 6,
   "id": "98971254-fcc7-4ee1-bd11-2ee87fcf63f6",
   "metadata": {},
   "outputs": [
    {
     "name": "stdout",
     "output_type": "stream",
     "text": [
      "[[0 0 0 ... 0 0 0]\n",
      " [0 0 0 ... 1 0 1]\n",
      " [0 0 0 ... 1 0 1]\n",
      " ...\n",
      " [0 1 0 ... 1 0 1]\n",
      " [0 1 0 ... 1 0 1]\n",
      " [0 1 0 ... 1 0 1]]\n",
      "1623\n"
     ]
    }
   ],
   "source": [
    "import numpy as np\n",
    "T = int(2 / dt) # in timesteps\n",
    "\n",
    "out, _, rec = xylo_monitor.evolve(input_data=np.zeros([T, Nin]), record=False, record_power=False)\n",
    "print(out)\n",
    "print(np.sum(out))\n"
   ]
  },
  {
   "cell_type": "code",
   "execution_count": 7,
   "id": "c5aed48d-773b-4b19-8473-744363ee8aa4",
   "metadata": {},
   "outputs": [
    {
     "data": {
      "text/plain": [
       "<matplotlib.colorbar.Colorbar at 0x7b61889de440>"
      ]
     },
     "execution_count": 7,
     "metadata": {},
     "output_type": "execute_result"
    },
    {
     "data": {
      "image/png": "[encoded data removed]",
      "text/plain": [
       "<Figure size 1500x500 with 2 Axes>"
      ]
     },
     "metadata": {},
     "output_type": "display_data"
    }
   ],
   "source": [
    "import matplotlib.pyplot as plt\n",
    "plt.figure(figsize=(15,5))\n",
    "plt.subplot(131), plt.imshow(np.array(out).T, aspect='auto', interpolation='none'); plt.title('readout spikes'); plt.xlabel('Time'); plt.ylabel('Neuron index'); plt.colorbar()"
   ]
  },
  {
   "cell_type": "code",
   "execution_count": null,
   "id": "505b3f2a-e537-403a-9ae9-12e66aad0e82",
   "metadata": {},
   "outputs": [],
   "source": []
  }
 ],
 "metadata": {
  "kernelspec": {
   "display_name": "Python 3 (ipykernel)",
   "language": "python",
   "name": "python3"
  },
  "language_info": {
   "codemirror_mode": {
    "name": "ipython",
    "version": 3
   },
   "file_extension": ".py",
   "mimetype": "text/x-python",
   "name": "python",
   "nbconvert_exporter": "python",
   "pygments_lexer": "ipython3",
   "version": "3.10.12"
  }
 },
 "nbformat": 4,
 "nbformat_minor": 5
}
