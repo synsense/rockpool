{
 "cells": [
  {
   "cell_type": "markdown",
   "metadata": {},
   "source": [
    "# Power measurement with Samna only - v0.39.9\n",
    "\n",
    "## All experiments with network mapped on chip:"
   ]
  },
  {
   "cell_type": "markdown",
   "metadata": {},
   "source": [
    "### Initialization and connection to the board"
   ]
  },
  {
   "cell_type": "code",
   "execution_count": 1,
   "metadata": {},
   "outputs": [
    {
     "name": "stdout",
     "output_type": "stream",
     "text": [
      "Samna version 0.39.9.0\n"
     ]
    }
   ],
   "source": [
    "import samna\n",
    "print(f'Samna version {samna.__version__}')\n",
    "\n",
    "# Open the device and connect it to the power monitor.\n",
    "xylo_node = samna.device.open_device(\"XyloAudio3TestBoard\")\n",
    "\n",
    "power_monitor = xylo_node.get_power_monitor()\n",
    "sink_pm = samna.graph.sink_from(power_monitor.get_source_node())\n",
    "stopwatch = xylo_node.get_stop_watch()\n",
    "io = xylo_node.get_io_module()\n",
    "\n",
    "model = xylo_node.get_model()\n",
    "source = samna.graph.source_to(model.get_sink_node())\n",
    "\n",
    "## With the network, clock frequency can not go low as 6.25\n",
    "clock_frequencies = [6.25, 12.5, 25, 50]\n",
    "ts = 1e-3\n",
    "\n",
    "\n",
    "power_measurements_625 = []\n",
    "power_measurements_125 = []\n",
    "power_measurements_25 = []\n",
    "power_measurements_50 = []"
   ]
  },
  {
   "cell_type": "markdown",
   "metadata": {},
   "source": [
    "## Create a configuration to map a network on the chip\n",
    "\n",
    "small == SynNet([24, 24, 24]) \n",
    "\n",
    "trained == LIFTorch([63,63,63])"
   ]
  },
  {
   "cell_type": "code",
   "execution_count": 3,
   "metadata": {},
   "outputs": [],
   "source": [
    "network = \"small\""
   ]
  },
  {
   "cell_type": "code",
   "execution_count": 4,
   "metadata": {},
   "outputs": [
    {
     "name": "stderr",
     "output_type": "stream",
     "text": [
      "WARNING    /home/vleite/SynSense/rockpool/rockpool/nn/networks/__init__.py:15: UserWarning: This module needs to be ported to the v2 API.\n",
      "  warnings.warn(f\"{err}\")\n",
      " [py.warnings]\n",
      "WARNING    /home/vleite/SynSense/rockpool/rockpool/nn/networks/__init__.py:20: UserWarning: This module needs to be ported to the v2 API.\n",
      "  warnings.warn(f\"{err}\")\n",
      " [py.warnings]\n"
     ]
    },
    {
     "name": "stdout",
     "output_type": "stream",
     "text": [
      "SynNet  with shape (16, 1) {\n",
      "    TorchSequential 'seq' with shape (16, 1) {\n",
      "        LinearTorch '0_linear' with shape (16, 24)\n",
      "        LIFTorch '0_neurons' with shape (24, 24)\n",
      "        LinearTorch '1_linear' with shape (24, 24)\n",
      "        LIFTorch '1_neurons' with shape (24, 24)\n",
      "        LinearTorch '2_linear' with shape (24, 24)\n",
      "        LIFTorch '2_neurons' with shape (24, 24)\n",
      "        LinearTorch 'out_linear' with shape (24, 1)\n",
      "        LIFTorch 'out_neurons' with shape (1, 1)\n",
      "    }\n",
      "}\n",
      "xyloAudio3::configuration::XyloConfiguration(operation_mode=OperationMode.AcceleratedTime, input_source=InputSource.SpikeEvents, synapse2_enable=0, bias_enable=1, time_resolution_wrap=0, output_counter_wrap=0, enable_hibernation_mode=0, hibernation_mode_time_resolution_wrap=0, input=xyloAudio3::configuration::InputConfig(weight_bit_shift=0, weights={ -127 -84 -36 76 -43 115 -98 -23 101 127 -57 0 107 17 -47 -36 -59 123 -119 -81 -93 -70 -127 -125 98 -127 -42 -30 -56 107 -50 112 -62 -42 -26 6 -40 56 -127 59 -94 14 -63 100 93 -109 116 -119 -68 -33 18 100 -112 -48 64 -44 3 74 -4 -41 104 -80 108 86 31 119 -77 90 -1 -8 -91 -112 62 97 32 -83 111 19 26 10 -79 53 -36 113 93 10 -46 127 -103 96 -86 55 47 22 -77 7 9 56 -127 101 6 -114 19 -80 -60 123 110 -112 -82 -70 -62 121 46 -79 24 40 -118 22 -86 -54 -55 -125 20 75 26 -25 42 -14 111 7 -85 -6 96 43 80 -127 -125 -70 -84 10 73 -48 19 108 -42 -27 -61 -76 -112 -37 64 -16 62 -8 -74 104 -17 68 -8 -85 26 58 -81 102 -119 -127 109 -19 -96 34 31 37 -66 -1 113 -77 76 70 110 -106 -86 127 -109 -15 -71 60 47 -127 -45 125 61 63 -14 76 -106 30 -98 -44 -114 -97 43 -42 -117 107 54 93 -92 -28 -5 -17 125 -103 116 -127 -25 41 102 10 0 127 -96 -57 -108 67 127 100 -110 -120 -127 -64 21 -94 72 -100 -87 69 -78 -59 109 103 52 -68 -61 70 -53 65 -2 -117 -15 118 -76 -106 -103 -18 115 -89 44 71 1 -30 21 -54 -109 127 50 -98 -28 39 56 15 127 63 55 -70 127 58 -59 -14 -43 -91 -55 127 7 -17 -127 -126 1 -17 82 118 -28 45 108 56 -71 39 106 -11 -20 -127 -115 -45 9 -89 104 -39 -127 -25 18 102 -4 -39 77 -78 -14 -74 -127 8 -77 45 48 -120 -61 1 -35 -85 18 -59 127 -76 41 41 -73 -75 -104 48 -108 110 -42 -14 45 -78 27 -101 -119 16 -103 -122 98 46 -78 94 65 -16 84 -93 100 81 -9 -20 65 64 35 -114 -103 -127 42 127 64 42 45 125 -29 -21 -79 -60 114 66 -111 91 127 -32 112 80 }, syn2_weights={ 0 }), hidden=xyloAudio3::configuration::HiddenConfig(weight_bit_shift=0, weights={ 0 0 0 0 0 0 0 0 0 0 0 0 0 0 0 0 0 0 0 0 0 0 0 0 43 11 13 -106 90 -127 -60 -52 -103 19 64 -33 89 127 31 -111 -120 -46 -78 114 115 103 80 -18 0 0 0 0 0 0 0 0 0 0 0 0 0 0 0 0 0 0 0 0 0 0 0 0 0 0 0 0 0 0 0 0 0 0 0 0 0 0 0 0 0 0 0 0 0 0 0 0 77 -102 97 92 -50 12 28 25 -27 54 43 -73 115 -58 4 -82 -2 98 0 -69 43 -96 8 -35 0 0 0 0 0 0 0 0 0 0 0 0 0 0 0 0 0 0 0 0 0 0 0 0 0 0 0 0 0 0 0 0 0 0 0 0 0 0 0 0 0 0 0 0 0 0 0 0 -124 -2 -24 88 -6 -54 125 -23 113 -121 -8 112 -101 50 109 44 -21 90 35 120 10 29 59 127 0 0 0 0 0 0 0 0 0 0 0 0 0 0 0 0 0 0 0 0 0 0 0 0 0 0 0 0 0 0 0 0 0 0 0 0 0 0 0 0 0 0 0 0 0 0 0 0 81 23 -104 24 -101 30 87 122 24 86 -86 -76 -45 8 53 8 -74 -78 -99 -117 -25 -59 21 76 0 0 0 0 0 0 0 0 0 0 0 0 0 0 0 0 0 0 0 0 0 0 0 0 0 0 0 0 0 0 0 0 0 0 0 0 0 0 0 0 0 0 0 0 0 0 0 0 -127 102 38 10 -112 95 107 -127 83 106 -31 -122 41 125 -43 127 76 -121 -122 -13 -20 -6 -5 -32 0 0 0 0 0 0 0 0 0 0 0 0 0 0 0 0 0 0 0 0 0 0 0 0 0 0 0 0 0 0 0 0 0 0 0 0 0 0 0 0 0 0 0 0 0 0 0 0 -2 -121 -27 115 30 118 124 -33 8 -24 57 -86 -92 -96 -33 -105 -85 7 -66 -127 83 -109 -12 -19 0 0 0 0 0 0 0 0 0 0 0 0 0 0 0 0 0 0 0 0 0 0 0 0 0 0 0 0 0 0 0 0 0 0 0 0 0 0 0 0 0 0 0 0 0 0 0 0 -28 41 104 33 118 44 36 -107 43 63 29 127 38 -99 125 -101 -71 -58 -62 26 -50 113 86 64 0 0 0 0 0 0 0 0 0 0 0 0 0 0 0 0 0 0 0 0 0 0 0 0 0 0 0 0 0 0 0 0 0 0 0 0 0 0 0 0 0 0 0 0 0 0 0 0 69 44 18 65 89 79 54 -51 75 115 5 70 -90 -112 -55 111 59 80 127 -123 67 -112 30 64 0 0 0 0 0 0 0 0 0 0 0 0 0 0 0 0 0 0 0 0 0 0 0 0 0 0 0 0 0 0 0 0 0 0 0 0 0 0 0 0 0 0 0 0 0 0 0 0 -122 -99 -11 -65 9 -123 99 -106 -43 -127 -81 22 55 101 -11 -70 102 -99 13 83 22 16 -11 71 0 0 0 0 0 0 0 0 0 0 0 0 0 0 0 0 0 0 0 0 0 0 0 0 0 0 0 0 0 0 0 0 0 0 0 0 0 0 0 0 0 0 0 0 0 0 0 0 -66 -63 58 41 2 63 100 119 74 56 -34 -29 -57 0 120 108 120 -49 14 -54 -4 115 59 49 0 0 0 0 0 0 0 0 0 0 0 0 0 0 0 0 0 0 0 0 0 0 0 0 0 0 0 0 0 0 0 0 0 0 0 0 0 0 0 0 0 0 0 0 0 0 0 0 11 127 18 108 81 -73 -90 123 -1 -67 -96 -49 -23 -12 113 72 -50 -107 96 43 83 124 -126 118 0 0 0 0 0 0 0 0 0 0 0 0 0 0 0 0 0 0 0 0 0 0 0 0 0 0 0 0 0 0 0 0 0 0 0 0 0 0 0 0 0 0 0 0 0 0 0 0 27 76 -47 108 56 -11 95 24 115 30 -55 -105 -75 63 -62 -60 96 48 61 -35 117 27 90 106 0 0 0 0 0 0 0 0 0 0 0 0 0 0 0 0 0 0 0 0 0 0 0 0 0 0 0 0 0 0 0 0 0 0 0 0 0 0 0 0 0 0 0 0 0 0 0 0 6 55 -23 -18 -56 -120 -91 86 74 12 -127 69 83 -35 -127 -112 -30 -24 105 -98 -92 -29 -86 -2 0 0 0 0 0 0 0 0 0 0 0 0 0 0 0 0 0 0 0 0 0 0 0 0 0 0 0 0 0 0 0 0 0 0 0 0 0 0 0 0 0 0 0 0 0 0 0 0 -105 85 -103 127 -110 -39 127 -64 31 -96 92 -26 93 -92 77 60 116 -62 -120 -127 107 87 -54 -4 0 0 0 0 0 0 0 0 0 0 0 0 0 0 0 0 0 0 0 0 0 0 0 0 0 0 0 0 0 0 0 0 0 0 0 0 0 0 0 0 0 0 0 0 0 0 0 0 11 -27 -127 -34 25 70 17 -47 -9 -18 -101 -18 43 126 57 35 -9 127 -36 92 14 127 25 74 0 0 0 0 0 0 0 0 0 0 0 0 0 0 0 0 0 0 0 0 0 0 0 0 0 0 0 0 0 0 0 0 0 0 0 0 0 0 0 0 0 0 0 0 0 0 0 0 12 -55 21 -42 88 80 -26 -103 20 -52 26 11 120 -8 -80 6 -8 126 21 113 126 -20 -42 80 0 0 0 0 0 0 0 0 0 0 0 0 0 0 0 0 0 0 0 0 0 0 0 0 0 0 0 0 0 0 0 0 0 0 0 0 0 0 0 0 0 0 0 0 0 0 0 0 -62 65 -2 69 127 -93 127 -78 -81 -61 97 -30 -58 75 19 -34 -2 -36 85 125 20 -38 127 111 0 0 0 0 0 0 0 0 0 0 0 0 0 0 0 0 0 0 0 0 0 0 0 0 0 0 0 0 0 0 0 0 0 0 0 0 0 0 0 0 0 0 0 0 0 0 0 0 76 5 126 54 -59 -104 30 60 46 65 20 70 -12 -68 -100 -58 -127 -117 -21 105 117 2 80 99 0 0 0 0 0 0 0 0 0 0 0 0 0 0 0 0 0 0 0 0 0 0 0 0 0 0 0 0 0 0 0 0 0 0 0 0 0 0 0 0 0 0 0 0 0 0 0 0 -92 -20 -103 114 -54 -45 19 -96 127 -100 92 -97 124 24 97 -39 61 -118 0 -40 -14 -124 -103 -32 0 0 0 0 0 0 0 0 0 0 0 0 0 0 0 0 0 0 0 0 0 0 0 0 0 0 0 0 0 0 0 0 0 0 0 0 0 0 0 0 0 0 0 0 0 0 0 0 63 -39 -81 101 -77 48 11 -29 110 -7 -70 53 -61 -3 -49 -15 37 -43 -20 58 25 -104 -127 -56 0 0 0 0 0 0 0 0 0 0 0 0 0 0 0 0 0 0 0 0 0 0 0 0 0 0 0 0 0 0 0 0 0 0 0 0 0 0 0 0 0 0 0 0 0 0 0 0 -27 28 -112 115 10 4 54 31 -56 17 -92 93 23 -29 117 85 108 57 -4 126 -47 -103 94 -6 0 0 0 0 0 0 0 0 0 0 0 0 0 0 0 0 0 0 0 0 0 0 0 0 0 0 0 0 0 0 0 0 0 0 0 0 0 0 0 0 0 0 0 0 0 0 0 0 -85 35 61 17 -47 79 11 -73 53 48 -64 27 -81 -102 55 79 106 -68 -8 -20 -127 -8 -91 93 0 0 0 0 0 0 0 0 0 0 0 0 0 0 0 0 0 0 0 0 0 0 0 0 0 0 0 0 0 0 0 0 0 0 0 0 0 0 0 0 0 0 0 0 0 0 0 0 -54 63 -11 94 28 100 24 -52 -19 103 -117 75 127 -62 35 104 -33 68 -49 -65 -38 51 -46 113 0 0 0 0 0 0 0 0 0 0 0 0 0 0 0 0 0 0 0 0 0 0 0 0 0 0 0 0 0 0 0 0 0 0 0 0 0 0 0 0 0 0 0 0 0 0 0 0 -81 97 122 38 -38 -62 -66 -55 119 -32 118 22 9 48 -117 -25 -25 120 96 9 80 -125 -12 -84 0 0 0 0 0 0 0 0 0 0 0 0 0 0 0 0 0 0 0 0 0 0 0 0 0 0 0 0 0 0 0 0 0 0 0 0 0 0 0 0 0 0 0 0 0 0 0 0 0 0 0 0 0 0 0 0 0 0 0 0 0 0 0 0 0 0 0 0 0 0 0 0 9 -10 -13 -60 110 -127 -43 -13 62 28 4 -106 -34 -33 3 -27 -25 -36 127 -79 25 121 -5 16 0 0 0 0 0 0 0 0 0 0 0 0 0 0 0 0 0 0 0 0 0 0 0 0 0 0 0 0 0 0 0 0 0 0 0 0 0 0 0 0 0 0 0 0 0 0 0 0 -85 -22 127 -72 -51 -69 -106 51 61 -127 -2 127 116 -120 -79 -33 43 104 -44 -38 73 -111 -9 62 0 0 0 0 0 0 0 0 0 0 0 0 0 0 0 0 0 0 0 0 0 0 0 0 0 0 0 0 0 0 0 0 0 0 0 0 0 0 0 0 0 0 0 0 0 0 0 0 -40 -64 75 -78 90 -122 42 28 -36 50 -5 66 84 98 82 60 31 -112 -87 52 24 -31 57 -8 0 0 0 0 0 0 0 0 0 0 0 0 0 0 0 0 0 0 0 0 0 0 0 0 0 0 0 0 0 0 0 0 0 0 0 0 0 0 0 0 0 0 0 0 0 0 0 0 -5 87 -121 -116 -51 -38 -115 -50 -94 1 -21 -115 107 -108 -119 -9 117 6 -69 90 21 101 107 -21 0 0 0 0 0 0 0 0 0 0 0 0 0 0 0 0 0 0 0 0 0 0 0 0 0 0 0 0 0 0 0 0 0 0 0 0 0 0 0 0 0 0 0 0 0 0 0 0 -18 115 -59 17 108 62 -78 21 34 -58 127 -34 1 41 24 -62 -15 -120 68 22 107 123 -116 56 0 0 0 0 0 0 0 0 0 0 0 0 0 0 0 0 0 0 0 0 0 0 0 0 0 0 0 0 0 0 0 0 0 0 0 0 0 0 0 0 0 0 0 0 0 0 0 0 92 112 -17 -85 -31 27 -29 -48 -120 -93 60 -123 41 34 113 63 -127 -127 15 120 -127 -118 -45 -31 0 0 0 0 0 0 0 0 0 0 0 0 0 0 0 0 0 0 0 0 0 0 0 0 0 0 0 0 0 0 0 0 0 0 0 0 0 0 0 0 0 0 0 0 0 0 0 0 97 39 27 121 -72 -34 54 51 126 43 108 69 33 -26 -110 -14 -23 -79 -107 107 116 46 83 -63 0 0 0 0 0 0 0 0 0 0 0 0 0 0 0 0 0 0 0 0 0 0 0 0 0 0 0 0 0 0 0 0 0 0 0 0 0 0 0 0 0 0 0 0 0 0 0 0 23 -119 -25 3 126 20 -26 -15 127 -86 74 -108 52 -31 119 -8 14 112 82 -72 -71 96 15 -14 0 0 0 0 0 0 0 0 0 0 0 0 0 0 0 0 0 0 0 0 0 0 0 0 0 0 0 0 0 0 0 0 0 0 0 0 0 0 0 0 0 0 0 0 0 0 0 0 79 -120 -22 -106 52 -5 76 -12 122 -57 0 -83 -71 92 -125 19 -31 4 -37 98 80 -90 106 -61 0 0 0 0 0 0 0 0 0 0 0 0 0 0 0 0 0 0 0 0 0 0 0 0 0 0 0 0 0 0 0 0 0 0 0 0 0 0 0 0 0 0 0 0 0 0 0 0 13 -114 -68 -127 24 31 -96 -33 -84 -24 62 -29 -28 -76 63 40 120 -69 40 -94 126 3 85 10 0 0 0 0 0 0 0 0 0 0 0 0 0 0 0 0 0 0 0 0 0 0 0 0 0 0 0 0 0 0 0 0 0 0 0 0 0 0 0 0 0 0 0 0 0 0 0 0 8 -63 17 76 10 -27 -23 -26 12 85 -21 -34 32 100 70 -17 -93 -89 93 -127 6 127 -34 -42 0 0 0 0 0 0 0 0 0 0 0 0 0 0 0 0 0 0 0 0 0 0 0 0 0 0 0 0 0 0 0 0 0 0 0 0 0 0 0 0 0 0 0 0 0 0 0 0 78 -69 -112 125 55 38 32 3 78 115 -48 116 125 -69 -30 -9 121 91 60 23 17 -50 20 -43 0 0 0 0 0 0 0 0 0 0 0 0 0 0 0 0 0 0 0 0 0 0 0 0 0 0 0 0 0 0 0 0 0 0 0 0 0 0 0 0 0 0 0 0 0 0 0 0 62 -25 -123 12 63 37 23 -5 81 112 -37 -34 106 -106 18 -47 13 103 61 -72 92 -67 72 26 0 0 0 0 0 0 0 0 0 0 0 0 0 0 0 0 0 0 0 0 0 0 0 0 0 0 0 0 0 0 0 0 0 0 0 0 0 0 0 0 0 0 0 0 0 0 0 0 -127 24 48 93 -77 -74 -45 50 62 -117 54 12 127 -49 58 63 -25 92 60 14 -28 -5 -125 52 0 0 0 0 0 0 0 0 0 0 0 0 0 0 0 0 0 0 0 0 0 0 0 0 0 0 0 0 0 0 0 0 0 0 0 0 0 0 0 0 0 0 0 0 0 0 0 0 16 77 46 117 -25 -97 104 -5 -66 -60 -67 34 -51 105 16 59 -29 -72 88 -6 -72 58 -23 38 0 0 0 0 0 0 0 0 0 0 0 0 0 0 0 0 0 0 0 0 0 0 0 0 0 0 0 0 0 0 0 0 0 0 0 0 0 0 0 0 0 0 0 0 0 0 0 0 40 -20 124 104 98 51 52 -38 -100 27 91 2 -125 4 96 -14 39 -60 6 44 23 92 -93 -50 0 0 0 0 0 0 0 0 0 0 0 0 0 0 0 0 0 0 0 0 0 0 0 0 0 0 0 0 0 0 0 0 0 0 0 0 0 0 0 0 0 0 0 0 0 0 0 0 1 -75 -58 27 73 66 -47 0 -120 -58 -97 -47 52 -127 -108 -49 -20 37 54 69 53 -71 -38 16 0 0 0 0 0 0 0 0 0 0 0 0 0 0 0 0 0 0 0 0 0 0 0 0 0 0 0 0 0 0 0 0 0 0 0 0 0 0 0 0 0 0 0 0 0 0 0 0 -10 -67 -55 1 -71 85 -9 -21 124 73 -62 -30 -104 14 -63 -25 101 15 57 -38 81 98 29 13 0 0 0 0 0 0 0 0 0 0 0 0 0 0 0 0 0 0 0 0 0 0 0 0 0 0 0 0 0 0 0 0 0 0 0 0 0 0 0 0 0 0 0 0 0 0 0 0 35 -100 85 25 -21 -38 -120 -11 4 22 118 111 89 77 -7 61 -75 93 48 115 -22 33 120 62 0 0 0 0 0 0 0 0 0 0 0 0 0 0 0 0 0 0 0 0 0 0 0 0 0 0 0 0 0 0 0 0 0 0 0 0 0 0 0 0 0 0 0 0 0 0 0 0 32 7 -113 -7 -127 38 -51 -22 -56 -11 34 -62 -15 17 -37 -18 30 73 78 -62 -119 41 -77 -45 0 0 0 0 0 0 0 0 0 0 0 0 0 0 0 0 0 0 0 0 0 0 0 0 0 0 0 0 0 0 0 0 0 0 0 0 0 0 0 0 0 0 0 0 0 0 0 0 12 127 -5 19 -81 -95 -65 -34 120 -36 63 -62 -41 -106 -86 42 -64 -64 54 -62 -21 -17 -122 -16 0 0 0 0 0 0 0 0 0 0 0 0 0 0 0 0 0 0 0 0 0 0 0 0 0 0 0 0 0 0 0 0 0 0 0 0 0 0 0 0 0 0 0 0 0 0 0 0 72 1 32 78 -17 -52 -122 -31 -127 -73 -51 66 -81 -65 80 -39 72 -56 82 -46 121 -79 -124 58 0 0 0 0 0 0 0 0 0 0 0 0 0 0 0 0 0 0 0 0 0 0 0 0 0 0 0 0 0 0 0 0 0 0 0 0 0 0 0 0 0 0 0 0 0 0 0 0 -7 6 89 -60 69 -76 55 -29 51 67 105 -91 -124 23 -93 -2 -103 -64 7 47 -35 -41 45 9 0 0 0 0 0 0 0 0 0 0 0 0 0 0 0 0 0 0 0 0 0 0 0 0 0 0 0 0 0 0 0 0 0 0 0 0 0 0 0 0 0 0 0 0 0 0 0 0 -59 106 -53 -47 77 -31 24 26 8 -56 84 -108 13 -110 -124 -4 89 99 110 -9 15 -55 -16 21 0 0 0 0 0 0 0 0 0 0 0 0 0 0 0 0 0 0 0 0 0 0 0 0 0 0 0 0 0 0 0 0 0 0 0 0 0 0 0 0 0 0 0 0 0 0 0 0 0 0 0 0 0 0 0 0 0 0 0 0 0 0 0 0 0 0 0 0 0 0 0 0 0 0 0 0 0 0 0 0 0 0 0 0 0 0 0 0 0 0 0 0 0 0 0 0 0 0 0 0 0 0 0 0 0 0 0 0 0 0 0 0 0 0 0 0 0 0 0 0 0 0 0 0 0 0 0 0 0 0 0 0 0 0 0 0 0 0 0 0 0 0 0 0 0 0 0 0 0 0 0 0 0 0 0 0 0 0 0 0 0 0 0 0 0 0 0 0 0 0 0 0 0 0 0 0 0 0 0 0 0 0 0 0 0 0 0 0 0 0 0 0 0 0 0 0 0 0 0 0 0 0 0 0 0 0 0 0 0 0 0 0 0 0 0 0 0 0 0 0 0 0 0 0 0 0 0 0 0 0 0 0 0 0 0 0 0 0 0 0 0 0 0 0 0 0 0 0 0 0 0 0 0 0 0 0 0 0 0 0 0 0 0 0 0 0 0 0 0 0 0 0 0 0 0 0 0 0 0 0 0 0 0 0 0 0 0 0 0 0 0 0 0 0 0 0 0 0 0 0 0 0 0 0 0 0 0 0 0 0 0 0 0 0 0 0 0 0 0 0 0 0 0 0 0 0 0 0 0 0 0 0 0 0 0 0 0 0 0 0 0 0 0 0 0 0 0 0 0 0 0 0 0 0 0 0 0 0 0 0 0 0 0 0 0 0 0 0 0 0 0 0 0 0 0 0 0 0 0 0 0 0 0 0 0 0 0 0 0 0 0 0 0 0 0 0 0 0 0 0 0 0 0 0 0 0 0 0 0 0 0 0 0 0 0 0 0 0 0 0 0 0 0 0 0 0 0 0 0 0 0 0 0 0 0 0 0 0 0 0 0 0 0 0 0 0 0 0 0 0 0 0 0 0 0 0 0 0 0 0 0 0 0 0 0 0 0 0 0 0 0 0 0 0 0 0 0 0 0 0 0 0 0 0 0 0 0 0 0 0 0 0 0 0 0 0 0 0 0 0 0 0 0 0 0 0 0 0 0 0 0 0 0 0 0 0 0 0 0 0 0 0 0 0 0 0 0 0 0 0 0 0 0 0 0 0 0 0 0 0 0 0 0 0 0 0 0 0 0 0 0 0 0 0 0 0 0 0 0 0 0 0 0 0 0 0 0 0 0 0 0 0 0 0 0 0 0 0 0 0 0 0 0 0 0 0 0 0 0 0 0 0 0 0 0 0 0 0 0 0 0 0 0 0 0 0 0 0 0 0 0 0 0 0 0 0 0 0 0 0 0 0 0 0 0 0 0 0 0 0 0 0 0 0 0 0 0 0 0 0 0 0 0 0 0 0 0 0 0 0 0 0 0 0 0 0 0 0 0 0 0 0 0 0 0 0 0 0 0 0 0 0 0 0 0 0 0 0 0 0 0 0 0 0 0 0 0 0 0 0 0 0 0 0 0 0 0 0 0 0 0 0 0 0 0 0 0 0 0 0 0 0 0 0 0 0 0 0 0 0 0 0 0 0 0 0 0 0 0 0 0 0 0 0 0 0 0 0 0 0 0 0 0 0 0 0 0 0 0 0 0 0 0 0 0 0 0 0 0 0 0 0 0 0 0 0 0 0 0 0 0 0 0 0 0 0 0 0 0 0 0 0 0 0 0 0 0 0 0 0 0 0 0 0 0 0 0 0 0 0 0 0 0 0 0 0 0 0 0 0 0 0 0 0 0 0 0 0 0 0 0 0 0 0 0 0 0 0 0 0 0 0 0 0 0 0 0 0 0 0 0 0 0 0 0 0 0 0 0 0 0 0 0 0 0 0 0 0 0 0 0 0 0 0 0 0 0 0 0 0 0 0 0 0 0 0 0 0 0 0 0 0 0 0 0 0 0 0 0 0 0 0 0 0 0 0 0 0 0 0 0 0 0 0 0 0 0 0 0 0 0 0 0 0 0 0 0 0 0 0 0 0 0 0 0 0 0 0 0 0 0 0 0 0 0 0 0 0 0 0 0 0 0 0 0 0 0 0 0 0 0 0 0 0 0 0 0 0 0 0 0 0 0 0 0 0 0 0 0 0 0 0 0 0 0 0 0 0 0 0 0 0 0 0 0 0 0 0 0 0 0 0 0 0 0 0 0 0 0 0 0 0 0 0 0 0 0 0 0 0 0 0 0 0 0 0 0 0 0 0 0 0 0 0 0 0 0 0 0 0 0 0 0 0 0 0 0 0 0 0 0 0 0 0 0 0 0 0 0 0 0 0 0 0 0 0 0 0 0 0 0 0 0 0 0 0 0 0 0 0 0 0 0 0 0 0 0 0 0 0 0 0 0 0 0 0 0 0 0 0 0 0 0 0 0 0 0 0 0 0 0 0 0 0 0 0 0 0 0 0 0 0 0 0 0 0 0 0 0 0 0 0 0 0 0 0 0 0 0 0 0 0 0 0 0 0 0 0 0 0 0 0 0 0 0 0 0 0 0 0 0 0 0 0 0 0 0 0 0 0 0 0 0 0 0 0 0 0 0 0 0 0 0 0 0 0 0 0 0 0 0 0 0 0 0 0 0 0 0 0 0 0 0 0 0 0 0 0 0 0 0 0 0 0 0 0 0 0 0 0 0 0 0 0 0 0 0 0 0 0 0 0 0 0 0 0 0 0 0 0 0 0 0 0 0 0 0 0 0 0 0 0 0 0 0 0 0 0 0 0 0 0 0 0 0 0 0 0 0 0 0 0 0 0 0 0 0 0 0 0 0 0 0 0 0 0 0 0 0 0 0 0 0 0 0 0 0 0 0 0 0 0 0 0 0 0 0 0 0 0 0 0 0 0 0 0 0 0 0 0 0 0 0 0 0 0 0 0 0 0 0 0 0 0 0 0 0 0 0 0 0 0 0 0 0 0 0 0 0 0 0 0 0 0 0 0 0 0 0 0 0 0 0 0 0 0 0 0 0 0 0 0 0 0 0 0 0 0 0 0 0 0 0 0 0 0 0 0 0 0 0 0 0 0 0 0 0 0 0 0 0 0 0 0 0 0 0 0 0 0 0 0 0 0 0 0 0 0 0 0 0 0 0 0 0 0 0 0 0 0 0 0 0 0 0 0 0 0 0 0 0 0 0 0 0 0 0 0 0 0 0 0 0 0 0 0 0 0 0 0 0 0 0 0 0 0 0 0 0 0 0 0 0 0 0 0 0 0 0 0 0 0 0 0 0 0 0 0 0 0 0 0 0 0 0 0 0 0 0 0 0 0 0 0 0 0 0 0 0 0 0 0 0 0 0 0 0 0 0 0 0 0 0 0 0 0 0 0 0 0 0 0 0 0 0 0 0 0 0 0 0 0 0 0 0 0 0 0 0 0 0 0 0 0 0 0 0 0 0 0 0 0 0 0 0 0 0 0 0 0 0 0 0 0 0 0 0 0 0 0 0 0 0 0 0 0 0 0 0 0 0 0 0 0 0 0 0 0 0 0 0 0 0 0 0 0 0 0 0 0 0 0 0 0 0 0 0 0 0 0 0 0 0 0 0 0 0 0 0 0 0 0 0 0 0 0 0 0 0 0 0 0 0 0 0 0 0 0 0 0 0 0 0 0 0 0 0 0 0 0 0 0 0 0 0 0 0 0 0 0 0 0 0 0 0 0 0 0 0 0 0 0 0 0 0 0 0 0 0 0 0 0 0 0 0 0 0 0 0 0 0 0 0 0 0 0 0 0 0 0 0 0 0 0 0 0 0 0 0 0 0 0 0 0 0 0 0 0 0 0 0 0 0 0 0 0 0 0 }, syn2_weights={ 0 }, neurons={                                                                         }, aliasing=1), readout=xyloAudio3::configuration::ReadoutConfig(weight_bit_shift=0, weights={ -20 60 -64 20 -83 -127 -8 -111 -100 -105 -83 -85 116 -61 54 -108 -59 12 -27 -108 55 -125 -125 -94 }, neurons={  }), analog_frontend=xyloAudio3::configuration::AnalogFrontendConfig(automatic_gain_control=xyloAudio3::configuration::AutomaticGainControlConfig(enable_pga_fixed_gain=1, pga_fixed_gain_index_value=0, rise_average_bit_shift=3, fall_average_bit_shift=16, reliable_max_hysteresis=5, max_sample_number=195312, wait_time_vectors={ 48828 69053 84572 97656 109183 119603 129187 138106 146484 154408 161944 169145 176052 182698 189110 195312 }, amp_thresholds={ 9 12 15 19 24 30 38 48 60 76 96 121 153 193 243 307 }, pga_gain_index_variations={ 1 1 1 1 1 1 1 1 1 1 1 1 1 1 0 0 -1 }, aaf_oversampling_mode=1, anti_alias_filter_a_parameters={ -76101 93600 -46155 15598 }, anti_alias_filter_b_parameters={ 45 63 96 63 45 }, anti_alias_filter_surplus=163, anti_alias_filter_baf=16, enable_gain_smoother=0, gain_high_res_init_value=2097152, gain_smoother_average_bit_shift=12, gain_smoother_gain_fraction_num_bits=9, up_gain_rotation_shift_averages={ 2641920 2641920 2641920 2641920 2641920 2641920 2641920 2641920 2641920 2641920 2641920 2641920 2641920 2641920 2641920 }, down_gain_rotation_shift_averages={ 1662976 1662976 1662976 1662976 1662976 1662976 1662976 1662976 1662976 1662976 1662976 1662976 1662976 1662976 1662976 }), adc=xyloAudio3::configuration::AdcConfig(enable_adc_serial=0, adc_conversion_speed=3), ivgen=xyloAudio3::configuration::IvgenConfig(temperature_slope_trim_bandgap=8, absolute_value_trim_bandgap=95, trim_value_ptat=24, enable_chopping=0, current_ptat=3, current_mirror=3, enable_lp=0, ldo_digital_bias=7, adc_buffer_bias=0, afe_lna_bias=1, afe_pga_bias=0, afe_drv_bias=0, adc_buffer_test=0, current_mirror_input1=3, current_mirror_input2=1), ldo=xyloAudio3::configuration::LdoConfig(bypass_ldo_analog=0, bypass_ldo_digital=0, vdd_digital_core_voltage=0, vdd_analog_core_voltage=0, vcm_lna_voltage=1, vref_lna_h_voltage=2, vref_lna_l_voltage=1, vcm_pga_voltage=1, vcm_pga_l_voltage=1, vref_drv_l_voltage=0, ldo_digital_capacitor_stability=1, ldo_digital_bias_stability=0, enable_ldo_digital_current_limiting=1, ldo_digital_current_limit=1), lna_cft=12), digital_frontend=xyloAudio3::configuration::DigitalFrontendConfig(pdm_preprocessing=xyloAudio3::configuration::PdmPreprocessingConfig(clock_direction=1, clock_edge=0, h_values={ -115 553 -1962 3916 19991 3314 -1822 533 0 0 533 -1822 3314 19991 3916 -1962 553 -115 0 510 -1677 2735 19943 4538 -2096 570 -107 0 484 -1530 2181 19846 5180 -2224 583 -98 0 457 -1382 1652 19701 5838 -2342 592 -90 0 429 -1233 1151 19509 6511 -2451 596 -80 0 399 -1086 679 19270 7195 -2547 595 -70 0 369 -941 236 18987 7889 -2630 588 -59 0 338 -799 -176 18659 8589 -2697 575 -47 0 308 -662 -559 18290 9293 -2748 556 -34 0 277 -529 -910 17881 9998 -2780 529 -20 0 248 -402 -1229 17433 10700 -2792 495 -4 0 218 -282 -1517 16949 11398 -2782 454 11 0 190 -168 -1775 16432 12087 -2750 405 29 0 163 -62 -2001 15883 12765 -2693 347 48 0 138 35 -2197 15305 13429 -2610 282 68 0 113 126 -2363 14702 14076 -2500 208 90 0 90 208 -2500 14076 14702 -2363 126 113 0 68 282 -2610 13429 15305 -2197 35 138 0 48 347 -2693 12765 15883 -2001 -62 163 0 29 405 -2750 12087 16432 -1775 -168 190 0 11 454 -2782 11398 16949 -1517 -282 218 0 -4 495 -2792 10700 17433 -1229 -402 248 0 -20 529 -2780 9998 17881 -910 -529 277 0 -34 556 -2748 9293 18290 -559 -662 308 0 -47 575 -2697 8589 18659 -176 -799 338 0 -59 588 -2630 7889 18987 236 -941 369 0 -70 595 -2547 7195 19270 679 -1086 399 0 -80 596 -2451 6511 19509 1151 -1233 429 0 -90 592 -2342 5838 19701 1652 -1382 457 0 -98 583 -2224 5180 19846 2181 -1530 484 0 -107 570 -2096 4538 19943 2735 -1677 510 }), filter_bank=xyloAudio3::configuration::FilterBankConfig(bpf_bb_values={ 8 8 7 7 6 6 5 5 4 4 4 3 3 2 2 1 }, bpf_bwf_values={ 8 8 8 8 8 8 8 8 8 8 8 8 8 8 8 8 }, bpf_baf_values={ 6 6 7 7 8 8 9 9 10 10 10 11 11 13 13 14 }, bpf_a1_values={ -32694 -32663 -32617 -32551 -32453 -32305 -32077 -31718 -31139 -30185 -28582 -25862 -21262 -27375 -4180 25566 }, bpf_a2_values={ 16313 16284 16244 16188 16110 16000 15848 15638 15347 14947 14402 13666 12687 22803 19488 15280 }, use_global_iaf_threshold=0, iaf_thresholds={ 33554432 33554432 33554432 33554432 33554432 33554432 33554432 33554432 33554432 33554432 33554432 33554432 33554432 33554432 33554432 33554432 }, dn_enable=1, dn_eps_values={ 32 32 32 32 32 32 32 32 32 32 32 32 32 32 32 32 }, dn_b_values={ 12 12 12 12 12 12 12 12 12 12 12 12 12 12 12 12 }, dn_k1_values={ 6 6 6 6 6 6 6 6 6 6 6 6 6 6 6 6 }, dn_k2_values={ 0 0 0 0 0 0 0 0 0 0 0 0 0 0 0 0 }), vad_time_window=0, hibernation_mode_enable=0, hibernation_mode_threshold=0, hibernation_mode_time_window=0), debug=xyloAudio3::configuration::DebugConfig(direct_output_delay=127, use_timestamps=0, i2c_noise_filter_cycle=1, monitor_neuron_v_mem={ }, monitor_neuron_i_syn={ }, monitor_neuron_i_syn2={ }, monitor_neuron_spike={ }, input_write_select=0, input_read_select=0, debug_input_enable=0, monitor_signals={ 0 0 0 0 }, monitor_signals_enable=0, pad_control=(...), debug_status_update_enable=0, keep_interrupt=0, always_update_omp_stat=0, cntr_stat_reg_source=0, ram_wake_up_settle_time=0, ram_auto_sleep_control=0, ram_manual_sleep_enable=0, ram_light_sleep=0, ram_deep_sleep=0, ram_power_enable=0, i2c_clock_ratio=0, adc_clock_ratio=0, sdm_clock_ratio=0, spk2saer_clock_ratio=0, isyn_clock_enable=0, isyn2_clock_enable=0, alias_clock_enable=0, bias_clock_enable=0, hm_clock_enable=0, read_timing_select=1, write_timing_select=1, analog_test_mode=xyloAudio3::configuration::AnalogTestModeConfig(enable_current_test_mode=0, select_test_mode=0, bypass_test_buffer=0, speed_test_buffer0=4, speed_test_buffer1=4, monitoring_test_signals=0, enable_test_buffers=0, update_ana1=0, monitor_dynamic_signals=0, monitor_static_signals=0, static_pull_down=3, static_pull_up=0, dynamic_pull_down=3, dynamic_pull_up=0, enable_static=0, enable_dynamic=0, update_ana2=0, n_set1=5, n_set2=4, n_set3=9, n_vld=3, n_smp=5, n_pd=64, n_chop=1, bypass_afe=0, bypass_vref=0, enable_dig_mon=0, analog_mon_sel=0, digital_mon_sel=0)))\n"
     ]
    }
   ],
   "source": [
    "from rockpool.nn.networks import SynNet\n",
    "from rockpool.devices.xylo.syns65302 import config_from_specification, mapper\n",
    "\n",
    "xylo_conf = []\n",
    "\n",
    "if network == \"trained\":\n",
    "    from rockpool.nn.modules import LIFTorch\n",
    "    import warnings\n",
    "    warnings.filterwarnings(\"ignore\")\n",
    "    \n",
    "    ckpt = '../../../docs/devices/xylo-a3/model_sample/to_deploy_inXylo.json'\n",
    "    \n",
    "    # - Loading trained model architecture parameters\n",
    "    arch_params = {'n_classes': 1,\n",
    "    'n_channels': 16,\n",
    "    'size_hidden_layers':[63, 63, 63],\n",
    "    'time_constants_per_layer':[3,7,7],\n",
    "    'tau_syn_base': 0.02,\n",
    "    'tau_mem': 0.02,\n",
    "    'tau_syn_out': 0.02,\n",
    "    'neuron_model': LIFTorch,\n",
    "    'dt': 0.00994,\n",
    "    'output': 'vmem'}\n",
    "    \n",
    "    # - Instantiating the model backbone and loading trained checkpoint\n",
    "    syn_model = SynNet(** arch_params)\n",
    "    syn_model.load(ckpt)\n",
    "    \n",
    "    import rockpool.transform.quantize_methods as q\n",
    "    \n",
    "    # getting the model specifications using the mapper function\n",
    "    spec = mapper(syn_model.as_graph(), weight_dtype='float', threshold_dtype='float', dash_dtype='float')\n",
    "    # quantizing the model\n",
    "    spec.update(q.channel_quantize(**spec))\n",
    "    \n",
    "    xylo_conf, is_valid, msg = config_from_specification(**spec)\n",
    "    \n",
    "elif network == \"small\":\n",
    "    from rockpool.transform.quantize_methods import channel_quantize\n",
    "\n",
    "    net = SynNet(\n",
    "        n_channels = 16,                        # Number of input channels\n",
    "        n_classes = 1,                          # Number of output classes (i.e. output channels)\n",
    "        size_hidden_layers = [24, 24, 24],      # Number of neurons in each hidden layer\n",
    "        time_constants_per_layer = [2, 4, 8],   # Number of time constants in each hidden layer\n",
    "    )\n",
    "    print(net)\n",
    "\n",
    "    spec = mapper(net.as_graph())\n",
    "    Q_spec = spec\n",
    "    Q_spec.update(channel_quantize(**Q_spec))\n",
    "    xylo_conf, is_valid, msg = config_from_specification(**Q_spec)\n",
    "\n",
    "    if not is_valid:\n",
    "        print(msg)\n",
    "\n",
    "print(xylo_conf)"
   ]
  },
  {
   "cell_type": "markdown",
   "metadata": {},
   "source": [
    "### Calling `apply_configuration` for mapping network but no digital microphone configuration, no chip activation (i.e., not sending `TriggerProcessing`):\n"
   ]
  },
  {
   "cell_type": "code",
   "execution_count": 7,
   "metadata": {},
   "outputs": [
    {
     "name": "stdout",
     "output_type": "stream",
     "text": [
      "Clock:\t6.25 MHz\n",
      "io:\t0.1 mW \tAFE core:\t0.0 mW\tDFE+SNN core:\t0.3 mW\n",
      "Clock:\t12.5 MHz\n",
      "io:\t0.1 mW \tAFE core:\t0.0 mW\tDFE+SNN core:\t0.5 mW\n",
      "Clock:\t25 MHz\n",
      "io:\t0.1 mW \tAFE core:\t0.0 mW\tDFE+SNN core:\t0.9 mW\n",
      "Clock:\t50 MHz\n",
      "io:\t0.3 mW \tAFE core:\t0.0 mW\tDFE+SNN core:\t1.6 mW\n"
     ]
    }
   ],
   "source": [
    "power_consumption = []\n",
    "\n",
    "for clock in clock_frequencies:\n",
    "    \n",
    "    config = samna.xyloAudio3.XyloAudio3TestBoardDefaultConfig()\n",
    "    config.main_clock_frequency = int(clock * 1000000)\n",
    "    xylo_node.reset_board_soft(config)\n",
    "    \n",
    "    xylo_node.get_model().apply_configuration(xylo_conf)\n",
    "    xylo_node.get_model().close_ram_access()\n",
    "\n",
    "    # print(\"power control 1:\", hex(read_register(pwr_ctrl1)))\n",
    "    # print(\"power control 2:\", hex(read_register(pwr_ctrl2)))\n",
    "    # print(\"power control 3:\", hex(read_register(pwr_ctrl3)))\n",
    "    # print(\"power control 4:\", hex(read_register(pwr_ctrl4)))\n",
    "\n",
    "    pwr_ctrl = [pwr_ctrl1, pwr_ctrl2, pwr_ctrl3, pwr_ctrl4]\n",
    "    # activate all ram memories\n",
    "    for add in pwr_ctrl:\n",
    "        wwv_ev = samna.xyloAudio3.event.WriteRegisterValue()\n",
    "        wwv_ev.address = add\n",
    "        wwv_ev.data = 0x11111111\n",
    "        source.write([wwv_ev])\n",
    "\n",
    "    # Start the stopwatch to enable time-stamped power sampling.\n",
    "    stopwatch.start()\n",
    "    \n",
    "    # Start sampling power on all channels at a rate of 100 Hz.\n",
    "    power_monitor.start_auto_power_measurement(100)\n",
    "    \n",
    "    # Auto power measurement streams PowerMeasurement events continuously.\n",
    "    # To capture 3 seconds of data from 3 channels at 100Hz, we collect 900 events.\n",
    "    events = sink_pm.get_n_events(900, timeout=4000)\n",
    "    \n",
    "    # Stop the automatic power measurement process.\n",
    "    power_monitor.stop_auto_power_measurement()\n",
    "    \n",
    "    # Calculate the average power consumption for each channel over 3 seconds.\n",
    "    counts = [0, 0, 0]\n",
    "    sums = [0, 0, 0]\n",
    "    for e in events:\n",
    "        assert isinstance(e, samna.unifirm.modules.events.PowerMeasurement)\n",
    "        sums[e.channel] += e.value\n",
    "        counts[e.channel] += 1\n",
    "    \n",
    "    # Compute the averages and convert to milliwatts (W -> mW).\n",
    "    avgs = [sum/count * 1000 for sum, count in zip(sums, counts)]\n",
    "    power_consumption+= [avgs]\n",
    "\n",
    "for clock, power in zip(clock_frequencies, power_consumption):\n",
    "    print(f'Clock:\\t{clock} MHz\\nio:\\t{power[0]:.1f} mW \\tAFE core:\\t{power[1]:.1f} mW\\tDFE+SNN core:\\t{power[2]:.1f} mW')\n",
    "\n",
    "    match clock:\n",
    "        case 6.25:\n",
    "            power_measurements_625.append(power)\n",
    "        case 12.5:\n",
    "            power_measurements_125.append(power)\n",
    "        case 25:\n",
    "            power_measurements_25.append(power)\n",
    "        case 50:\n",
    "            power_measurements_50.append(power)\n"
   ]
  },
  {
   "cell_type": "markdown",
   "metadata": {},
   "source": [
    "### Calling `apply_configuration` for mapping network and digital microphone configuration as in `XyloMonitor` with `RealTime` mode, no chip activation (i.e., not sending `TriggerProcessing`):\n"
   ]
  },
  {
   "cell_type": "code",
   "execution_count": 8,
   "metadata": {},
   "outputs": [
    {
     "name": "stdout",
     "output_type": "stream",
     "text": [
      "Clock:\t6.25 MHz\n",
      "io:\t0.1 mW \tAFE core:\t0.0 mW\tDFE+SNN core:\t0.3 mW\n",
      "Clock:\t12.5 MHz\n",
      "io:\t0.1 mW \tAFE core:\t0.0 mW\tDFE+SNN core:\t0.5 mW\n",
      "Clock:\t25 MHz\n",
      "io:\t0.3 mW \tAFE core:\t0.0 mW\tDFE+SNN core:\t0.8 mW\n",
      "Clock:\t50 MHz\n",
      "io:\t0.5 mW \tAFE core:\t0.0 mW\tDFE+SNN core:\t1.5 mW\n"
     ]
    }
   ],
   "source": [
    "power_consumption = []\n",
    "for clock in clock_frequencies:\n",
    "\n",
    "    config = samna.xyloAudio3.XyloAudio3TestBoardDefaultConfig()\n",
    "    config.main_clock_frequency = int(clock * 1000000)\n",
    "    xylo_node.reset_board_soft(config)\n",
    "\n",
    "\n",
    "    main_clk_freq = clock * 1e6  # in Hz\n",
    "    tr_wrap = int(ts * main_clk_freq)\n",
    "\n",
    "    tr_wrap = 63168\n",
    "    xylo_conf.operation_mode = samna.xyloAudio3.OperationMode.RealTime\n",
    "    xylo_conf.digital_frontend.filter_bank.dn_enable = False\n",
    "    xylo_conf.time_resolution_wrap = tr_wrap\n",
    "    xylo_conf.debug.always_update_omp_stat = True\n",
    "    xylo_conf.digital_frontend.filter_bank.use_global_iaf_threshold = False\n",
    "    xylo_conf.input_source = samna.xyloAudio3.InputSource.DigitalMicrophone\n",
    "    # - the ideal sdm clock ratio depends on the main clock rate\n",
    "    # -- int(clock / 1.56 / 2 - 1)\n",
    "    xylo_conf.debug.sdm_clock_ratio = 24\n",
    "    xylo_conf.digital_frontend.pdm_preprocessing.clock_direction = 1\n",
    "    xylo_conf.digital_frontend.pdm_preprocessing.clock_edge = 0\n",
    "    \n",
    "    # - Disable internal state monitoring\n",
    "    xylo_conf.debug.monitor_neuron_v_mem = []\n",
    "    xylo_conf.debug.monitor_neuron_spike = []\n",
    "    xylo_conf.debug.monitor_neuron_i_syn = []\n",
    "\n",
    "    xylo_node.get_model().apply_configuration(xylo_conf)\n",
    "    xylo_node.get_model().close_ram_access()\n",
    "\n",
    "    pwr_ctrl = [pwr_ctrl1, pwr_ctrl2, pwr_ctrl3, pwr_ctrl4]\n",
    "    # activate all ram memories\n",
    "    for add in pwr_ctrl:\n",
    "        wwv_ev = samna.xyloAudio3.event.WriteRegisterValue()\n",
    "        wwv_ev.address = add\n",
    "        wwv_ev.data = 0x11111111\n",
    "        source.write([wwv_ev])\n",
    "\n",
    "    # print(\"power control 1:\", hex(read_register(pwr_ctrl1)))\n",
    "    # print(\"power control 2:\", hex(read_register(pwr_ctrl2)))\n",
    "    # print(\"power control 3:\", hex(read_register(pwr_ctrl3)))\n",
    "    # print(\"power control 4:\", hex(read_register(pwr_ctrl4)))\n",
    "\n",
    "    # Start the stopwatch to enable time-stamped power sampling.\n",
    "    stopwatch.start()\n",
    "    \n",
    "    # Start sampling power on all channels at a rate of 100 Hz.\n",
    "    power_monitor.start_auto_power_measurement(100)\n",
    "    \n",
    "    # Auto power measurement streams PowerMeasurement events continuously.\n",
    "    # To capture 3 seconds of data from 3 channels at 100Hz, we collect 900 events.\n",
    "    events = sink_pm.get_n_events(900, timeout=4000)\n",
    "    \n",
    "    # Stop the automatic power measurement process.\n",
    "    power_monitor.stop_auto_power_measurement()\n",
    "    \n",
    "    # Calculate the average power consumption for each channel over 3 seconds.\n",
    "    counts = [0, 0, 0]\n",
    "    sums = [0, 0, 0]\n",
    "    for e in events:\n",
    "        assert isinstance(e, samna.unifirm.modules.events.PowerMeasurement)\n",
    "        sums[e.channel] += e.value\n",
    "        counts[e.channel] += 1\n",
    "    \n",
    "    # Compute the averages and convert to milliwatts (W -> mW).\n",
    "    avgs = [sum/count * 1000 for sum, count in zip(sums, counts)]\n",
    "    power_consumption+= [avgs]\n",
    "\n",
    "for clock, power in zip(clock_frequencies, power_consumption):\n",
    "    print(f'Clock:\\t{clock} MHz\\nio:\\t{power[0]:.1f} mW \\tAFE core:\\t{power[1]:.1f} mW\\tDFE+SNN core:\\t{power[2]:.1f} mW')\n",
    "    \n",
    "    match clock:\n",
    "        case 6.25:\n",
    "            power_measurements_625.append(power)\n",
    "        case 12.5:\n",
    "            power_measurements_125.append(power)\n",
    "        case 25:\n",
    "            power_measurements_25.append(power)\n",
    "        case 50:\n",
    "            power_measurements_50.append(power)\n"
   ]
  },
  {
   "cell_type": "markdown",
   "metadata": {},
   "source": [
    "### Calling `apply_configuration` for mapping network and digital microphone configuration as in `XyloMonitor` with `RealTime` mode, with chip activation (i.e., sending `TriggerProcessing`):\n"
   ]
  },
  {
   "cell_type": "code",
   "execution_count": 9,
   "metadata": {},
   "outputs": [
    {
     "name": "stdout",
     "output_type": "stream",
     "text": [
      "Clock:\t6.25 MHz\n",
      "io:\t1.4 mW \tAFE core:\t0.0 mW\tDFE+SNN core:\t0.3 mW\n",
      "Clock:\t12.5 MHz\n",
      "io:\t1.4 mW \tAFE core:\t0.0 mW\tDFE+SNN core:\t0.5 mW\n",
      "Clock:\t25 MHz\n",
      "io:\t1.5 mW \tAFE core:\t0.0 mW\tDFE+SNN core:\t0.9 mW\n",
      "Clock:\t50 MHz\n",
      "io:\t1.8 mW \tAFE core:\t0.0 mW\tDFE+SNN core:\t1.7 mW\n"
     ]
    }
   ],
   "source": [
    "power_consumption = []\n",
    "for clock in clock_frequencies:\n",
    "\n",
    "    config = samna.xyloAudio3.XyloAudio3TestBoardDefaultConfig()\n",
    "    config.main_clock_frequency = int(clock * 1000000)\n",
    "    xylo_node.reset_board_soft(config)\n",
    "\n",
    "    main_clk_freq = clock * 1e6  # in Hz\n",
    "    tr_wrap = int(ts * main_clk_freq)\n",
    "\n",
    "    tr_wrap = 63168\n",
    "    \n",
    "    xylo_conf.operation_mode = samna.xyloAudio3.OperationMode.RealTime\n",
    "    xylo_conf.digital_frontend.filter_bank.dn_enable = False\n",
    "    xylo_conf.time_resolution_wrap = tr_wrap\n",
    "    xylo_conf.debug.always_update_omp_stat = True\n",
    "    xylo_conf.digital_frontend.filter_bank.use_global_iaf_threshold = False\n",
    "    xylo_conf.input_source = samna.xyloAudio3.InputSource.DigitalMicrophone\n",
    "    # - the ideal sdm clock ratio depends on the main clock rate\n",
    "    # -- int(clock / 1.56 / 2 - 1)\n",
    "    xylo_conf.debug.sdm_clock_ratio = 24\n",
    "    xylo_conf.digital_frontend.pdm_preprocessing.clock_direction = 1\n",
    "    xylo_conf.digital_frontend.pdm_preprocessing.clock_edge = 0\n",
    "    \n",
    "    # - Disable internal state monitoring\n",
    "    xylo_conf.debug.monitor_neuron_v_mem = []\n",
    "    xylo_conf.debug.monitor_neuron_spike = []\n",
    "    xylo_conf.debug.monitor_neuron_i_syn = []\n",
    "\n",
    "    xylo_node.get_model().apply_configuration(xylo_conf)\n",
    "    xylo_node.get_model().close_ram_access()\n",
    "\n",
    "    pwr_ctrl = [pwr_ctrl1, pwr_ctrl2, pwr_ctrl3, pwr_ctrl4]\n",
    "    # activate all ram memories\n",
    "    for add in pwr_ctrl:\n",
    "        wwv_ev = samna.xyloAudio3.event.WriteRegisterValue()\n",
    "        wwv_ev.address = add\n",
    "        wwv_ev.data = 0x11111111\n",
    "        source.write([wwv_ev])\n",
    "\n",
    "\n",
    "    # print(\"power control 1:\", hex(read_register(pwr_ctrl1)))\n",
    "    # print(\"power control 2:\", hex(read_register(pwr_ctrl2)))\n",
    "    # print(\"power control 3:\", hex(read_register(pwr_ctrl3)))\n",
    "    # print(\"power control 4:\", hex(read_register(pwr_ctrl4)))\n",
    "\n",
    "    # Activate the chip processing\n",
    "    source.write([samna.xyloAudio3.event.TriggerProcessing()])\n",
    "\n",
    "    # Start the stopwatch to enable time-stamped power sampling.\n",
    "    stopwatch.start()\n",
    "    \n",
    "    # Start sampling power on all channels at a rate of 100 Hz.\n",
    "    power_monitor.start_auto_power_measurement(100)\n",
    "    \n",
    "    # Auto power measurement streams PowerMeasurement events continuously.\n",
    "    # To capture 3 seconds of data from 3 channels at 100Hz, we collect 900 events.\n",
    "    events = sink_pm.get_n_events(900, timeout=4000)\n",
    "    \n",
    "    # Stop the automatic power measurement process.\n",
    "    power_monitor.stop_auto_power_measurement()\n",
    "    \n",
    "    # Calculate the average power consumption for each channel over 3 seconds.\n",
    "    counts = [0, 0, 0]\n",
    "    sums = [0, 0, 0]\n",
    "    for e in events:\n",
    "        assert isinstance(e, samna.unifirm.modules.events.PowerMeasurement)\n",
    "        sums[e.channel] += e.value\n",
    "        counts[e.channel] += 1\n",
    "    \n",
    "    # Compute the averages and convert to milliwatts (W -> mW).\n",
    "    avgs = [sum/count * 1000 for sum, count in zip(sums, counts)]\n",
    "    power_consumption+= [avgs]\n",
    "\n",
    "for clock, power in zip(clock_frequencies, power_consumption):\n",
    "    print(f'Clock:\\t{clock} MHz\\nio:\\t{power[0]:.1f} mW \\tAFE core:\\t{power[1]:.1f} mW\\tDFE+SNN core:\\t{power[2]:.1f} mW')\n",
    "    \n",
    "    match clock:\n",
    "        case 6.25:\n",
    "            power_measurements_625.append(power)\n",
    "        case 12.5:\n",
    "            power_measurements_125.append(power)\n",
    "        case 25:\n",
    "            power_measurements_25.append(power)\n",
    "        case 50:\n",
    "            power_measurements_50.append(power)\n"
   ]
  },
  {
   "cell_type": "markdown",
   "metadata": {},
   "source": [
    "### Plot all power consumption together"
   ]
  },
  {
   "cell_type": "code",
   "execution_count": 10,
   "metadata": {},
   "outputs": [
    {
     "data": {
      "image/png": "[encoded data removed]",
      "text/plain": [
       "<Figure size 640x480 with 1 Axes>"
      ]
     },
     "metadata": {},
     "output_type": "display_data"
    },
    {
     "data": {
      "image/png": "[encoded data removed]",
      "text/plain": [
       "<Figure size 640x480 with 1 Axes>"
      ]
     },
     "metadata": {},
     "output_type": "display_data"
    },
    {
     "data": {
      "image/png": "[encoded data removed]",
      "text/plain": [
       "<Figure size 640x480 with 1 Axes>"
      ]
     },
     "metadata": {},
     "output_type": "display_data"
    }
   ],
   "source": [
    "import numpy as np\n",
    "import matplotlib.pyplot as plt\n",
    "\n",
    "\n",
    "frequency_measurement = [power_measurements_125, power_measurements_25, power_measurements_50]\n",
    "\n",
    "for frequency, clock in zip(frequency_measurement, clock_frequencies):\n",
    "    power_labels = [\"io\", \"analog\", \"DFE+SNN\"]\n",
    "    \n",
    "    number_experiment = []\n",
    "    for i in range(len(frequency)):\n",
    "        number_experiment.append(i)\n",
    "        \n",
    "    x = np.arange(len(power_labels))  # the label locations\n",
    "    width = 0.15  # the width of the bars\n",
    "    multiplier = 0\n",
    "    \n",
    "    fig, ax = plt.subplots(layout='constrained')\n",
    "\n",
    "    for measurement, label in zip(frequency, number_experiment):\n",
    "        offset = width * multiplier\n",
    "        rects = ax.bar(x + offset, measurement, width, label=label)\n",
    "        multiplier += 1\n",
    "    \n",
    "    # Add some text for labels, title and custom x-axis tick labels, etc.\n",
    "    ax.set_ylabel('Power (mW)')\n",
    "    title = \"Clock Frequency \" + str(clock) + \" Mhz\"\n",
    "    ax.set_title(title)\n",
    "    ax.set_xticks(x + width, power_labels)\n",
    "    ax.legend(loc='best', ncols=3)\n",
    "    \n",
    "    plt.show()"
   ]
  },
  {
   "cell_type": "code",
   "execution_count": 2,
   "metadata": {},
   "outputs": [],
   "source": [
    "def read_register(addr):\n",
    "    source.write([samna.xyloAudio3.event.ReadRegisterValue(address = addr)])\n",
    "    events = sink.get_n_events(1, 3000)\n",
    "    assert(len(events) == 1)\n",
    "    return events[0].data\n",
    "\n",
    "ctrl1 = 0x0001\n",
    "ctrl2 = 0x0002\n",
    "ctrl3 = 0x0003\n",
    "tr_wrap = 0x0004\n",
    "hm_tr_wrap = 0x0005\n",
    "clk_ctrl = 0x0006\n",
    "clk_div = 0x0007\n",
    "pwr_ctrl1 = 0x0008\n",
    "pwr_ctrl2 = 0x0009\n",
    "pwr_ctrl3 = 0x000A\n",
    "pwr_ctrl4 = 0x000B\n",
    "pad_ctrl = 0x000C\n",
    "ie1 = 0x000E\n",
    "ie2 = 0x000F\n",
    "out_ctrl = 0x0011\n",
    "monsel = 0x0166\n",
    "mon_grp_sel = 0x0167\n",
    "dbg_ctrl1 = 0x0168\n",
    "dbg_stat1 = 0x0171\n",
    "dfe_ctrl = 0x001B\n",
    "ivgen = 0x0015\n",
    "ivgen2 = 0x0016\n",
    "ivgen3 = 0x0017\n",
    "ivgen4 = 0x0018\n",
    "ivgen5 = 0x0019\n",
    "ivgen6 = 0x001A\n",
    "adctest = 0x016E\n",
    "\n",
    "# create access to xylo input/output\n",
    "source = samna.graph.source_to(model.get_sink_node())\n",
    "sink   = samna.graph.sink_from(model.get_source_node())"
   ]
  },
  {
   "cell_type": "code",
   "execution_count": null,
   "metadata": {},
   "outputs": [],
   "source": []
  }
 ],
 "metadata": {
  "interpreter": {
   "hash": "80082753f825f5fd87c9e01bdff400ed5e0a1d73f0e7712adc135a3cda2f38fe"
  },
  "kernelspec": {
   "display_name": "Python 3 (ipykernel)",
   "language": "python",
   "name": "python3"
  },
  "language_info": {
   "codemirror_mode": {
    "name": "ipython",
    "version": 3
   },
   "file_extension": ".py",
   "mimetype": "text/x-python",
   "name": "python",
   "nbconvert_exporter": "python",
   "pygments_lexer": "ipython3",
   "version": "3.10.12"
  }
 },
 "nbformat": 4,
 "nbformat_minor": 4
}
