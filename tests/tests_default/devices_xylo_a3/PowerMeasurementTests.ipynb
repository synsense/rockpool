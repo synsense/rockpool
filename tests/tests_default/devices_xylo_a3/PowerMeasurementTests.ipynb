{
 "cells": [
  {
   "cell_type": "markdown",
   "metadata": {},
   "source": [
    "# Connecting to the board"
   ]
  },
  {
   "cell_type": "code",
   "execution_count": 1,
   "metadata": {},
   "outputs": [
    {
     "name": "stdout",
     "output_type": "stream",
     "text": [
      "Samna version 0.39.11.7+g04f769652\n"
     ]
    }
   ],
   "source": [
    "import samna\n",
    "print(f'Samna version {samna.__version__}')\n",
    "\n",
    "import numpy as np\n",
    "import matplotlib.pyplot as plt\n",
    "from rockpool.devices.xylo.syns65302 import config_from_specification as config_from, mapper as mapper, XyloSamna as XyloSamna, XyloMonitor as XyloMonitor\n",
    "from rockpool.devices.xylo.syns65302 import xa3_devkit_utils as hdu\n",
    "\n",
    "from rockpool.transform.quantize_methods import channel_quantize"
   ]
  },
  {
   "cell_type": "code",
   "execution_count": 2,
   "metadata": {},
   "outputs": [
    {
     "name": "stdout",
     "output_type": "stream",
     "text": [
      "<samna.xyloAudio3.XyloAudio3TestBoard object at 0x7bce6829c9b0>\n"
     ]
    }
   ],
   "source": [
    "# - Getting the connected devices and choosing xyloa3 board\n",
    "xylo_node = hdu.find_xylo_a3_boards()[0]\n",
    "\n",
    "print(xylo_node)\n"
   ]
  },
  {
   "cell_type": "markdown",
   "metadata": {},
   "source": [
    "## Clock frequencies"
   ]
  },
  {
   "cell_type": "code",
   "execution_count": 3,
   "metadata": {},
   "outputs": [],
   "source": [
    "clock_frequencies = [6.25, 12.5, 25, 50]"
   ]
  },
  {
   "cell_type": "markdown",
   "metadata": {},
   "source": [
    "## Configuration to read registers"
   ]
  },
  {
   "cell_type": "code",
   "execution_count": 4,
   "metadata": {},
   "outputs": [
    {
     "name": "stdout",
     "output_type": "stream",
     "text": [
      "samna version: 0.39.11.7+g04f769652\n"
     ]
    }
   ],
   "source": [
    "import samna\n",
    "print(f\"samna version: {samna.__version__}\")\n",
    "import time\n",
    "\n",
    "# set device configuration\n",
    "ioc = xylo_node.get_io_control_module()\n",
    "io = xylo_node.get_io_module()\n",
    "model = xylo_node.get_model()\n",
    "\n",
    "\n",
    "def read_register(addr):\n",
    "    source.write([samna.xyloAudio3.event.ReadRegisterValue(address = addr)])\n",
    "    events = sink.get_n_events(1, 3000)\n",
    "    assert(len(events) == 1)\n",
    "    return events[0].data\n",
    "\n",
    "ctrl1 = 0x0001\n",
    "ctrl2 = 0x0002\n",
    "ctrl3 = 0x0003\n",
    "tr_wrap = 0x0004\n",
    "hm_tr_wrap = 0x0005\n",
    "clk_ctrl = 0x0006\n",
    "clk_div = 0x0007\n",
    "pwr_ctrl1 = 0x0008\n",
    "pwr_ctrl2 = 0x0009\n",
    "pwr_ctrl3 = 0x000A\n",
    "pwr_ctrl4 = 0x000B\n",
    "pad_ctrl = 0x000C\n",
    "ie1 = 0x000E\n",
    "ie2 = 0x000F\n",
    "out_ctrl = 0x0011\n",
    "monsel = 0x0166\n",
    "mon_grp_sel = 0x0167\n",
    "dbg_ctrl1 = 0x0168\n",
    "dbg_stat1 = 0x0171\n",
    "dfe_ctrl = 0x001B\n",
    "ivgen = 0x0015\n",
    "ivgen2 = 0x0016\n",
    "ivgen3 = 0x0017\n",
    "ivgen4 = 0x0018\n",
    "ivgen5 = 0x0019\n",
    "ivgen6 = 0x001A\n",
    "adctest = 0x016E\n",
    "\n",
    "# create access to xylo input/output\n",
    "source = samna.graph.source_to(model.get_sink_node())\n",
    "sink   = samna.graph.sink_from(model.get_source_node())\n",
    "\n",
    "\n",
    "# print(\"\\n# ======= read important registers =======\\n\")\n",
    "\n",
    "# print(f\"adctest       : 0x{format(read_register(adctest),'_X')}\")\n",
    "# print(f\"ivgen       : 0x{format(read_register(ivgen),'_X')}\")\n",
    "# print(f\"ivgen2       : 0x{format(read_register(ivgen2),'_X')}\")\n",
    "# print(f\"ivgen3       : 0x{format(read_register(ivgen3),'_X')}\")\n",
    "# print(f\"ivgen4       : 0x{format(read_register(ivgen4),'_X')}\")\n",
    "# print(f\"ivgen5       : 0x{format(read_register(ivgen5),'_X')}\")\n",
    "# print(f\"ivgen6       : 0x{format(read_register(ivgen6),'_X')}\")\n",
    "# # # ctrl[1-3]\n",
    "# print(f\"ctrl1       : 0x{format(read_register(ctrl1),'_X')}\")\n",
    "# print(f\"ctrl2       : 0x{format(read_register(ctrl2),'_X')}\")\n",
    "# print(f\"ctrl3       : 0x{format(read_register(ctrl3),'_X')}\")\n",
    "# print()\n",
    "# # *_wrap\n",
    "# print(f\"tr_wrap     : 0x{format(read_register(tr_wrap),'_X')}\")\n",
    "# print(f\"hm_tr_wrap  : 0x{format(read_register(hm_tr_wrap),'_X')}\")\n",
    "# print()\n",
    "# # clk_*\n",
    "# print(f\"clk_ctrl    : 0x{format(read_register(clk_ctrl),'_X')}\")\n",
    "# print(f\"clk_div     : 0x{format(read_register(clk_div),'_X')}\")\n",
    "# print()\n",
    "# # pwr_ctrl[1-4]\n",
    "# print(f\"pwr_ctrl1   : 0x{format(read_register(pwr_ctrl1),'_X')}\")\n",
    "# print(f\"pwr_ctrl2   : 0x{format(read_register(pwr_ctrl2),'_X')}\")\n",
    "# print(f\"pwr_ctrl3   : 0x{format(read_register(pwr_ctrl3),'_X')}\")\n",
    "# print(f\"pwr_ctrl4   : 0x{format(read_register(pwr_ctrl4),'_X')}\")\n",
    "# print()\n",
    "# # misc\n",
    "# print(f\"pad_ctrl    : 0x{format(read_register(pad_ctrl),'_X')}\")\n",
    "# print(f\"ie1         : 0x{format(read_register(ie1),'_X')}\")\n",
    "# print(f\"ie2         : 0x{format(read_register(ie2),'_X')}\")\n",
    "# print(f\"out_ctrl    : 0x{format(read_register(out_ctrl),'_X')}\")\n",
    "# print()\n",
    "# # debug regs\n",
    "# print(f\"monsel      : 0x{format(read_register(monsel),'_X')}\")\n",
    "# print(f\"mon_grp_sel : 0x{format(read_register(mon_grp_sel),'_X')}\")\n",
    "# print(f\"dbg_ctrl1   : 0x{format(read_register(dbg_ctrl1),'_X')}\")\n",
    "# print(f\"dbg_stat1   : 0x{format(read_register(dbg_stat1),'_X')}\")\n",
    "# print(f\"dfe_ctrl   : 0x{format(read_register(dfe_ctrl),'_X')}\")\n"
   ]
  },
  {
   "cell_type": "markdown",
   "metadata": {},
   "source": [
    "# Power measurement - idle - no network"
   ]
  },
  {
   "cell_type": "code",
   "execution_count": null,
   "metadata": {},
   "outputs": [
    {
     "name": "stdout",
     "output_type": "stream",
     "text": [
      "pwr_ctrl1   : 0xEF\n",
      "pwr_ctrl2   : 0x1_0001\n",
      "pwr_ctrl3   : 0x0\n",
      "pwr_ctrl4   : 0x0\n"
     ]
    }
   ],
   "source": [
    "dt = 0.01 # seconds\n",
    "duration = 3 # seconds\n",
    "\n",
    "T = int(duration / dt) # timesteps\n",
    "\n",
    "power_consumption_io = []\n",
    "power_consumption_analog = []\n",
    "power_consumption_digital = []\n",
    "\n",
    "# - For every clock rate we want to measure\n",
    "for clock in clock_frequencies:\n",
    "\n",
    "    io_power = []\n",
    "    analog_power = []\n",
    "    digital_power = []\n",
    "\n",
    "    # Instantiate XyloMonitor and call evolve for three second in silence\n",
    "    xylo_monitor = XyloMonitor(device=xylo_node, main_clk_rate=clock, config=None, power_frequency=100, dt=dt, output_mode='Spike')\n",
    "\n",
    "    sink.clear_events()\n",
    "    # print(clock)\n",
    "    # print(f\"tr_wrap     : 0x{format(read_register(tr_wrap),'_X')}\")\n",
    "    # pwr_ctrl[1-4]\n",
    "    print(f\"pwr_ctrl1   : 0x{format(read_register(pwr_ctrl1),'_X')}\")\n",
    "    print(f\"pwr_ctrl2   : 0x{format(read_register(pwr_ctrl2),'_X')}\")\n",
    "    print(f\"pwr_ctrl3   : 0x{format(read_register(pwr_ctrl3),'_X')}\")\n",
    "    print(f\"pwr_ctrl4   : 0x{format(read_register(pwr_ctrl4),'_X')}\")\n",
    "\n",
    "    # - Run ten times to average all samples\n",
    "    for i in range(20):\n",
    "\n",
    "        out, state, rec = xylo_monitor.evolve(input_data=np.zeros([T, 0]), record_power=True)\n",
    "\n",
    "        io_power.append(np.mean(rec['io_power']))\n",
    "        analog_power.append (np.mean(rec['analog_power']))\n",
    "        digital_power.append(np.mean(rec['digital_power']))\n",
    "\n",
    "    xylo_monitor = []\n",
    "    power_consumption_io+=[np.mean(io_power)]\n",
    "    power_consumption_analog+=[np.mean(analog_power)]\n",
    "    power_consumption_digital+=[np.mean(digital_power)]\n",
    "\n",
    "for clock, io, analog, digital in zip(clock_frequencies, power_consumption_io, power_consumption_analog, power_consumption_digital):\n",
    "    print(f'Clock:\\t{clock} MHz\\nio:\\t{io*1000:.1f} mW \\t AFE core:\\t{analog*1000:.1f} mW\\tDFE+SNN core:\\t{digital*1000:.1f} mW')"
   ]
  },
  {
   "cell_type": "markdown",
   "metadata": {},
   "source": [
    "## Load a network to the chip"
   ]
  },
  {
   "cell_type": "code",
   "execution_count": null,
   "metadata": {},
   "outputs": [],
   "source": [
    "from rockpool.nn.networks import SynNet\n",
    "from rockpool.nn.modules import LIFTorch\n",
    "import warnings\n",
    "warnings.filterwarnings(\"ignore\")\n",
    "\n",
    "ckpt = '../../../docs/devices/xylo-a3/model_sample/to_deploy_inXylo.json'\n",
    "\n",
    "# - Loading trained model architecture parameters\n",
    "arch_params = {'n_classes': 1,\n",
    "'n_channels': 16,\n",
    "'size_hidden_layers':[63, 63, 63],\n",
    "'time_constants_per_layer':[3,7,7],\n",
    "'tau_syn_base': 0.02,\n",
    "'tau_mem': 0.02,\n",
    "'tau_syn_out': 0.02,\n",
    "'neuron_model': LIFTorch,\n",
    "'dt': 0.00994,\n",
    "'output': 'vmem'}\n",
    "\n",
    "# - Instantiating the model backbone and loading trained checkpoint\n",
    "model = SynNet(** arch_params)\n",
    "model.load(ckpt)\n",
    "\n",
    "Nin = 16\n",
    "from rockpool.devices.xylo.syns65302 import config_from_specification, mapper\n",
    "import rockpool.transform.quantize_methods as q\n",
    "\n",
    "# getting the model specifications using the mapper function\n",
    "spec = mapper(model.as_graph(), weight_dtype='float', threshold_dtype='float', dash_dtype='float')\n",
    "# quantizing the model\n",
    "spec.update(q.channel_quantize(**spec))\n",
    "\n",
    "xylo_conf, is_valid, msg = config_from_specification(**spec)\n",
    "\n",
    "print(xylo_conf)\n"
   ]
  },
  {
   "cell_type": "markdown",
   "metadata": {},
   "source": [
    "# Power measurement - idle - with loaded network"
   ]
  },
  {
   "cell_type": "code",
   "execution_count": null,
   "metadata": {},
   "outputs": [],
   "source": [
    "clock_frequencies = [12.5, 25, 50]"
   ]
  },
  {
   "cell_type": "code",
   "execution_count": null,
   "metadata": {},
   "outputs": [],
   "source": [
    "xylo_conf.operation_mode = samna.xyloAudio3.OperationMode.RealTime\n",
    "\n",
    "dt = 0.01 # seconds\n",
    "duration = 3 # seconds\n",
    "\n",
    "T = int(duration/dt) # timesteps\n",
    "\n",
    "power_consumption_io = []\n",
    "power_consumption_analog = []\n",
    "power_consumption_digital = []\n",
    "\n",
    "# - For every clock rate we want to measure\n",
    "for clock in clock_frequencies:\n",
    "\n",
    "    io_power = []\n",
    "    analog_power = []\n",
    "    digital_power = []\n",
    "\n",
    "    # Instantiate XyloMonitor and call evolve for three second in silence\n",
    "    xylo_monitor = XyloMonitor(device=xylo_node, main_clk_rate=clock, config=xylo_conf, power_frequency=100, dt=dt, output_mode='Spike')\n",
    "\n",
    "    sink.clear_events()\n",
    "    # print(clock)\n",
    "    # print(f\"tr_wrap     : 0x{format(read_register(tr_wrap),'_X')}\")\n",
    "    # pwr_ctrl[1-4]\n",
    "    print(f\"pwr_ctrl1   : 0x{format(read_register(pwr_ctrl1),'_X')}\")\n",
    "    print(f\"pwr_ctrl2   : 0x{format(read_register(pwr_ctrl2),'_X')}\")\n",
    "    print(f\"pwr_ctrl3   : 0x{format(read_register(pwr_ctrl3),'_X')}\")\n",
    "    print(f\"pwr_ctrl4   : 0x{format(read_register(pwr_ctrl4),'_X')}\")\n",
    "\n",
    "    # - Run ten times to average all samples\n",
    "    for i in range(20):\n",
    "        out, state, rec = xylo_monitor.evolve(input_data=np.zeros([T, Nin]), record_power=True)\n",
    "\n",
    "        io_power.append(np.mean(rec['io_power']))\n",
    "        analog_power.append (np.mean(rec['analog_power']))\n",
    "        digital_power.append(np.mean(rec['digital_power']))\n",
    "\n",
    "    xylo_monitor = []\n",
    "\n",
    "    power_consumption_io+=[np.mean(io_power)]\n",
    "    power_consumption_analog+=[np.mean(analog_power)]\n",
    "    power_consumption_digital+=[np.mean(digital_power)]\n",
    "\n",
    "\n",
    "for clock, io, analog, digital in zip(clock_frequencies, power_consumption_io, power_consumption_analog, power_consumption_digital):\n",
    "    # print(power)\n",
    "    print(f'Clock:\\t{clock} MHz\\nio:\\t{io*1000:.1f} mW \\t AFE core:\\t{analog*1000:.1f} mW\\tDFE+SNN core:\\t{digital*1000:.1f} mW')"
   ]
  },
  {
   "cell_type": "markdown",
   "metadata": {},
   "source": [
    "# Power measurement - inference over a trained network"
   ]
  },
  {
   "cell_type": "code",
   "execution_count": null,
   "metadata": {},
   "outputs": [],
   "source": [
    "from scipy.io import wavfile\n",
    "!pip install simpleaudio\n",
    "import simpleaudio as sa\n",
    "import numpy as np\n",
    "\n",
    "def get_wave_object(test_file):\n",
    "    sample_rate, data = wavfile.read(test_file)\n",
    "\n",
    "    duration = int(len(data)/sample_rate) # in seconds\n",
    "    n = data.ndim\n",
    "\n",
    "    if data.dtype == np.int8:\n",
    "        bytes_per_sample = 1\n",
    "    elif data.dtype == np.int16:\n",
    "        bytes_per_sample = 2\n",
    "    elif data.dtype == np.float32:\n",
    "        bytes_per_sample = 4\n",
    "    else:\n",
    "        raise ValueError(\"recorded audio should have 1 or 2 bytes per sample!\")\n",
    "\n",
    "    wave_obj = sa.WaveObject(\n",
    "        audio_data= data,\n",
    "        num_channels=data.ndim,\n",
    "        bytes_per_sample=bytes_per_sample,\n",
    "        sample_rate=sample_rate\n",
    "    )\n",
    "\n",
    "    return duration,wave_obj"
   ]
  },
  {
   "cell_type": "code",
   "execution_count": null,
   "metadata": {},
   "outputs": [],
   "source": [
    "xylo_conf.operation_mode = samna.xyloAudio3.OperationMode.RealTime\n",
    "\n",
    "dt = 0.01 # seconds\n",
    "duration = 3 # seconds\n",
    "T = int(duration/dt) # timesteps\n",
    "\n",
    "power_consumption_io = []\n",
    "power_consumption_analog = []\n",
    "power_consumption_digital = []\n",
    "\n",
    "# - For every clock rate we want to measure\n",
    "for clock in clock_frequencies:\n",
    "\n",
    "    io_power = []\n",
    "    analog_power = []\n",
    "    digital_power = []\n",
    "\n",
    "    # Instantiate XyloMonitor and call evolve for three seconds playing an audio\n",
    "    xylo_monitor = XyloMonitor(device=xylo_node, main_clk_rate=clock, config=xylo_conf, power_frequency=100, dt=dt, output_mode='Spike')\n",
    "\n",
    "    sink.clear_events()\n",
    "    # print(clock)\n",
    "    # print(f\"tr_wrap     : 0x{format(read_register(tr_wrap),'_X')}\")\n",
    "    # pwr_ctrl[1-4]\n",
    "    print(f\"pwr_ctrl1   : 0x{format(read_register(pwr_ctrl1),'_X')}\")\n",
    "    print(f\"pwr_ctrl2   : 0x{format(read_register(pwr_ctrl2),'_X')}\")\n",
    "    print(f\"pwr_ctrl3   : 0x{format(read_register(pwr_ctrl3),'_X')}\")\n",
    "    print(f\"pwr_ctrl4   : 0x{format(read_register(pwr_ctrl4),'_X')}\")\n",
    "\n",
    "    # - Run ten times to average all samples\n",
    "    for i in range(5):\n",
    "        test_audio = '../../../docs/devices/xylo-a3/audio_sample/cry_sample_3sec.wav'\n",
    "        duration, wave_obj = get_wave_object(test_audio)\n",
    "        \n",
    "        play_obj = wave_obj.play()\n",
    "        out, state, rec = xylo_monitor.evolve(input_data=np.zeros([T, Nin]), record_power=True)\n",
    "        play_obj.wait_done()\n",
    "        \n",
    "        print(f'cry detected: {np.sum(out)>0}')\n",
    "\n",
    "        io_power.append(np.mean(rec['io_power']))\n",
    "        analog_power.append (np.mean(rec['analog_power']))\n",
    "        digital_power.append(np.mean(rec['digital_power']))\n",
    "\n",
    "    xylo_monitor = []\n",
    "\n",
    "    power_consumption_io+=[np.mean(io_power)]\n",
    "    power_consumption_analog+=[np.mean(analog_power)]\n",
    "    power_consumption_digital+=[np.mean(digital_power)]\n",
    "\n",
    "\n",
    "for clock, io, analog, digital in zip(clock_frequencies, power_consumption_io, power_consumption_analog, power_consumption_digital):\n",
    "    # print(power)\n",
    "    print(f'Clock:\\t{clock} MHz\\nio:\\t{io*1000:.1f} mW \\t AFE core:\\t{analog*1000:.1f} mW\\tDFE+SNN core:\\t{digital*1000:.1f} mW')"
   ]
  }
 ],
 "metadata": {
  "interpreter": {
   "hash": "80082753f825f5fd87c9e01bdff400ed5e0a1d73f0e7712adc135a3cda2f38fe"
  },
  "kernelspec": {
   "display_name": "Python 3 (ipykernel)",
   "language": "python",
   "name": "python3"
  },
  "language_info": {
   "codemirror_mode": {
    "name": "ipython",
    "version": 3
   },
   "file_extension": ".py",
   "mimetype": "text/x-python",
   "name": "python",
   "nbconvert_exporter": "python",
   "pygments_lexer": "ipython3",
   "version": "3.10.12"
  }
 },
 "nbformat": 4,
 "nbformat_minor": 4
}
