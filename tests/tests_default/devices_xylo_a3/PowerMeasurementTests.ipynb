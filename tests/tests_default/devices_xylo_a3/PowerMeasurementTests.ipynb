{
 "cells": [
  {
   "cell_type": "markdown",
   "metadata": {},
   "source": [
    "# Connecting to the board\n",
    "\n",
    "\n",
    "- Imports\n",
    "- Load data sample"
   ]
  },
  {
   "cell_type": "code",
   "execution_count": 1,
   "metadata": {},
   "outputs": [
    {
     "name": "stdout",
     "output_type": "stream",
     "text": [
      "Samna version 0.39.7.1+ge088b084\n"
     ]
    }
   ],
   "source": [
    "import samna\n",
    "print(f'Samna version {samna.__version__}')\n",
    "\n",
    "import numpy as np\n",
    "import matplotlib.pyplot as plt\n",
    "from rockpool.devices.xylo.syns65302 import config_from_specification as config_from, mapper as mapper, XyloSamna as XyloSamna, XyloMonitor as XyloMonitor\n",
    "from rockpool.devices.xylo.syns65302 import xa3_devkit_utils as hdu\n",
    "\n",
    "from rockpool.transform.quantize_methods import channel_quantize"
   ]
  },
  {
   "cell_type": "code",
   "execution_count": 2,
   "metadata": {},
   "outputs": [
    {
     "name": "stderr",
     "output_type": "stream",
     "text": [
      "WARNING    /home/vleite/SynSense/rockpool/rockpool/nn/networks/__init__.py:15: UserWarning: This module needs to be ported to the v2 API.\n",
      "  warnings.warn(f\"{err}\")\n",
      " [py.warnings]\n",
      "WARNING:py.warnings:/home/vleite/SynSense/rockpool/rockpool/nn/networks/__init__.py:15: UserWarning: This module needs to be ported to the v2 API.\n",
      "  warnings.warn(f\"{err}\")\n",
      "\n",
      "WARNING    /home/vleite/SynSense/rockpool/rockpool/nn/networks/__init__.py:20: UserWarning: This module needs to be ported to the v2 API.\n",
      "  warnings.warn(f\"{err}\")\n",
      " [py.warnings]\n",
      "WARNING:py.warnings:/home/vleite/SynSense/rockpool/rockpool/nn/networks/__init__.py:20: UserWarning: This module needs to be ported to the v2 API.\n",
      "  warnings.warn(f\"{err}\")\n",
      "\n"
     ]
    }
   ],
   "source": [
    "from rockpool.nn.networks import SynNet\n",
    "from rockpool.nn.modules import LIFTorch\n",
    "import warnings\n",
    "warnings.filterwarnings(\"ignore\")\n",
    "\n",
    "ckpt = '../../../docs/devices/xylo-a3/model_sample/to_deploy_inXylo.json'\n",
    "\n",
    "# - Loading trained model architecture parameters\n",
    "arch_params = {'n_classes': 1,\n",
    "'n_channels': 16,\n",
    "'size_hidden_layers':[63, 63, 63],\n",
    "'time_constants_per_layer':[3,7,7],\n",
    "'tau_syn_base': 0.02,\n",
    "'tau_mem': 0.02,\n",
    "'tau_syn_out': 0.02,\n",
    "'neuron_model': LIFTorch,\n",
    "'dt': 0.00994,\n",
    "'output': 'vmem'}\n",
    "\n",
    "# - Instantiating the model backbone and loading trained checkpoint\n",
    "model = SynNet(** arch_params)\n",
    "model.load(ckpt)\n",
    "\n",
    "# - Getting the connected devices and choosing xyloa3 board\n",
    "xylo_node = hdu.find_xylo_a3_boards()[0]\n"
   ]
  },
  {
   "cell_type": "markdown",
   "metadata": {},
   "source": [
    "## Clock frequencies"
   ]
  },
  {
   "cell_type": "code",
   "execution_count": 3,
   "metadata": {},
   "outputs": [],
   "source": [
    "clock_frequencies = [50, 25, 12.5, 6.25]"
   ]
  },
  {
   "cell_type": "markdown",
   "metadata": {},
   "source": [
    "# Power measurement - iddle - no network"
   ]
  },
  {
   "cell_type": "code",
   "execution_count": 4,
   "metadata": {},
   "outputs": [
    {
     "name": "stdout",
     "output_type": "stream",
     "text": [
      "Clock:\t\t50 MHz\n",
      " io:\t\t2.0 mW \t\t AFE core:\t0.0 mW\t\t SNN core logic:\t2.8 mW\n",
      "Clock:\t\t25 MHz\n",
      " io:\t\t1.9 mW \t\t AFE core:\t0.0 mW\t\t SNN core logic:\t1.5 mW\n",
      "Clock:\t\t12.5 MHz\n",
      " io:\t\t1.9 mW \t\t AFE core:\t0.0 mW\t\t SNN core logic:\t0.9 mW\n",
      "Clock:\t\t6.25 MHz\n",
      " io:\t\t1.8 mW \t\t AFE core:\t0.0 mW\t\t SNN core logic:\t0.6 mW\n"
     ]
    }
   ],
   "source": [
    "dt = 0.01 # seconds\n",
    "duration = 3 # seconds\n",
    "\n",
    "power_consumption_io = []\n",
    "power_consumption_analog = []\n",
    "power_consumption_digital = []\n",
    "\n",
    "# - For every clock rate we want to measure\n",
    "for clock in clock_frequencies:\n",
    "\n",
    "    io_power = []\n",
    "    analog_power = []\n",
    "    digital_power = []\n",
    "\n",
    "    # Instantiate XyloMonitor and call evolve for three second in silence\n",
    "    xylo_monitor = XyloMonitor(device=xylo_node, main_clk_rate=clock, config=None, power_frequency=100, dt=dt, output_mode='Spike')\n",
    "\n",
    "    # - Run ten times to average all samples\n",
    "    for i in range(20):\n",
    "        out, state, rec = xylo_monitor.evolve(read_timeout=duration, record_power=True)\n",
    "\n",
    "        io_power.append(np.mean(rec['io_power']))\n",
    "        analog_power.append (np.mean(rec['analog_power']))\n",
    "        digital_power.append(np.mean(rec['digital_power']))\n",
    "\n",
    "    xylo_monitor = []\n",
    "    power_consumption_io+=[np.mean(io_power)]\n",
    "    power_consumption_analog+=[np.mean(analog_power)]\n",
    "    power_consumption_digital+=[np.mean(digital_power)]\n",
    "\n",
    "\n",
    "for clock, io, analog, digital in zip(clock_frequencies, power_consumption_io, power_consumption_analog, power_consumption_digital):\n",
    "    print(f'Clock:\\t\\t{clock} MHz\\n io:\\t\\t{io*1000:.1f} mW \\t\\t AFE core:\\t{analog*1000:.1f} mW\\t\\t SNN core logic:\\t{digital*1000:.1f} mW')"
   ]
  },
  {
   "cell_type": "markdown",
   "metadata": {},
   "source": [
    "# Power measurement - iddle - with loaded network"
   ]
  },
  {
   "cell_type": "code",
   "execution_count": 5,
   "metadata": {},
   "outputs": [],
   "source": [
    "clock_frequencies = [50, 25, 12.5]"
   ]
  },
  {
   "cell_type": "code",
   "execution_count": 6,
   "metadata": {},
   "outputs": [
    {
     "name": "stdout",
     "output_type": "stream",
     "text": [
      "Clock:\t\t50 MHz\n",
      " io:\t\t2.0 mW \t\t AFE core:\t0.0 mW\t\t SNN core logic:\t3.5 mW\n",
      "Clock:\t\t25 MHz\n",
      " io:\t\t1.9 mW \t\t AFE core:\t0.0 mW\t\t SNN core logic:\t1.9 mW\n",
      "Clock:\t\t12.5 MHz\n",
      " io:\t\t1.7 mW \t\t AFE core:\t0.0 mW\t\t SNN core logic:\t1.1 mW\n"
     ]
    }
   ],
   "source": [
    "from rockpool.devices.xylo.syns65302 import config_from_specification, mapper\n",
    "import rockpool.transform.quantize_methods as q\n",
    "\n",
    "# getting the model specifications using the mapper function\n",
    "spec = mapper(model.as_graph(), weight_dtype='float', threshold_dtype='float', dash_dtype='float')\n",
    "# quantizing the model\n",
    "spec.update(q.channel_quantize(**spec))\n",
    "\n",
    "xylo_conf, is_valid, msg = config_from_specification(**spec)\n",
    "xylo_conf.operation_mode = samna.xyloAudio3.OperationMode.RealTime\n",
    "\n",
    "dt = 0.01 # seconds\n",
    "duration = 3 # seconds\n",
    "\n",
    "power_consumption_io = []\n",
    "power_consumption_analog = []\n",
    "power_consumption_digital = []\n",
    "\n",
    "# - For every clock rate we want to measure\n",
    "for clock in clock_frequencies:\n",
    "\n",
    "    io_power = []\n",
    "    analog_power = []\n",
    "    digital_power = []\n",
    "\n",
    "    # Instantiate XyloMonitor and call evolve for three second in silence\n",
    "    xylo_monitor = XyloMonitor(device=xylo_node, main_clk_rate=clock, config=xylo_conf, power_frequency=100, dt=dt, output_mode='Spike')\n",
    "\n",
    "    # - Run ten times to average all samples\n",
    "    for i in range(20):\n",
    "        out, state, rec = xylo_monitor.evolve(read_timeout=duration, record_power=True)\n",
    "\n",
    "        io_power.append(np.mean(rec['io_power']))\n",
    "        analog_power.append (np.mean(rec['analog_power']))\n",
    "        digital_power.append(np.mean(rec['digital_power']))\n",
    "\n",
    "    xylo_monitor = []\n",
    "\n",
    "    power_consumption_io+=[np.mean(io_power)]\n",
    "    power_consumption_analog+=[np.mean(analog_power)]\n",
    "    power_consumption_digital+=[np.mean(digital_power)]\n",
    "\n",
    "\n",
    "for clock, io, analog, digital in zip(clock_frequencies, power_consumption_io, power_consumption_analog, power_consumption_digital):\n",
    "    # print(power)\n",
    "    print(f'Clock:\\t\\t{clock} MHz\\n io:\\t\\t{io*1000:.1f} mW \\t\\t AFE core:\\t{analog*1000:.1f} mW\\t\\t SNN core logic:\\t{digital*1000:.1f} mW')"
   ]
  },
  {
   "cell_type": "markdown",
   "metadata": {},
   "source": [
    "# Power measurement - inference over a trained network"
   ]
  },
  {
   "cell_type": "code",
   "execution_count": 7,
   "metadata": {},
   "outputs": [
    {
     "name": "stdout",
     "output_type": "stream",
     "text": [
      "Defaulting to user installation because normal site-packages is not writeable\n",
      "Requirement already satisfied: simpleaudio in /home/vleite/.local/lib/python3.10/site-packages (1.0.4)\n"
     ]
    }
   ],
   "source": [
    "from scipy.io import wavfile\n",
    "!pip install simpleaudio\n",
    "import simpleaudio as sa\n",
    "import numpy as np\n",
    "\n",
    "def get_wave_object(test_file):\n",
    "    sample_rate, data = wavfile.read(test_file)\n",
    "\n",
    "    duration = int(len(data)/sample_rate) # in seconds\n",
    "    n = data.ndim\n",
    "\n",
    "    if data.dtype == np.int8:\n",
    "        bytes_per_sample = 1\n",
    "    elif data.dtype == np.int16:\n",
    "        bytes_per_sample = 2\n",
    "    elif data.dtype == np.float32:\n",
    "        bytes_per_sample = 4\n",
    "    else:\n",
    "        raise ValueError(\"recorded audio should have 1 or 2 bytes per sample!\")\n",
    "\n",
    "    wave_obj = sa.WaveObject(\n",
    "        audio_data= data,\n",
    "        num_channels=data.ndim,\n",
    "        bytes_per_sample=bytes_per_sample,\n",
    "        sample_rate=sample_rate\n",
    "    )\n",
    "\n",
    "    return duration,wave_obj"
   ]
  },
  {
   "cell_type": "code",
   "execution_count": 8,
   "metadata": {},
   "outputs": [
    {
     "name": "stdout",
     "output_type": "stream",
     "text": [
      "cry detected: False\n",
      "cry detected: False\n",
      "cry detected: False\n",
      "cry detected: False\n",
      "cry detected: False\n",
      "cry detected: False\n",
      "cry detected: False\n",
      "cry detected: False\n",
      "cry detected: False\n",
      "cry detected: False\n",
      "cry detected: False\n",
      "cry detected: False\n",
      "cry detected: False\n",
      "cry detected: False\n",
      "cry detected: False\n",
      "cry detected: False\n",
      "cry detected: False\n",
      "cry detected: False\n",
      "cry detected: False\n",
      "cry detected: False\n",
      "cry detected: False\n",
      "cry detected: False\n",
      "cry detected: False\n",
      "cry detected: False\n",
      "cry detected: False\n",
      "cry detected: False\n",
      "cry detected: False\n",
      "cry detected: False\n",
      "cry detected: False\n",
      "cry detected: False\n",
      "cry detected: False\n",
      "cry detected: False\n",
      "cry detected: False\n",
      "cry detected: False\n",
      "cry detected: False\n",
      "cry detected: False\n",
      "cry detected: False\n",
      "cry detected: False\n",
      "cry detected: False\n",
      "cry detected: False\n",
      "cry detected: False\n",
      "cry detected: False\n",
      "cry detected: False\n",
      "cry detected: False\n",
      "cry detected: False\n",
      "cry detected: False\n",
      "cry detected: False\n",
      "cry detected: False\n",
      "cry detected: False\n",
      "cry detected: False\n",
      "cry detected: False\n",
      "cry detected: False\n",
      "cry detected: False\n",
      "cry detected: False\n",
      "cry detected: False\n",
      "cry detected: False\n",
      "cry detected: False\n",
      "cry detected: False\n",
      "cry detected: False\n",
      "cry detected: False\n",
      "Clock:\t\t50 MHz\n",
      " io:\t\t2.0 mW \t\t AFE core:\t0.0 mW\t\t SNN core logic:\t3.6 mW\n",
      "Clock:\t\t25 MHz\n",
      " io:\t\t1.9 mW \t\t AFE core:\t0.0 mW\t\t SNN core logic:\t1.9 mW\n",
      "Clock:\t\t12.5 MHz\n",
      " io:\t\t1.7 mW \t\t AFE core:\t0.0 mW\t\t SNN core logic:\t1.2 mW\n"
     ]
    }
   ],
   "source": [
    "from rockpool.devices.xylo.syns65302 import config_from_specification, mapper\n",
    "import rockpool.transform.quantize_methods as q\n",
    "\n",
    "# getting the model specifications using the mapper function\n",
    "spec = mapper(model.as_graph(), weight_dtype='float', threshold_dtype='float', dash_dtype='float')\n",
    "# quantizing the model\n",
    "spec.update(q.channel_quantize(**spec))\n",
    "\n",
    "xylo_conf, is_valid, msg = config_from_specification(**spec)\n",
    "xylo_conf.operation_mode = samna.xyloAudio3.OperationMode.RealTime\n",
    "\n",
    "dt = 0.01 # seconds\n",
    "duration = 3 # seconds\n",
    "\n",
    "power_consumption_io = []\n",
    "power_consumption_analog = []\n",
    "power_consumption_digital = []\n",
    "\n",
    "# - For every clock rate we want to measure\n",
    "for clock in clock_frequencies:\n",
    "\n",
    "    io_power = []\n",
    "    analog_power = []\n",
    "    digital_power = []\n",
    "\n",
    "    # Instantiate XyloMonitor and call evolve for three seconds playing an audio\n",
    "    xylo_monitor = XyloMonitor(device=xylo_node, main_clk_rate=clock, config=xylo_conf, power_frequency=100, dt=dt, output_mode='Spike')\n",
    "\n",
    "    # - Run ten times to average all samples\n",
    "    for i in range(20):\n",
    "        test_audio = '../../../docs/devices/xylo-a3/audio_sample/cry_sample_3sec.wav'\n",
    "        duration, wave_obj = get_wave_object(test_audio)\n",
    "        \n",
    "        play_obj = wave_obj.play()\n",
    "        out, state, rec = xylo_monitor.evolve(read_timeout=duration, record_power=True)\n",
    "        play_obj.wait_done()\n",
    "        \n",
    "        print(f'cry detected: {np.sum(out)>0}')\n",
    "\n",
    "        io_power.append(np.mean(rec['io_power']))\n",
    "        analog_power.append (np.mean(rec['analog_power']))\n",
    "        digital_power.append(np.mean(rec['digital_power']))\n",
    "\n",
    "\n",
    "    xylo_monitor = []\n",
    "\n",
    "    power_consumption_io+=[np.mean(io_power)]\n",
    "    power_consumption_analog+=[np.mean(analog_power)]\n",
    "    power_consumption_digital+=[np.mean(digital_power)]\n",
    "\n",
    "\n",
    "for clock, io, analog, digital in zip(clock_frequencies, power_consumption_io, power_consumption_analog, power_consumption_digital):\n",
    "    # print(power)\n",
    "    print(f'Clock:\\t\\t{clock} MHz\\n io:\\t\\t{io*1000:.1f} mW \\t\\t AFE core:\\t{analog*1000:.1f} mW\\t\\t SNN core logic:\\t{digital*1000:.1f} mW')"
   ]
  },
  {
   "cell_type": "code",
   "execution_count": null,
   "metadata": {},
   "outputs": [],
   "source": []
  }
 ],
 "metadata": {
  "interpreter": {
   "hash": "80082753f825f5fd87c9e01bdff400ed5e0a1d73f0e7712adc135a3cda2f38fe"
  },
  "kernelspec": {
   "display_name": "Python 3 (ipykernel)",
   "language": "python",
   "name": "python3"
  },
  "language_info": {
   "codemirror_mode": {
    "name": "ipython",
    "version": 3
   },
   "file_extension": ".py",
   "mimetype": "text/x-python",
   "name": "python",
   "nbconvert_exporter": "python",
   "pygments_lexer": "ipython3",
   "version": "3.10.12"
  }
 },
 "nbformat": 4,
 "nbformat_minor": 4
}
