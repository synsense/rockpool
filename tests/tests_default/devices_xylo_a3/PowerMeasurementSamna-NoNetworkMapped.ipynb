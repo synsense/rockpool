{
 "cells": [
  {
   "cell_type": "markdown",
   "metadata": {},
   "source": [
    "# Power measurement with Samna only - v0.39.9\n",
    "\n",
    "## All experiments without network mapped on chip and no audio playing:"
   ]
  },
  {
   "cell_type": "markdown",
   "metadata": {},
   "source": [
    "### Initialization and connection to the board"
   ]
  },
  {
   "cell_type": "code",
   "execution_count": 1,
   "metadata": {},
   "outputs": [
    {
     "name": "stdout",
     "output_type": "stream",
     "text": [
      "Samna version 0.39.9.0\n"
     ]
    }
   ],
   "source": [
    "import samna\n",
    "print(f'Samna version {samna.__version__}')\n",
    "import numpy as np\n",
    "\n",
    "# Open the device and connect it to the power monitor.\n",
    "xylo_node = samna.device.open_device(\"XyloAudio3TestBoard\")\n",
    "\n",
    "power_monitor = xylo_node.get_power_monitor()\n",
    "sink_pm = samna.graph.sink_from(power_monitor.get_source_node())\n",
    "stopwatch = xylo_node.get_stop_watch()\n",
    "io = xylo_node.get_io_module()\n",
    "\n",
    "model = xylo_node.get_model()\n",
    "source = samna.graph.source_to(model.get_sink_node())\n",
    "\n",
    "clock_frequencies = [6.25, 12.5, 25, 50]\n",
    "ts = 1e-3\n",
    "\n",
    "\n",
    "power_measurements_625 = []\n",
    "power_measurements_125 = []\n",
    "power_measurements_25 = []\n",
    "power_measurements_50 = []"
   ]
  },
  {
   "cell_type": "markdown",
   "metadata": {},
   "source": [
    "### Not explicitly calling `apply_configuration`, no chip activation (i.e., not sending `TriggerProcessing`):\n"
   ]
  },
  {
   "cell_type": "code",
   "execution_count": 2,
   "metadata": {},
   "outputs": [
    {
     "name": "stdout",
     "output_type": "stream",
     "text": [
      "Clock:\t6.25 MHz\n",
      "io:\t36.0 uW\tAFE core:\t13.8 uW\tDFE+SNN core:\t296.4 uW\n",
      "Clock:\t12.5 MHz\n",
      "io:\t66.9 uW\tAFE core:\t12.9 uW\tDFE+SNN core:\t449.5 uW\n",
      "Clock:\t25 MHz\n",
      "io:\t128.4 uW\tAFE core:\t12.7 uW\tDFE+SNN core:\t756.6 uW\n",
      "Clock:\t50 MHz\n",
      "io:\t235.6 uW\tAFE core:\t13.5 uW\tDFE+SNN core:\t1375.8 uW\n"
     ]
    }
   ],
   "source": [
    "\n",
    "power_consumption = []\n",
    "\n",
    "for clock in clock_frequencies:\n",
    "\n",
    "    config = samna.xyloAudio3.XyloAudio3TestBoardDefaultConfig()\n",
    "    config.main_clock_frequency = int(clock * 1000000)\n",
    "\n",
    "    config.saer_clock_frequency = int(config.main_clock_frequency / 8)\n",
    "    config.pdm_clock_frequency = int(config.main_clock_frequency / 40)\n",
    "    config.sadc_clock_frequency = int(config.main_clock_frequency / 8)\n",
    "\n",
    "    xylo_node.reset_board_soft(config)\n",
    "\n",
    "    # Start the stopwatch to enable time-stamped power sampling.\n",
    "    stopwatch.start()\n",
    "    \n",
    "    # Start sampling power on all channels at a rate of 100 Hz.\n",
    "    power_monitor.start_auto_power_measurement(100)\n",
    "    \n",
    "    # Auto power measurement streams PowerMeasurement events continuously.\n",
    "    # To capture 3 seconds of data from 3 channels at 100Hz, we collect 900 events.\n",
    "    events = sink_pm.get_n_events(900, timeout=4000)\n",
    "    \n",
    "    # Stop the automatic power measurement process.\n",
    "    power_monitor.stop_auto_power_measurement()\n",
    "    \n",
    "    # Calculate the average power consumption for each channel over 3 seconds.\n",
    "    counts = [0, 0, 0]\n",
    "    sums = [0, 0, 0]\n",
    "    for e in events:\n",
    "        assert isinstance(e, samna.unifirm.modules.events.PowerMeasurement)\n",
    "        sums[e.channel] += e.value\n",
    "        counts[e.channel] += 1\n",
    "    \n",
    "    # Compute the averages and convert to milliwatts (W -> mW).\n",
    "    avgs = [sum/count * 1000 for sum, count in zip(sums, counts)]\n",
    "    power_consumption+= [avgs]\n",
    "\n",
    "for clock, power in zip(clock_frequencies, power_consumption):\n",
    "    print(f'Clock:\\t{clock} MHz\\nio:\\t{power[0] * 1000:.1f} uW\\tAFE core:\\t{power[1] * 1000:.1f} uW\\tDFE+SNN core:\\t{power[2] * 1000:.1f} uW')\n",
    "\n",
    "    match clock:\n",
    "        case 6.25:\n",
    "            power_measurements_625.append(power)\n",
    "        case 12.5:\n",
    "            power_measurements_125.append(power)\n",
    "        case 25:\n",
    "            power_measurements_25.append(power)\n",
    "        case 50:\n",
    "            power_measurements_50.append(power)\n",
    "        "
   ]
  },
  {
   "cell_type": "markdown",
   "metadata": {},
   "source": [
    "### Explicitly calling `apply_configuration` but with the default configuration, no chip activation (i.e., not sending `TriggerProcessing`):\n"
   ]
  },
  {
   "cell_type": "code",
   "execution_count": 3,
   "metadata": {},
   "outputs": [
    {
     "name": "stdout",
     "output_type": "stream",
     "text": [
      "Clock:\t6.25 MHz\n",
      "io:\t38.6 uW\tAFE core:\t13.6 uW\tDFE+SNN core:\t302.0 uW\n",
      "Clock:\t12.5 MHz\n",
      "io:\t72.0 uW\tAFE core:\t12.8 uW\tDFE+SNN core:\t455.5 uW\n",
      "Clock:\t25 MHz\n",
      "io:\t136.9 uW\tAFE core:\t12.9 uW\tDFE+SNN core:\t773.1 uW\n",
      "Clock:\t50 MHz\n",
      "io:\t251.4 uW\tAFE core:\t13.6 uW\tDFE+SNN core:\t1407.2 uW\n"
     ]
    }
   ],
   "source": [
    "power_consumption = []\n",
    "\n",
    "for clock in clock_frequencies:\n",
    "    \n",
    "    config = samna.xyloAudio3.XyloAudio3TestBoardDefaultConfig()\n",
    "    config.main_clock_frequency = int(clock * 1000000)\n",
    "\n",
    "    config.saer_clock_frequency = int(config.main_clock_frequency / 8)\n",
    "    config.pdm_clock_frequency = int(config.main_clock_frequency / 40)\n",
    "    config.sadc_clock_frequency = int(config.main_clock_frequency / 8)\n",
    "\n",
    "    xylo_node.reset_board_soft(config)\n",
    "    \n",
    "    config = samna.xyloAudio3.configuration.XyloConfiguration()\n",
    "    xylo_node.get_model().apply_configuration(config)\n",
    "    xylo_node.get_model().close_ram_access()\n",
    "\n",
    "    # Start the stopwatch to enable time-stamped power sampling.\n",
    "    stopwatch.start()\n",
    "    \n",
    "    # Start sampling power on all channels at a rate of 100 Hz.\n",
    "    power_monitor.start_auto_power_measurement(100)\n",
    "    \n",
    "    # Auto power measurement streams PowerMeasurement events continuously.\n",
    "    # To capture 3 seconds of data from 3 channels at 100Hz, we collect 900 events.\n",
    "    events = sink_pm.get_n_events(900, timeout=4000)\n",
    "    \n",
    "    # Stop the automatic power measurement process.\n",
    "    power_monitor.stop_auto_power_measurement()\n",
    "    \n",
    "    # Calculate the average power consumption for each channel over 3 seconds.\n",
    "    counts = [0, 0, 0]\n",
    "    sums = [0, 0, 0]\n",
    "    for e in events:\n",
    "        assert isinstance(e, samna.unifirm.modules.events.PowerMeasurement)\n",
    "        sums[e.channel] += e.value\n",
    "        counts[e.channel] += 1\n",
    "    \n",
    "    # Compute the averages and convert to milliwatts (W -> mW).\n",
    "    avgs = [sum/count * 1000 for sum, count in zip(sums, counts)]\n",
    "    power_consumption+= [avgs]\n",
    "\n",
    "for clock, power in zip(clock_frequencies, power_consumption):\n",
    "    print(f'Clock:\\t{clock} MHz\\nio:\\t{power[0] * 1000:.1f} uW\\tAFE core:\\t{power[1] * 1000:.1f} uW\\tDFE+SNN core:\\t{power[2] * 1000:.1f} uW')\n",
    "\n",
    "    match clock:\n",
    "        case 6.25:\n",
    "            power_measurements_625.append(power)\n",
    "        case 12.5:\n",
    "            power_measurements_125.append(power)\n",
    "        case 25:\n",
    "            power_measurements_25.append(power)\n",
    "        case 50:\n",
    "            power_measurements_50.append(power)\n"
   ]
  },
  {
   "cell_type": "markdown",
   "metadata": {},
   "source": [
    "### Explicitly calling `apply_configuration` but with the default configuration, with chip activation (i.e., sending one `TriggerProcessing`):\n"
   ]
  },
  {
   "cell_type": "code",
   "execution_count": 4,
   "metadata": {},
   "outputs": [
    {
     "name": "stdout",
     "output_type": "stream",
     "text": [
      "Clock:\t6.25 MHz\n",
      "io:\t39 uW\tAFE core:\t14 uW\tDFE+SNN core:\t302 uW\n",
      "Clock:\t12.5 MHz\n",
      "io:\t72 uW\tAFE core:\t14 uW\tDFE+SNN core:\t457 uW\n",
      "Clock:\t25 MHz\n",
      "io:\t138 uW\tAFE core:\t14 uW\tDFE+SNN core:\t775 uW\n",
      "Clock:\t50 MHz\n",
      "io:\t253 uW\tAFE core:\t13 uW\tDFE+SNN core:\t1404 uW\n"
     ]
    }
   ],
   "source": [
    "power_consumption = []\n",
    "\n",
    "for clock in clock_frequencies:\n",
    "    \n",
    "    config = samna.xyloAudio3.XyloAudio3TestBoardDefaultConfig()\n",
    "    config.main_clock_frequency = int(clock * 1000000)\n",
    "\n",
    "    config.saer_clock_frequency = int(config.main_clock_frequency / 8)\n",
    "    config.pdm_clock_frequency = int(config.main_clock_frequency / 40)\n",
    "    config.sadc_clock_frequency = int(config.main_clock_frequency / 8)\n",
    "\n",
    "    xylo_node.reset_board_soft(config)\n",
    "    \n",
    "    config = samna.xyloAudio3.configuration.XyloConfiguration()\n",
    "    xylo_node.get_model().apply_configuration(config)\n",
    "    xylo_node.get_model().close_ram_access()\n",
    "\n",
    "    # ## IMPORTANT register to write to save power on digital core\n",
    "    # wwv_ev = samna.xyloAudio3.event.WriteRegisterValue()\n",
    "    # wwv_ev.address = 0x0001\n",
    "    # wwv_ev.data = 0x1420000\n",
    "    # source.write([wwv_ev])\n",
    "    \n",
    "    # Activate the chip processing\n",
    "    source.write([samna.xyloAudio3.event.TriggerProcessing()])\n",
    "\n",
    "    # Start the stopwatch to enable time-stamped power sampling.\n",
    "    stopwatch.start()\n",
    "    \n",
    "    # Start sampling power on all channels at a rate of 100 Hz.\n",
    "    power_monitor.start_auto_power_measurement(100)\n",
    "    \n",
    "    # Auto power measurement streams PowerMeasurement events continuously.\n",
    "    # To capture 3 seconds of data from 3 channels at 100Hz, we collect 900 events.\n",
    "    events = sink_pm.get_n_events(900, timeout=4000)\n",
    "    \n",
    "    # Stop the automatic power measurement process.\n",
    "    power_monitor.stop_auto_power_measurement()\n",
    "    \n",
    "    # Calculate the average power consumption for each channel over 3 seconds.\n",
    "    counts = [0, 0, 0]\n",
    "    sums = [0, 0, 0]\n",
    "    for e in events:\n",
    "        assert isinstance(e, samna.unifirm.modules.events.PowerMeasurement)\n",
    "        sums[e.channel] += e.value\n",
    "        counts[e.channel] += 1\n",
    "    \n",
    "    # Compute the averages and convert to milliwatts (W -> mW).\n",
    "    avgs = [sum/count * 1000 for sum, count in zip(sums, counts)]\n",
    "    power_consumption+= [avgs]\n",
    "\n",
    "for clock, power in zip(clock_frequencies, power_consumption):\n",
    "    print(f'Clock:\\t{clock} MHz\\nio:\\t{np.ceil(power[0] * 1000):.0f} uW\\tAFE core:\\t{np.ceil(power[1] * 1000):.0f} uW\\tDFE+SNN core:\\t{np.ceil(power[2] * 1000):.0f} uW')\n",
    "    \n",
    "    match clock:\n",
    "        case 6.25:\n",
    "            power_measurements_625.append(power)\n",
    "        case 12.5:\n",
    "            power_measurements_125.append(power)\n",
    "        case 25:\n",
    "            power_measurements_25.append(power)\n",
    "        case 50:\n",
    "            power_measurements_50.append(power)\n"
   ]
  },
  {
   "cell_type": "markdown",
   "metadata": {},
   "source": [
    "### Explicitly calling `apply_configuration` with the same configuration applied in `XyloMonitor` for `RealTime` mode, no chip activation (i.e., not sending `TriggerProcessing`):\n"
   ]
  },
  {
   "cell_type": "code",
   "execution_count": 5,
   "metadata": {},
   "outputs": [
    {
     "name": "stdout",
     "output_type": "stream",
     "text": [
      "Clock:\t6.25 MHz\n",
      "io:\t69 uW\tAFE core:\t14 uW\tDFE+SNN core:\t302 uW\n",
      "Clock:\t12.5 MHz\n",
      "io:\t132 uW\tAFE core:\t13 uW\tDFE+SNN core:\t455 uW\n",
      "Clock:\t25 MHz\n",
      "io:\t257 uW\tAFE core:\t14 uW\tDFE+SNN core:\t771 uW\n",
      "Clock:\t50 MHz\n",
      "io:\t492 uW\tAFE core:\t13 uW\tDFE+SNN core:\t1403 uW\n"
     ]
    }
   ],
   "source": [
    "power_consumption = []\n",
    "for clock in clock_frequencies:\n",
    "\n",
    "    config = samna.xyloAudio3.XyloAudio3TestBoardDefaultConfig()\n",
    "    config.main_clock_frequency = int(clock * 1000000)\n",
    "\n",
    "    config.saer_clock_frequency = int(config.main_clock_frequency / 8)\n",
    "    config.pdm_clock_frequency = int(config.main_clock_frequency / 40)\n",
    "    config.sadc_clock_frequency = int(config.main_clock_frequency / 8)\n",
    "\n",
    "    xylo_node.reset_board_soft(config)\n",
    "\n",
    "\n",
    "    main_clk_freq = clock * 1e6  # in Hz\n",
    "    tr_wrap = int(ts * main_clk_freq)\n",
    "    \n",
    "    config = samna.xyloAudio3.configuration.XyloConfiguration()\n",
    "    config.operation_mode = samna.xyloAudio3.OperationMode.RealTime\n",
    "    config.digital_frontend.filter_bank.dn_enable = False\n",
    "    config.time_resolution_wrap = tr_wrap\n",
    "    config.debug.always_update_omp_stat = True\n",
    "    config.digital_frontend.filter_bank.use_global_iaf_threshold = False\n",
    "    config.input_source = samna.xyloAudio3.InputSource.DigitalMicrophone\n",
    "    # - the ideal sdm clock ratio depends on the main clock rate\n",
    "    # -- int(clock / 1.56 / 2 - 1)\n",
    "    config.debug.sdm_clock_ratio = 24\n",
    "    config.digital_frontend.pdm_preprocessing.clock_direction = 1\n",
    "    config.digital_frontend.pdm_preprocessing.clock_edge = 0\n",
    "    \n",
    "    # - Disable internal state monitoring\n",
    "    config.debug.monitor_neuron_v_mem = []\n",
    "    config.debug.monitor_neuron_spike = []\n",
    "    config.debug.monitor_neuron_i_syn = []\n",
    "\n",
    "    xylo_node.get_model().apply_configuration(config)\n",
    "    xylo_node.get_model().close_ram_access()\n",
    "\n",
    "    # wwv_ev = samna.xyloAudio3.event.WriteRegisterValue()\n",
    "    # wwv_ev.address = 0x0006\n",
    "    # wwv_ev.data = 0x1\n",
    "    # source.write([wwv_ev])\n",
    "\n",
    "    # ## IMPORTANT register to write to save power on digital core\n",
    "    # wwv_ev = samna.xyloAudio3.event.WriteRegisterValue()\n",
    "    # wwv_ev.address = 0x0001\n",
    "    # wwv_ev.data = 0x1420000\n",
    "    # source.write([wwv_ev])\n",
    "\n",
    "    # print(hex(read_register(clk_ctrl)))\n",
    "    # print(hex(read_register(clk_div)))\n",
    "    # print(hex(read_register(dbg_ctrl1)))\n",
    "    # print(hex(read_register(ctrl1)))\n",
    "\n",
    "    # Start the stopwatch to enable time-stamped power sampling.\n",
    "    stopwatch.start()\n",
    "    \n",
    "    # Start sampling power on all channels at a rate of 100 Hz.\n",
    "    power_monitor.start_auto_power_measurement(100)\n",
    "    \n",
    "    # Auto power measurement streams PowerMeasurement events continuously.\n",
    "    # To capture 3 seconds of data from 3 channels at 100Hz, we collect 900 events.\n",
    "    events = sink_pm.get_n_events(900, timeout=4000)\n",
    "    \n",
    "    # Stop the automatic power measurement process.\n",
    "    power_monitor.stop_auto_power_measurement()\n",
    "    \n",
    "    # Calculate the average power consumption for each channel over 3 seconds.\n",
    "    counts = [0, 0, 0]\n",
    "    sums = [0, 0, 0]\n",
    "    for e in events:\n",
    "        assert isinstance(e, samna.unifirm.modules.events.PowerMeasurement)\n",
    "        sums[e.channel] += e.value\n",
    "        counts[e.channel] += 1\n",
    "    \n",
    "    # Compute the averages and convert to milliwatts (W -> mW).\n",
    "    avgs = [sum/count * 1000 for sum, count in zip(sums, counts)]\n",
    "    power_consumption+= [avgs]\n",
    "\n",
    "for clock, power in zip(clock_frequencies, power_consumption):\n",
    "    print(f'Clock:\\t{clock} MHz\\nio:\\t{np.ceil(power[0] * 1000):.0f} uW\\tAFE core:\\t{np.ceil(power[1] * 1000):.0f} uW\\tDFE+SNN core:\\t{np.ceil(power[2] * 1000):.0f} uW')\n",
    "    \n",
    "    match clock:\n",
    "        case 6.25:\n",
    "            power_measurements_625.append(power)\n",
    "        case 12.5:\n",
    "            power_measurements_125.append(power)\n",
    "        case 25:\n",
    "            power_measurements_25.append(power)\n",
    "        case 50:\n",
    "            power_measurements_50.append(power)\n"
   ]
  },
  {
   "cell_type": "markdown",
   "metadata": {},
   "source": [
    "### Explicitly calling `apply_configuration` with the same configuration applied in `XyloMonitor` for `RealTime` mode, with chip activation (i.e., sending one `TriggerProcessing`):\n"
   ]
  },
  {
   "cell_type": "code",
   "execution_count": 6,
   "metadata": {},
   "outputs": [
    {
     "name": "stdout",
     "output_type": "stream",
     "text": [
      "Clock:\t6.25 MHz\n",
      "io:\t1477 uW\tAFE core:\t17 uW\tDFE+SNN core:\t306 uW\n",
      "Clock:\t12.5 MHz\n",
      "io:\t1490 uW\tAFE core:\t17 uW\tDFE+SNN core:\t481 uW\n",
      "Clock:\t25 MHz\n",
      "io:\t1664 uW\tAFE core:\t15 uW\tDFE+SNN core:\t797 uW\n",
      "Clock:\t50 MHz\n",
      "io:\t1898 uW\tAFE core:\t15 uW\tDFE+SNN core:\t1448 uW\n"
     ]
    }
   ],
   "source": [
    "power_consumption = []\n",
    "for clock in clock_frequencies:\n",
    "\n",
    "    config = samna.xyloAudio3.XyloAudio3TestBoardDefaultConfig()\n",
    "    config.main_clock_frequency = int(clock * 1000000)\n",
    "\n",
    "    config.saer_clock_frequency = int(config.main_clock_frequency / 8)\n",
    "    config.pdm_clock_frequency = int(config.main_clock_frequency / 40)\n",
    "    config.sadc_clock_frequency = int(config.main_clock_frequency / 8)\n",
    "\n",
    "    xylo_node.reset_board_soft(config)\n",
    "\n",
    "    main_clk_freq = clock * 1e6  # in Hz\n",
    "    tr_wrap = int(ts * main_clk_freq)\n",
    "    \n",
    "    config = samna.xyloAudio3.configuration.XyloConfiguration()\n",
    "    config.operation_mode = samna.xyloAudio3.OperationMode.RealTime\n",
    "    config.digital_frontend.filter_bank.dn_enable = False\n",
    "    config.time_resolution_wrap = tr_wrap\n",
    "    config.debug.always_update_omp_stat = True\n",
    "    config.digital_frontend.filter_bank.use_global_iaf_threshold = False\n",
    "    config.input_source = samna.xyloAudio3.InputSource.DigitalMicrophone\n",
    "    # - the ideal sdm clock ratio depends on the main clock rate\n",
    "    # -- int(clock / 1.56 / 2 - 1)\n",
    "    config.debug.sdm_clock_ratio = 24\n",
    "    config.digital_frontend.pdm_preprocessing.clock_direction = 1\n",
    "    config.digital_frontend.pdm_preprocessing.clock_edge = 0\n",
    "    \n",
    "    # - Disable internal state monitoring\n",
    "    config.debug.monitor_neuron_v_mem = []\n",
    "    config.debug.monitor_neuron_spike = []\n",
    "    config.debug.monitor_neuron_i_syn = []\n",
    "\n",
    "    xylo_node.get_model().apply_configuration(config)\n",
    "    xylo_node.get_model().close_ram_access()\n",
    "\n",
    "    # ## IMPORTANT register to write to save power on digital core\n",
    "    # wwv_ev = samna.xyloAudio3.event.WriteRegisterValue()\n",
    "    # wwv_ev.address = 0x0001\n",
    "    # wwv_ev.data = 0x1420000\n",
    "    # source.write([wwv_ev])\n",
    "    \n",
    "    # Activate the chip processing\n",
    "    source.write([samna.xyloAudio3.event.TriggerProcessing()])\n",
    "\n",
    "\n",
    "    # Start the stopwatch to enable time-stamped power sampling.\n",
    "    stopwatch.start()\n",
    "    \n",
    "    # Start sampling power on all channels at a rate of 100 Hz.\n",
    "    power_monitor.start_auto_power_measurement(100)\n",
    "    \n",
    "    # Auto power measurement streams PowerMeasurement events continuously.\n",
    "    # To capture 3 seconds of data from 3 channels at 100Hz, we collect 900 events.\n",
    "    events = sink_pm.get_n_events(900, timeout=4000)\n",
    "    \n",
    "    # Stop the automatic power measurement process.\n",
    "    power_monitor.stop_auto_power_measurement()\n",
    "    \n",
    "    # Calculate the average power consumption for each channel over 3 seconds.\n",
    "    counts = [0, 0, 0]\n",
    "    sums = [0, 0, 0]\n",
    "    for e in events:\n",
    "        assert isinstance(e, samna.unifirm.modules.events.PowerMeasurement)\n",
    "        sums[e.channel] += e.value\n",
    "        counts[e.channel] += 1\n",
    "    \n",
    "    # Compute the averages and convert to milliwatts (W -> mW).\n",
    "    avgs = [sum/count * 1000 for sum, count in zip(sums, counts)]\n",
    "    power_consumption+= [avgs]\n",
    "\n",
    "for clock, power in zip(clock_frequencies, power_consumption):\n",
    "    print(f'Clock:\\t{clock} MHz\\nio:\\t{np.ceil(power[0] * 1000):.0f} uW\\tAFE core:\\t{np.ceil(power[1] * 1000):.0f} uW\\tDFE+SNN core:\\t{np.ceil(power[2] * 1000):.0f} uW')\n",
    "    \n",
    "    match clock:\n",
    "        case 6.25:\n",
    "            power_measurements_625.append(power)\n",
    "        case 12.5:\n",
    "            power_measurements_125.append(power)\n",
    "        case 25:\n",
    "            power_measurements_25.append(power)\n",
    "        case 50:\n",
    "            power_measurements_50.append(power)\n"
   ]
  },
  {
   "cell_type": "markdown",
   "metadata": {},
   "source": [
    "### Plot all power consumption together"
   ]
  },
  {
   "cell_type": "code",
   "execution_count": 7,
   "metadata": {},
   "outputs": [
    {
     "data": {
      "text/plain": [
       "[[0.035954999047381385, 0.013772380473350646, 0.2964231943769846],\n",
       " [0.038648114362634566, 0.013623129112119159, 0.3019588388754831],\n",
       " [0.03820402261832593, 0.013431315928708424, 0.3012419603085921],\n",
       " [0.06887956162245246, 0.013171550246984983, 0.3015538913799295],\n",
       " [1.4762312811702336, 0.01621305449868752, 0.3059896810736973]]"
      ]
     },
     "execution_count": 7,
     "metadata": {},
     "output_type": "execute_result"
    }
   ],
   "source": [
    "power_measurements_625\n"
   ]
  },
  {
   "cell_type": "code",
   "execution_count": 8,
   "metadata": {},
   "outputs": [
    {
     "data": {
      "image/png": "[encoded data removed]",
      "text/plain": [
       "<Figure size 640x480 with 1 Axes>"
      ]
     },
     "metadata": {},
     "output_type": "display_data"
    },
    {
     "data": {
      "image/png": "[encoded data removed]",
      "text/plain": [
       "<Figure size 640x480 with 1 Axes>"
      ]
     },
     "metadata": {},
     "output_type": "display_data"
    },
    {
     "data": {
      "image/png": "[encoded data removed]",
      "text/plain": [
       "<Figure size 640x480 with 1 Axes>"
      ]
     },
     "metadata": {},
     "output_type": "display_data"
    },
    {
     "data": {
      "image/png": "[encoded data removed]",
      "text/plain": [
       "<Figure size 640x480 with 1 Axes>"
      ]
     },
     "metadata": {},
     "output_type": "display_data"
    }
   ],
   "source": [
    "import numpy as np\n",
    "import matplotlib.pyplot as plt\n",
    "\n",
    "\n",
    "frequency_measurement = [power_measurements_625, power_measurements_125, power_measurements_25, power_measurements_50]\n",
    "\n",
    "for frequency, clock in zip(frequency_measurement, clock_frequencies):\n",
    "    power_labels = [\"io\", \"analog\", \"DFE+SNN\"]\n",
    "    \n",
    "    number_experiment = []\n",
    "    for i in range(len(frequency)):\n",
    "        number_experiment.append(i)\n",
    "        \n",
    "    x = np.arange(len(power_labels))  # the label locations\n",
    "    width = 0.15  # the width of the bars\n",
    "    multiplier = 0\n",
    "    \n",
    "    fig, ax = plt.subplots(layout='constrained')\n",
    "\n",
    "    for measurement, label in zip(frequency, number_experiment):\n",
    "        offset = width * multiplier\n",
    "        rects = ax.bar(x + offset, measurement, width, label=label)\n",
    "        multiplier += 1\n",
    "    \n",
    "    # Add some text for labels, title and custom x-axis tick labels, etc.\n",
    "    ax.set_ylabel('Power (mW)')\n",
    "    title = \"Clock Frequency \" + str(clock) + \" Mhz\"\n",
    "    ax.set_title(title)\n",
    "    ax.set_xticks(x + width, power_labels)\n",
    "    ax.legend(loc='best', ncols=3)\n",
    "    \n",
    "    plt.show()"
   ]
  },
  {
   "cell_type": "code",
   "execution_count": 9,
   "metadata": {},
   "outputs": [],
   "source": [
    "def read_register(addr):\n",
    "    source.write([samna.xyloAudio3.event.ReadRegisterValue(address = addr)])\n",
    "    events = sink.get_n_events(1, 3000)\n",
    "    assert(len(events) == 1)\n",
    "    return events[0].data\n",
    "\n",
    "ctrl1 = 0x0001\n",
    "ctrl2 = 0x0002\n",
    "ctrl3 = 0x0003\n",
    "tr_wrap = 0x0004\n",
    "hm_tr_wrap = 0x0005\n",
    "clk_ctrl = 0x0006\n",
    "clk_div = 0x0007\n",
    "pwr_ctrl1 = 0x0008\n",
    "pwr_ctrl2 = 0x0009\n",
    "pwr_ctrl3 = 0x000A\n",
    "pwr_ctrl4 = 0x000B\n",
    "pad_ctrl = 0x000C\n",
    "ie1 = 0x000E\n",
    "ie2 = 0x000F\n",
    "out_ctrl = 0x0011\n",
    "monsel = 0x0166\n",
    "mon_grp_sel = 0x0167\n",
    "dbg_ctrl1 = 0x0168\n",
    "dbg_stat1 = 0x0171\n",
    "dfe_ctrl = 0x001B\n",
    "ivgen = 0x0015\n",
    "ivgen2 = 0x0016\n",
    "ivgen3 = 0x0017\n",
    "ivgen4 = 0x0018\n",
    "ivgen5 = 0x0019\n",
    "ivgen6 = 0x001A\n",
    "adctest = 0x016E\n",
    "\n",
    "# create access to xylo input/output\n",
    "source = samna.graph.source_to(model.get_sink_node())\n",
    "sink   = samna.graph.sink_from(model.get_source_node())"
   ]
  },
  {
   "cell_type": "code",
   "execution_count": null,
   "metadata": {},
   "outputs": [],
   "source": []
  }
 ],
 "metadata": {
  "interpreter": {
   "hash": "80082753f825f5fd87c9e01bdff400ed5e0a1d73f0e7712adc135a3cda2f38fe"
  },
  "kernelspec": {
   "display_name": "Python 3 (ipykernel)",
   "language": "python",
   "name": "python3"
  },
  "language_info": {
   "codemirror_mode": {
    "name": "ipython",
    "version": 3
   },
   "file_extension": ".py",
   "mimetype": "text/x-python",
   "name": "python",
   "nbconvert_exporter": "python",
   "pygments_lexer": "ipython3",
   "version": "3.10.12"
  }
 },
 "nbformat": 4,
 "nbformat_minor": 4
}
