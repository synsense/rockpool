{
 "cells": [
  {
   "cell_type": "code",
   "execution_count": 1,
   "id": "2788bf53-b61d-4422-add6-1cf2e7553a5b",
   "metadata": {},
   "outputs": [
    {
     "name": "stdout",
     "output_type": "stream",
     "text": [
      "Samna version 0.39.7.1+ge088b084\n"
     ]
    }
   ],
   "source": [
    "import samna\n",
    "print(f'Samna version {samna.__version__}')"
   ]
  },
  {
   "cell_type": "code",
   "execution_count": 2,
   "id": "c2cc2e71-7694-481a-a82b-05d3432f85e3",
   "metadata": {},
   "outputs": [
    {
     "name": "stdout",
     "output_type": "stream",
     "text": [
      "50000000.0\n",
      "0.0\n"
     ]
    }
   ],
   "source": [
    "import numpy as np\n",
    "\n",
    "FPGA_MASTER_CLOCK_FREQUENCY = 100e6\n",
    "frequency = 12.5 * 1000000\n",
    "\n",
    "MAX_CLOCK_FREQUENCY = FPGA_MASTER_CLOCK_FREQUENCY / 2\n",
    "print(MAX_CLOCK_FREQUENCY)\n",
    "\n",
    "frequency = np.maximum(frequency, MAX_CLOCK_FREQUENCY)\n",
    "\n",
    "period = (FPGA_MASTER_CLOCK_FREQUENCY / frequency / 2) - 1\n",
    "print(np.ceil(period))\n",
    "\n"
   ]
  },
  {
   "cell_type": "code",
   "execution_count": 4,
   "id": "d5fb5081-b7f2-49f4-a362-ae1b07a291d1",
   "metadata": {},
   "outputs": [
    {
     "name": "stderr",
     "output_type": "stream",
     "text": [
      "[2024-10-14 09:56:37.044] [XyloAudio3] [warning] Main clock frequency is not allowed to be 0, using default\n"
     ]
    },
    {
     "ename": "RuntimeError",
     "evalue": "Failed to communicate with Xylo Audio v3!",
     "output_type": "error",
     "traceback": [
      "\u001b[0;31m---------------------------------------------------------------------------\u001b[0m",
      "\u001b[0;31mRuntimeError\u001b[0m                              Traceback (most recent call last)",
      "Cell \u001b[0;32mIn[4], line 18\u001b[0m\n\u001b[1;32m     15\u001b[0m \u001b[38;5;28;01mfor\u001b[39;00m clock, value \u001b[38;5;129;01min\u001b[39;00m \u001b[38;5;28mzip\u001b[39m(clock_frequencies, write_config):\n\u001b[1;32m     16\u001b[0m     \u001b[38;5;66;03m# print(clock)\u001b[39;00m\n\u001b[1;32m     17\u001b[0m     config\u001b[38;5;241m.\u001b[39mmain_clock_frequency \u001b[38;5;241m=\u001b[39m \u001b[38;5;28mint\u001b[39m(clock \u001b[38;5;241m*\u001b[39m \u001b[38;5;241m1000000\u001b[39m)\n\u001b[0;32m---> 18\u001b[0m     \u001b[43mboard\u001b[49m\u001b[38;5;241;43m.\u001b[39;49m\u001b[43mreset_board_soft\u001b[49m\u001b[43m(\u001b[49m\u001b[43mconfig\u001b[49m\u001b[43m)\u001b[49m\n\u001b[1;32m     20\u001b[0m     \u001b[38;5;28;01mif\u001b[39;00m clock \u001b[38;5;241m==\u001b[39m \u001b[38;5;241m0\u001b[39m:\n\u001b[1;32m     21\u001b[0m         io\u001b[38;5;241m.\u001b[39mwrite_config(\u001b[38;5;241m0x0008\u001b[39m, value)\n",
      "\u001b[0;31mRuntimeError\u001b[0m: Failed to communicate with Xylo Audio v3!"
     ]
    }
   ],
   "source": [
    "import samna\n",
    "\n",
    "# Open the device and connect to the power monitor.\n",
    "board = samna.device.open_device(\"XyloAudio3TestBoard\")\n",
    "power_monitor = board.get_power_monitor()\n",
    "sink_pm = samna.graph.sink_from(power_monitor.get_source_node())\n",
    "stopwatch = board.get_stop_watch()\n",
    "io = board.get_io_module()\n",
    "\n",
    "config = samna.xyloAudio3.XyloAudio3TestBoardDefaultConfig()\n",
    "clock_frequencies = [0, 0.012207031, 0.024414063, 0.048828125, 0.09765625, 0.1953125, 0.390625, 0.78125, 1.5625, 3.125, 6.25, 12.5, 25, 50]\n",
    "power_consumption = []\n",
    "write_config = [0, 4095, 2047, 1023, 511, 255, 127, 63, 31, 15, 7, 3, 1, 0]\n",
    "\n",
    "for clock, value in zip(clock_frequencies, write_config):\n",
    "    # print(clock)\n",
    "    config.main_clock_frequency = int(clock * 1000000)\n",
    "    board.reset_board_soft(config)\n",
    "\n",
    "    if clock == 0:\n",
    "        io.write_config(0x0008, value)\n",
    "    else:\n",
    "        io.write_config(0x0007, value)\n",
    "\n",
    "    # Start the stopwatch to enable time-stamped power sampling.\n",
    "    stopwatch.start()\n",
    "    \n",
    "    # Start sampling power on all channels at a rate of 100 Hz.\n",
    "    power_monitor.start_auto_power_measurement(100)\n",
    "    \n",
    "    # Auto power measurement streams PowerMeasurement events continuously.\n",
    "    # To capture 3 seconds of data from 3 channels at 100Hz, we collect 900 events.\n",
    "    events = sink_pm.get_n_events(900, timeout=4000)\n",
    "    \n",
    "    # Stop the automatic power measurement process.\n",
    "    power_monitor.stop_auto_power_measurement()\n",
    "    \n",
    "    # Calculate the average power consumption for each channel over 3 seconds.\n",
    "    counts = [0, 0, 0]\n",
    "    sums = [0, 0, 0]\n",
    "    for e in events:\n",
    "        assert isinstance(e, samna.unifirm.modules.events.PowerMeasurement)\n",
    "        sums[e.channel] += e.value\n",
    "        counts[e.channel] += 1\n",
    "    \n",
    "    # Compute the averages and convert to milliwatts (W -> mW).\n",
    "    avgs = [sum/count * 1000 for sum, count in zip(sums, counts)]\n",
    "    # print(avgs)\n",
    "    power_consumption+= [avgs]\n",
    "\n",
    "for clock, power in zip(clock_frequencies, power_consumption):\n",
    "    # print(power)\n",
    "    print(f'Clock:\\t\\t{clock} MHz\\n io:\\t\\t{power[0]:.1f} mW \\t\\t AFE core:\\t{power[1]:.1f} mW\\t\\t SNN core logic:\\t{power[2]:.1f} mW')"
   ]
  },
  {
   "cell_type": "code",
   "execution_count": null,
   "id": "1eb04d91-e5b2-4a29-9b4d-26d112092dbd",
   "metadata": {},
   "outputs": [],
   "source": [
    "for power in power_consumption:\n",
    "    print(power[2]/2.5 * 1000)"
   ]
  },
  {
   "cell_type": "markdown",
   "id": "baa3f1f9-7ce8-494f-a8b5-c3be438b1784",
   "metadata": {},
   "source": [
    "# Real-time Steps\n",
    "\n",
    "In real-time mode, the FPGA lets Xylo run freely and only performs readout after receiving a timestep done interrupt.\n",
    "This means sending input to Xylo from the FPGA is not supported in real-time mode.  Instead, the switches on the PCB must be configured such that Xylo receives input from the microphones on the PCB.\n"
   ]
  },
  {
   "cell_type": "code",
   "execution_count": null,
   "id": "5c7e4dc6-d726-47f0-81f7-f2855b3edc44",
   "metadata": {},
   "outputs": [],
   "source": [
    "ts_duration   = 10*1e-3; # in second\n",
    "main_clk_freq = 50*1e6 # in Hz\n",
    "tr_wrap       = int(ts_duration*main_clk_freq)\n",
    "print(tr_wrap)\n",
    "\n",
    "# 0: input for Xylo, 1: Xylo output\n",
    "PDM_CLK_DIR  = 1\n",
    "# 0: Xylo samples PDM_DATA at risinge edge, 1: Xylo samples PDM_DATA at falling edge\n",
    "PDM_CLK_EDGE = 0\n",
    "\n",
    "def get_tr_wrap(ts_in_ms, main_clk_freq_in_mhz, debug=0):\n",
    "    ts_duration   = ts_in_ms*1e-3; # in second\n",
    "    main_clk_freq = main_clk_freq_in_mhz*1e6 # in Hz\n",
    "    tr_wrap       = int(ts_duration*main_clk_freq)\n",
    "    print(f\"set tr_wrap to 0x{format(tr_wrap,'_X')}\") if debug>=1 else None\n",
    "    return tr_wrap"
   ]
  },
  {
   "cell_type": "markdown",
   "id": "2bd0de7c-c363-4228-a03c-b93e7c4762b1",
   "metadata": {},
   "source": [
    "## Example with Rockpool"
   ]
  },
  {
   "cell_type": "code",
   "execution_count": null,
   "id": "6cebeac6-db3d-4ad5-a6c9-98cb9c0b5544",
   "metadata": {},
   "outputs": [],
   "source": [
    "import warnings\n",
    "warnings.filterwarnings(\"ignore\")\n",
    "\n",
    "import rockpool\n",
    "print(f'Rockpool version {rockpool.__version__}')\n",
    "import samna\n",
    "print(f'Samna version {samna.__version__}')\n",
    "from rockpool.devices.xylo.syns65302 import config_from_specification, mapper, XyloMonitor, XyloSamna\n",
    "\n",
    "from rockpool.devices.xylo import find_xylo_hdks\n",
    "\n",
    "from rockpool.transform.quantize_methods import channel_quantize\n",
    "from rockpool.nn.modules import LIF, Linear\n",
    "from rockpool.nn.combinators import Sequential\n",
    "\n",
    "import numpy as np\n",
    "\n",
    "# find_xylo_hdks() directly calls the Samna device finder and opens all available devices.\n",
    "# When Samna opens a device, it will perform actions on the board. Such as, powering on the chip, resetting it,\n",
    "# applying a default configuration, and configuring the FPGA for default operation.\n",
    "\n",
    "hdks, modules, versions = find_xylo_hdks()\n",
    "print(hdks, modules, versions)\n",
    "\n",
    "for version, xylo in zip(versions, hdks):\n",
    "    if version == \"syns65302\":\n",
    "        xylo_node = xylo"
   ]
  },
  {
   "cell_type": "markdown",
   "id": "3af52c3d-130f-4597-af8d-c1f18c44adb1",
   "metadata": {},
   "source": [
    "## Build a model and map it to hardware"
   ]
  },
  {
   "cell_type": "code",
   "execution_count": null,
   "id": "c4282fb5-6573-47b8-9613-c6d2fe89e1ee",
   "metadata": {},
   "outputs": [],
   "source": [
    "# simple model to test\n",
    "\n",
    "net = Sequential(\n",
    "    Linear((16, 63)),\n",
    "    LIF((63, 63)),\n",
    "\n",
    "    Linear((63, 16)),\n",
    "    LIF(16),\n",
    ")\n",
    "\n",
    "print(net)\n",
    "\n",
    "# net[0].weight *= 0.05\n",
    "spec = mapper(net.as_graph())\n",
    "Q_spec = spec\n",
    "Q_spec.update(channel_quantize(**Q_spec))\n",
    "config, is_valid, msg = config_from_specification(**Q_spec)\n",
    "\n",
    "if not is_valid:\n",
    "    print(msg)"
   ]
  },
  {
   "cell_type": "markdown",
   "id": "8e3862ef-1054-46c2-99e9-300cac3d9bae",
   "metadata": {},
   "source": [
    "## Set up Samna graphs and configuration"
   ]
  },
  {
   "cell_type": "code",
   "execution_count": null,
   "id": "e7c34a35-b254-4335-99e3-a8a900a5416c",
   "metadata": {},
   "outputs": [],
   "source": [
    "# create xylo monitor\n",
    "dt = 0.01\n",
    "dt_ms = dt * 1000\n",
    "\n",
    "config.operation_mode                                        = samna.xyloAudio3.OperationMode.RealTime\n",
    "# config.time_resolution_wrap                                  = get_tr_wrap(ts_in_ms=dt_ms, main_clk_freq_in_mhz=12.5, debug=1)\n",
    "# config.debug.always_update_omp_stat                          = True\n",
    "# config.input_source                                          = samna.xyloAudio3.InputSource.PdmEvents\n",
    "# config.digital_frontend.filter_bank.dn_enable                = False\n",
    "# config.digital_frontend.filter_bank.use_global_iaf_threshold = False\n",
    "# config.digital_frontend.pdm_preprocessing.clock_direction    = PDM_CLK_DIR\n",
    "# config.digital_frontend.pdm_preprocessing.clock_edge         = PDM_CLK_EDGE\n",
    "# config.debug.sdm_clock_ratio                                 = 24\n",
    "\n",
    "# inside XyloMonitor the buffers are created and FPGA modules are set\n",
    "xylo_monitor = XyloMonitor(device=xylo_node, main_clk_rate =50, \n",
    "    config=config, power_frequency=100,\n",
    "    dt = dt,\n",
    "    output_mode='Spike')\n"
   ]
  },
  {
   "cell_type": "code",
   "execution_count": null,
   "id": "6a361cdf-8db4-477e-9abd-5ebfbae7c0db",
   "metadata": {},
   "outputs": [],
   "source": [
    "import samna\n",
    "print(f\"samna version: {samna.__version__}\")\n",
    "import time\n",
    "\n",
    "# set device configuration\n",
    "ioc = xylo_node.get_io_control_module()\n",
    "io = xylo_node.get_io_module()\n",
    "model = xylo_node.get_model()\n",
    "\n",
    "\n",
    "def read_register(addr):\n",
    "    source.write([samna.xyloAudio3.event.ReadRegisterValue(address = addr)])\n",
    "    events = sink.get_n_events(1, 3000)\n",
    "    assert(len(events) == 1)\n",
    "    return events[0].data\n",
    "\n",
    "ctrl1 = 0x0001\n",
    "ctrl2 = 0x0002\n",
    "ctrl3 = 0x0003\n",
    "tr_wrap = 0x0004\n",
    "hm_tr_wrap = 0x0005\n",
    "clk_ctrl = 0x0006\n",
    "clk_div = 0x0007\n",
    "pwr_ctrl1 = 0x0008\n",
    "pwr_ctrl2 = 0x0009\n",
    "pwr_ctrl3 = 0x000A\n",
    "pwr_ctrl4 = 0x000B\n",
    "pad_ctrl = 0x000C\n",
    "ie1 = 0x000E\n",
    "ie2 = 0x000F\n",
    "out_ctrl = 0x0011\n",
    "monsel = 0x0166\n",
    "mon_grp_sel = 0x0167\n",
    "dbg_ctrl1 = 0x0168\n",
    "dbg_stat1 = 0x0171\n",
    "dfe_ctrl = 0x001B\n",
    "ivgen = 0x0015\n",
    "ivgen2 = 0x0016\n",
    "ivgen3 = 0x0017\n",
    "ivgen4 = 0x0018\n",
    "ivgen5 = 0x0019\n",
    "ivgen6 = 0x001A\n",
    "adctest = 0x016E\n",
    "\n",
    "# create access to xylo input/output\n",
    "source = samna.graph.source_to(model.get_sink_node())\n",
    "sink   = samna.graph.sink_from(model.get_source_node())\n",
    "\n",
    "\n",
    "print(\"\\n# ======= read important registers =======\\n\")\n",
    "\n",
    "print(f\"adctest       : 0x{format(read_register(adctest),'_X')}\")\n",
    "print(f\"ivgen       : 0x{format(read_register(ivgen),'_X')} vs 7331_85F8\")\n",
    "print(f\"ivgen2       : 0x{format(read_register(ivgen2),'_X')} vs 1323_1107\")\n",
    "print(f\"ivgen3       : 0x{format(read_register(ivgen3),'_X')} vs 1112_1003\")\n",
    "print(f\"ivgen4       : 0x{format(read_register(ivgen4),'_X')} vs 0000_1210\")\n",
    "print(f\"ivgen5       : 0x{format(read_register(ivgen5),'_X')} vs 0000_0C07\")\n",
    "print(f\"ivgen6       : 0x{format(read_register(ivgen6),'_X')} vs 0000_0031\")\n",
    "# # ctrl[1-3]\n",
    "print(f\"ctrl1       : 0x{format(read_register(ctrl1),'_X')} vs 0x143_011C\")\n",
    "print(f\"ctrl2       : 0x{format(read_register(ctrl2),'_X')} vs 0x9_0902\")\n",
    "print(f\"ctrl3       : 0x{format(read_register(ctrl3),'_X')} vs 0x901\")\n",
    "print()\n",
    "# *_wrap\n",
    "print(f\"tr_wrap     : 0x{format(read_register(tr_wrap),'_X')} vs 0x2FA_F080\")\n",
    "print(f\"hm_tr_wrap  : 0x{format(read_register(hm_tr_wrap),'_X')} vs 0x0\")\n",
    "print()\n",
    "# clk_*\n",
    "print(f\"clk_ctrl    : 0x{format(read_register(clk_ctrl),'_X')} vs 0x11\")\n",
    "print(f\"clk_div     : 0x{format(read_register(clk_div),'_X')} vs 0x18_0000\")\n",
    "print()\n",
    "# pwr_ctrl[1-4]\n",
    "print(f\"pwr_ctrl1   : 0x{format(read_register(pwr_ctrl1),'_X')} vs 0x33_00FF\")\n",
    "print(f\"pwr_ctrl2   : 0x{format(read_register(pwr_ctrl2),'_X')} vs 0x3_0001\")\n",
    "print(f\"pwr_ctrl3   : 0x{format(read_register(pwr_ctrl3),'_X')} vs 0xFFFF_FFFF\")\n",
    "print(f\"pwr_ctrl4   : 0x{format(read_register(pwr_ctrl4),'_X')} vs 0xFFFF_0001\")\n",
    "print()\n",
    "# misc\n",
    "print(f\"pad_ctrl    : 0x{format(read_register(pad_ctrl),'_X')} vs 0x0\")\n",
    "print(f\"ie1         : 0x{format(read_register(ie1),'_X')} vs 0x0\")\n",
    "print(f\"ie2         : 0x{format(read_register(ie2),'_X')} vs 0x1\")\n",
    "print(f\"out_ctrl    : 0x{format(read_register(out_ctrl),'_X')} vs 0x70\")\n",
    "print()\n",
    "# debug regs\n",
    "print(f\"monsel      : 0x{format(read_register(monsel),'_X')} vs 0x0\")\n",
    "print(f\"mon_grp_sel : 0x{format(read_register(mon_grp_sel),'_X')} vs 0x1F1F_0773\")\n",
    "print(f\"dbg_ctrl1   : 0x{format(read_register(dbg_ctrl1),'_X')} vs 0x0\")\n",
    "print(f\"dbg_stat1   : 0x{format(read_register(dbg_stat1),'_X')} vs 0x0\")\n",
    "print(f\"dfe_ctrl   : 0x{format(read_register(dfe_ctrl),'_X')} vs 0x510\")\n",
    "print()"
   ]
  },
  {
   "cell_type": "markdown",
   "id": "992ec60e-f1c5-4f97-b225-d684e97d240c",
   "metadata": {},
   "source": [
    "## Start processing and collect events\n",
    "\n",
    "* Send TriggerProcessing event from Samna with the desired time step\n",
    "* Collect readout events in the BufferSink attached to the model source node"
   ]
  },
  {
   "cell_type": "code",
   "execution_count": null,
   "id": "882ebdae-c7a9-4a5b-9fcb-ae34ab707a53",
   "metadata": {},
   "outputs": [],
   "source": [
    "# source.write([samna.xyloAudio3.event.WriteRegisterValue(address=pwr_ctrl1, data=0x0)])\n",
    "# source.write([samna.xyloAudio3.event.WriteRegisterValue(address=pwr_ctrl2, data=0x0)])\n",
    "# io.write_config(0x0007, 3)\n",
    "\n"
   ]
  },
  {
   "cell_type": "code",
   "execution_count": null,
   "id": "98971254-fcc7-4ee1-bd11-2ee87fcf63f6",
   "metadata": {
    "scrolled": true
   },
   "outputs": [],
   "source": [
    "import numpy as np\n",
    "N = 3 # in seconds\n",
    "\n",
    "# io.write_config(0x0007, 3)\n",
    "\n",
    "for i in range(10):\n",
    "    out, _, rec = xylo_monitor.evolve(record=False, record_power=True, read_timeout=N)\n",
    "    # print(out)\n",
    "    print(rec)\n",
    "\n",
    "print(len(rec['io_power']))\n",
    "\n",
    "io_power = np.mean(rec['io_power'])\n",
    "analog = np.mean(rec['analog_power'])\n",
    "digital = np.mean(rec['digital_power'])\n",
    "\n",
    "\n",
    "print(f'XyloAudio 3\\nAll IO:\\t\\t{io_power * 1000:.1f} mW\\nAFE core:\\t{analog * 1000:.1f} mW\\nSNN core logic:\\t{digital*1000:.1f} mW')"
   ]
  },
  {
   "cell_type": "code",
   "execution_count": null,
   "id": "c5aed48d-773b-4b19-8473-744363ee8aa4",
   "metadata": {},
   "outputs": [],
   "source": [
    "import matplotlib.pyplot as plt\n",
    "plt.figure(figsize=(15,5))\n",
    "plt.subplot(131), plt.imshow(np.array(out).T, aspect='auto', interpolation='none'); plt.title('readout spikes'); plt.xlabel('Time'); plt.ylabel('Neuron index'); plt.colorbar()"
   ]
  },
  {
   "cell_type": "code",
   "execution_count": null,
   "id": "23f69198-fd79-40cf-b65c-bbc3f737a164",
   "metadata": {},
   "outputs": [],
   "source": []
  }
 ],
 "metadata": {
  "kernelspec": {
   "display_name": "Python 3 (ipykernel)",
   "language": "python",
   "name": "python3"
  },
  "language_info": {
   "codemirror_mode": {
    "name": "ipython",
    "version": 3
   },
   "file_extension": ".py",
   "mimetype": "text/x-python",
   "name": "python",
   "nbconvert_exporter": "python",
   "pygments_lexer": "ipython3",
   "version": "3.10.12"
  }
 },
 "nbformat": 4,
 "nbformat_minor": 5
}
