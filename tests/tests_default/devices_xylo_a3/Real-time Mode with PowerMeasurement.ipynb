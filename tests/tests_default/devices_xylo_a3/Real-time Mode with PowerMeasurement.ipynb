{
 "cells": [
  {
   "cell_type": "code",
   "execution_count": 1,
   "id": "2788bf53-b61d-4422-add6-1cf2e7553a5b",
   "metadata": {},
   "outputs": [
    {
     "name": "stdout",
     "output_type": "stream",
     "text": [
      "Samna version 0.39.9.0\n"
     ]
    }
   ],
   "source": [
    "import samna\n",
    "print(f'Samna version {samna.__version__}')\n",
    "\n",
    "import numpy as np"
   ]
  },
  {
   "cell_type": "code",
   "execution_count": 2,
   "id": "d5fb5081-b7f2-49f4-a362-ae1b07a291d1",
   "metadata": {},
   "outputs": [
    {
     "name": "stdout",
     "output_type": "stream",
     "text": [
      "Clock:\t6.25 MHz\n",
      "io:\t36 uW\tAFE core:\t13 uW\tDFE+SNN core:\t296 uW\n",
      "Clock:\t12.5 MHz\n",
      "io:\t69 uW\tAFE core:\t15 uW\tDFE+SNN core:\t452 uW\n",
      "Clock:\t25 MHz\n",
      "io:\t129 uW\tAFE core:\t14 uW\tDFE+SNN core:\t760 uW\n",
      "Clock:\t50 MHz\n",
      "io:\t239 uW\tAFE core:\t13 uW\tDFE+SNN core:\t1379 uW\n"
     ]
    }
   ],
   "source": [
    "# Open the device and connect to the power monitor.\n",
    "board = samna.device.open_device(\"XyloAudio3TestBoard\")\n",
    "power_monitor = board.get_power_monitor()\n",
    "sink_pm = samna.graph.sink_from(power_monitor.get_source_node())\n",
    "stopwatch = board.get_stop_watch()\n",
    "io = board.get_io_module()\n",
    "\n",
    "config = samna.xyloAudio3.XyloAudio3TestBoardDefaultConfig()\n",
    "clock_frequencies = [0, 0.012207031, 0.024414063, 0.048828125, 0.09765625, 0.1953125, 0.390625, 0.78125, 1.5625, 3.125, 6.25, 12.5, 25, 50]\n",
    "write_config = [0, 4095, 2047, 1023, 511, 255, 127, 63, 31, 15, 7, 3, 1, 0]\n",
    "\n",
    "clock_frequencies = [6.25, 12.5, 25, 50]\n",
    "power_consumption = []\n",
    "\n",
    "for clock in clock_frequencies:\n",
    "    # print(clock)\n",
    "    config.main_clock_frequency = int(clock * 1000000)\n",
    "    board.reset_board_soft(config)\n",
    "\n",
    "    # Start the stopwatch to enable time-stamped power sampling.\n",
    "    stopwatch.start()\n",
    "    \n",
    "    # Start sampling power on all channels at a rate of 100 Hz.\n",
    "    power_monitor.start_auto_power_measurement(100)\n",
    "    \n",
    "    # Auto power measurement streams PowerMeasurement events continuously.\n",
    "    # To capture 3 seconds of data from 3 channels at 100Hz, we collect 900 events.\n",
    "    events = sink_pm.get_n_events(900, timeout=4000)\n",
    "    \n",
    "    # Stop the automatic power measurement process.\n",
    "    power_monitor.stop_auto_power_measurement()\n",
    "    \n",
    "    # Calculate the average power consumption for each channel over 3 seconds.\n",
    "    counts = [0, 0, 0]\n",
    "    sums = [0, 0, 0]\n",
    "    for e in events:\n",
    "        assert isinstance(e, samna.unifirm.modules.events.PowerMeasurement)\n",
    "        sums[e.channel] += e.value\n",
    "        counts[e.channel] += 1\n",
    "    \n",
    "    # Compute the averages and convert to milliwatts (W -> mW).\n",
    "    avgs = [sum/count * 1000 for sum, count in zip(sums, counts)]\n",
    "    # print(avgs)\n",
    "    power_consumption+= [avgs]\n",
    "\n",
    "for clock, power in zip(clock_frequencies, power_consumption):\n",
    "    # print(power)\n",
    "    print(f'Clock:\\t{clock} MHz\\nio:\\t{np.ceil(power[0] * 1000):.0f} uW\\tAFE core:\\t{np.ceil(power[1] * 1000):.0f} uW\\tDFE+SNN core:\\t{np.ceil(power[2] * 1000):.0f} uW')"
   ]
  },
  {
   "cell_type": "markdown",
   "id": "baa3f1f9-7ce8-494f-a8b5-c3be438b1784",
   "metadata": {},
   "source": [
    "# Real-time Steps\n",
    "\n",
    "In real-time mode, the FPGA lets Xylo run freely and only performs readout after receiving a timestep done interrupt.\n",
    "This means sending input to Xylo from the FPGA is not supported in real-time mode.  Instead, the switches on the PCB must be configured such that Xylo receives input from the microphones on the PCB.\n"
   ]
  },
  {
   "cell_type": "code",
   "execution_count": 3,
   "id": "5c7e4dc6-d726-47f0-81f7-f2855b3edc44",
   "metadata": {},
   "outputs": [
    {
     "name": "stdout",
     "output_type": "stream",
     "text": [
      "500000\n"
     ]
    }
   ],
   "source": [
    "ts_duration   = 10*1e-3; # in second\n",
    "main_clk_freq = 50*1e6 # in Hz\n",
    "tr_wrap       = int(ts_duration*main_clk_freq)\n",
    "print(tr_wrap)\n",
    "\n",
    "# 0: input for Xylo, 1: Xylo output\n",
    "PDM_CLK_DIR  = 1\n",
    "# 0: Xylo samples PDM_DATA at risinge edge, 1: Xylo samples PDM_DATA at falling edge\n",
    "PDM_CLK_EDGE = 0\n",
    "\n",
    "def get_tr_wrap(ts_in_ms, main_clk_freq_in_mhz, debug=0):\n",
    "    ts_duration   = ts_in_ms*1e-3; # in second\n",
    "    main_clk_freq = main_clk_freq_in_mhz*1e6 # in Hz\n",
    "    tr_wrap       = int(ts_duration*main_clk_freq)\n",
    "    print(f\"set tr_wrap to 0x{format(tr_wrap,'_X')}\") if debug>=1 else None\n",
    "    return tr_wrap"
   ]
  },
  {
   "cell_type": "markdown",
   "id": "2bd0de7c-c363-4228-a03c-b93e7c4762b1",
   "metadata": {},
   "source": [
    "## Example with Rockpool"
   ]
  },
  {
   "cell_type": "code",
   "execution_count": 4,
   "id": "6cebeac6-db3d-4ad5-a6c9-98cb9c0b5544",
   "metadata": {},
   "outputs": [
    {
     "name": "stdout",
     "output_type": "stream",
     "text": [
      "Rockpool version 2.8.6.dev\n",
      "Samna version 0.39.5.7+g0e6db422\n",
      "from samna.xyloA3.configuration import InputInterfaceConfig\n",
      "The connected Xylo HDK contains a XyloAudio 3. Importing `rockpool.devices.xylo.syns65302`\n",
      "[<samna.xyloAudio3.XyloAudio3TestBoard object at 0x7d426571f3f0>] [<module 'rockpool.devices.xylo.syns65302' from '/home/vleite/SynSense/rockpool/rockpool/devices/xylo/syns65302/__init__.py'>] ['syns65302']\n"
     ]
    }
   ],
   "source": [
    "import warnings\n",
    "warnings.filterwarnings(\"ignore\")\n",
    "\n",
    "import rockpool\n",
    "print(f'Rockpool version {rockpool.__version__}')\n",
    "import samna\n",
    "print(f'Samna version {samna.__version__}')\n",
    "from rockpool.devices.xylo.syns65302 import config_from_specification, mapper, XyloMonitor, XyloSamna\n",
    "\n",
    "from rockpool.devices.xylo import find_xylo_hdks\n",
    "\n",
    "from rockpool.transform.quantize_methods import channel_quantize\n",
    "from rockpool.nn.modules import LIF, Linear\n",
    "from rockpool.nn.combinators import Sequential\n",
    "\n",
    "import numpy as np\n",
    "\n",
    "# find_xylo_hdks() directly calls the Samna device finder and opens all available devices.\n",
    "# When Samna opens a device, it will perform actions on the board. Such as, powering on the chip, resetting it,\n",
    "# applying a default configuration, and configuring the FPGA for default operation.\n",
    "\n",
    "hdks, modules, versions = find_xylo_hdks()\n",
    "print(hdks, modules, versions)\n",
    "\n",
    "for version, xylo in zip(versions, hdks):\n",
    "    if version == \"syns65302\":\n",
    "        xylo_node = xylo"
   ]
  },
  {
   "cell_type": "markdown",
   "id": "3af52c3d-130f-4597-af8d-c1f18c44adb1",
   "metadata": {},
   "source": [
    "## Build a model and map it to hardware"
   ]
  },
  {
   "cell_type": "code",
   "execution_count": 5,
   "id": "c4282fb5-6573-47b8-9613-c6d2fe89e1ee",
   "metadata": {},
   "outputs": [
    {
     "name": "stdout",
     "output_type": "stream",
     "text": [
      "ModSequential  with shape (16, 16) {\n",
      "    Linear '0_Linear' with shape (16, 63)\n",
      "    LIF '1_LIF' with shape (63, 63)\n",
      "    Linear '2_Linear' with shape (63, 16)\n",
      "    LIF '3_LIF' with shape (16, 16)\n",
      "}\n"
     ]
    }
   ],
   "source": [
    "# simple model to test\n",
    "\n",
    "net = Sequential(\n",
    "    Linear((16, 63)),\n",
    "    LIF((63, 63)),\n",
    "\n",
    "    Linear((63, 16)),\n",
    "    LIF(16),\n",
    ")\n",
    "\n",
    "print(net)\n",
    "Nin = 16\n",
    "# net[0].weight *= 0.05\n",
    "spec = mapper(net.as_graph())\n",
    "Q_spec = spec\n",
    "Q_spec.update(channel_quantize(**Q_spec))\n",
    "config, is_valid, msg = config_from_specification(**Q_spec)\n",
    "\n",
    "if not is_valid:\n",
    "    print(msg)"
   ]
  },
  {
   "cell_type": "markdown",
   "id": "8e3862ef-1054-46c2-99e9-300cac3d9bae",
   "metadata": {},
   "source": [
    "## Set up Samna graphs and configuration"
   ]
  },
  {
   "cell_type": "code",
   "execution_count": 6,
   "id": "e7c34a35-b254-4335-99e3-a8a900a5416c",
   "metadata": {},
   "outputs": [
    {
     "name": "stderr",
     "output_type": "stream",
     "text": [
      "[2024-10-29 06:15:28.628] [XyloAudio3] [warning] Requested SAER clock frequency 6 could not be achieved, used 5.9999995200000384 instead\n",
      "[2024-10-29 06:15:28.628] [XyloAudio3] [warning] Requested SADC clock frequency 6 could not be achieved, used 5.9999995200000384 instead\n"
     ]
    }
   ],
   "source": [
    "# create xylo monitor\n",
    "dt = 0.01\n",
    "dt_ms = dt * 1000\n",
    "\n",
    "config.operation_mode = samna.xyloAudio3.OperationMode.RealTime\n",
    "\n",
    "# inside XyloMonitor the buffers are created and FPGA modules are set\n",
    "xylo_monitor = XyloMonitor(device=xylo_node, main_clk_rate =50, \n",
    "    config=config, power_frequency=100,\n",
    "    dt = dt,\n",
    "    output_mode='Spike')\n"
   ]
  },
  {
   "cell_type": "code",
   "execution_count": 7,
   "id": "aab05b43-9267-46d8-9def-e8b921ca3431",
   "metadata": {},
   "outputs": [
    {
     "data": {
      "text/plain": [
       "xyloAudio3::configuration::XyloConfiguration(operation_mode=OperationMode.RealTime, input_source=InputSource.DigitalMicrophone, synapse2_enable=0, bias_enable=1, time_resolution_wrap=500000, output_counter_wrap=0, enable_hibernation_mode=0, hibernation_mode_time_resolution_wrap=0, input=xyloAudio3::configuration::InputConfig(weight_bit_shift=0, weights={ -31 62 50 -29 -58 87 -122 -102 -31 -31 -37 97 72 -79 -44 -21 -114 9 -68 92 -75 34 -37 127 -56 54 32 15 -85 -117 -106 -84 53 14 -56 -93 41 75 -80 -52 -127 -50 -92 -85 83 -115 -112 13 119 -88 -5 53 -17 -45 76 28 -91 -39 52 -120 -18 92 -14 -54 34 64 94 -124 -30 94 26 75 49 -124 -36 -36 62 66 92 127 -92 -70 -26 -97 -12 -94 13 -60 -87 105 -105 -114 -63 105 -127 49 -96 127 -108 110 -41 -82 -60 109 -7 99 -63 127 -62 14 85 -64 -29 -105 97 6 119 72 -88 -127 40 34 -61 88 -39 -65 82 40 -127 -112 -5 11 -83 -21 -100 28 41 8 -75 101 118 -74 -50 -52 37 -75 14 -82 -72 -21 41 -12 -87 107 22 17 -119 -18 114 -63 -50 47 -10 11 -102 -107 -40 0 127 39 21 -41 -95 -126 25 -78 117 -124 68 80 -108 122 102 -1 -109 19 52 -112 38 -80 -127 98 -31 123 -118 -14 -101 -127 -121 52 -112 -91 96 67 103 51 -106 -59 127 56 -19 -8 -57 77 -100 -12 105 -123 75 -124 -22 51 -12 25 123 -101 -3 28 -78 89 -25 121 -127 115 110 12 -30 -124 -107 -90 -1 -111 27 89 -110 -36 124 -104 -93 -57 71 -27 -97 -9 -72 124 -107 -114 -64 60 -4 40 45 115 12 -56 -101 -39 -57 125 127 39 69 106 -83 -100 -42 48 80 -118 95 23 -114 66 127 -90 95 -127 -38 -63 75 73 -85 41 -127 -43 29 -85 -118 -37 7 85 -104 63 6 39 113 34 -108 -127 14 43 -35 -5 -85 65 -82 61 98 -28 38 -30 -126 86 3 -27 -46 -49 80 15 118 40 41 -14 -6 -16 -73 -97 -9 38 -61 94 101 -88 23 120 -94 107 108 -103 48 89 43 -24 -32 52 121 63 100 -49 15 71 22 18 -127 -11 39 1 71 -68 -78 -97 -106 92 118 120 127 22 -5 62 -80 63 47 127 127 89 91 17 44 -21 -7 -25 -13 -69 -32 -93 -7 93 -127 -93 44 -47 90 5 -127 5 -78 108 127 108 10 91 -72 53 -27 -23 -100 -68 -98 -76 8 -16 91 88 31 60 -77 -12 -103 56 -69 -51 119 -68 73 -34 -127 -22 3 16 -43 11 33 119 -59 -127 -3 87 -118 106 -29 107 -40 16 127 127 89 83 127 48 -68 -24 127 11 57 125 -106 -109 -127 8 127 70 27 -34 -35 -101 -97 -54 68 -107 -9 -18 127 -21 44 50 -55 -44 29 127 -29 -127 -64 -66 50 127 -1 -49 -101 23 9 -64 -85 101 -66 -45 51 -100 -7 20 -107 90 -25 3 105 73 35 -88 -74 110 68 -38 44 86 -87 45 -116 -11 -51 -64 70 -108 -74 74 97 -103 106 107 108 -123 127 127 -75 -96 -50 -91 -126 46 -97 117 71 -34 -93 18 101 42 19 -127 123 37 -69 -92 115 -127 88 -112 127 127 -78 126 56 14 -24 -103 127 -106 -112 -73 -23 65 -22 -87 98 45 -71 -117 -97 -65 82 -121 -18 -127 62 -61 14 -127 95 31 72 -17 67 -123 -125 74 -24 22 -127 -74 -105 11 -113 71 -87 127 -67 16 -58 -67 -89 1 -2 -127 62 113 -3 -84 23 -12 -127 -55 49 94 -61 -127 4 27 25 -33 -113 -50 -56 16 -115 46 -85 -30 -60 -66 -105 -87 43 -126 -89 -115 -31 -71 121 58 92 -127 -69 23 -48 26 27 108 -67 118 -104 -116 -4 117 -75 -91 93 -89 47 127 26 -99 83 -33 -101 74 -5 81 -108 56 -53 -104 65 111 -113 43 -59 41 -94 -120 46 -6 58 127 127 21 -12 -65 97 -14 -127 23 42 -52 -120 -51 123 -96 -125 100 -115 9 40 10 -12 69 104 -44 -48 -4 -68 -72 -111 75 -26 69 -36 -54 -50 80 127 41 76 52 71 49 -75 -24 63 71 -87 94 -17 -11 76 104 48 -31 101 92 2 18 -90 -79 -8 30 69 -111 127 81 -75 -6 41 78 -80 -81 -35 -40 40 -69 -127 36 22 -127 -11 -106 4 -107 -61 64 -20 10 35 21 -4 38 -101 -58 -24 -54 21 -127 82 -5 -79 75 -27 112 64 -63 127 -11 -18 -127 109 -88 95 -119 120 79 52 -37 105 7 64 -24 -80 77 40 -118 -91 26 127 -127 -125 -125 15 41 -25 125 4 77 78 51 -99 21 18 2 67 112 -39 92 -126 117 -127 -90 21 125 -116 -127 7 95 62 64 26 -14 -13 89 -78 0 -103 10 87 1 -36 126 -77 79 -11 123 111 -90 40 6 -15 88 -12 -56 -82 67 -37 103 -68 101 -13 112 -64 -88 48 -73 47 -30 34 -62 -88 -2 108 -107 33 14 9 53 44 82 -97 -105 -97 -13 -51 102 -34 118 -60 -101 -58 111 79 -89 78 -72 -50 118 -21 117 -84 -30 90 -101 -62 102 40 35 -51 -106 127 61 23 -106 -48 -116 -105 -6 -118 -30 -50 26 85 44 79 -8 -4 35 -101 63 -110 -81 -77 119 12 -98 61 -109 -80 9 49 74 -74 109 -41 -57 92 -116 -7 -43 106 92 -24 19 -114 -12 -32 83 -66 117 86 95 -45 -45 127 -107 18 87 -78 -100 -32 125 -59 -90 115 -30 }, syn2_weights={ 0 }), hidden=xyloAudio3::configuration::HiddenConfig(weight_bit_shift=0, weights={ 0 0 0 0 0 0 0 0 0 0 0 0 0 0 0 0 0 0 0 0 0 0 0 0 0 0 0 0 0 0 0 0 0 0 0 0 0 0 0 0 0 0 0 0 0 0 0 0 0 0 0 0 0 0 0 0 0 0 0 0 0 0 0 0 0 0 0 0 0 0 0 0 0 0 0 0 0 0 0 0 0 0 0 0 0 0 0 0 0 0 0 0 0 0 0 0 0 0 0 0 0 0 0 0 0 0 0 0 0 0 0 0 0 0 0 0 0 0 0 0 0 0 0 0 0 0 0 0 0 0 0 0 0 0 0 0 0 0 0 0 0 0 0 0 0 0 0 0 0 0 0 0 0 0 0 0 0 0 0 0 0 0 0 0 0 0 0 0 0 0 0 0 0 0 0 0 0 0 0 0 0 0 0 0 0 0 0 0 0 0 0 0 0 0 0 0 0 0 0 0 0 0 0 0 0 0 0 0 0 0 0 0 0 0 0 0 0 0 0 0 0 0 0 0 0 0 0 0 0 0 0 0 0 0 0 0 0 0 0 0 0 0 0 0 0 0 0 0 0 0 0 0 0 0 0 0 0 0 0 0 0 0 0 0 0 0 0 0 0 0 0 0 0 0 0 0 0 0 0 0 0 0 0 0 0 0 0 0 0 0 0 0 0 0 0 0 0 0 0 0 0 0 0 0 0 0 0 0 0 0 0 0 0 0 0 0 0 0 0 0 0 0 0 0 0 0 0 0 0 0 0 0 0 0 0 0 0 0 0 0 0 0 0 0 0 0 0 0 0 0 0 0 0 0 0 0 0 0 0 0 0 0 0 0 0 0 0 0 0 0 0 0 0 0 0 0 0 0 0 0 0 0 0 0 0 0 0 0 0 0 0 0 0 0 0 0 0 0 0 0 0 0 0 0 0 0 0 0 0 0 0 0 0 0 0 0 0 0 0 0 0 0 0 0 0 0 0 0 0 0 0 0 0 0 0 0 0 0 0 0 0 0 0 0 0 0 0 0 0 0 0 0 0 0 0 0 0 0 0 0 0 0 0 0 0 0 0 0 0 0 0 0 0 0 0 0 0 0 0 0 0 0 0 0 0 0 0 0 0 0 0 0 0 0 0 0 0 0 0 0 0 0 0 0 0 0 0 0 0 0 0 0 0 0 0 0 0 0 0 0 0 0 0 0 0 0 0 0 0 0 0 0 0 0 0 0 0 0 0 0 0 0 0 0 0 0 0 0 0 0 0 0 0 0 0 0 0 0 0 0 0 0 0 0 0 0 0 0 0 0 0 0 0 0 0 0 0 0 0 0 0 0 0 0 0 0 0 0 0 0 0 0 0 0 0 0 0 0 0 0 0 0 0 0 0 0 0 0 0 0 0 0 0 0 0 0 0 0 0 0 0 0 0 0 0 0 0 0 0 0 0 0 0 0 0 0 0 0 0 0 0 0 0 0 0 0 0 0 0 0 0 0 0 0 0 0 0 0 0 0 0 0 0 0 0 0 0 0 0 0 0 0 0 0 0 0 0 0 0 0 0 0 0 0 0 0 0 0 0 0 0 0 0 0 0 0 0 0 0 0 0 0 0 0 0 0 0 0 0 0 0 0 0 0 0 0 0 0 0 0 0 0 0 0 0 0 0 0 0 0 0 0 0 0 0 0 0 0 0 0 0 0 0 0 0 0 0 0 0 0 0 0 0 0 0 0 0 0 0 0 0 0 0 0 0 0 0 0 0 0 0 0 0 0 0 0 0 0 0 0 0 0 0 0 0 0 0 0 0 0 0 0 0 0 0 0 0 0 0 0 0 0 0 0 0 0 0 0 0 0 0 0 0 0 0 0 0 0 0 0 0 0 0 0 0 0 0 0 0 0 0 0 0 0 0 0 0 0 0 0 0 0 0 0 0 0 0 0 0 0 0 0 0 0 0 0 0 0 0 0 0 0 0 0 0 0 0 0 0 0 0 0 0 0 0 0 0 0 0 0 0 0 0 0 0 0 0 0 0 0 0 0 0 0 0 0 0 0 0 0 0 0 0 0 0 0 0 0 0 0 0 0 0 0 0 0 0 0 0 0 0 0 0 0 0 0 0 0 0 0 0 0 0 0 0 0 0 0 0 0 0 0 0 0 0 0 0 0 0 0 0 0 0 0 0 0 0 0 0 0 0 0 0 0 0 0 0 0 0 0 0 0 0 0 0 0 0 0 0 0 0 0 0 0 0 0 0 0 0 0 0 0 0 0 0 0 0 0 0 0 0 0 0 0 0 0 0 0 0 0 0 0 0 0 0 0 0 0 0 0 0 0 0 0 0 0 0 0 0 0 0 0 0 0 0 0 0 0 0 0 0 0 0 0 0 0 0 0 0 0 0 0 0 0 0 0 0 0 0 0 0 0 0 0 0 0 0 0 0 0 0 0 0 0 0 0 0 0 0 0 0 0 0 0 0 0 0 0 0 0 0 0 0 0 0 0 0 0 0 0 0 0 0 0 0 0 0 0 0 0 0 0 0 0 0 0 0 0 0 0 0 0 0 0 0 0 0 0 0 0 0 0 0 0 0 0 0 0 0 0 0 0 0 0 0 0 0 0 0 0 0 0 0 0 0 0 0 0 0 0 0 0 0 0 0 0 0 0 0 0 0 0 0 0 0 0 0 0 0 0 0 0 0 0 0 0 0 0 0 0 0 0 0 0 0 0 0 0 0 0 0 0 0 0 0 0 0 0 0 0 0 0 0 0 0 0 0 0 0 0 0 0 0 0 0 0 0 0 0 0 0 0 0 0 0 0 0 0 0 0 0 0 0 0 0 0 0 0 0 0 0 0 0 0 0 0 0 0 0 0 0 0 0 0 0 0 0 0 0 0 0 0 0 0 0 0 0 0 0 0 0 0 0 0 0 0 0 0 0 0 0 0 0 0 0 0 0 0 0 0 0 0 0 0 0 0 0 0 0 0 0 0 0 0 0 0 0 0 0 0 0 0 0 0 0 0 0 0 0 0 0 0 0 0 0 0 0 0 0 0 0 0 0 0 0 0 0 0 0 0 0 0 0 0 0 0 0 0 0 0 0 0 0 0 0 0 0 0 0 0 0 0 0 0 0 0 0 0 0 0 0 0 0 0 0 0 0 0 0 0 0 0 0 0 0 0 0 0 0 0 0 0 0 0 0 0 0 0 0 0 0 0 0 0 0 0 0 0 0 0 0 0 0 0 0 0 0 0 0 0 0 0 0 0 0 0 0 0 0 0 0 0 0 0 0 0 0 0 0 0 0 0 0 0 0 0 0 0 0 0 0 0 0 0 0 0 0 0 0 0 0 0 0 0 0 0 0 0 0 0 0 0 0 0 0 0 0 0 0 0 0 0 0 0 0 0 0 0 0 0 0 0 0 0 0 0 0 0 0 0 0 0 0 0 0 0 0 0 0 0 0 0 0 0 0 0 0 0 0 0 0 0 0 0 0 0 0 0 0 0 0 0 0 0 0 0 0 0 0 0 0 0 0 0 0 0 0 0 0 0 0 0 0 0 0 0 0 0 0 0 0 0 0 0 0 0 0 0 0 0 0 0 0 0 0 0 0 0 0 0 0 0 0 0 0 0 0 0 0 0 0 0 0 0 0 0 0 0 0 0 0 0 0 0 0 0 0 0 0 0 0 0 0 0 0 0 0 0 0 0 0 0 0 0 0 0 0 0 0 0 0 0 0 0 0 0 0 0 0 0 0 0 0 0 0 0 0 0 0 0 0 0 0 0 0 0 0 0 0 0 0 0 0 0 0 0 0 0 0 0 0 0 0 0 0 0 0 0 0 0 0 0 0 0 0 0 0 0 0 0 0 0 0 0 0 0 0 0 0 0 0 0 0 0 0 0 0 0 0 0 0 0 0 0 0 0 0 0 0 0 0 0 0 0 0 0 0 0 0 0 0 0 0 0 0 0 0 0 0 0 0 0 0 0 0 0 0 0 0 0 0 0 0 0 0 0 0 0 0 0 0 0 0 0 0 0 0 0 0 0 0 0 0 0 0 0 0 0 0 0 0 0 0 0 0 0 0 0 0 0 0 0 0 0 0 0 0 0 0 0 0 0 0 0 0 0 0 0 0 0 0 0 0 0 0 0 0 0 0 0 0 0 0 0 0 0 0 0 0 0 0 0 0 0 0 0 0 0 0 0 0 0 0 0 0 0 0 0 0 0 0 0 0 0 0 0 0 0 0 0 0 0 0 0 0 0 0 0 0 0 0 0 0 0 0 0 0 0 0 0 0 0 0 0 0 0 0 0 0 0 0 0 0 0 0 0 0 0 0 0 0 0 0 0 0 0 0 0 0 0 0 0 0 0 0 0 0 0 0 0 0 0 0 0 0 0 0 0 0 0 0 0 0 0 0 0 0 0 0 0 0 0 0 0 0 0 0 0 0 0 0 0 0 0 0 0 0 0 0 0 0 0 0 0 0 0 0 0 0 0 0 0 0 0 0 0 0 0 0 0 0 0 0 0 0 0 0 0 0 0 0 0 0 0 0 0 0 0 0 0 0 0 0 0 0 0 0 0 0 0 0 0 0 0 0 0 0 0 0 0 0 0 0 0 0 0 0 0 0 0 0 0 0 0 0 0 0 0 0 0 0 0 0 0 0 0 0 0 0 0 0 0 0 0 0 0 0 0 0 0 0 0 0 0 0 0 0 0 0 0 0 0 0 0 0 0 0 0 0 0 0 0 0 0 0 0 0 0 0 0 0 0 0 0 0 0 0 0 0 0 0 0 0 0 0 0 0 0 0 0 0 0 0 0 0 0 0 0 0 0 0 0 0 0 0 0 0 0 0 0 0 0 0 0 0 0 0 0 0 0 0 0 0 0 0 0 0 0 0 0 0 0 0 0 0 0 0 0 0 0 0 0 0 0 0 0 0 0 0 0 0 0 0 0 0 0 0 0 0 0 0 0 0 0 0 0 0 0 0 0 0 0 0 0 0 0 0 0 0 0 0 0 0 0 0 0 0 0 0 0 0 0 0 0 0 0 0 0 0 0 0 0 0 0 0 0 0 0 0 0 0 0 0 0 0 0 0 0 0 0 0 0 0 0 0 0 0 0 0 0 0 0 0 0 0 0 0 0 0 0 0 0 0 0 0 0 0 0 0 0 0 0 0 0 0 0 0 0 0 0 0 0 0 0 0 0 0 0 0 0 0 0 0 0 0 0 0 0 0 0 0 0 0 0 0 0 0 0 0 0 0 0 0 0 0 0 0 0 0 0 0 0 0 0 0 0 0 0 0 0 0 0 0 0 0 0 0 0 0 0 0 0 0 0 0 0 0 0 0 0 0 0 0 0 0 0 0 0 0 0 0 0 0 0 0 0 0 0 0 0 0 0 0 0 0 0 0 0 0 0 0 0 0 0 0 0 0 0 0 0 0 0 0 0 0 0 0 0 0 0 0 0 0 0 0 0 0 0 0 0 0 0 0 0 0 0 0 0 0 0 0 0 0 0 0 0 0 0 0 0 0 0 0 0 0 0 0 0 0 0 0 0 0 0 0 0 0 0 0 0 0 0 0 0 0 0 0 0 0 0 0 0 0 0 0 0 0 0 0 0 0 0 0 0 0 0 0 0 0 0 0 0 0 0 0 0 0 0 0 0 0 0 0 0 0 0 0 0 0 0 0 0 0 0 0 0 0 0 0 0 0 0 0 0 0 0 0 0 0 0 0 0 0 0 0 0 0 0 0 0 0 0 0 0 0 0 0 0 0 0 0 0 0 0 0 0 0 0 0 0 0 0 0 0 0 0 0 0 0 0 0 0 0 0 0 0 0 0 0 0 0 0 0 0 0 0 0 0 0 0 0 0 0 0 0 0 0 0 0 0 0 0 0 0 0 0 0 0 0 0 0 0 0 0 0 0 0 0 0 0 0 0 0 0 0 0 0 0 0 0 0 0 0 0 0 0 0 0 0 0 0 0 0 0 0 0 0 0 0 0 0 0 0 0 0 0 0 0 0 0 0 0 0 0 0 0 0 0 0 0 0 0 0 0 0 0 0 0 0 0 0 0 0 0 0 0 0 0 0 0 0 0 0 0 0 0 0 0 0 0 0 0 0 0 0 0 0 0 0 0 0 0 0 0 0 0 0 0 0 0 0 0 0 0 0 0 0 0 0 0 0 0 0 0 0 0 0 0 0 0 0 0 0 0 0 0 0 0 0 0 0 0 0 0 0 0 0 0 0 0 0 0 0 0 0 0 0 0 0 0 0 0 0 0 0 0 0 0 0 0 0 0 0 0 0 0 0 0 0 0 0 0 0 0 0 0 0 0 0 0 0 0 0 0 0 0 0 0 0 0 0 0 0 0 0 0 0 0 0 0 0 0 0 0 0 0 0 0 0 0 0 0 0 0 0 0 0 0 0 0 0 0 0 0 0 0 0 0 0 0 0 0 0 0 0 0 0 0 0 0 0 0 0 0 0 0 0 0 0 0 0 0 0 0 0 0 0 0 0 0 0 0 0 0 0 0 0 0 0 0 0 0 0 0 0 0 0 0 0 0 0 0 0 0 0 0 0 0 0 0 0 0 0 0 0 0 0 0 0 0 0 0 0 0 0 0 0 0 0 0 0 0 0 0 0 0 0 0 0 0 0 0 0 0 0 0 0 0 0 0 0 0 0 0 0 0 0 0 0 0 0 0 0 0 0 0 0 0 0 0 0 0 0 0 0 0 0 0 0 0 0 0 0 0 0 0 0 0 0 0 0 0 0 0 0 0 0 0 0 0 0 0 0 0 0 0 0 0 0 0 0 0 0 0 0 0 0 0 0 0 0 0 0 0 0 0 0 0 0 0 0 0 0 0 0 0 0 0 0 0 0 0 0 0 0 0 0 0 0 0 0 0 0 0 0 0 0 0 0 0 0 0 0 0 0 0 0 0 0 0 0 0 0 0 0 0 0 0 0 0 0 0 0 0 0 0 0 0 0 0 0 0 0 0 0 0 0 0 0 0 0 0 0 0 0 0 0 0 0 0 0 0 0 0 0 0 0 0 0 0 0 0 0 0 0 0 0 0 0 0 0 0 0 0 0 0 0 0 0 0 0 0 0 0 0 0 0 0 0 0 0 0 0 0 0 0 0 0 0 0 0 0 0 0 0 0 0 0 0 0 0 0 0 0 0 0 0 0 0 0 0 0 0 0 0 0 0 0 0 0 0 0 0 0 0 0 0 0 0 0 0 0 0 0 0 0 0 0 0 0 0 0 0 0 0 0 0 0 0 0 0 0 0 0 0 0 0 0 0 0 0 0 0 0 0 0 0 0 0 0 0 0 0 0 0 0 0 0 0 0 0 0 0 0 0 0 0 0 0 0 0 0 0 0 0 0 0 0 0 0 0 0 0 0 0 0 0 0 0 0 0 0 0 0 0 0 0 0 0 0 0 0 0 0 0 0 0 0 0 0 0 0 0 0 0 0 0 0 0 0 0 0 0 0 0 0 0 0 0 0 0 0 0 0 0 0 0 0 0 0 0 0 0 0 0 0 0 0 0 0 0 0 0 0 0 0 0 0 0 0 0 0 0 0 0 0 0 0 0 0 0 0 0 0 0 0 0 0 0 0 0 0 0 0 0 0 0 0 0 0 0 0 0 0 0 0 0 0 0 0 0 0 0 0 0 0 0 0 0 0 0 0 0 0 0 0 0 0 0 0 0 0 0 0 0 0 0 0 0 0 0 0 0 0 0 0 0 0 0 0 0 0 0 0 0 0 0 0 0 0 0 0 0 0 0 0 0 0 0 0 0 0 0 0 0 0 0 0 0 0 0 0 0 0 0 0 0 0 0 0 0 0 0 0 0 0 0 0 0 0 0 0 0 0 0 0 0 0 0 0 0 0 0 0 0 0 0 0 0 0 0 0 0 0 0 0 0 0 0 0 0 0 0 0 0 0 0 0 0 0 0 0 0 0 0 0 0 0 0 0 0 0 0 0 0 0 0 0 0 0 0 0 0 0 0 0 0 0 0 0 0 0 0 0 0 0 0 0 0 0 0 0 0 0 0 0 0 0 0 0 0 0 0 0 0 0 0 0 0 0 0 0 0 0 0 0 0 0 0 0 0 0 0 0 0 0 0 0 0 0 0 0 0 0 0 0 0 0 0 0 0 0 0 0 0 0 0 0 0 0 0 0 0 0 0 0 0 0 0 0 0 0 0 0 0 0 0 0 0 0 0 0 0 0 0 0 0 0 0 0 0 0 0 0 0 0 0 0 0 0 0 0 0 0 0 0 0 0 0 0 0 0 0 0 0 0 0 0 0 0 0 0 0 0 0 0 0 0 0 0 0 0 0 0 0 0 0 0 0 0 0 0 0 0 0 0 0 0 0 0 0 0 0 0 0 0 0 0 0 0 0 0 0 0 0 0 0 0 0 0 0 0 0 0 0 0 0 0 0 0 0 0 0 0 0 0 0 0 0 0 0 0 0 0 0 0 0 0 0 0 0 0 0 0 0 0 0 0 0 0 0 0 0 0 0 0 0 0 0 0 0 0 0 0 0 0 0 0 0 0 0 0 0 0 0 0 0 0 0 0 0 0 0 0 0 0 0 0 0 0 0 0 0 0 0 0 0 0 0 0 0 0 0 0 0 0 0 0 0 0 0 0 0 0 0 0 0 0 0 0 0 0 0 0 0 0 0 0 0 0 0 0 0 0 0 0 0 0 0 0 0 0 0 0 0 0 0 0 0 0 0 0 0 0 0 0 0 0 0 0 0 0 0 0 0 0 0 0 0 0 0 0 0 0 0 0 0 0 0 0 0 0 0 0 0 0 0 0 0 0 0 0 0 0 0 0 0 0 0 0 0 0 0 0 0 0 0 0 0 0 0 0 0 0 0 0 0 0 0 0 0 0 0 0 0 0 0 0 0 0 0 0 0 0 0 0 0 0 0 0 0 0 0 0 0 0 0 0 0 }, syn2_weights={ 0 }, neurons={                                                                }, aliasing=1), readout=xyloAudio3::configuration::ReadoutConfig(weight_bit_shift=0, weights={ 48 117 -4 119 -98 -112 27 35 -43 -78 97 -96 -84 52 96 48 -61 0 34 0 -39 89 15 -52 90 122 94 -27 99 50 45 121 69 47 -1 4 -95 -1 125 76 65 57 -103 -51 106 -91 -55 8 -28 -104 104 2 -77 35 -3 117 -81 48 69 -91 -117 93 51 76 -125 12 -116 -65 49 -119 29 -80 127 -6 4 -114 114 -47 -5 -110 88 -117 73 22 -53 -66 60 -57 126 78 99 -75 -120 -34 48 -96 35 -115 -127 -2 106 103 84 81 -35 -62 103 -38 -43 -9 -43 44 14 81 17 95 118 37 3 68 -126 106 107 -6 -109 118 127 101 -79 49 -35 49 94 -26 -91 -19 -24 73 121 -25 -88 87 85 -32 104 127 32 -10 -57 -7 46 118 -119 -63 26 -2 -58 -118 -55 -48 9 -76 -37 92 23 -51 -34 -66 116 -93 -24 -99 49 118 83 -89 38 90 60 -66 -111 -56 -68 -104 20 26 19 40 -5 124 -35 -121 111 107 -44 78 112 -22 -123 11 11 46 -120 -126 -23 77 118 87 -88 -106 120 -49 -102 7 107 -89 -44 -59 103 61 69 28 -75 -84 110 -70 -42 80 -92 -127 88 107 92 1 -72 -58 80 -72 0 -94 -48 -64 2 56 -57 -126 -4 -92 -31 -105 -2 -51 -126 109 -17 -81 119 -79 -92 -41 54 -110 67 49 101 -33 82 -82 -97 63 38 -87 -68 -33 68 124 32 -110 -52 1 5 -19 92 -83 -32 -101 88 -53 97 35 -83 111 -91 64 13 19 81 86 95 48 54 88 29 123 110 115 105 -118 48 86 84 -103 -92 -2 54 97 117 -68 -105 20 57 50 82 -104 12 -54 -82 -72 65 -59 90 30 -21 -100 31 -75 -99 33 105 29 8 40 -11 83 11 -108 -22 -34 -75 118 -43 -43 57 119 -58 -124 64 -6 -124 -56 -98 3 -127 100 -98 -97 26 11 -30 -116 54 -59 9 -91 -14 -3 101 96 -89 72 -50 24 -85 92 70 103 -37 -35 113 -52 41 -7 99 19 -70 125 -80 -101 -38 121 52 25 94 120 21 -2 -6 -35 31 -107 71 -94 101 25 27 -34 -6 89 39 -110 -105 -80 116 -25 -117 -28 101 100 -55 43 -41 58 119 98 -9 -67 -112 58 50 90 -47 28 127 116 7 -49 107 -61 53 -61 -5 72 127 63 -66 66 15 -3 13 13 70 127 -33 -26 -58 17 46 55 -96 34 -33 -120 43 -32 -26 -61 100 38 33 -60 -16 70 -48 111 -62 -73 -116 46 66 -127 97 78 -36 98 78 96 -48 125 57 82 95 -40 -3 105 -94 -79 -56 -71 83 19 -119 1 117 -75 -59 -52 -76 -9 97 118 -114 -88 90 -57 44 -123 -53 -77 -26 -94 -117 122 -107 -4 -119 12 -74 -75 -21 54 -21 -35 -56 -74 -74 61 -112 -57 103 -19 107 86 62 8 66 -88 -32 105 74 3 -38 -89 -122 124 -115 -102 90 76 -127 -88 79 -45 117 -73 -77 46 -92 63 46 -89 -46 46 14 -122 -80 -59 95 -86 -62 -62 8 124 -16 2 4 63 -96 85 127 88 -126 62 13 85 -46 60 -75 -84 61 124 -67 127 -15 -104 -18 -120 84 -73 -22 -44 -90 -127 -33 40 -69 -35 -68 -25 87 3 -111 -1 -68 -1 112 -69 -58 -48 35 -70 52 -53 92 79 -98 76 -38 -121 110 -74 -11 5 85 -66 -120 33 -11 102 -62 -7 31 -57 106 3 39 -106 23 57 99 -56 -13 91 -127 -4 85 43 -49 -93 -36 92 -124 -21 -43 -77 -31 55 -61 -88 7 -48 70 3 -45 -44 41 -90 -88 -53 67 -104 50 6 -37 114 -25 -9 85 -7 12 100 -30 -120 44 72 -55 114 91 55 -110 -101 -98 -92 -97 -9 100 -42 3 24 -42 37 -116 99 -10 112 124 -15 -78 17 -36 -8 -54 86 -114 103 -74 -81 -86 49 -127 107 14 -34 58 -27 -71 57 -63 5 29 -99 -115 35 -90 73 -13 60 -66 4 53 -62 90 -124 66 43 -5 100 -90 -45 64 127 -80 -106 107 57 37 87 -44 69 -29 54 -14 -127 -13 72 -29 -56 38 47 -4 96 77 81 -81 -8 -75 -50 -5 56 -58 8 -73 108 93 113 60 -87 99 100 114 -126 98 -120 -125 84 -93 60 -124 87 59 73 -126 78 15 -123 -89 14 -95 -74 -76 30 68 111 -42 -68 5 -50 101 123 -54 27 102 73 -90 126 -48 73 119 -15 12 -101 -41 -16 -19 -70 -125 57 76 -59 -89 -123 98 29 -42 37 -122 82 -17 -91 71 -116 20 -87 24 24 -26 116 47 109 -112 -75 -26 98 -71 -55 84 84 41 -91 -104 56 -47 23 -74 -47 -17 -77 -70 -72 126 99 -47 -1 -98 34 -44 -53 -52 16 -123 -46 68 -61 69 -90 -72 -106 42 55 -98 -89 -21 55 -98 34 50 80 -75 80 92 69 86 43 -9 127 -73 56 -38 28 80 62 38 -125 78 74 -37 32 -109 45 -8 92 -83 119 78 -111 -30 -69 -33 42 -105 82 -32 -74 -32 27 -79 -121 29 -81 99 -6 -112 -63 -124 -109 19 -14 -94 105 102 -115 -62 -2 -14 25 -81 -117 -7 -29 23 -20 17 -110 -6 5 -18 -57 -87 -3 }, neurons={                 }), analog_frontend=xyloAudio3::configuration::AnalogFrontendConfig(automatic_gain_control=xyloAudio3::configuration::AutomaticGainControlConfig(enable_pga_fixed_gain=1, pga_fixed_gain_index_value=0, rise_average_bit_shift=3, fall_average_bit_shift=16, reliable_max_hysteresis=5, max_sample_number=195312, wait_time_vectors={ 48828 69053 84572 97656 109183 119603 129187 138106 146484 154408 161944 169145 176052 182698 189110 195312 }, amp_thresholds={ 9 12 15 19 24 30 38 48 60 76 96 121 153 193 243 307 }, pga_gain_index_variations={ 1 1 1 1 1 1 1 1 1 1 1 1 1 1 0 0 -1 }, aaf_oversampling_mode=1, anti_alias_filter_a_parameters={ -76101 93600 -46155 15598 }, anti_alias_filter_b_parameters={ 45 63 96 63 45 }, anti_alias_filter_surplus=163, anti_alias_filter_baf=16, enable_gain_smoother=0, gain_high_res_init_value=2097152, gain_smoother_average_bit_shift=12, gain_smoother_gain_fraction_num_bits=9, up_gain_rotation_shift_averages={ 2641920 2641920 2641920 2641920 2641920 2641920 2641920 2641920 2641920 2641920 2641920 2641920 2641920 2641920 2641920 }, down_gain_rotation_shift_averages={ 1662976 1662976 1662976 1662976 1662976 1662976 1662976 1662976 1662976 1662976 1662976 1662976 1662976 1662976 1662976 }), adc=xyloAudio3::configuration::AdcConfig(enable_adc_serial=0, adc_conversion_speed=3), ivgen=xyloAudio3::configuration::IvgenConfig(temperature_slope_trim_bandgap=8, absolute_value_trim_bandgap=95, trim_value_ptat=24, enable_chopping=0, current_ptat=3, current_mirror=3, enable_lp=0, ldo_digital_bias=7, adc_buffer_bias=0, afe_lna_bias=1, afe_pga_bias=0, afe_drv_bias=0, adc_buffer_test=0, current_mirror_input1=3, current_mirror_input2=1), ldo=xyloAudio3::configuration::LdoConfig(bypass_ldo_analog=0, bypass_ldo_digital=0, vdd_digital_core_voltage=0, vdd_analog_core_voltage=0, vcm_lna_voltage=1, vref_lna_h_voltage=2, vref_lna_l_voltage=1, vcm_pga_voltage=1, vcm_pga_l_voltage=1, vref_drv_l_voltage=0, ldo_digital_capacitor_stability=1, ldo_digital_bias_stability=0, enable_ldo_digital_current_limiting=1, ldo_digital_current_limit=1), lna_cft=12), digital_frontend=xyloAudio3::configuration::DigitalFrontendConfig(pdm_preprocessing=xyloAudio3::configuration::PdmPreprocessingConfig(clock_direction=1, clock_edge=0, h_values={ -115 553 -1962 3916 19991 3314 -1822 533 0 0 533 -1822 3314 19991 3916 -1962 553 -115 0 510 -1677 2735 19943 4538 -2096 570 -107 0 484 -1530 2181 19846 5180 -2224 583 -98 0 457 -1382 1652 19701 5838 -2342 592 -90 0 429 -1233 1151 19509 6511 -2451 596 -80 0 399 -1086 679 19270 7195 -2547 595 -70 0 369 -941 236 18987 7889 -2630 588 -59 0 338 -799 -176 18659 8589 -2697 575 -47 0 308 -662 -559 18290 9293 -2748 556 -34 0 277 -529 -910 17881 9998 -2780 529 -20 0 248 -402 -1229 17433 10700 -2792 495 -4 0 218 -282 -1517 16949 11398 -2782 454 11 0 190 -168 -1775 16432 12087 -2750 405 29 0 163 -62 -2001 15883 12765 -2693 347 48 0 138 35 -2197 15305 13429 -2610 282 68 0 113 126 -2363 14702 14076 -2500 208 90 0 90 208 -2500 14076 14702 -2363 126 113 0 68 282 -2610 13429 15305 -2197 35 138 0 48 347 -2693 12765 15883 -2001 -62 163 0 29 405 -2750 12087 16432 -1775 -168 190 0 11 454 -2782 11398 16949 -1517 -282 218 0 -4 495 -2792 10700 17433 -1229 -402 248 0 -20 529 -2780 9998 17881 -910 -529 277 0 -34 556 -2748 9293 18290 -559 -662 308 0 -47 575 -2697 8589 18659 -176 -799 338 0 -59 588 -2630 7889 18987 236 -941 369 0 -70 595 -2547 7195 19270 679 -1086 399 0 -80 596 -2451 6511 19509 1151 -1233 429 0 -90 592 -2342 5838 19701 1652 -1382 457 0 -98 583 -2224 5180 19846 2181 -1530 484 0 -107 570 -2096 4538 19943 2735 -1677 510 }), filter_bank=xyloAudio3::configuration::FilterBankConfig(bpf_bb_values={ 8 8 7 7 6 6 5 5 4 4 4 3 3 2 2 1 }, bpf_bwf_values={ 8 8 8 8 8 8 8 8 8 8 8 8 8 8 8 8 }, bpf_baf_values={ 6 6 7 7 8 8 9 9 10 10 10 11 11 13 13 14 }, bpf_a1_values={ -32694 -32663 -32617 -32551 -32453 -32305 -32077 -31718 -31139 -30185 -28582 -25862 -21262 -27375 -4180 25566 }, bpf_a2_values={ 16313 16284 16244 16188 16110 16000 15848 15638 15347 14947 14402 13666 12687 22803 19488 15280 }, use_global_iaf_threshold=1, iaf_thresholds={ 33554432 33554432 33554432 33554432 33554432 33554432 33554432 33554432 33554432 33554432 33554432 33554432 33554432 33554432 33554432 33554432 }, dn_enable=1, dn_eps_values={ 32 32 32 32 32 32 32 32 32 32 32 32 32 32 32 32 }, dn_b_values={ 12 12 12 12 12 12 12 12 12 12 12 12 12 12 12 12 }, dn_k1_values={ 6 6 6 6 6 6 6 6 6 6 6 6 6 6 6 6 }, dn_k2_values={ 0 0 0 0 0 0 0 0 0 0 0 0 0 0 0 0 }), vad_time_window=0, hibernation_mode_enable=0, hibernation_mode_threshold=0, hibernation_mode_time_window=0), debug=xyloAudio3::configuration::DebugConfig(direct_output_delay=127, use_timestamps=0, i2c_noise_filter_cycle=1, monitor_neuron_v_mem={ }, monitor_neuron_i_syn={ }, monitor_neuron_i_syn2={ }, monitor_neuron_spike={ }, input_write_select=0, input_read_select=0, debug_input_enable=0, monitor_signals={ 0 0 0 0 }, monitor_signals_enable=0, pad_control=(...), debug_status_update_enable=0, keep_interrupt=0, always_update_omp_stat=1, cntr_stat_reg_source=0, ram_wake_up_settle_time=0, ram_auto_sleep_control=0, ram_manual_sleep_enable=0, ram_light_sleep=0, ram_deep_sleep=0, ram_power_enable=0, i2c_clock_ratio=0, adc_clock_ratio=0, sdm_clock_ratio=24, spk2saer_clock_ratio=0, isyn_clock_enable=0, isyn2_clock_enable=0, alias_clock_enable=0, bias_clock_enable=0, hm_clock_enable=0, read_timing_select=1, write_timing_select=1, analog_test_mode=xyloAudio3::configuration::AnalogTestModeConfig(enable_current_test_mode=0, select_test_mode=0, bypass_test_buffer=0, speed_test_buffer0=4, speed_test_buffer1=4, monitoring_test_signals=0, enable_test_buffers=0, update_ana1=0, monitor_dynamic_signals=0, monitor_static_signals=0, static_pull_down=3, static_pull_up=0, dynamic_pull_down=3, dynamic_pull_up=0, enable_static=0, enable_dynamic=0, update_ana2=0, n_set1=5, n_set2=4, n_set3=9, n_vld=3, n_smp=5, n_pd=64, n_chop=1, bypass_afe=0, bypass_vref=0, enable_dig_mon=0, analog_mon_sel=0, digital_mon_sel=0)))"
      ]
     },
     "execution_count": 7,
     "metadata": {},
     "output_type": "execute_result"
    }
   ],
   "source": [
    "config"
   ]
  },
  {
   "cell_type": "code",
   "execution_count": 8,
   "id": "6a361cdf-8db4-477e-9abd-5ebfbae7c0db",
   "metadata": {},
   "outputs": [
    {
     "name": "stdout",
     "output_type": "stream",
     "text": [
      "samna version: 0.39.9.0\n",
      "\n",
      "# ======= read important registers =======\n",
      "\n",
      "adctest       : 0x0\n",
      "ivgen       : 0x371_2457 vs 7331_85F8\n",
      "ivgen2       : 0x3323_1103 vs 1323_1107\n",
      "ivgen3       : 0x1112_1000 vs 1112_1003\n",
      "ivgen4       : 0x200 vs 0000_1210\n",
      "ivgen5       : 0xC00 vs 0000_0C07\n",
      "ivgen6       : 0x0 vs 0000_0031\n",
      "ctrl1       : 0x143_000C vs 0x143_011C\n",
      "ctrl2       : 0x3E_3E0F vs 0x9_0902\n",
      "ctrl3       : 0x3E0F vs 0x901\n",
      "\n",
      "tr_wrap     : 0x7_A120 vs 0x2FA_F080\n",
      "hm_tr_wrap  : 0x0 vs 0x0\n",
      "\n",
      "clk_ctrl    : 0x11 vs 0x11\n",
      "clk_div     : 0x18_0000 vs 0x18_0000\n",
      "\n",
      "pwr_ctrl1   : 0x30_00FF vs 0x33_00FF\n",
      "pwr_ctrl2   : 0x1_0001 vs 0x3_0001\n",
      "pwr_ctrl3   : 0x0 vs 0xFFFF_FFFF\n",
      "pwr_ctrl4   : 0x0 vs 0xFFFF_0001\n",
      "\n",
      "pad_ctrl    : 0x0 vs 0x0\n",
      "ie1         : 0x0 vs 0x0\n",
      "ie2         : 0x1 vs 0x1\n",
      "out_ctrl    : 0x70 vs 0x70\n",
      "\n",
      "monsel      : 0x0 vs 0x0\n",
      "mon_grp_sel : 0x1F1F_0773 vs 0x1F1F_0773\n",
      "dbg_ctrl1   : 0x0 vs 0x0\n",
      "dbg_stat1   : 0x0 vs 0x0\n",
      "dfe_ctrl   : 0x3FFF_0537 vs 0x510\n",
      "\n"
     ]
    }
   ],
   "source": [
    "# create xylo monitor\n",
    "dt = 0.01\n",
    "\n",
    "config.operation_mode                                        = samna.xyloAudio3.OperationMode.RealTime\n",
    "config.time_resolution_wrap                                  = get_tr_wrap(ts_in_ms=1000, main_clk_freq_in_mhz=50, debug=1)\n",
    "config.debug.always_update_omp_stat                          = True\n",
    "config.input_source                                          = samna.xyloAudio3.InputSource.DigitalMicrophone\n",
    "config.digital_frontend.filter_bank.dn_enable                = False\n",
    "config.digital_frontend.filter_bank.use_global_iaf_threshold = False\n",
    "config.digital_frontend.pdm_preprocessing.clock_direction    = PDM_CLK_DIR\n",
    "config.digital_frontend.pdm_preprocessing.clock_edge         = PDM_CLK_EDGE\n",
    "config.debug.sdm_clock_ratio                                 = 24\n",
    "\n",
    "# inside XyloMonitor the buffers are created and FPGA modules are set\n",
    "xylo_monitor = XyloMonitor(device=xylo_node, \n",
    "    config=config, \n",
    "    dt = dt,\n",
    "    output_mode='Spike')\n"
   ]
  },
  {
   "cell_type": "markdown",
   "id": "992ec60e-f1c5-4f97-b225-d684e97d240c",
   "metadata": {},
   "source": [
    "## Start processing and collect events\n",
    "\n",
    "* Send TriggerProcessing event from Samna with the desired time step\n",
    "* Collect readout events in the BufferSink attached to the model source node"
   ]
  },
  {
   "cell_type": "code",
   "execution_count": 5,
   "id": "98971254-fcc7-4ee1-bd11-2ee87fcf63f6",
   "metadata": {
    "scrolled": true
   },
   "outputs": [
    {
     "name": "stdout",
     "output_type": "stream",
     "text": [
      "XyloAudio 3\n",
      "io:\t1897 uW\tAFE core:\t13 uW\tDFE+SNN core:\t1447 uW\n",
      "\n"
     ]
    }
   ],
   "source": [
    "import numpy as np\n",
    "T = 300 # timesteps\n",
    "\n",
    "for i in range(10):\n",
    "    out, _, rec = xylo_monitor.evolve(input_data=np.zeros((T, Nin)), record=False, record_power=True)\n",
    "    # print(out)\n",
    "    # print(rec)\n",
    "\n",
    "# print(len(rec['io_power']))\n",
    "# print(out)\n",
    "\n",
    "io_power = np.mean(rec['io_power'])\n",
    "analog = np.mean(rec['analog_power'])\n",
    "digital = np.mean(rec['digital_power'])\n",
    "\n",
    "print(f'XyloAudio 3\\nio:\\t{np.ceil(io_power * 1000000):.0f} uW\\tAFE core:\\t{np.ceil(analog * 1000000):.0f} uW\\tDFE+SNN core:\\t{np.ceil(digital * 1000000):.0f} uW\\n')\n"
   ]
  },
  {
   "cell_type": "code",
   "execution_count": 6,
   "id": "c5aed48d-773b-4b19-8473-744363ee8aa4",
   "metadata": {},
   "outputs": [
    {
     "data": {
      "text/plain": [
       "<matplotlib.colorbar.Colorbar at 0x7d41dc0decb0>"
      ]
     },
     "execution_count": 6,
     "metadata": {},
     "output_type": "execute_result"
    },
    {
     "data": {
      "image/png": "[encoded data removed]",
      "text/plain": [
       "<Figure size 1500x500 with 2 Axes>"
      ]
     },
     "metadata": {},
     "output_type": "display_data"
    }
   ],
   "source": [
    "import matplotlib.pyplot as plt\n",
    "plt.figure(figsize=(15,5))\n",
    "plt.subplot(131), plt.imshow(np.array(out).T, aspect='auto', interpolation='none'); plt.title('readout spikes'); plt.xlabel('Time'); plt.ylabel('Neuron index'); plt.colorbar()"
   ]
  },
  {
   "cell_type": "code",
   "execution_count": null,
   "id": "96366fe0-199e-48e1-a678-ec3d1d060656",
   "metadata": {},
   "outputs": [],
   "source": []
  }
 ],
 "metadata": {
  "kernelspec": {
   "display_name": "Python 3 (ipykernel)",
   "language": "python",
   "name": "python3"
  },
  "language_info": {
   "codemirror_mode": {
    "name": "ipython",
    "version": 3
   },
   "file_extension": ".py",
   "mimetype": "text/x-python",
   "name": "python",
   "nbconvert_exporter": "python",
   "pygments_lexer": "ipython3",
   "version": "3.10.12"
  }
 },
 "nbformat": 4,
 "nbformat_minor": 5
}
