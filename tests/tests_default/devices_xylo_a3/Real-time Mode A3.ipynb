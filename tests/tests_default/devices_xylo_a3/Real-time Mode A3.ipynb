{
 "cells": [
  {
   "cell_type": "markdown",
   "id": "baa3f1f9-7ce8-494f-a8b5-c3be438b1784",
   "metadata": {},
   "source": [
    "# Real-time Steps\n",
    "\n",
    "In real-time mode, the FPGA lets Xylo run freely and only performs readout after receiving a timestep done interrupt.\n",
    "This means sending input to Xylo from the FPGA is not supported in real-time mode.  Instead, the switches on the PCB must be configured such that Xylo receives input from the microphones on the PCB.\n"
   ]
  },
  {
   "cell_type": "markdown",
   "id": "6be1fd9c-8f83-4b33-b6a9-6652a384b2a0",
   "metadata": {},
   "source": [
    "## Simple Samna example to access the board"
   ]
  },
  {
   "cell_type": "code",
   "execution_count": 1,
   "id": "5c7e4dc6-d726-47f0-81f7-f2855b3edc44",
   "metadata": {},
   "outputs": [
    {
     "name": "stdout",
     "output_type": "stream",
     "text": [
      "500000\n"
     ]
    }
   ],
   "source": [
    "ts_duration   = 10*1e-3; # in second\n",
    "main_clk_freq = 50*1e6 # in Hz\n",
    "tr_wrap       = int(ts_duration*main_clk_freq)\n",
    "print(tr_wrap)\n",
    "\n",
    "# 0: input for Xylo, 1: Xylo output\n",
    "PDM_CLK_DIR  = 1\n",
    "# 0: Xylo samples PDM_DATA at risinge edge, 1: Xylo samples PDM_DATA at falling edge\n",
    "PDM_CLK_EDGE = 0\n",
    "\n",
    "def get_tr_wrap(ts_in_ms, main_clk_freq_in_mhz, debug=0):\n",
    "    ts_duration   = ts_in_ms*1e-3; # in second\n",
    "    main_clk_freq = main_clk_freq_in_mhz*1e6 # in Hz\n",
    "    tr_wrap       = int(ts_duration*main_clk_freq)\n",
    "    print(f\"set tr_wrap to 0x{format(tr_wrap,'_X')}\") if debug>=1 else None\n",
    "    return tr_wrap"
   ]
  },
  {
   "cell_type": "markdown",
   "id": "2bd0de7c-c363-4228-a03c-b93e7c4762b1",
   "metadata": {},
   "source": [
    "## Example with Rockpool\n",
    "\n",
    "Open Dev Kit\n",
    "\n",
    "* Call open_device() on a discovered device with Samna."
   ]
  },
  {
   "cell_type": "code",
   "execution_count": 2,
   "id": "6cebeac6-db3d-4ad5-a6c9-98cb9c0b5544",
   "metadata": {},
   "outputs": [
    {
     "name": "stdout",
     "output_type": "stream",
     "text": [
      "Rockpool version 2.8.8.dev\n",
      "Samna version 0.39.9.0\n",
      "The connected Xylo HDK contains a XyloAudio 3. Importing `rockpool.devices.xylo.syns65302`\n",
      "[<samna.xyloAudio3.XyloAudio3TestBoard object at 0x7b04650d3eb0>] [<module 'rockpool.devices.xylo.syns65302' from '/home/vleite/SynSense/rockpool/rockpool/devices/xylo/syns65302/__init__.py'>] ['syns65302']\n"
     ]
    }
   ],
   "source": [
    "import warnings\n",
    "warnings.filterwarnings(\"ignore\")\n",
    "\n",
    "import rockpool\n",
    "print(f'Rockpool version {rockpool.__version__}')\n",
    "import samna\n",
    "print(f'Samna version {samna.__version__}')\n",
    "from rockpool.devices.xylo.syns65302 import config_from_specification, mapper, XyloMonitor, XyloSamna\n",
    "\n",
    "from rockpool.devices.xylo import find_xylo_hdks\n",
    "\n",
    "from rockpool.transform.quantize_methods import channel_quantize\n",
    "from rockpool.nn.modules import LIF, Linear\n",
    "from rockpool.nn.combinators import Sequential\n",
    "\n",
    "import numpy as np\n",
    "\n",
    "# find_xylo_hdks() directly calls the Samna device finder and opens all available devices.\n",
    "# When Samna opens a device, it will perform actions on the board. Such as, powering on the chip, resetting it,\n",
    "# applying a default configuration, and configuring the FPGA for default operation.\n",
    "\n",
    "hdks, modules, versions = find_xylo_hdks()\n",
    "print(hdks, modules, versions)\n",
    "\n",
    "for version, xylo in zip(versions, hdks):\n",
    "    if version == \"syns65302\":\n",
    "        xylo_node = xylo"
   ]
  },
  {
   "cell_type": "markdown",
   "id": "3af52c3d-130f-4597-af8d-c1f18c44adb1",
   "metadata": {},
   "source": [
    "## Build a model and map it to hardware"
   ]
  },
  {
   "cell_type": "code",
   "execution_count": 3,
   "id": "c4282fb5-6573-47b8-9613-c6d2fe89e1ee",
   "metadata": {},
   "outputs": [
    {
     "name": "stdout",
     "output_type": "stream",
     "text": [
      "ModSequential  with shape (16, 16) {\n",
      "    Linear '0_Linear' with shape (16, 63)\n",
      "    LIF '1_LIF' with shape (63, 63)\n",
      "    Linear '2_Linear' with shape (63, 16)\n",
      "    LIF '3_LIF' with shape (16, 16)\n",
      "}\n"
     ]
    }
   ],
   "source": [
    "# simple model to test\n",
    "\n",
    "net = Sequential(\n",
    "    Linear((16, 63)),\n",
    "    LIF((63, 63)),\n",
    "\n",
    "    Linear((63, 16)),\n",
    "    LIF(16),\n",
    ")\n",
    "\n",
    "print(net)\n",
    "\n",
    "Nin = 16\n",
    "# net[0].weight *= 0.05\n",
    "spec = mapper(net.as_graph())\n",
    "Q_spec = spec\n",
    "Q_spec.update(channel_quantize(**Q_spec))\n",
    "config, is_valid, msg = config_from_specification(**Q_spec)\n",
    "\n",
    "if not is_valid:\n",
    "    print(msg)"
   ]
  },
  {
   "cell_type": "markdown",
   "id": "8e3862ef-1054-46c2-99e9-300cac3d9bae",
   "metadata": {},
   "source": [
    "## Set up Samna graphs and configuration\n",
    "\n",
    "* Create a buffer sink for events from the chip model source node. Readout events will be captured here.\n",
    "* Set Xylo configuration as desired for PDM and network config\n",
    "* Set Xylo TR_WRAP register for desired time step length with default 25 MHz clock\n",
    "* Set Xylo to real-time mode\n",
    "* Enable PCB switches for PDM microphones\n",
    "* Set FPGA module to real-time mode\n",
    "   * io.write_config(0x12, 0) and io.write_config(0x31, 2)"
   ]
  },
  {
   "cell_type": "code",
   "execution_count": 4,
   "id": "e7c34a35-b254-4335-99e3-a8a900a5416c",
   "metadata": {},
   "outputs": [
    {
     "name": "stdout",
     "output_type": "stream",
     "text": [
      "<samna.xyloAudio3.XyloAudio3TestBoard object at 0x7b04650d3eb0>\n",
      "set tr_wrap to 0x2FA_F080\n"
     ]
    },
    {
     "name": "stderr",
     "output_type": "stream",
     "text": [
      "[2024-10-29 07:57:12.509] [XyloAudio3] [warning] Requested SAER clock frequency 6 could not be achieved, used 5.9999995200000384 instead\n",
      "[2024-10-29 07:57:12.509] [XyloAudio3] [warning] Requested SADC clock frequency 6 could not be achieved, used 5.9999995200000384 instead\n"
     ]
    },
    {
     "name": "stdout",
     "output_type": "stream",
     "text": [
      "[xyloAudio3::event::RegisterValue(address=4, data=500000)]\n"
     ]
    }
   ],
   "source": [
    "# create xylo monitor\n",
    "dt = 0.01\n",
    "print(xylo_node)\n",
    "\n",
    "\n",
    "config.operation_mode                                        = samna.xyloAudio3.OperationMode.RealTime\n",
    "config.time_resolution_wrap                                  = get_tr_wrap(ts_in_ms=1000, main_clk_freq_in_mhz=50, debug=1)\n",
    "config.debug.always_update_omp_stat                          = True\n",
    "config.input_source                                          = samna.xyloAudio3.InputSource.DigitalMicrophone\n",
    "config.digital_frontend.filter_bank.dn_enable                = False\n",
    "config.digital_frontend.filter_bank.use_global_iaf_threshold = False\n",
    "config.digital_frontend.pdm_preprocessing.clock_direction    = PDM_CLK_DIR\n",
    "config.digital_frontend.pdm_preprocessing.clock_edge         = PDM_CLK_EDGE\n",
    "config.debug.sdm_clock_ratio                                 = 24\n",
    "\n",
    "# inside XyloMonitor the buffers are created and FPGA modules are set\n",
    "xylo_monitor = XyloMonitor(device=xylo_node, \n",
    "    config=config, \n",
    "    dt = dt,\n",
    "    output_mode='Spike')\n",
    "\n",
    "# print(xylo_monitor)\n",
    "xylo_monitor._write_buffer.write([samna.xyloAudio3.event.ReadRegisterValue(0x0004)])\n",
    "print(xylo_monitor._read_buffer.get_n_events(1, 2000))\n",
    "# print(xylo_monitor.config)\n"
   ]
  },
  {
   "cell_type": "markdown",
   "id": "992ec60e-f1c5-4f97-b225-d684e97d240c",
   "metadata": {},
   "source": [
    "## Start processing and collect events\n",
    "\n",
    "* Send TriggerProcessing event from Samna with the desired time step\n",
    "* Collect readout events in the BufferSink attached to the model source node"
   ]
  },
  {
   "cell_type": "code",
   "execution_count": 5,
   "id": "98971254-fcc7-4ee1-bd11-2ee87fcf63f6",
   "metadata": {},
   "outputs": [
    {
     "name": "stdout",
     "output_type": "stream",
     "text": [
      "100\n",
      "[[0 0 0 ... 0 0 0]\n",
      " [1 0 0 ... 0 0 0]\n",
      " [1 0 0 ... 0 0 0]\n",
      " ...\n",
      " [1 0 1 ... 0 0 0]\n",
      " [1 0 1 ... 0 0 0]\n",
      " [1 0 1 ... 0 0 0]]\n"
     ]
    }
   ],
   "source": [
    "import numpy as np\n",
    "T = int(1 / dt) # s / dt\n",
    "\n",
    "print(T)\n",
    "\n",
    "out, _, rec = xylo_monitor.evolve(input_data=np.zeros((T, Nin)), record=False, record_power=True)\n",
    "\n",
    "print(out)\n"
   ]
  },
  {
   "cell_type": "code",
   "execution_count": 6,
   "id": "5edf874d-2393-4036-88a7-fd4b9453920d",
   "metadata": {},
   "outputs": [
    {
     "name": "stdout",
     "output_type": "stream",
     "text": [
      "{'io_power': array([0.0018928 , 0.00190532, 0.00189907, 0.00190532, 0.00191787]), 'analog_power': array([1.24267590e-05, 1.85791014e-05, 2.45849624e-05, 1.24267590e-05,\n",
      "       2.48046890e-05]), 'digital_power': array([0.00145698, 0.00147205, 0.00146936, 0.00147205, 0.00143472])}\n"
     ]
    }
   ],
   "source": [
    "print(rec)\n"
   ]
  },
  {
   "cell_type": "code",
   "execution_count": 7,
   "id": "c5aed48d-773b-4b19-8473-744363ee8aa4",
   "metadata": {},
   "outputs": [
    {
     "data": {
      "text/plain": [
       "<matplotlib.colorbar.Colorbar at 0x7b046297ffd0>"
      ]
     },
     "execution_count": 7,
     "metadata": {},
     "output_type": "execute_result"
    },
    {
     "data": {
      "image/png": "[encoded data removed]",
      "text/plain": [
       "<Figure size 1500x500 with 2 Axes>"
      ]
     },
     "metadata": {},
     "output_type": "display_data"
    }
   ],
   "source": [
    "import matplotlib.pyplot as plt\n",
    "plt.figure(figsize=(15,5))\n",
    "plt.subplot(131), plt.imshow(np.array(out).T, aspect='auto', interpolation='none'); plt.title('readout spikes'); plt.xlabel('Time'); plt.ylabel('Neuron index'); plt.colorbar()"
   ]
  },
  {
   "cell_type": "code",
   "execution_count": null,
   "id": "23f69198-fd79-40cf-b65c-bbc3f737a164",
   "metadata": {},
   "outputs": [],
   "source": []
  }
 ],
 "metadata": {
  "kernelspec": {
   "display_name": "Python 3 (ipykernel)",
   "language": "python",
   "name": "python3"
  },
  "language_info": {
   "codemirror_mode": {
    "name": "ipython",
    "version": 3
   },
   "file_extension": ".py",
   "mimetype": "text/x-python",
   "name": "python",
   "nbconvert_exporter": "python",
   "pygments_lexer": "ipython3",
   "version": "3.10.12"
  }
 },
 "nbformat": 4,
 "nbformat_minor": 5
}
