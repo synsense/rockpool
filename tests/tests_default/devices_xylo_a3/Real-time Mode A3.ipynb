{
 "cells": [
  {
   "cell_type": "markdown",
   "id": "baa3f1f9-7ce8-494f-a8b5-c3be438b1784",
   "metadata": {},
   "source": [
    "# Real-time Steps\n",
    "\n",
    "In real-time mode, the FPGA lets Xylo run freely and only performs readout after receiving a timestep done interrupt.\n",
    "This means sending input to Xylo from the FPGA is not supported in real-time mode.  Instead, the switches on the PCB must be configured such that Xylo receives input from the microphones on the PCB.\n"
   ]
  },
  {
   "cell_type": "markdown",
   "id": "6be1fd9c-8f83-4b33-b6a9-6652a384b2a0",
   "metadata": {},
   "source": [
    "## Simple Samna example to access the board"
   ]
  },
  {
   "cell_type": "code",
   "execution_count": 1,
   "id": "5c7e4dc6-d726-47f0-81f7-f2855b3edc44",
   "metadata": {},
   "outputs": [
    {
     "name": "stdout",
     "output_type": "stream",
     "text": [
      "500000\n"
     ]
    }
   ],
   "source": [
    "ts_duration   = 10*1e-3; # in second\n",
    "main_clk_freq = 50*1e6 # in Hz\n",
    "tr_wrap       = int(ts_duration*main_clk_freq)\n",
    "print(tr_wrap)\n",
    "\n",
    "# 0: input for Xylo, 1: Xylo output\n",
    "PDM_CLK_DIR  = 1\n",
    "# 0: Xylo samples PDM_DATA at risinge edge, 1: Xylo samples PDM_DATA at falling edge\n",
    "PDM_CLK_EDGE = 0\n",
    "\n",
    "def get_tr_wrap(ts_in_ms, main_clk_freq_in_mhz, debug=0):\n",
    "    ts_duration   = ts_in_ms*1e-3; # in second\n",
    "    main_clk_freq = main_clk_freq_in_mhz*1e6 # in Hz\n",
    "    tr_wrap       = int(ts_duration*main_clk_freq)\n",
    "    print(f\"set tr_wrap to 0x{format(tr_wrap,'_X')}\") if debug>=1 else None\n",
    "    return tr_wrap"
   ]
  },
  {
   "cell_type": "markdown",
   "id": "2bd0de7c-c363-4228-a03c-b93e7c4762b1",
   "metadata": {},
   "source": [
    "## Example with Rockpool\n",
    "\n",
    "Open Dev Kit\n",
    "\n",
    "* Call open_device() on a discovered device with Samna."
   ]
  },
  {
   "cell_type": "code",
   "execution_count": 2,
   "id": "6cebeac6-db3d-4ad5-a6c9-98cb9c0b5544",
   "metadata": {},
   "outputs": [
    {
     "name": "stdout",
     "output_type": "stream",
     "text": [
      "Rockpool version 2.9\n",
      "Samna version 0.39.13.0+dirty\n",
      "The connected Xylo HDK contains a XyloAudio 3. Importing `rockpool.devices.xylo.syns65302`\n",
      "[<samna.xyloAudio3.XyloAudio3TestBoard object at 0x77a1bfb59ff0>] [<module 'rockpool.devices.xylo.syns65302' from '/home/vleite/SynSense/rockpool/rockpool/devices/xylo/syns65302/__init__.py'>] ['syns65302']\n"
     ]
    }
   ],
   "source": [
    "import warnings\n",
    "warnings.filterwarnings(\"ignore\")\n",
    "\n",
    "import rockpool\n",
    "print(f'Rockpool version {rockpool.__version__}')\n",
    "import samna\n",
    "print(f'Samna version {samna.__version__}')\n",
    "from rockpool.devices.xylo.syns65302 import config_from_specification, mapper, XyloMonitor, XyloSamna\n",
    "\n",
    "from rockpool.devices.xylo import find_xylo_hdks\n",
    "\n",
    "from rockpool.transform.quantize_methods import channel_quantize\n",
    "from rockpool.nn.modules import LIF, Linear\n",
    "from rockpool.nn.combinators import Sequential\n",
    "\n",
    "import numpy as np\n",
    "\n",
    "# find_xylo_hdks() directly calls the Samna device finder and opens all available devices.\n",
    "# When Samna opens a device, it will perform actions on the board. Such as, powering on the chip, resetting it,\n",
    "# applying a default configuration, and configuring the FPGA for default operation.\n",
    "\n",
    "hdks, modules, versions = find_xylo_hdks()\n",
    "print(hdks, modules, versions)\n",
    "\n",
    "for version, xylo in zip(versions, hdks):\n",
    "    if version == \"syns65302\":\n",
    "        xylo_node = xylo"
   ]
  },
  {
   "cell_type": "markdown",
   "id": "3af52c3d-130f-4597-af8d-c1f18c44adb1",
   "metadata": {},
   "source": [
    "## Build a model and map it to hardware"
   ]
  },
  {
   "cell_type": "code",
   "execution_count": 3,
   "id": "c4282fb5-6573-47b8-9613-c6d2fe89e1ee",
   "metadata": {},
   "outputs": [
    {
     "name": "stdout",
     "output_type": "stream",
     "text": [
      "ModSequential  with shape (16, 16) {\n",
      "    Linear '0_Linear' with shape (16, 63)\n",
      "    LIF '1_LIF' with shape (63, 63)\n",
      "    Linear '2_Linear' with shape (63, 16)\n",
      "    LIF '3_LIF' with shape (16, 16)\n",
      "}\n"
     ]
    }
   ],
   "source": [
    "# simple model to test\n",
    "\n",
    "net = Sequential(\n",
    "    Linear((16, 63)),\n",
    "    LIF((63, 63)),\n",
    "\n",
    "    Linear((63, 16)),\n",
    "    LIF(16),\n",
    ")\n",
    "\n",
    "print(net)\n",
    "\n",
    "Nin = 16\n",
    "# net[0].weight *= 0.05\n",
    "spec = mapper(net.as_graph())\n",
    "Q_spec = spec\n",
    "Q_spec.update(channel_quantize(**Q_spec))\n",
    "config, is_valid, msg = config_from_specification(**Q_spec)\n",
    "\n",
    "if not is_valid:\n",
    "    print(msg)"
   ]
  },
  {
   "cell_type": "markdown",
   "id": "8e3862ef-1054-46c2-99e9-300cac3d9bae",
   "metadata": {},
   "source": [
    "## Set up Samna graphs and configuration\n",
    "\n",
    "* Create a buffer sink for events from the chip model source node. Readout events will be captured here.\n",
    "* Set Xylo configuration as desired for PDM and network config\n",
    "* Set Xylo TR_WRAP register for desired time step length with default 25 MHz clock\n",
    "* Set Xylo to real-time mode\n",
    "* Enable PCB switches for PDM microphones\n",
    "* Set FPGA module to real-time mode\n",
    "   * io.write_config(0x12, 0) and io.write_config(0x31, 2)"
   ]
  },
  {
   "cell_type": "code",
   "execution_count": 4,
   "id": "e7c34a35-b254-4335-99e3-a8a900a5416c",
   "metadata": {},
   "outputs": [
    {
     "name": "stdout",
     "output_type": "stream",
     "text": [
      "<samna.xyloAudio3.XyloAudio3TestBoard object at 0x77a1bfb59ff0>\n",
      "set tr_wrap to 0x2FA_F080\n",
      "[xyloAudio3::event::RegisterValue(address=4, data=500000)]\n"
     ]
    },
    {
     "name": "stderr",
     "output_type": "stream",
     "text": [
      "[2024-11-29 10:08:35.412] [XyloAudio3] [warning] Requested SAER clock frequency 12 could not be achieved, used 11.999999040000077 instead\n",
      "[2024-11-29 10:08:35.412] [XyloAudio3] [warning] Requested SADC clock frequency 12 could not be achieved, used 11.999999040000077 instead\n"
     ]
    }
   ],
   "source": [
    "# create xylo monitor\n",
    "dt = 0.01\n",
    "print(xylo_node)\n",
    "\n",
    "\n",
    "config.operation_mode                                        = samna.xyloAudio3.OperationMode.RealTime\n",
    "config.time_resolution_wrap                                  = get_tr_wrap(ts_in_ms=1000, main_clk_freq_in_mhz=50, debug=1)\n",
    "config.debug.always_update_omp_stat                          = True\n",
    "config.input_source                                          = samna.xyloAudio3.InputSource.DigitalMicrophone\n",
    "config.digital_frontend.filter_bank.dn_enable                = False\n",
    "config.digital_frontend.filter_bank.use_global_iaf_threshold = False\n",
    "config.digital_frontend.pdm_preprocessing.clock_direction    = PDM_CLK_DIR\n",
    "config.digital_frontend.pdm_preprocessing.clock_edge         = PDM_CLK_EDGE\n",
    "config.debug.sdm_clock_ratio                                 = 24\n",
    "\n",
    "# inside XyloMonitor the buffers are created and FPGA modules are set\n",
    "xylo_monitor = XyloMonitor(device=xylo_node, \n",
    "    config=config, \n",
    "    dt = dt,\n",
    "    output_mode='Spike')\n",
    "\n",
    "# print(xylo_monitor)\n",
    "xylo_monitor._write_buffer.write([samna.xyloAudio3.event.ReadRegisterValue(0x0004)])\n",
    "print(xylo_monitor._read_buffer.get_n_events(1, 2000))\n",
    "# print(xylo_monitor.config)\n"
   ]
  },
  {
   "cell_type": "markdown",
   "id": "992ec60e-f1c5-4f97-b225-d684e97d240c",
   "metadata": {},
   "source": [
    "## Start processing and collect events\n",
    "\n",
    "* Send TriggerProcessing event from Samna with the desired time step\n",
    "* Collect readout events in the BufferSink attached to the model source node"
   ]
  },
  {
   "cell_type": "code",
   "execution_count": 5,
   "id": "98971254-fcc7-4ee1-bd11-2ee87fcf63f6",
   "metadata": {},
   "outputs": [
    {
     "name": "stdout",
     "output_type": "stream",
     "text": [
      "100\n",
      "[[0 0 0 ... 0 0 0]\n",
      " [1 0 0 ... 1 0 0]\n",
      " [1 0 0 ... 1 0 0]\n",
      " ...\n",
      " [1 0 0 ... 1 0 0]\n",
      " [1 0 0 ... 1 0 0]\n",
      " [1 0 0 ... 1 0 0]]\n"
     ]
    }
   ],
   "source": [
    "import numpy as np\n",
    "T = int(1 / dt) # s / dt\n",
    "\n",
    "print(T)\n",
    "\n",
    "out, _, rec = xylo_monitor.evolve(input_data=np.zeros((T, Nin)), record=False, record_power=True)\n",
    "\n",
    "print(out)\n"
   ]
  },
  {
   "cell_type": "code",
   "execution_count": 6,
   "id": "5edf874d-2393-4036-88a7-fd4b9453920d",
   "metadata": {},
   "outputs": [
    {
     "name": "stdout",
     "output_type": "stream",
     "text": [
      "{'io_power': array([0.00049179, 0.00049311, 0.00050771, 0.00051639, 0.00051552,\n",
      "       0.00049841, 0.00050191, 0.00050632, 0.0005037 , 0.00049921,\n",
      "       0.00050235, 0.00050731, 0.00050293, 0.00049882, 0.00050246,\n",
      "       0.00050569, 0.00050301, 0.00049791, 0.00050198, 0.000507  ,\n",
      "       0.00050242, 0.00049702, 0.00050253, 0.00050652, 0.00050312,\n",
      "       0.00049825, 0.00050151, 0.00050675, 0.00050266, 0.00049846,\n",
      "       0.00050245, 0.00050576, 0.00050129, 0.00049759, 0.0005029 ,\n",
      "       0.00050703, 0.00050274, 0.00049792, 0.00050153, 0.00050632,\n",
      "       0.0005022 , 0.00049854, 0.00050236, 0.00050581, 0.00050233,\n",
      "       0.00049791, 0.00050194, 0.00050767, 0.00050166, 0.00049831,\n",
      "       0.00050329, 0.00050657, 0.0005016 , 0.00049828, 0.0005034 ,\n",
      "       0.00050521, 0.00050116, 0.00049801, 0.00050429, 0.00050739,\n",
      "       0.00050121, 0.00049844, 0.00050344, 0.00050864, 0.00050189,\n",
      "       0.00049903, 0.00050441, 0.00050831, 0.00050028, 0.00049884,\n",
      "       0.00050722, 0.00050905, 0.00049979, 0.00049841, 0.00050826,\n",
      "       0.00050862, 0.00050064, 0.00049875, 0.00050951, 0.00050972,\n",
      "       0.00050169, 0.00050337, 0.00051213, 0.0005105 , 0.00050041,\n",
      "       0.00050296, 0.00051313, 0.00051278, 0.0005002 , 0.00050463,\n",
      "       0.00051592, 0.00051345, 0.00050067, 0.00050782, 0.00051785,\n",
      "       0.00051171, 0.00050011, 0.00050491, 0.00051688, 0.00051071]), 'analog_power': array([1.24967855e-05, 1.20166016e-05, 1.17527648e-05, 1.29425795e-05,\n",
      "       1.29073712e-05, 1.16353488e-05, 1.26888021e-05, 1.23038375e-05,\n",
      "       1.21051161e-05, 1.27613050e-05, 1.14385308e-05, 1.30398356e-05,\n",
      "       1.15871582e-05, 1.18962945e-05, 1.23752961e-05, 1.20816831e-05,\n",
      "       1.26533927e-05, 1.29245832e-05, 1.29618779e-05, 1.32014703e-05,\n",
      "       1.29561225e-05, 1.25729709e-05, 1.29768157e-05, 1.29400318e-05,\n",
      "       1.24636095e-05, 1.22964591e-05, 1.21921299e-05, 1.24603271e-05,\n",
      "       1.32340495e-05, 1.20937816e-05, 1.28569313e-05, 1.33792318e-05,\n",
      "       1.23843271e-05, 1.15425325e-05, 1.27580641e-05, 1.31671278e-05,\n",
      "       1.13857108e-05, 1.18528964e-05, 1.26071687e-05, 1.26649306e-05,\n",
      "       1.26860076e-05, 1.18851725e-05, 1.22625461e-05, 1.31824070e-05,\n",
      "       1.28836806e-05, 1.23795106e-05, 1.27844668e-05, 1.22146267e-05,\n",
      "       1.22382727e-05, 1.15569458e-05, 1.25349935e-05, 1.27761841e-05,\n",
      "       1.19244249e-05, 1.30999530e-05, 1.30892922e-05, 1.35795401e-05,\n",
      "       1.14510453e-05, 1.21247852e-05, 1.21058789e-05, 1.19622396e-05,\n",
      "       1.19718831e-05, 1.08933198e-05, 1.13656503e-05, 1.14745280e-05,\n",
      "       1.24240768e-05, 1.16410590e-05, 1.19013468e-05, 1.18708722e-05,\n",
      "       1.10533312e-05, 1.15311211e-05, 1.14959039e-05, 1.20118791e-05,\n",
      "       1.23102078e-05, 1.15460296e-05, 1.09406309e-05, 1.22009108e-05,\n",
      "       1.29485858e-05, 1.33372125e-05, 1.28036852e-05, 1.24615479e-05,\n",
      "       1.17909546e-05, 1.30487400e-05, 1.23927997e-05, 1.14817075e-05,\n",
      "       1.18988670e-05, 1.33399116e-05, 1.27124203e-05, 1.23646964e-05,\n",
      "       1.20274251e-05, 1.23699047e-05, 1.23218248e-05, 1.06876266e-05,\n",
      "       1.21334161e-05, 1.26431003e-05, 1.20945909e-05, 1.18361138e-05,\n",
      "       1.24444015e-05, 1.37640697e-05, 1.27374290e-05, 1.06629571e-05]), 'digital_power': array([0.00140617, 0.00148189, 0.00146899, 0.00144239, 0.00144089,\n",
      "       0.00146897, 0.00146723, 0.00144317, 0.00144209, 0.0014622 ,\n",
      "       0.00145809, 0.0014386 , 0.00145665, 0.00145975, 0.00143958,\n",
      "       0.00143996, 0.00146328, 0.00146414, 0.00143945, 0.00144137,\n",
      "       0.00146609, 0.00146405, 0.00143944, 0.00143936, 0.00146431,\n",
      "       0.00146463, 0.00143991, 0.00144159, 0.00145968, 0.00144937,\n",
      "       0.00144258, 0.00145954, 0.0014644 , 0.0014391 , 0.00143899,\n",
      "       0.00146135, 0.00146311, 0.00144073, 0.00144097, 0.00146135,\n",
      "       0.00146217, 0.00144119, 0.00143919, 0.00145875, 0.0014601 ,\n",
      "       0.00143977, 0.00144228, 0.00145594, 0.00144665, 0.0014391 ,\n",
      "       0.00145687, 0.00146125, 0.00144165, 0.00143855, 0.00145469,\n",
      "       0.00145726, 0.00144254, 0.00144265, 0.00145639, 0.0014553 ,\n",
      "       0.0014455 , 0.0014406 , 0.00145571, 0.00145241, 0.00143985,\n",
      "       0.0014457 , 0.00145273, 0.00144358, 0.0014396 , 0.0014526 ,\n",
      "       0.00145242, 0.00144034, 0.00144   , 0.00144825, 0.0014535 ,\n",
      "       0.0014385 , 0.0014393 , 0.00145123, 0.00144958, 0.00144026,\n",
      "       0.0014408 , 0.00144749, 0.00144559, 0.0014414 , 0.00144426,\n",
      "       0.00144524, 0.00143644, 0.00143953, 0.00144724, 0.00144929,\n",
      "       0.00143899, 0.00143999, 0.00144839, 0.00144777, 0.00143936,\n",
      "       0.00143856, 0.00144869, 0.00145125, 0.00144032, 0.00144121])}\n"
     ]
    }
   ],
   "source": [
    "print(rec)\n"
   ]
  },
  {
   "cell_type": "code",
   "execution_count": 7,
   "id": "c5aed48d-773b-4b19-8473-744363ee8aa4",
   "metadata": {},
   "outputs": [
    {
     "data": {
      "text/plain": [
       "<matplotlib.colorbar.Colorbar at 0x77a1bd80e410>"
      ]
     },
     "execution_count": 7,
     "metadata": {},
     "output_type": "execute_result"
    },
    {
     "data": {
      "image/png": "[encoded data removed]",
      "text/plain": [
       "<Figure size 1500x500 with 2 Axes>"
      ]
     },
     "metadata": {},
     "output_type": "display_data"
    }
   ],
   "source": [
    "import matplotlib.pyplot as plt\n",
    "plt.figure(figsize=(15,5))\n",
    "plt.subplot(131), plt.imshow(np.array(out).T, aspect='auto', interpolation='none'); plt.title('readout spikes'); plt.xlabel('Time'); plt.ylabel('Neuron index'); plt.colorbar()"
   ]
  },
  {
   "cell_type": "code",
   "execution_count": null,
   "id": "23f69198-fd79-40cf-b65c-bbc3f737a164",
   "metadata": {},
   "outputs": [],
   "source": []
  }
 ],
 "metadata": {
  "kernelspec": {
   "display_name": "Python 3",
   "language": "python",
   "name": "python3"
  },
  "language_info": {
   "codemirror_mode": {
    "name": "ipython",
    "version": 3
   },
   "file_extension": ".py",
   "mimetype": "text/x-python",
   "name": "python",
   "nbconvert_exporter": "python",
   "pygments_lexer": "ipython3",
   "version": "3.10.12"
  }
 },
 "nbformat": 4,
 "nbformat_minor": 5
}
