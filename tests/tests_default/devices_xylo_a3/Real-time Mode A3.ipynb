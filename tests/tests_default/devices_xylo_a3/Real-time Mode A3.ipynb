{
 "cells": [
  {
   "cell_type": "markdown",
   "id": "baa3f1f9-7ce8-494f-a8b5-c3be438b1784",
   "metadata": {},
   "source": [
    "# Real-time Steps\n",
    "\n",
    "In real-time mode, the FPGA lets Xylo run freely and only performs readout after receiving a timestep done interrupt.\n",
    "This means sending input to Xylo from the FPGA is not supported in real-time mode.  Instead, the switches on the PCB must be configured such that Xylo receives input from the microphones on the PCB.\n"
   ]
  },
  {
   "cell_type": "markdown",
   "id": "6be1fd9c-8f83-4b33-b6a9-6652a384b2a0",
   "metadata": {},
   "source": [
    "## Simple Samna example to access the board"
   ]
  },
  {
   "cell_type": "code",
   "execution_count": 1,
   "id": "5c7e4dc6-d726-47f0-81f7-f2855b3edc44",
   "metadata": {},
   "outputs": [
    {
     "name": "stdout",
     "output_type": "stream",
     "text": [
      "500000\n"
     ]
    }
   ],
   "source": [
    "ts_duration   = 10*1e-3; # in second\n",
    "main_clk_freq = 50*1e6 # in Hz\n",
    "tr_wrap       = int(ts_duration*main_clk_freq)\n",
    "print(tr_wrap)\n",
    "\n",
    "# 0: input for Xylo, 1: Xylo output\n",
    "PDM_CLK_DIR  = 1\n",
    "# 0: Xylo samples PDM_DATA at risinge edge, 1: Xylo samples PDM_DATA at falling edge\n",
    "PDM_CLK_EDGE = 0\n",
    "\n",
    "def get_tr_wrap(ts_in_ms, main_clk_freq_in_mhz, debug=0):\n",
    "    ts_duration   = ts_in_ms*1e-3; # in second\n",
    "    main_clk_freq = main_clk_freq_in_mhz*1e6 # in Hz\n",
    "    tr_wrap       = int(ts_duration*main_clk_freq)\n",
    "    print(f\"set tr_wrap to 0x{format(tr_wrap,'_X')}\") if debug>=1 else None\n",
    "    return tr_wrap"
   ]
  },
  {
   "cell_type": "markdown",
   "id": "2bd0de7c-c363-4228-a03c-b93e7c4762b1",
   "metadata": {},
   "source": [
    "## Example with Rockpool\n",
    "\n",
    "Open Dev Kit\n",
    "\n",
    "* Call open_device() on a discovered device with Samna."
   ]
  },
  {
   "cell_type": "code",
   "execution_count": 2,
   "id": "6cebeac6-db3d-4ad5-a6c9-98cb9c0b5544",
   "metadata": {},
   "outputs": [
    {
     "name": "stdout",
     "output_type": "stream",
     "text": [
      "Rockpool version 2.8\n",
      "Samna version 0.39.13.0+dirty\n",
      "The connected Xylo HDK contains a XyloAudio 3. Importing `rockpool.devices.xylo.syns65302`\n",
      "[<samna.xyloAudio3.XyloAudio3TestBoard object at 0x73dd2a5009b0>] [<module 'rockpool.devices.xylo.syns65302' from '/home/vleite/SynSense/rockpool/rockpool/devices/xylo/syns65302/__init__.py'>] ['syns65302']\n"
     ]
    }
   ],
   "source": [
    "import warnings\n",
    "warnings.filterwarnings(\"ignore\")\n",
    "\n",
    "import rockpool\n",
    "print(f'Rockpool version {rockpool.__version__}')\n",
    "import samna\n",
    "print(f'Samna version {samna.__version__}')\n",
    "from rockpool.devices.xylo.syns65302 import config_from_specification, mapper, XyloMonitor, XyloSamna\n",
    "\n",
    "from rockpool.devices.xylo import find_xylo_hdks\n",
    "\n",
    "from rockpool.transform.quantize_methods import channel_quantize\n",
    "from rockpool.nn.modules import LIF, Linear\n",
    "from rockpool.nn.combinators import Sequential\n",
    "\n",
    "import numpy as np\n",
    "\n",
    "# find_xylo_hdks() directly calls the Samna device finder and opens all available devices.\n",
    "# When Samna opens a device, it will perform actions on the board. Such as, powering on the chip, resetting it,\n",
    "# applying a default configuration, and configuring the FPGA for default operation.\n",
    "\n",
    "hdks, modules, versions = find_xylo_hdks()\n",
    "print(hdks, modules, versions)\n",
    "\n",
    "for version, xylo in zip(versions, hdks):\n",
    "    if version == \"syns65302\":\n",
    "        xylo_node = xylo"
   ]
  },
  {
   "cell_type": "markdown",
   "id": "3af52c3d-130f-4597-af8d-c1f18c44adb1",
   "metadata": {},
   "source": [
    "## Build a model and map it to hardware"
   ]
  },
  {
   "cell_type": "code",
   "execution_count": 3,
   "id": "c4282fb5-6573-47b8-9613-c6d2fe89e1ee",
   "metadata": {},
   "outputs": [
    {
     "name": "stdout",
     "output_type": "stream",
     "text": [
      "ModSequential  with shape (16, 16) {\n",
      "    Linear '0_Linear' with shape (16, 63)\n",
      "    LIF '1_LIF' with shape (63, 63)\n",
      "    Linear '2_Linear' with shape (63, 16)\n",
      "    LIF '3_LIF' with shape (16, 16)\n",
      "}\n"
     ]
    }
   ],
   "source": [
    "# simple model to test\n",
    "\n",
    "net = Sequential(\n",
    "    Linear((16, 63)),\n",
    "    LIF((63, 63)),\n",
    "\n",
    "    Linear((63, 16)),\n",
    "    LIF(16),\n",
    ")\n",
    "\n",
    "print(net)\n",
    "\n",
    "Nin = 16\n",
    "# net[0].weight *= 0.05\n",
    "spec = mapper(net.as_graph())\n",
    "Q_spec = spec\n",
    "Q_spec.update(channel_quantize(**Q_spec))\n",
    "config, is_valid, msg = config_from_specification(**Q_spec)\n",
    "\n",
    "if not is_valid:\n",
    "    print(msg)"
   ]
  },
  {
   "cell_type": "markdown",
   "id": "8e3862ef-1054-46c2-99e9-300cac3d9bae",
   "metadata": {},
   "source": [
    "## Set up Samna graphs and configuration\n",
    "\n",
    "* Create a buffer sink for events from the chip model source node. Readout events will be captured here.\n",
    "* Set Xylo configuration as desired for PDM and network config\n",
    "* Set Xylo TR_WRAP register for desired time step length with default 25 MHz clock\n",
    "* Set Xylo to real-time mode\n",
    "* Enable PCB switches for PDM microphones\n",
    "* Set FPGA module to real-time mode\n",
    "   * io.write_config(0x12, 0) and io.write_config(0x31, 2)"
   ]
  },
  {
   "cell_type": "code",
   "execution_count": 4,
   "id": "e7c34a35-b254-4335-99e3-a8a900a5416c",
   "metadata": {},
   "outputs": [
    {
     "name": "stdout",
     "output_type": "stream",
     "text": [
      "<samna.xyloAudio3.XyloAudio3TestBoard object at 0x73dd2a5009b0>\n",
      "set tr_wrap to 0x2FA_F080\n",
      "[xyloAudio3::event::RegisterValue(address=4, data=500000)]\n"
     ]
    },
    {
     "name": "stderr",
     "output_type": "stream",
     "text": [
      "[2024-11-29 10:00:36.655] [XyloAudio3] [warning] Requested SAER clock frequency 12 could not be achieved, used 11.999999040000077 instead\n",
      "[2024-11-29 10:00:36.655] [XyloAudio3] [warning] Requested SADC clock frequency 12 could not be achieved, used 11.999999040000077 instead\n"
     ]
    }
   ],
   "source": [
    "# create xylo monitor\n",
    "dt = 0.01\n",
    "print(xylo_node)\n",
    "\n",
    "\n",
    "config.operation_mode                                        = samna.xyloAudio3.OperationMode.RealTime\n",
    "config.time_resolution_wrap                                  = get_tr_wrap(ts_in_ms=1000, main_clk_freq_in_mhz=50, debug=1)\n",
    "config.debug.always_update_omp_stat                          = True\n",
    "config.input_source                                          = samna.xyloAudio3.InputSource.DigitalMicrophone\n",
    "config.digital_frontend.filter_bank.dn_enable                = False\n",
    "config.digital_frontend.filter_bank.use_global_iaf_threshold = False\n",
    "config.digital_frontend.pdm_preprocessing.clock_direction    = PDM_CLK_DIR\n",
    "config.digital_frontend.pdm_preprocessing.clock_edge         = PDM_CLK_EDGE\n",
    "config.debug.sdm_clock_ratio                                 = 24\n",
    "\n",
    "# inside XyloMonitor the buffers are created and FPGA modules are set\n",
    "xylo_monitor = XyloMonitor(device=xylo_node, \n",
    "    config=config, \n",
    "    dt = dt,\n",
    "    output_mode='Spike')\n",
    "\n",
    "# print(xylo_monitor)\n",
    "xylo_monitor._write_buffer.write([samna.xyloAudio3.event.ReadRegisterValue(0x0004)])\n",
    "print(xylo_monitor._read_buffer.get_n_events(1, 2000))\n",
    "# print(xylo_monitor.config)\n"
   ]
  },
  {
   "cell_type": "markdown",
   "id": "992ec60e-f1c5-4f97-b225-d684e97d240c",
   "metadata": {},
   "source": [
    "## Start processing and collect events\n",
    "\n",
    "* Send TriggerProcessing event from Samna with the desired time step\n",
    "* Collect readout events in the BufferSink attached to the model source node"
   ]
  },
  {
   "cell_type": "code",
   "execution_count": 5,
   "id": "98971254-fcc7-4ee1-bd11-2ee87fcf63f6",
   "metadata": {},
   "outputs": [
    {
     "name": "stdout",
     "output_type": "stream",
     "text": [
      "100\n",
      "[[0 0 0 ... 0 0 0]\n",
      " [0 0 0 ... 0 1 1]\n",
      " [0 1 0 ... 0 1 1]\n",
      " ...\n",
      " [0 1 0 ... 0 1 1]\n",
      " [0 1 0 ... 0 1 1]\n",
      " [0 1 0 ... 0 1 1]]\n"
     ]
    }
   ],
   "source": [
    "import numpy as np\n",
    "T = int(1 / dt) # s / dt\n",
    "\n",
    "print(T)\n",
    "\n",
    "out, _, rec = xylo_monitor.evolve(input_data=np.zeros((T, Nin)), record=False, record_power=True)\n",
    "\n",
    "print(out)\n"
   ]
  },
  {
   "cell_type": "code",
   "execution_count": 6,
   "id": "5edf874d-2393-4036-88a7-fd4b9453920d",
   "metadata": {},
   "outputs": [
    {
     "name": "stdout",
     "output_type": "stream",
     "text": [
      "{'io_power': array([0.00049314, 0.00049457, 0.00050428, 0.00050997, 0.00051362,\n",
      "       0.00050787, 0.00050055, 0.00050374, 0.00051091, 0.00050587,\n",
      "       0.00050145, 0.00050277, 0.00050733, 0.00050677, 0.00050203,\n",
      "       0.00050313, 0.00050622, 0.00050378, 0.000501  , 0.00050151,\n",
      "       0.00050578, 0.00050406, 0.00050156, 0.00050269, 0.0005049 ,\n",
      "       0.00050479, 0.00050224, 0.00050167, 0.00050549, 0.00050343,\n",
      "       0.00050073, 0.00050294, 0.00050481, 0.00050513, 0.00050115,\n",
      "       0.00050347, 0.00050722, 0.00050304, 0.00049982, 0.00050274,\n",
      "       0.00050595, 0.00050427, 0.00050086, 0.00050458, 0.00050755,\n",
      "       0.00050306, 0.00050197, 0.00050408, 0.00050537, 0.00050243,\n",
      "       0.00050062, 0.00050374, 0.00050681, 0.00050322, 0.00050101,\n",
      "       0.00050499, 0.00050547, 0.00050108, 0.00050023, 0.00050485,\n",
      "       0.00050848, 0.00050287, 0.00050077, 0.0005045 , 0.00050881,\n",
      "       0.00050475, 0.00050048, 0.00050614, 0.00051076, 0.0005034 ,\n",
      "       0.00050066, 0.00050591, 0.00050984, 0.000505  , 0.00049912,\n",
      "       0.00050553, 0.00051054, 0.00050322, 0.00049997, 0.00050581,\n",
      "       0.00051022, 0.00050447, 0.00050148, 0.00050688, 0.00050902,\n",
      "       0.00050235, 0.00050432, 0.00050847, 0.00051107, 0.00050451,\n",
      "       0.00050294, 0.00050774, 0.00050651, 0.00050556, 0.00050168,\n",
      "       0.00050756, 0.00050811, 0.00050343, 0.00050289]), 'analog_power': array([1.33232964e-05, 1.33165374e-05, 1.26621908e-05, 1.18010254e-05,\n",
      "       1.26095378e-05, 1.15460928e-05, 1.20925745e-05, 1.22077252e-05,\n",
      "       1.25211362e-05, 1.35656196e-05, 1.27660296e-05, 1.20261639e-05,\n",
      "       1.21221246e-05, 1.25071615e-05, 1.18017285e-05, 1.22084418e-05,\n",
      "       1.21969944e-05, 1.24100948e-05, 1.28846029e-05, 1.27011877e-05,\n",
      "       1.23027683e-05, 1.29549425e-05, 1.20882975e-05, 1.14934964e-05,\n",
      "       1.32253147e-05, 1.27941736e-05, 1.27146224e-05, 1.22551812e-05,\n",
      "       1.33220441e-05, 1.13161303e-05, 1.28162435e-05, 1.26181030e-05,\n",
      "       1.32787679e-05, 1.20341073e-05, 1.27197040e-05, 1.13998752e-05,\n",
      "       1.20902959e-05, 1.19120868e-05, 1.16046176e-05, 1.17828414e-05,\n",
      "       1.22817699e-05, 1.26169752e-05, 1.27067509e-05, 1.28806989e-05,\n",
      "       1.33149893e-05, 1.18384060e-05, 1.20297919e-05, 1.27399918e-05,\n",
      "       1.19483326e-05, 1.32557757e-05, 1.33633920e-05, 1.16276449e-05,\n",
      "       1.23725405e-05, 1.22328252e-05, 1.13873291e-05, 1.15214640e-05,\n",
      "       1.38698437e-05, 1.31044063e-05, 1.04336489e-05, 1.26636217e-05,\n",
      "       1.33962041e-05, 1.23885987e-05, 1.30929565e-05, 1.24311795e-05,\n",
      "       1.19954261e-05, 1.18557920e-05, 1.25600224e-05, 1.26374979e-05,\n",
      "       1.25229221e-05, 1.17536802e-05, 1.17597656e-05, 1.18881429e-05,\n",
      "       1.18254937e-05, 1.23225317e-05, 1.28932201e-05, 1.25843370e-05,\n",
      "       1.08264691e-05, 1.24182219e-05, 1.25381583e-05, 1.30188496e-05,\n",
      "       1.23419189e-05, 1.20055339e-05, 1.24491577e-05, 1.18845509e-05,\n",
      "       1.16363164e-05, 1.26251582e-05, 1.17131716e-05, 1.18277769e-05,\n",
      "       1.17295907e-05, 1.14789660e-05, 1.20888581e-05, 1.33749277e-05,\n",
      "       1.27587710e-05, 1.02723670e-05, 1.30187242e-05, 1.26849139e-05,\n",
      "       1.24085761e-05, 1.20915053e-05, 1.32302246e-05]), 'digital_power': array([0.00234455, 0.00143215, 0.00148201, 0.00148226, 0.00143893,\n",
      "       0.00143995, 0.00147572, 0.00147221, 0.00143723, 0.00144163,\n",
      "       0.00147271, 0.00146236, 0.00143918, 0.00145961, 0.0014657 ,\n",
      "       0.00143895, 0.0014382 , 0.00147054, 0.00147001, 0.0014387 ,\n",
      "       0.00143812, 0.00147006, 0.00146561, 0.0014364 , 0.00143797,\n",
      "       0.00146578, 0.00146453, 0.00143893, 0.00143817, 0.00146591,\n",
      "       0.00145382, 0.00143865, 0.00145655, 0.00146278, 0.00143741,\n",
      "       0.00143829, 0.00146472, 0.00146815, 0.00143846, 0.00143998,\n",
      "       0.00146414, 0.00146259, 0.00143672, 0.00143774, 0.00146974,\n",
      "       0.00146654, 0.00144075, 0.0014399 , 0.00146177, 0.00145502,\n",
      "       0.00143832, 0.00145307, 0.00146144, 0.0014391 , 0.00143824,\n",
      "       0.00146476, 0.00146153, 0.00143767, 0.00143762, 0.00146132,\n",
      "       0.00146085, 0.00143724, 0.00143579, 0.00146066, 0.00146083,\n",
      "       0.00143783, 0.00144066, 0.00145387, 0.0014482 , 0.00143676,\n",
      "       0.00145336, 0.00145931, 0.00143935, 0.00143715, 0.00145378,\n",
      "       0.00145437, 0.00143951, 0.00143947, 0.00145236, 0.00145543,\n",
      "       0.00143975, 0.00143709, 0.00145139, 0.00144791, 0.00143623,\n",
      "       0.00144117, 0.00145331, 0.00144232, 0.00143875, 0.00144797,\n",
      "       0.0014541 , 0.00143691, 0.00143779, 0.00144904, 0.00144997,\n",
      "       0.00143721, 0.00143571, 0.00145188, 0.00145149])}\n"
     ]
    }
   ],
   "source": [
    "print(rec)\n"
   ]
  },
  {
   "cell_type": "code",
   "execution_count": 7,
   "id": "c5aed48d-773b-4b19-8473-744363ee8aa4",
   "metadata": {},
   "outputs": [
    {
     "data": {
      "text/plain": [
       "<matplotlib.colorbar.Colorbar at 0x73dd29eea5f0>"
      ]
     },
     "execution_count": 7,
     "metadata": {},
     "output_type": "execute_result"
    },
    {
     "data": {
      "image/png": "[encoded data removed]",
      "text/plain": [
       "<Figure size 1500x500 with 2 Axes>"
      ]
     },
     "metadata": {},
     "output_type": "display_data"
    }
   ],
   "source": [
    "import matplotlib.pyplot as plt\n",
    "plt.figure(figsize=(15,5))\n",
    "plt.subplot(131), plt.imshow(np.array(out).T, aspect='auto', interpolation='none'); plt.title('readout spikes'); plt.xlabel('Time'); plt.ylabel('Neuron index'); plt.colorbar()"
   ]
  },
  {
   "cell_type": "code",
   "execution_count": null,
   "id": "23f69198-fd79-40cf-b65c-bbc3f737a164",
   "metadata": {},
   "outputs": [],
   "source": []
  }
 ],
 "metadata": {
  "kernelspec": {
   "display_name": "Python 3",
   "language": "python",
   "name": "python3"
  },
  "language_info": {
   "codemirror_mode": {
    "name": "ipython",
    "version": 3
   },
   "file_extension": ".py",
   "mimetype": "text/x-python",
   "name": "python",
   "nbconvert_exporter": "python",
   "pygments_lexer": "ipython3",
   "version": "3.10.12"
  }
 },
 "nbformat": 4,
 "nbformat_minor": 5
}
