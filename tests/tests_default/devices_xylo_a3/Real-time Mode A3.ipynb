{
 "cells": [
  {
   "cell_type": "markdown",
   "id": "baa3f1f9-7ce8-494f-a8b5-c3be438b1784",
   "metadata": {},
   "source": [
    "# Real-time Steps\n",
    "\n",
    "In real-time mode, the FPGA lets Xylo run freely and only performs readout after receiving a timestep done interrupt.\n",
    "This means sending input to Xylo from the FPGA is not supported in real-time mode.  Instead, the switches on the PCB must be configured such that Xylo receives input from the microphones on the PCB.\n"
   ]
  },
  {
   "cell_type": "markdown",
   "id": "6be1fd9c-8f83-4b33-b6a9-6652a384b2a0",
   "metadata": {},
   "source": [
    "## Simple Samna example to access the board"
   ]
  },
  {
   "cell_type": "code",
   "execution_count": 1,
   "id": "5c7e4dc6-d726-47f0-81f7-f2855b3edc44",
   "metadata": {},
   "outputs": [
    {
     "name": "stdout",
     "output_type": "stream",
     "text": [
      "500000\n"
     ]
    }
   ],
   "source": [
    "ts_duration   = 10*1e-3; # in second\n",
    "main_clk_freq = 50*1e6 # in Hz\n",
    "tr_wrap       = int(ts_duration*main_clk_freq)\n",
    "print(tr_wrap)\n",
    "\n",
    "# 0: input for Xylo, 1: Xylo output\n",
    "PDM_CLK_DIR  = 1\n",
    "# 0: Xylo samples PDM_DATA at risinge edge, 1: Xylo samples PDM_DATA at falling edge\n",
    "PDM_CLK_EDGE = 0\n",
    "\n",
    "def get_tr_wrap(ts_in_ms, main_clk_freq_in_mhz, debug=0):\n",
    "    ts_duration   = ts_in_ms*1e-3; # in second\n",
    "    main_clk_freq = main_clk_freq_in_mhz*1e6 # in Hz\n",
    "    tr_wrap       = int(ts_duration*main_clk_freq)\n",
    "    print(f\"set tr_wrap to 0x{format(tr_wrap,'_X')}\") if debug>=1 else None\n",
    "    return tr_wrap"
   ]
  },
  {
   "cell_type": "markdown",
   "id": "2bd0de7c-c363-4228-a03c-b93e7c4762b1",
   "metadata": {},
   "source": [
    "## Example with Rockpool\n",
    "\n",
    "Open Dev Kit\n",
    "\n",
    "* Call open_device() on a discovered device with Samna."
   ]
  },
  {
   "cell_type": "code",
   "execution_count": 2,
   "id": "6cebeac6-db3d-4ad5-a6c9-98cb9c0b5544",
   "metadata": {},
   "outputs": [
    {
     "name": "stdout",
     "output_type": "stream",
     "text": [
<<<<<<< HEAD
      "Rockpool version 2.8.8.dev\n",
      "Samna version 0.39.9.0\n",
      "The connected Xylo HDK contains a XyloAudio 3. Importing `rockpool.devices.xylo.syns65302`\n",
      "[<samna.xyloAudio3.XyloAudio3TestBoard object at 0x7b04650d3eb0>] [<module 'rockpool.devices.xylo.syns65302' from '/home/vleite/SynSense/rockpool/rockpool/devices/xylo/syns65302/__init__.py'>] ['syns65302']\n"
=======
      "Rockpool version 2.9\n",
      "Samna version 0.39.6.0\n",
      "The connected Xylo HDK contains a XyloAudio 3. Importing `rockpool.devices.xylo.syns65302`\n",
      "[<samna.xyloAudio3.XyloAudio3TestBoard object at 0x7e69616518b0>] [<module 'rockpool.devices.xylo.syns65302' from '/home/vleite/SynSense/rockpool/rockpool/devices/xylo/syns65302/__init__.py'>] ['syns65302']\n"
>>>>>>> 422778bb (Remove power measurement code)
     ]
    }
   ],
   "source": [
    "import warnings\n",
    "warnings.filterwarnings(\"ignore\")\n",
    "\n",
    "import rockpool\n",
    "print(f'Rockpool version {rockpool.__version__}')\n",
    "import samna\n",
    "print(f'Samna version {samna.__version__}')\n",
    "from rockpool.devices.xylo.syns65302 import config_from_specification, mapper, XyloMonitor, XyloSamna\n",
    "\n",
    "from rockpool.devices.xylo import find_xylo_hdks\n",
    "\n",
    "from rockpool.transform.quantize_methods import channel_quantize\n",
    "from rockpool.nn.modules import LIF, Linear\n",
    "from rockpool.nn.combinators import Sequential\n",
    "\n",
    "import numpy as np\n",
    "\n",
    "# find_xylo_hdks() directly calls the Samna device finder and opens all available devices.\n",
    "# When Samna opens a device, it will perform actions on the board. Such as, powering on the chip, resetting it,\n",
    "# applying a default configuration, and configuring the FPGA for default operation.\n",
    "\n",
    "hdks, modules, versions = find_xylo_hdks()\n",
    "print(hdks, modules, versions)\n",
    "\n",
    "for version, xylo in zip(versions, hdks):\n",
    "    if version == \"syns65302\":\n",
    "        xylo_node = xylo"
   ]
  },
  {
   "cell_type": "markdown",
   "id": "3af52c3d-130f-4597-af8d-c1f18c44adb1",
   "metadata": {},
   "source": [
    "## Build a model and map it to hardware"
   ]
  },
  {
   "cell_type": "code",
   "execution_count": 3,
   "id": "c4282fb5-6573-47b8-9613-c6d2fe89e1ee",
   "metadata": {},
   "outputs": [
    {
     "name": "stdout",
     "output_type": "stream",
     "text": [
      "ModSequential  with shape (16, 16) {\n",
      "    Linear '0_Linear' with shape (16, 63)\n",
      "    LIF '1_LIF' with shape (63, 63)\n",
      "    Linear '2_Linear' with shape (63, 16)\n",
      "    LIF '3_LIF' with shape (16, 16)\n",
      "}\n"
     ]
    }
   ],
   "source": [
    "# simple model to test\n",
    "\n",
    "net = Sequential(\n",
    "    Linear((16, 63)),\n",
    "    LIF((63, 63)),\n",
    "\n",
    "    Linear((63, 16)),\n",
    "    LIF(16),\n",
    ")\n",
    "\n",
    "print(net)\n",
    "\n",
    "Nin = 16\n",
    "# net[0].weight *= 0.05\n",
    "spec = mapper(net.as_graph())\n",
    "Q_spec = spec\n",
    "Q_spec.update(channel_quantize(**Q_spec))\n",
    "config, is_valid, msg = config_from_specification(**Q_spec)\n",
    "\n",
    "if not is_valid:\n",
    "    print(msg)"
   ]
  },
  {
   "cell_type": "markdown",
   "id": "8e3862ef-1054-46c2-99e9-300cac3d9bae",
   "metadata": {},
   "source": [
    "## Set up Samna graphs and configuration\n",
    "\n",
    "* Create a buffer sink for events from the chip model source node. Readout events will be captured here.\n",
    "* Set Xylo configuration as desired for PDM and network config\n",
    "* Set Xylo TR_WRAP register for desired time step length with default 25 MHz clock\n",
    "* Set Xylo to real-time mode\n",
    "* Enable PCB switches for PDM microphones\n",
    "* Set FPGA module to real-time mode\n",
    "   * io.write_config(0x12, 0) and io.write_config(0x31, 2)"
   ]
  },
  {
   "cell_type": "code",
   "execution_count": 4,
   "id": "e7c34a35-b254-4335-99e3-a8a900a5416c",
   "metadata": {},
   "outputs": [
    {
     "name": "stdout",
     "output_type": "stream",
     "text": [
<<<<<<< HEAD
      "<samna.xyloAudio3.XyloAudio3TestBoard object at 0x7b04650d3eb0>\n",
      "set tr_wrap to 0x2FA_F080\n"
     ]
    },
    {
     "name": "stderr",
     "output_type": "stream",
     "text": [
      "[2024-10-29 07:57:12.509] [XyloAudio3] [warning] Requested SAER clock frequency 6 could not be achieved, used 5.9999995200000384 instead\n",
      "[2024-10-29 07:57:12.509] [XyloAudio3] [warning] Requested SADC clock frequency 6 could not be achieved, used 5.9999995200000384 instead\n"
     ]
    },
    {
     "name": "stdout",
     "output_type": "stream",
     "text": [
=======
      "<samna.xyloAudio3.XyloAudio3TestBoard object at 0x7e69616518b0>\n",
      "set tr_wrap to 0x2FA_F080\n",
>>>>>>> 422778bb (Remove power measurement code)
      "[xyloAudio3::event::RegisterValue(address=4, data=500000)]\n"
     ]
    }
   ],
   "source": [
    "# create xylo monitor\n",
    "dt = 0.01\n",
    "print(xylo_node)\n",
    "\n",
    "\n",
    "config.operation_mode                                        = samna.xyloAudio3.OperationMode.RealTime\n",
    "config.time_resolution_wrap                                  = get_tr_wrap(ts_in_ms=1000, main_clk_freq_in_mhz=50, debug=1)\n",
    "config.debug.always_update_omp_stat                          = True\n",
    "config.input_source                                          = samna.xyloAudio3.InputSource.DigitalMicrophone\n",
    "config.digital_frontend.filter_bank.dn_enable                = False\n",
    "config.digital_frontend.filter_bank.use_global_iaf_threshold = False\n",
    "config.digital_frontend.pdm_preprocessing.clock_direction    = PDM_CLK_DIR\n",
    "config.digital_frontend.pdm_preprocessing.clock_edge         = PDM_CLK_EDGE\n",
    "config.debug.sdm_clock_ratio                                 = 24\n",
    "\n",
    "# inside XyloMonitor the buffers are created and FPGA modules are set\n",
    "xylo_monitor = XyloMonitor(device=xylo_node, \n",
    "    config=config, \n",
    "    dt = dt,\n",
    "    output_mode='Spike')\n",
    "\n",
    "# print(xylo_monitor)\n",
    "xylo_monitor._write_buffer.write([samna.xyloAudio3.event.ReadRegisterValue(0x0004)])\n",
    "print(xylo_monitor._read_buffer.get_n_events(1, 2000))\n",
    "# print(xylo_monitor.config)\n"
   ]
  },
  {
   "cell_type": "markdown",
   "id": "992ec60e-f1c5-4f97-b225-d684e97d240c",
   "metadata": {},
   "source": [
    "## Start processing and collect events\n",
    "\n",
    "* Send TriggerProcessing event from Samna with the desired time step\n",
    "* Collect readout events in the BufferSink attached to the model source node"
   ]
  },
  {
   "cell_type": "code",
   "execution_count": 5,
   "id": "98971254-fcc7-4ee1-bd11-2ee87fcf63f6",
   "metadata": {},
   "outputs": [
    {
     "name": "stdout",
     "output_type": "stream",
     "text": [
<<<<<<< HEAD
      "100\n",
      "[[0 0 0 ... 0 0 0]\n",
      " [1 0 0 ... 0 0 0]\n",
      " [1 0 0 ... 0 0 0]\n",
      " ...\n",
      " [1 0 1 ... 0 0 0]\n",
      " [1 0 1 ... 0 0 0]\n",
      " [1 0 1 ... 0 0 0]]\n"
=======
      "[[0, 1, 0, 1, 1, 0, 1, 0, 0, 1, 1, 0, 0, 1, 0, 1], [0, 1, 0, 1, 1, 0, 1, 0, 0, 1, 1, 0, 0, 1, 0, 1], [0, 1, 0, 1, 1, 0, 1, 0, 0, 1, 1, 0, 0, 1, 0, 1], [0, 1, 0, 1, 1, 0, 1, 0, 0, 1, 1, 0, 0, 1, 0, 1], [0, 1, 0, 1, 1, 0, 1, 0, 0, 1, 1, 0, 0, 1, 0, 1], [0, 1, 0, 1, 1, 0, 1, 0, 0, 1, 1, 0, 0, 1, 0, 1], [0, 1, 0, 1, 1, 0, 1, 0, 0, 1, 1, 0, 0, 1, 0, 1], [0, 1, 0, 1, 1, 0, 1, 0, 0, 1, 1, 0, 0, 1, 0, 1], [0, 1, 0, 1, 1, 0, 1, 0, 0, 1, 1, 0, 0, 1, 0, 1], [0, 1, 0, 1, 1, 0, 1, 0, 0, 1, 1, 0, 0, 1, 0, 1], [0, 1, 0, 1, 1, 0, 1, 0, 0, 1, 1, 0, 0, 1, 0, 1], [0, 1, 0, 1, 1, 0, 1, 0, 0, 1, 1, 0, 0, 1, 0, 1], [0, 1, 0, 1, 1, 0, 1, 0, 0, 1, 1, 0, 0, 1, 0, 1], [0, 1, 0, 1, 1, 0, 1, 0, 0, 1, 1, 0, 0, 1, 0, 1], [0, 1, 0, 1, 1, 0, 1, 0, 0, 1, 1, 0, 0, 1, 0, 1], [0, 1, 0, 1, 1, 0, 1, 0, 0, 1, 1, 0, 0, 1, 0, 1], [0, 1, 0, 1, 1, 0, 1, 0, 0, 1, 1, 0, 0, 1, 0, 1], [0, 1, 0, 1, 1, 0, 1, 0, 0, 1, 1, 0, 0, 1, 0, 1], [0, 1, 0, 1, 1, 0, 1, 0, 0, 1, 1, 0, 0, 1, 0, 1], [0, 1, 0, 1, 1, 0, 1, 0, 0, 1, 1, 0, 0, 1, 0, 1], [0, 1, 0, 1, 1, 0, 1, 0, 0, 1, 1, 0, 0, 1, 0, 1], [0, 1, 0, 1, 1, 0, 1, 0, 0, 1, 1, 0, 0, 1, 0, 1], [0, 1, 0, 1, 1, 0, 1, 0, 0, 1, 1, 0, 0, 1, 0, 1], [0, 1, 0, 1, 1, 0, 1, 0, 0, 1, 1, 0, 0, 1, 0, 1], [0, 1, 0, 1, 1, 0, 1, 0, 0, 1, 1, 0, 0, 1, 0, 1], [0, 1, 0, 1, 1, 0, 1, 0, 0, 1, 1, 0, 0, 1, 0, 1], [0, 1, 0, 1, 1, 0, 1, 0, 0, 1, 1, 0, 0, 1, 0, 1], [0, 1, 0, 1, 1, 0, 1, 0, 0, 1, 1, 0, 0, 1, 0, 1], [0, 1, 0, 1, 1, 0, 1, 0, 0, 1, 1, 0, 0, 1, 0, 1], [0, 1, 0, 1, 1, 0, 1, 0, 0, 1, 1, 0, 0, 1, 0, 1], [0, 1, 0, 1, 1, 0, 1, 0, 0, 1, 1, 0, 0, 1, 0, 1], [0, 1, 0, 1, 1, 0, 1, 0, 0, 1, 1, 0, 0, 1, 0, 1], [0, 1, 0, 1, 1, 0, 1, 0, 0, 1, 1, 0, 0, 1, 0, 1], [0, 1, 0, 1, 1, 0, 1, 0, 0, 1, 1, 0, 0, 1, 0, 1], [0, 1, 0, 1, 1, 0, 1, 0, 0, 1, 1, 0, 0, 1, 0, 1], [0, 1, 0, 1, 1, 0, 1, 0, 0, 1, 1, 0, 0, 1, 0, 1], [0, 1, 0, 1, 1, 0, 1, 0, 0, 1, 1, 0, 0, 1, 0, 1], [0, 1, 0, 1, 1, 0, 1, 0, 0, 1, 1, 0, 0, 1, 0, 1], [0, 1, 0, 1, 1, 0, 1, 0, 0, 1, 1, 0, 0, 1, 0, 1], [0, 1, 0, 1, 1, 0, 1, 0, 0, 1, 1, 0, 0, 1, 0, 1], [0, 1, 0, 1, 1, 0, 1, 0, 0, 1, 1, 0, 0, 1, 0, 1], [0, 1, 0, 1, 1, 0, 1, 0, 0, 1, 1, 0, 0, 1, 0, 1], [0, 1, 0, 1, 1, 0, 1, 0, 0, 1, 1, 0, 0, 1, 0, 1], [0, 1, 0, 1, 1, 0, 1, 0, 0, 1, 1, 0, 0, 1, 0, 1], [0, 1, 0, 1, 1, 0, 1, 0, 0, 1, 1, 0, 0, 1, 0, 1], [0, 1, 0, 1, 1, 0, 1, 0, 0, 1, 1, 0, 0, 1, 0, 1], [0, 1, 0, 1, 1, 0, 1, 0, 0, 1, 1, 0, 0, 1, 0, 1], [0, 1, 0, 1, 1, 0, 1, 0, 0, 1, 1, 0, 0, 1, 0, 1], [0, 1, 0, 1, 1, 0, 1, 0, 0, 1, 1, 0, 0, 1, 0, 1], [0, 1, 0, 1, 1, 0, 1, 0, 0, 1, 1, 0, 0, 1, 0, 1], [0, 1, 0, 1, 1, 0, 1, 0, 0, 1, 1, 0, 0, 1, 0, 1], [0, 1, 0, 1, 1, 0, 1, 0, 0, 1, 1, 0, 0, 1, 0, 1], [0, 1, 0, 1, 1, 0, 1, 0, 0, 1, 1, 0, 0, 1, 0, 1], [0, 1, 0, 1, 1, 0, 1, 0, 0, 1, 1, 0, 0, 1, 0, 1], [0, 1, 0, 1, 1, 0, 1, 0, 0, 1, 1, 0, 0, 1, 0, 1], [0, 1, 0, 1, 1, 0, 1, 0, 0, 1, 1, 0, 0, 1, 0, 1], [0, 1, 0, 1, 1, 0, 1, 0, 0, 1, 1, 0, 0, 1, 0, 1], [0, 1, 0, 1, 1, 0, 1, 0, 0, 1, 1, 0, 0, 1, 0, 1], [0, 1, 0, 1, 1, 0, 1, 0, 0, 1, 1, 0, 0, 1, 0, 1], [0, 1, 0, 1, 1, 0, 1, 0, 0, 1, 1, 0, 0, 1, 0, 1], [0, 1, 0, 1, 1, 0, 1, 0, 0, 1, 1, 0, 0, 1, 0, 1], [0, 1, 0, 1, 1, 0, 1, 0, 0, 1, 1, 0, 0, 1, 0, 1], [0, 1, 0, 1, 1, 0, 1, 0, 0, 1, 1, 0, 0, 1, 0, 1], [0, 1, 0, 1, 1, 0, 1, 0, 0, 1, 1, 0, 0, 1, 0, 1], [0, 1, 0, 1, 1, 0, 1, 0, 0, 1, 1, 0, 0, 1, 0, 1], [0, 1, 0, 1, 1, 0, 1, 0, 0, 1, 1, 0, 0, 1, 0, 1], [0, 1, 0, 1, 1, 0, 1, 0, 0, 1, 1, 0, 0, 1, 0, 1], [0, 1, 0, 1, 1, 0, 1, 0, 0, 1, 1, 0, 0, 1, 0, 1], [0, 1, 0, 1, 1, 0, 1, 0, 0, 1, 1, 0, 0, 1, 0, 1], [0, 1, 0, 1, 1, 0, 1, 0, 0, 1, 1, 0, 0, 1, 0, 1], [0, 1, 0, 1, 1, 0, 1, 0, 0, 1, 1, 0, 0, 1, 0, 1], [0, 1, 0, 1, 1, 0, 1, 0, 0, 1, 1, 0, 0, 1, 0, 1], [0, 1, 0, 1, 1, 0, 1, 0, 0, 1, 1, 0, 0, 1, 0, 1], [0, 1, 0, 1, 1, 0, 1, 0, 0, 1, 1, 0, 0, 1, 0, 1], [0, 1, 0, 1, 1, 0, 1, 0, 0, 1, 1, 0, 0, 1, 0, 1], [0, 1, 0, 1, 1, 0, 1, 0, 0, 1, 1, 0, 0, 1, 0, 1], [0, 1, 0, 1, 1, 0, 1, 0, 0, 1, 1, 0, 0, 1, 0, 1], [0, 1, 0, 1, 1, 0, 1, 0, 0, 1, 1, 0, 0, 1, 0, 1], [0, 1, 0, 1, 1, 0, 1, 0, 0, 1, 1, 0, 0, 1, 0, 1], [0, 1, 0, 1, 1, 0, 1, 0, 0, 1, 1, 0, 0, 1, 0, 1], [0, 1, 0, 1, 1, 0, 1, 0, 0, 1, 1, 0, 0, 1, 0, 1], [0, 1, 0, 1, 1, 0, 1, 0, 0, 1, 1, 0, 0, 1, 0, 1], [0, 1, 0, 1, 1, 0, 1, 0, 0, 1, 1, 0, 0, 1, 0, 1], [0, 1, 0, 1, 1, 0, 1, 0, 0, 1, 1, 0, 0, 1, 0, 1], [0, 1, 0, 1, 1, 0, 1, 0, 0, 1, 1, 0, 0, 1, 0, 1], [0, 1, 0, 1, 1, 0, 1, 0, 0, 1, 1, 0, 0, 1, 0, 1], [0, 1, 0, 1, 1, 0, 1, 0, 0, 1, 1, 0, 0, 1, 0, 1], [0, 1, 0, 1, 1, 0, 1, 0, 0, 1, 1, 0, 0, 1, 0, 1], [0, 1, 0, 1, 1, 0, 1, 0, 0, 1, 1, 0, 0, 1, 0, 1], [0, 1, 0, 1, 1, 0, 1, 0, 0, 1, 1, 0, 0, 1, 0, 1], [0, 1, 0, 1, 1, 0, 1, 0, 0, 1, 1, 0, 0, 1, 0, 1], [0, 1, 0, 1, 1, 0, 1, 0, 0, 1, 1, 0, 0, 1, 0, 1], [0, 1, 0, 1, 1, 0, 1, 0, 0, 1, 1, 0, 0, 1, 0, 1], [0, 1, 0, 1, 1, 0, 1, 0, 0, 1, 1, 0, 0, 1, 0, 1], [0, 1, 0, 1, 1, 0, 1, 0, 0, 1, 1, 0, 0, 1, 0, 1], [0, 1, 0, 1, 1, 0, 1, 0, 0, 1, 1, 0, 0, 1, 0, 1], [0, 1, 0, 1, 1, 0, 1, 0, 0, 1, 1, 0, 0, 1, 0, 1], [0, 1, 0, 1, 1, 0, 1, 0, 0, 1, 1, 0, 0, 1, 0, 1], [0, 1, 0, 1, 1, 0, 1, 0, 0, 1, 1, 0, 0, 1, 0, 1], [0, 1, 0, 1, 1, 0, 1, 0, 0, 1, 1, 0, 0, 1, 0, 1], [0, 1, 0, 1, 1, 0, 1, 0, 0, 1, 1, 0, 0, 1, 0, 1]]\n"
>>>>>>> 422778bb (Remove power measurement code)
     ]
    }
   ],
   "source": [
    "import numpy as np\n",
    "T = int(1 / dt) # s / dt\n",
    "\n",
<<<<<<< HEAD
    "print(T)\n",
    "\n",
    "out, _, rec = xylo_monitor.evolve(input_data=np.zeros((T, Nin)), record=False, record_power=True)\n",
=======
    "for i in range(20):\n",
    "    out, _, rec = xylo_monitor.evolve(record=False, record_power=False, read_timeout=N)\n",
>>>>>>> 422778bb (Remove power measurement code)
    "\n",
    "print(out)\n"
   ]
  },
  {
   "cell_type": "code",
   "execution_count": 6,
   "id": "5edf874d-2393-4036-88a7-fd4b9453920d",
   "metadata": {},
   "outputs": [
    {
     "name": "stdout",
     "output_type": "stream",
     "text": [
<<<<<<< HEAD
      "{'io_power': array([0.0018928 , 0.00190532, 0.00189907, 0.00190532, 0.00191787]), 'analog_power': array([1.24267590e-05, 1.85791014e-05, 2.45849624e-05, 1.24267590e-05,\n",
      "       2.48046890e-05]), 'digital_power': array([0.00145698, 0.00147205, 0.00146936, 0.00147205, 0.00143472])}\n"
=======
      "{}\n"
>>>>>>> 422778bb (Remove power measurement code)
     ]
    }
   ],
   "source": [
    "print(rec)\n"
   ]
  },
  {
   "cell_type": "code",
   "execution_count": 7,
   "id": "c5aed48d-773b-4b19-8473-744363ee8aa4",
   "metadata": {},
   "outputs": [
    {
     "data": {
      "text/plain": [
<<<<<<< HEAD
       "<matplotlib.colorbar.Colorbar at 0x7b046297ffd0>"
=======
       "<matplotlib.colorbar.Colorbar at 0x7e695d7a33d0>"
>>>>>>> 422778bb (Remove power measurement code)
      ]
     },
     "execution_count": 7,
     "metadata": {},
     "output_type": "execute_result"
    },
    {
     "data": {
<<<<<<< HEAD
      "image/png": "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",
=======
      "image/png": "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",
>>>>>>> 422778bb (Remove power measurement code)
      "text/plain": [
       "<Figure size 1500x500 with 2 Axes>"
      ]
     },
     "metadata": {},
     "output_type": "display_data"
    }
   ],
   "source": [
    "import matplotlib.pyplot as plt\n",
    "plt.figure(figsize=(15,5))\n",
    "plt.subplot(131), plt.imshow(np.array(out).T, aspect='auto', interpolation='none'); plt.title('readout spikes'); plt.xlabel('Time'); plt.ylabel('Neuron index'); plt.colorbar()"
   ]
  },
  {
   "cell_type": "code",
   "execution_count": null,
   "id": "23f69198-fd79-40cf-b65c-bbc3f737a164",
   "metadata": {},
   "outputs": [],
   "source": []
  }
 ],
 "metadata": {
  "kernelspec": {
   "display_name": "Python 3 (ipykernel)",
   "language": "python",
   "name": "python3"
  },
  "language_info": {
   "codemirror_mode": {
    "name": "ipython",
    "version": 3
   },
   "file_extension": ".py",
   "mimetype": "text/x-python",
   "name": "python",
   "nbconvert_exporter": "python",
   "pygments_lexer": "ipython3",
   "version": "3.10.12"
  }
 },
 "nbformat": 4,
 "nbformat_minor": 5
}
