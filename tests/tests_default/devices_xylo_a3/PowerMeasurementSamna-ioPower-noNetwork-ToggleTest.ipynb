{
 "cells": [
  {
   "cell_type": "markdown",
   "metadata": {},
   "source": [
    "# io power - Samna only - v0.39.12\n",
    "\n",
    "- Use PDM_CLK and PDM_DATA driven by FPGA to XA3:\n",
    "\n",
    "1. Keep both PDM_DATA and PDM_CLK low：(0x2b,1),(0x2d,0),(0x2c,0)\n",
    "2. Keep PDM_DATA high and PDM_CLK low: (0x2b,1),(0x2d,0),(0x2c,1)\n",
    "3. Keep PDM_DATA low and PDM_CLK high: (0x2b,1),(0x2d,0),(0x2c,2)\n",
    "4. Keep PDM_DATA high and PDM_CLK high: (0x2b,1),(0x2d,0),(0x2c,3)\n",
    "5. Toggle PDM_DATA at some frequency while keeping PDM_CLK low:  (0x2b,1),(0x2d,1),(0x2c,0)\n",
    "6. Toggle PDM_DATA at some frequency while keeping PDM_CLK high: (0x2b,1),(0x2d,1),(0x2c,1)\n",
    "7. Keep PDM_DATA low while toggling PDM_CLK at some frequency: (0x2b,1),(0x2d,2),(0x2c,0)\n",
    "8. Keep PDM_DATA high while toggling PDM_CLK at some frequency: (0x2b,1),(0x2d,2),(0x2c,2)\n",
    "9. Toggle both PDM_CLK and PDM_DATA at some frequency: (0x2b,1),(0x2d,3)"
   ]
  },
  {
   "cell_type": "markdown",
   "metadata": {},
   "source": [
    "### Initialization and connection to the board"
   ]
  },
  {
   "cell_type": "code",
   "execution_count": 1,
   "metadata": {},
   "outputs": [
    {
     "name": "stdout",
     "output_type": "stream",
     "text": [
      "Samna version 0.39.12.1+g3f321cfa\n"
     ]
    }
   ],
   "source": [
    "import samna\n",
    "print(f'Samna version {samna.__version__}')\n",
    "import numpy as np\n",
    "\n",
    "# Open the device and connect it to the power monitor.\n",
    "xylo_node = samna.device.open_device(\"XyloAudio3TestBoard\")\n",
    "\n",
    "power_monitor = xylo_node.get_power_monitor()\n",
    "sink_pm = samna.graph.sink_from(power_monitor.get_source_node())\n",
    "stopwatch = xylo_node.get_stop_watch()\n",
    "io = xylo_node.get_io_module()\n",
    "\n",
    "xylo_model = xylo_node.get_model()\n",
    "source = samna.graph.source_to(xylo_model.get_sink_node())\n",
    "\n",
    "# We are only interested in Readout events, so we make a filter graph to filter only these events.\n",
    "# Important note: `graph` needs to be kept alive for the filter to work.\n",
    "graph = samna.graph.EventFilterGraph()\n",
    "_, etf, readout_sink = graph.sequential([xylo_model.get_source_node(), \"XyloAudio3OutputEventTypeFilter\", samna.graph.JitSink()])\n",
    "etf.set_desired_type('xyloAudio3::event::Readout')\n",
    "\n",
    "# XyloConfiguration\n",
    "xylo_config = samna.xyloAudio3.configuration.XyloConfiguration()\n",
    "\n",
    "## With the network, clock frequency can not go low as 6.25\n",
    "clock_frequencies = [12.5, 25, 50]\n",
    "ts = 1e-3\n",
    "\n",
    "power_measurements_625 = []\n",
    "power_measurements_125 = []\n",
    "power_measurements_25 = []\n",
    "power_measurements_50 = []"
   ]
  },
  {
   "cell_type": "markdown",
   "metadata": {},
   "source": [
    "### Configure PDM_CLK in 1 MHz and MAIN_CLK"
   ]
  },
  {
   "cell_type": "code",
   "execution_count": 2,
   "metadata": {},
   "outputs": [],
   "source": [
    "def configure_clocks():\n",
    "\n",
    "    if (enable_main_clock):\n",
    "        # Defines PDM clock rate\n",
    "        config = samna.xyloAudio3.XyloAudio3TestBoardDefaultConfig()\n",
    "        config.main_clock_frequency = 6250000\n",
    "        config.pdm_clock_frequency = 1000000\n",
    "        xylo_node.reset_board_soft(config)\n",
    "    \n",
    "    else:\n",
    "        # Defines PDM clock rate\n",
    "        config = samna.xyloAudio3.XyloAudio3TestBoardDefaultConfig()\n",
    "        config.pdm_clock_frequency = 1000000\n",
    "        xylo_node.reset_board_soft(config)\n",
    "\n",
    "        # Disable main clock\n",
    "        io.write_config(0x0008, 0)\n",
    "\n",
    "\n",
    "def configure_clock_direction():\n",
    "    if pdm_clock == \"fpga\":\n",
    "        print(\"fpga -> xylo\")\n",
    "        xylo_config.digital_frontend.pdm_preprocessing.clock_direction = 0\n",
    "    else:\n",
    "        print(\"xylo -> fpga\")\n",
    "        xylo_config.digital_frontend.pdm_preprocessing.clock_direction = 1\n"
   ]
  },
  {
   "cell_type": "markdown",
   "metadata": {},
   "source": [
    "### Use PDM_CLK and PDM_DATA driven by FPGA:\n",
    "- No network mapped, and main clock is disabled\n",
    "  \n"
   ]
  },
  {
   "cell_type": "code",
   "execution_count": 3,
   "metadata": {},
   "outputs": [],
   "source": [
    "enable_main_clock = True\n",
    "pdm_clock = \"fpga\""
   ]
  },
  {
   "cell_type": "markdown",
   "metadata": {},
   "source": [
    "### Read register"
   ]
  },
  {
   "cell_type": "code",
   "execution_count": 4,
   "metadata": {},
   "outputs": [],
   "source": [
    "def read_register(addr):\n",
    "    source.write([samna.xyloAudio3.event.ReadRegisterValue(address = addr)])\n",
    "    events = sink.get_n_events(1, 3000)\n",
    "    assert(len(events) == 1)\n",
    "    return events[0].data\n",
    "\n",
    "ctrl1 = 0x0001\n",
    "ctrl2 = 0x0002\n",
    "ctrl3 = 0x0003\n",
    "tr_wrap = 0x0004\n",
    "hm_tr_wrap = 0x0005\n",
    "clk_ctrl = 0x0006\n",
    "clk_div = 0x0007\n",
    "pwr_ctrl1 = 0x0008\n",
    "pwr_ctrl2 = 0x0009\n",
    "pwr_ctrl3 = 0x000A\n",
    "pwr_ctrl4 = 0x000B\n",
    "pad_ctrl = 0x000C\n",
    "ie1 = 0x000E\n",
    "ie2 = 0x000F\n",
    "out_ctrl = 0x0011\n",
    "monsel = 0x0166\n",
    "mon_grp_sel = 0x0167\n",
    "dbg_ctrl1 = 0x0168\n",
    "dbg_stat1 = 0x0171\n",
    "dfe_ctrl = 0x001B\n",
    "ivgen = 0x0015\n",
    "ivgen2 = 0x0016\n",
    "ivgen3 = 0x0017\n",
    "ivgen4 = 0x0018\n",
    "ivgen5 = 0x0019\n",
    "ivgen6 = 0x001A\n",
    "adctest = 0x016E\n",
    "\n",
    "# create access to xylo output\n",
    "sink   = samna.graph.sink_from(xylo_model.get_source_node())"
   ]
  },
  {
   "cell_type": "markdown",
   "metadata": {},
   "source": [
    "### 1 Keep both PDM_DATA and PDM_CLK low：(0x2b,1),(0x2d,0),(0x2c,0)\n"
   ]
  },
  {
   "cell_type": "code",
   "execution_count": 5,
   "metadata": {},
   "outputs": [
    {
     "name": "stdout",
     "output_type": "stream",
     "text": [
      "fpga -> xylo\n",
      "0x100\n",
      "900\n",
      "io:\t50 uW\tAFE core:\t13 uW\tDFE+SNN core:\t493 uW\n"
     ]
    }
   ],
   "source": [
    "import time\n",
    "\n",
    "# configure clocks\n",
    "configure_clock_direction()\n",
    "configure_clocks()\n",
    "xylo_node.get_model().apply_configuration(xylo_config)\n",
    "\n",
    "# configure PDM clock and PDM data\n",
    "io.write_config(0x2b,1)\n",
    "io.write_config(0x2d,0)\n",
    "io.write_config(0x2c,0)\n",
    "\n",
    "# read dfe_ctrl\n",
    "if (enable_main_clock):\n",
    "    print(hex(read_register(27)))\n",
    "\n",
    "# Start the stopwatch to enable time-stamped power sampling.\n",
    "stopwatch.start()\n",
    "\n",
    "# Start sampling power on all channels at a rate of 100 Hz.\n",
    "power_monitor.start_auto_power_measurement(100)\n",
    "\n",
    "# Auto power measurement streams PowerMeasurement events continuously.\n",
    "# To capture 3 seconds of data from 3 channels at 100Hz, we collect 900 events.\n",
    "events = sink_pm.get_n_events(900, timeout=4000)\n",
    "print(len(events))\n",
    "\n",
    "# Stop the automatic power measurement process.\n",
    "power_monitor.stop_auto_power_measurement()\n",
    "\n",
    "# Calculate the average power consumption for each channel over 3 seconds.\n",
    "counts = [0, 0, 0]\n",
    "sums = [0, 0, 0]\n",
    "for e in events:\n",
    "    assert isinstance(e, samna.unifirm.modules.events.PowerMeasurement)\n",
    "    sums[e.channel] += e.value\n",
    "    counts[e.channel] += 1\n",
    "\n",
    "# Compute the averages and convert to milliwatts (W -> mW).\n",
    "avgs = [sum/count * 1000 for sum, count in zip(sums, counts)]\n",
    "\n",
    "print(f'io:\\t{np.ceil(avgs[0] * 1000):.0f} uW\\tAFE core:\\t{np.ceil(avgs[1] * 1000):.0f} uW\\tDFE+SNN core:\\t{np.ceil(avgs[2] * 1000):.0f} uW')\n"
   ]
  },
  {
   "cell_type": "markdown",
   "metadata": {},
   "source": [
    "### 2 Keep PDM_DATA high and PDM_CLK low: (0x2b,1),(0x2d,0),(0x2c,1)\n"
   ]
  },
  {
   "cell_type": "code",
   "execution_count": 6,
   "metadata": {},
   "outputs": [
    {
     "name": "stdout",
     "output_type": "stream",
     "text": [
      "fpga -> xylo\n",
      "0x100\n",
      "io:\t50 uW\tAFE core:\t13 uW\tDFE+SNN core:\t493 uW\n"
     ]
    }
   ],
   "source": [
    "import time\n",
    "\n",
    "# configure clocks\n",
    "configure_clock_direction()\n",
    "configure_clocks()\n",
    "xylo_node.get_model().apply_configuration(xylo_config)\n",
    "\n",
    "# configure PDM clock and PDM data\n",
    "io.write_config(0x2b,1)\n",
    "io.write_config(0x2d,0)\n",
    "io.write_config(0x2c,1)\n",
    "\n",
    "# read dfe_ctrl\n",
    "if (enable_main_clock):\n",
    "    print(hex(read_register(27)))\n",
    "\n",
    "# Start the stopwatch to enable time-stamped power sampling.\n",
    "stopwatch.start()\n",
    "\n",
    "# Start sampling power on all channels at a rate of 100 Hz.\n",
    "power_monitor.start_auto_power_measurement(100)\n",
    "\n",
    "# Auto power measurement streams PowerMeasurement events continuously.\n",
    "# To capture 3 seconds of data from 3 channels at 100Hz, we collect 900 events.\n",
    "events = sink_pm.get_n_events(900, timeout=4000)\n",
    "\n",
    "# Stop the automatic power measurement process.\n",
    "power_monitor.stop_auto_power_measurement()\n",
    "\n",
    "# Calculate the average power consumption for each channel over 3 seconds.\n",
    "counts = [0, 0, 0]\n",
    "sums = [0, 0, 0]\n",
    "for e in events:\n",
    "    assert isinstance(e, samna.unifirm.modules.events.PowerMeasurement)\n",
    "    sums[e.channel] += e.value\n",
    "    counts[e.channel] += 1\n",
    "\n",
    "# Compute the averages and convert to milliwatts (W -> mW).\n",
    "avgs = [sum/count * 1000 for sum, count in zip(sums, counts)]\n",
    "\n",
    "print(f'io:\\t{np.ceil(avgs[0] * 1000):.0f} uW\\tAFE core:\\t{np.ceil(avgs[1] * 1000):.0f} uW\\tDFE+SNN core:\\t{np.ceil(avgs[2] * 1000):.0f} uW')\n"
   ]
  },
  {
   "cell_type": "markdown",
   "metadata": {},
   "source": [
    "### 3 Keep PDM_DATA low and PDM_CLK high: (0x2b,1),(0x2d,0),(0x2c,2)\n"
   ]
  },
  {
   "cell_type": "code",
   "execution_count": 7,
   "metadata": {},
   "outputs": [
    {
     "name": "stdout",
     "output_type": "stream",
     "text": [
      "fpga -> xylo\n",
      "0x100\n",
      "io:\t50 uW\tAFE core:\t13 uW\tDFE+SNN core:\t492 uW\n"
     ]
    }
   ],
   "source": [
    "import time\n",
    "\n",
    "# configure clocks\n",
    "configure_clock_direction()\n",
    "configure_clocks()\n",
    "xylo_node.get_model().apply_configuration(xylo_config)\n",
    "\n",
    "# configure PDM clock and PDM data\n",
    "io.write_config(0x2b,1)\n",
    "io.write_config(0x2d,0)\n",
    "io.write_config(0x2c,2)\n",
    "\n",
    "# read dfe_ctrl\n",
    "if (enable_main_clock):\n",
    "    print(hex(read_register(27)))\n",
    "\n",
    "# Start the stopwatch to enable time-stamped power sampling.\n",
    "stopwatch.start()\n",
    "\n",
    "# Start sampling power on all channels at a rate of 100 Hz.\n",
    "power_monitor.start_auto_power_measurement(100)\n",
    "\n",
    "# Auto power measurement streams PowerMeasurement events continuously.\n",
    "# To capture 3 seconds of data from 3 channels at 100Hz, we collect 900 events.\n",
    "events = sink_pm.get_n_events(900, timeout=4000)\n",
    "\n",
    "# Stop the automatic power measurement process.\n",
    "power_monitor.stop_auto_power_measurement()\n",
    "\n",
    "# Calculate the average power consumption for each channel over 3 seconds.\n",
    "counts = [0, 0, 0]\n",
    "sums = [0, 0, 0]\n",
    "for e in events:\n",
    "    assert isinstance(e, samna.unifirm.modules.events.PowerMeasurement)\n",
    "    sums[e.channel] += e.value\n",
    "    counts[e.channel] += 1\n",
    "\n",
    "# Compute the averages and convert to milliwatts (W -> mW).\n",
    "avgs = [sum/count * 1000 for sum, count in zip(sums, counts)]\n",
    "\n",
    "print(f'io:\\t{np.ceil(avgs[0] * 1000):.0f} uW\\tAFE core:\\t{np.ceil(avgs[1] * 1000):.0f} uW\\tDFE+SNN core:\\t{np.ceil(avgs[2] * 1000):.0f} uW')\n"
   ]
  },
  {
   "cell_type": "markdown",
   "metadata": {},
   "source": [
    "### 4 Keep PDM_DATA high and PDM_CLK high: (0x2b,1),(0x2d,0),(0x2c,3)\n"
   ]
  },
  {
   "cell_type": "code",
   "execution_count": 8,
   "metadata": {},
   "outputs": [
    {
     "name": "stdout",
     "output_type": "stream",
     "text": [
      "fpga -> xylo\n",
      "0x100\n",
      "io:\t50 uW\tAFE core:\t13 uW\tDFE+SNN core:\t492 uW\n"
     ]
    }
   ],
   "source": [
    "import time\n",
    "\n",
    "# configure clocks\n",
    "configure_clock_direction()\n",
    "configure_clocks()\n",
    "xylo_node.get_model().apply_configuration(xylo_config)\n",
    "\n",
    "# configure PDM clock and PDM data\n",
    "io.write_config(0x2b,1)\n",
    "io.write_config(0x2d,0)\n",
    "io.write_config(0x2c,3)\n",
    "\n",
    "# read dfe_ctrl\n",
    "if (enable_main_clock):\n",
    "    print(hex(read_register(27)))\n",
    "\n",
    "# Start the stopwatch to enable time-stamped power sampling.\n",
    "stopwatch.start()\n",
    "\n",
    "# Start sampling power on all channels at a rate of 100 Hz.\n",
    "power_monitor.start_auto_power_measurement(100)\n",
    "\n",
    "# Auto power measurement streams PowerMeasurement events continuously.\n",
    "# To capture 3 seconds of data from 3 channels at 100Hz, we collect 900 events.\n",
    "events = sink_pm.get_n_events(900, timeout=4000)\n",
    "\n",
    "# Stop the automatic power measurement process.\n",
    "power_monitor.stop_auto_power_measurement()\n",
    "\n",
    "# Calculate the average power consumption for each channel over 3 seconds.\n",
    "counts = [0, 0, 0]\n",
    "sums = [0, 0, 0]\n",
    "for e in events:\n",
    "    assert isinstance(e, samna.unifirm.modules.events.PowerMeasurement)\n",
    "    sums[e.channel] += e.value\n",
    "    counts[e.channel] += 1\n",
    "\n",
    "# Compute the averages and convert to milliwatts (W -> mW).\n",
    "avgs = [sum/count * 1000 for sum, count in zip(sums, counts)]\n",
    "\n",
    "print(f'io:\\t{np.ceil(avgs[0] * 1000):.0f} uW\\tAFE core:\\t{np.ceil(avgs[1] * 1000):.0f} uW\\tDFE+SNN core:\\t{np.ceil(avgs[2] * 1000):.0f} uW')\n"
   ]
  },
  {
   "cell_type": "markdown",
   "metadata": {},
   "source": [
    "### 5. Toggle PDM_DATA at some frequency while keeping PDM_CLK low:  (0x2b,1),(0x2d,1),(0x2c,0)\n"
   ]
  },
  {
   "cell_type": "code",
   "execution_count": 9,
   "metadata": {},
   "outputs": [
    {
     "name": "stdout",
     "output_type": "stream",
     "text": [
      "fpga -> xylo\n",
      "0x100\n",
      "io:\t50 uW\tAFE core:\t13 uW\tDFE+SNN core:\t492 uW\n"
     ]
    }
   ],
   "source": [
    "import time\n",
    "\n",
    "# configure clocks\n",
    "configure_clock_direction()\n",
    "configure_clocks()\n",
    "xylo_node.get_model().apply_configuration(xylo_config)\n",
    "\n",
    "# configure PDM clock and PDM data\n",
    "io.write_config(0x2b,1)\n",
    "io.write_config(0x2d,1)\n",
    "io.write_config(0x2c,0)\n",
    "\n",
    "# read dfe_ctrl\n",
    "if (enable_main_clock):\n",
    "    print(hex(read_register(27)))\n",
    "\n",
    "# Start the stopwatch to enable time-stamped power sampling.\n",
    "stopwatch.start()\n",
    "\n",
    "# Start sampling power on all channels at a rate of 100 Hz.\n",
    "power_monitor.start_auto_power_measurement(100)\n",
    "\n",
    "# Auto power measurement streams PowerMeasurement events continuously.\n",
    "# To capture 3 seconds of data from 3 channels at 100Hz, we collect 900 events.\n",
    "events = sink_pm.get_n_events(900, timeout=4000)\n",
    "\n",
    "# Stop the automatic power measurement process.\n",
    "power_monitor.stop_auto_power_measurement()\n",
    "\n",
    "# Calculate the average power consumption for each channel over 3 seconds.\n",
    "counts = [0, 0, 0]\n",
    "sums = [0, 0, 0]\n",
    "for e in events:\n",
    "    assert isinstance(e, samna.unifirm.modules.events.PowerMeasurement)\n",
    "    sums[e.channel] += e.value\n",
    "    counts[e.channel] += 1\n",
    "\n",
    "# Compute the averages and convert to milliwatts (W -> mW).\n",
    "avgs = [sum/count * 1000 for sum, count in zip(sums, counts)]\n",
    "\n",
    "print(f'io:\\t{np.ceil(avgs[0] * 1000):.0f} uW\\tAFE core:\\t{np.ceil(avgs[1] * 1000):.0f} uW\\tDFE+SNN core:\\t{np.ceil(avgs[2] * 1000):.0f} uW')\n"
   ]
  },
  {
   "cell_type": "markdown",
   "metadata": {},
   "source": [
    "### 6 Toggle PDM_DATA at some frequency while keeping PDM_CLK high: (0x2b,1),(0x2d,1),(0x2c,1)\n"
   ]
  },
  {
   "cell_type": "code",
   "execution_count": 10,
   "metadata": {},
   "outputs": [
    {
     "name": "stdout",
     "output_type": "stream",
     "text": [
      "fpga -> xylo\n",
      "0x100\n",
      "io:\t51 uW\tAFE core:\t13 uW\tDFE+SNN core:\t517 uW\n"
     ]
    }
   ],
   "source": [
    "import time\n",
    "\n",
    "# configure clocks\n",
    "configure_clock_direction()\n",
    "configure_clocks()\n",
    "xylo_node.get_model().apply_configuration(xylo_config)\n",
    "\n",
    "# configure PDM clock and PDM data\n",
    "io.write_config(0x2b,1)\n",
    "io.write_config(0x2d,1)\n",
    "io.write_config(0x2c,1)\n",
    "\n",
    "# read dfe_ctrl\n",
    "if (enable_main_clock):\n",
    "    print(hex(read_register(27)))\n",
    "\n",
    "# Start the stopwatch to enable time-stamped power sampling.\n",
    "stopwatch.start()\n",
    "\n",
    "# Start sampling power on all channels at a rate of 100 Hz.\n",
    "power_monitor.start_auto_power_measurement(100)\n",
    "\n",
    "# Auto power measurement streams PowerMeasurement events continuously.\n",
    "# To capture 3 seconds of data from 3 channels at 100Hz, we collect 900 events.\n",
    "events = sink_pm.get_n_events(900, timeout=4000)\n",
    "\n",
    "# Stop the automatic power measurement process.\n",
    "power_monitor.stop_auto_power_measurement()\n",
    "\n",
    "# Calculate the average power consumption for each channel over 3 seconds.\n",
    "counts = [0, 0, 0]\n",
    "sums = [0, 0, 0]\n",
    "for e in events:\n",
    "    assert isinstance(e, samna.unifirm.modules.events.PowerMeasurement)\n",
    "    sums[e.channel] += e.value\n",
    "    counts[e.channel] += 1\n",
    "\n",
    "# Compute the averages and convert to milliwatts (W -> mW).\n",
    "avgs = [sum/count * 1000 for sum, count in zip(sums, counts)]\n",
    "\n",
    "print(f'io:\\t{np.ceil(avgs[0] * 1000):.0f} uW\\tAFE core:\\t{np.ceil(avgs[1] * 1000):.0f} uW\\tDFE+SNN core:\\t{np.ceil(avgs[2] * 1000):.0f} uW')\n"
   ]
  },
  {
   "cell_type": "markdown",
   "metadata": {},
   "source": [
    "### 7 Keep PDM_DATA low while toggling PDM_CLK at some frequency: (0x2b,1),(0x2d,2),(0x2c,0)"
   ]
  },
  {
   "cell_type": "code",
   "execution_count": 11,
   "metadata": {},
   "outputs": [
    {
     "name": "stdout",
     "output_type": "stream",
     "text": [
      "fpga -> xylo\n",
      "0x100\n",
      "io:\t50 uW\tAFE core:\t13 uW\tDFE+SNN core:\t517 uW\n"
     ]
    }
   ],
   "source": [
    "import time\n",
    "\n",
    "# configure clocks\n",
    "configure_clock_direction()\n",
    "configure_clocks()\n",
    "xylo_node.get_model().apply_configuration(xylo_config)\n",
    "\n",
    "# configure PDM clock and PDM data\n",
    "io.write_config(0x2b,1)\n",
    "io.write_config(0x2d,2)\n",
    "io.write_config(0x2c,0)\n",
    "\n",
    "# read dfe_ctrl\n",
    "if (enable_main_clock):\n",
    "    print(hex(read_register(27)))\n",
    "\n",
    "# Start the stopwatch to enable time-stamped power sampling.\n",
    "stopwatch.start()\n",
    "\n",
    "# Start sampling power on all channels at a rate of 100 Hz.\n",
    "power_monitor.start_auto_power_measurement(100)\n",
    "\n",
    "# Auto power measurement streams PowerMeasurement events continuously.\n",
    "# To capture 3 seconds of data from 3 channels at 100Hz, we collect 900 events.\n",
    "events = sink_pm.get_n_events(900, timeout=4000)\n",
    "\n",
    "# Stop the automatic power measurement process.\n",
    "power_monitor.stop_auto_power_measurement()\n",
    "\n",
    "# Calculate the average power consumption for each channel over 3 seconds.\n",
    "counts = [0, 0, 0]\n",
    "sums = [0, 0, 0]\n",
    "for e in events:\n",
    "    assert isinstance(e, samna.unifirm.modules.events.PowerMeasurement)\n",
    "    sums[e.channel] += e.value\n",
    "    counts[e.channel] += 1\n",
    "\n",
    "# Compute the averages and convert to milliwatts (W -> mW).\n",
    "avgs = [sum/count * 1000 for sum, count in zip(sums, counts)]\n",
    "\n",
    "print(f'io:\\t{np.ceil(avgs[0] * 1000):.0f} uW\\tAFE core:\\t{np.ceil(avgs[1] * 1000):.0f} uW\\tDFE+SNN core:\\t{np.ceil(avgs[2] * 1000):.0f} uW')\n"
   ]
  },
  {
   "cell_type": "markdown",
   "metadata": {},
   "source": [
    "### 8 Keep PDM_DATA high while toggling PDM_CLK at some frequency: (0x2b,1),(0x2d,2),(0x2c,2)\n"
   ]
  },
  {
   "cell_type": "code",
   "execution_count": 12,
   "metadata": {},
   "outputs": [
    {
     "name": "stdout",
     "output_type": "stream",
     "text": [
      "fpga -> xylo\n",
      "0x100\n",
      "io:\t50 uW\tAFE core:\t13 uW\tDFE+SNN core:\t517 uW\n"
     ]
    }
   ],
   "source": [
    "import time\n",
    "\n",
    "# configure clocks\n",
    "configure_clock_direction()\n",
    "configure_clocks()\n",
    "xylo_node.get_model().apply_configuration(xylo_config)\n",
    "\n",
    "# configure PDM clock and PDM data\n",
    "io.write_config(0x2b,1)\n",
    "io.write_config(0x2d,2)\n",
    "io.write_config(0x2c,2)\n",
    "\n",
    "# read dfe_ctrl\n",
    "if (enable_main_clock):\n",
    "    print(hex(read_register(27)))\n",
    "\n",
    "# Start the stopwatch to enable time-stamped power sampling.\n",
    "stopwatch.start()\n",
    "\n",
    "# Start sampling power on all channels at a rate of 100 Hz.\n",
    "power_monitor.start_auto_power_measurement(100)\n",
    "\n",
    "# Auto power measurement streams PowerMeasurement events continuously.\n",
    "# To capture 3 seconds of data from 3 channels at 100Hz, we collect 900 events.\n",
    "events = sink_pm.get_n_events(900, timeout=4000)\n",
    "\n",
    "# Stop the automatic power measurement process.\n",
    "power_monitor.stop_auto_power_measurement()\n",
    "\n",
    "# Calculate the average power consumption for each channel over 3 seconds.\n",
    "counts = [0, 0, 0]\n",
    "sums = [0, 0, 0]\n",
    "for e in events:\n",
    "    assert isinstance(e, samna.unifirm.modules.events.PowerMeasurement)\n",
    "    sums[e.channel] += e.value\n",
    "    counts[e.channel] += 1\n",
    "\n",
    "# Compute the averages and convert to milliwatts (W -> mW).\n",
    "avgs = [sum/count * 1000 for sum, count in zip(sums, counts)]\n",
    "\n",
    "print(f'io:\\t{np.ceil(avgs[0] * 1000):.0f} uW\\tAFE core:\\t{np.ceil(avgs[1] * 1000):.0f} uW\\tDFE+SNN core:\\t{np.ceil(avgs[2] * 1000):.0f} uW')\n"
   ]
  },
  {
   "cell_type": "markdown",
   "metadata": {},
   "source": [
    "### 9 Toggle both PDM_CLK and PDM_DATA at some frequency: (0x2b,1),(0x2d,3)\n"
   ]
  },
  {
   "cell_type": "code",
   "execution_count": 13,
   "metadata": {},
   "outputs": [
    {
     "name": "stdout",
     "output_type": "stream",
     "text": [
      "fpga -> xylo\n",
      "0x100\n",
      "io:\t50 uW\tAFE core:\t13 uW\tDFE+SNN core:\t517 uW\n"
     ]
    }
   ],
   "source": [
    "import time\n",
    "\n",
    "# configure clocks\n",
    "configure_clock_direction()\n",
    "configure_clocks()\n",
    "xylo_node.get_model().apply_configuration(xylo_config)\n",
    "\n",
    "# configure PDM clock and PDM data\n",
    "io.write_config(0x2b,1)\n",
    "io.write_config(0x2d,3)\n",
    "\n",
    "# read dfe_ctrl\n",
    "if (enable_main_clock):\n",
    "    print(hex(read_register(27)))\n",
    "\n",
    "# Start the stopwatch to enable time-stamped power sampling.\n",
    "stopwatch.start()\n",
    "\n",
    "# Start sampling power on all channels at a rate of 100 Hz.\n",
    "power_monitor.start_auto_power_measurement(100)\n",
    "\n",
    "# Auto power measurement streams PowerMeasurement events continuously.\n",
    "# To capture 3 seconds of data from 3 channels at 100Hz, we collect 900 events.\n",
    "events = sink_pm.get_n_events(900, timeout=4000)\n",
    "\n",
    "# Stop the automatic power measurement process.\n",
    "power_monitor.stop_auto_power_measurement()\n",
    "\n",
    "# Calculate the average power consumption for each channel over 3 seconds.\n",
    "counts = [0, 0, 0]\n",
    "sums = [0, 0, 0]\n",
    "for e in events:\n",
    "    assert isinstance(e, samna.unifirm.modules.events.PowerMeasurement)\n",
    "    sums[e.channel] += e.value\n",
    "    counts[e.channel] += 1\n",
    "\n",
    "# Compute the averages and convert to milliwatts (W -> mW).\n",
    "avgs = [sum/count * 1000 for sum, count in zip(sums, counts)]\n",
    "\n",
    "print(f'io:\\t{np.ceil(avgs[0] * 1000):.0f} uW\\tAFE core:\\t{np.ceil(avgs[1] * 1000):.0f} uW\\tDFE+SNN core:\\t{np.ceil(avgs[2] * 1000):.0f} uW')\n"
   ]
  },
  {
   "cell_type": "code",
   "execution_count": 14,
   "metadata": {},
   "outputs": [
    {
     "name": "stdout",
     "output_type": "stream",
     "text": [
      "0x222\n"
     ]
    }
   ],
   "source": [
    "print(hex(read_register(pad_ctrl)))\n"
   ]
  },
  {
   "cell_type": "code",
   "execution_count": null,
   "metadata": {},
   "outputs": [],
   "source": []
  }
 ],
 "metadata": {
  "interpreter": {
   "hash": "80082753f825f5fd87c9e01bdff400ed5e0a1d73f0e7712adc135a3cda2f38fe"
  },
  "kernelspec": {
   "display_name": "Python 3 (ipykernel)",
   "language": "python",
   "name": "python3"
  },
  "language_info": {
   "codemirror_mode": {
    "name": "ipython",
    "version": 3
   },
   "file_extension": ".py",
   "mimetype": "text/x-python",
   "name": "python",
   "nbconvert_exporter": "python",
   "pygments_lexer": "ipython3",
   "version": "3.10.12"
  }
 },
 "nbformat": 4,
 "nbformat_minor": 4
}
