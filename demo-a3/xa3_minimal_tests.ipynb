{
 "cells": [
  {
   "cell_type": "markdown",
   "metadata": {},
   "source": [
    "## Minimal test of XyloSamna and XyloMonitor\n",
    "- Deploying a dummy network on Xylo a2 and Xylo a3 \n"
   ]
  },
  {
   "cell_type": "code",
   "execution_count": 1,
   "metadata": {},
   "outputs": [
    {
     "name": "stdout",
     "output_type": "stream",
     "text": [
      "Samna version 0.38.11.13+gae77a63e0\n",
      "from samna.xyloA3.configuration import InputInterfaceConfig\n"
     ]
    }
   ],
   "source": [
    "import warnings\n",
    "warnings.filterwarnings(\"ignore\")\n",
    "\n",
    "import samna\n",
    "print(f'Samna version {samna.__version__}')\n",
    "\n",
    "import numpy as np\n",
    "import matplotlib.pyplot as plt\n",
    "from rockpool.devices.xylo.syns61201 import config_from_specification as a2_config_from, mapper as a2_mapper, XyloSamna as a2_XyloSamna, XyloMonitor as a2_XyloMonitor\n",
    "from rockpool.devices.xylo.syns65302 import config_from_specification as a3_config_from, mapper as a3_mapper, XyloSamna as a3_XyloSamna, XyloMonitor as a3_XyloMonitor\n",
    "\n",
    "from rockpool.transform.quantize_methods import channel_quantize\n",
    "from rockpool.nn.modules import LIF, Linear\n",
    "from rockpool.nn.combinators import Sequential"
   ]
  },
  {
   "cell_type": "markdown",
   "metadata": {},
   "source": [
    "### Build a Dummy network "
   ]
  },
  {
   "cell_type": "code",
   "execution_count": 2,
   "metadata": {},
   "outputs": [],
   "source": [
    "net = Sequential(\n",
    "    Linear((16, 63)),\n",
    "    LIF((63, 63)),\n",
    "    Linear((63, 8)),\n",
    "    LIF(8),\n",
    ")"
   ]
  },
  {
   "cell_type": "markdown",
   "metadata": {},
   "source": [
    "### Create a simple spiking input \n"
   ]
  },
  {
   "cell_type": "code",
   "execution_count": 3,
   "metadata": {},
   "outputs": [
    {
     "name": "stdout",
     "output_type": "stream",
     "text": [
      "[[False False False ... False False False]\n",
      " [False False False ... False False False]\n",
      " [False False False ... False False False]\n",
      " ...\n",
      " [False False False ... False False False]\n",
      " [False False False ... False False False]\n",
      " [ True False False ... False False False]]\n"
     ]
    },
    {
     "data": {
      "text/plain": [
       "<matplotlib.colorbar.Colorbar at 0x77b581fe25f0>"
      ]
     },
     "execution_count": 3,
     "metadata": {},
     "output_type": "execute_result"
    },
    {
     "data": {
      "image/png": "[encoded data removed]",
      "text/plain": [
       "<Figure size 432x288 with 2 Axes>"
      ]
     },
     "metadata": {
      "needs_background": "light"
     },
     "output_type": "display_data"
    }
   ],
   "source": [
    "import matplotlib.pyplot as plt\n",
    "T = 100  #number of time steps\n",
    "dt = 0.01 #size of time step\n",
    "Nin = 16 # number of input channels \n",
    "p = 0.02 # spiking probability\n",
    "input_data = np.loadtxt('input_data.txt')\n",
    "# input_data = np.random.rand(T,Nin) > (1-p)\n",
    "# np.savetxt('input_data.txt', input_data)\n",
    "\n",
    "input_data = np.array(input_data, dtype=bool)\n",
    "\n",
    "print(input_data)\n",
    "plt.figure()\n",
    "plt.imshow(input_data.T, aspect='auto'); plt.xlabel('Time'); plt.ylabel('channel'); plt.colorbar()"
   ]
  },
  {
   "cell_type": "markdown",
   "metadata": {},
   "source": [
    "### Detecting Xylos"
   ]
  },
  {
   "cell_type": "code",
   "execution_count": 4,
   "metadata": {},
   "outputs": [
    {
     "name": "stdout",
     "output_type": "stream",
     "text": [
      "The connected Xylo HDK contains a Xylo A3. Importing `rockpool.devices.xylo.syns65302`\n",
      "[<samna.xyloAudio3Boards.XyloAudio3TestBoard object at 0x77b581f9a3f0>] [<module 'rockpool.devices.xylo.syns65302' from '/home/vleite/Software/rockpool/rockpool/devices/xylo/syns65302/__init__.py'>] ['syns65302']\n",
      "no xylo audio v2 was found\n",
      "<samna.xyloAudio3Boards.XyloAudio3TestBoard object at 0x77b581f9a3f0>\n"
     ]
    }
   ],
   "source": [
    "from rockpool.devices.xylo import find_xylo_hdks\n",
    "xylo_hdks, xylo_support_modules, xylo_versions = find_xylo_hdks()\n",
    "print(xylo_hdks, xylo_support_modules, xylo_versions)\n",
    "\n",
    "xa2_node = \"\"\n",
    "xa3_node = \"\"\n",
    "\n",
    "for version, xylo in zip(xylo_versions, xylo_hdks):\n",
    "    if version == \"syns61201\":\n",
    "        xa2_node = xylo\n",
    "    elif version == \"syns65302\":\n",
    "        xa3_node = xylo\n",
    "\n",
    "print(xa2_node) if xa2_node else print(\"no xylo audio v2 was found\")\n",
    "print(xa3_node) if xa3_node else print(\"no xylo audio v3 was found\")"
   ]
  },
  {
   "cell_type": "markdown",
   "metadata": {},
   "source": [
    "### Map it to Xylo a2\n",
    "- and verify the weights"
   ]
  },
  {
   "cell_type": "code",
   "execution_count": 5,
   "metadata": {},
   "outputs": [],
   "source": [
    "if xa2_node:\n",
    "    spec = a2_mapper(net.as_graph())\n",
    "    Q_spec = spec\n",
    "    Q_spec.update(channel_quantize(**Q_spec))\n",
    "    a2_config, is_valid, msg = a2_config_from(**Q_spec)\n",
    "    \n",
    "    if not is_valid:\n",
    "        print(msg)"
   ]
  },
  {
   "cell_type": "code",
   "execution_count": 6,
   "metadata": {},
   "outputs": [],
   "source": [
    "if xa2_node:\n",
    "    w_in = a2_config.input.weights\n",
    "    w_hid = a2_config.reservoir.weights\n",
    "    w_out = a2_config.readout.weights\n",
    "    plt.figure(figsize=(15,5))\n",
    "    plt.subplot(131)\n",
    "    plt.imshow(w_in, aspect='auto'); plt.colorbar(); plt.title('input weights')\n",
    "    plt.subplot(132)\n",
    "    plt.imshow(w_hid, aspect='auto');plt.colorbar(); plt.title('hidden weights')\n",
    "    plt.subplot(133)\n",
    "    plt.imshow(w_out, aspect='auto');plt.colorbar(); plt.title('readout weights')"
   ]
  },
  {
   "cell_type": "markdown",
   "metadata": {},
   "source": [
    "### Testing Xylo a2\n",
    "- #### with XyloSamna "
   ]
  },
  {
   "cell_type": "code",
   "execution_count": 7,
   "metadata": {},
   "outputs": [],
   "source": [
    "if xa2_node:\n",
    "    dt = 0.01\n",
    "    Xmod = a2_XyloSamna(xa2_node, a2_config, dt = dt)\n",
    "    # print(Xmod.config)\n",
    "    \n",
    "    out, _, rec = Xmod.evolve(input_data, record = True)\n",
    "    plt.figure(figsize=(15,5))\n",
    "    plt.subplot(131), plt.imshow(out.T, aspect='auto', interpolation='none'); plt.title('readout spikes'); plt.xlabel('Time'); plt.ylabel('Neuron index'); plt.colorbar()\n",
    "    plt.subplot(132), plt.imshow(rec['Vmem_out'].T, aspect='auto', interpolation='none');  plt.title('readout Vmem s'); plt.xlabel('Time'); plt.ylabel('Neuron index');  plt.colorbar()\n",
    "    print(rec.keys())"
   ]
  },
  {
   "cell_type": "markdown",
   "metadata": {},
   "source": [
    "- #### With XyloMonitor\n",
    "- clapping for 3 seconds"
   ]
  },
  {
   "cell_type": "code",
   "execution_count": 8,
   "metadata": {},
   "outputs": [],
   "source": [
    "if xa2_node:\n",
    "    N = 3 # in seconds \n",
    "    duration = int(N * (1/dt)) \n",
    "    print(duration)\n",
    "    \n",
    "    a2_Monitor = a2_XyloMonitor(xa2_node, a2_config, dt = dt)\n",
    "    out, _, rec = a2_Monitor.evolve(np.zeros((duration , Nin)))\n",
    "    plt.figure(figsize=(15,5))\n",
    "    plt.subplot(131), plt.imshow(np.array(out).T, aspect='auto', interpolation='none'); plt.title('readout spikes'); plt.xlabel('Time'); plt.ylabel('Neuron index'); plt.colorbar()\n"
   ]
  },
  {
   "cell_type": "markdown",
   "metadata": {},
   "source": [
    "### Testing with XyloSamna for Xylo a3"
   ]
  },
  {
   "cell_type": "markdown",
   "metadata": {},
   "source": [
    "### Map it to Xylo a3\n",
    "- and verifying the weights"
   ]
  },
  {
   "cell_type": "code",
   "execution_count": 9,
   "metadata": {},
   "outputs": [],
   "source": [
    "if xa3_node:\n",
    "    spec = a3_mapper(net.as_graph())\n",
    "    Q_spec = spec\n",
    "    Q_spec.update(channel_quantize(**Q_spec))\n",
    "    a3_config, is_valid, msg = a3_config_from(**Q_spec)\n",
    "    \n",
    "    if not is_valid:\n",
    "        print(msg)"
   ]
  },
  {
   "cell_type": "code",
   "execution_count": 10,
   "metadata": {},
   "outputs": [
    {
     "data": {
      "image/png": "[encoded data removed]",
      "text/plain": [
       "<Figure size 1080x360 with 6 Axes>"
      ]
     },
     "metadata": {
      "needs_background": "light"
     },
     "output_type": "display_data"
    }
   ],
   "source": [
    "if xa3_node:\n",
    "    w_in = a3_config.input.weights\n",
    "    w_hid = a3_config.hidden.weights\n",
    "    w_out = a3_config.readout.weights\n",
    "    plt.figure(figsize=(15,5))\n",
    "    plt.subplot(131)\n",
    "    plt.imshow(w_in, aspect='auto'); plt.colorbar(); plt.title('input weights')\n",
    "    plt.subplot(132)\n",
    "    plt.imshow(w_hid, aspect='auto');plt.colorbar(); plt.title('hidden weights')\n",
    "    plt.subplot(133)\n",
    "    plt.imshow(w_out, aspect='auto');plt.colorbar(); plt.title('readout weights')"
   ]
  },
  {
   "cell_type": "code",
   "execution_count": 11,
   "metadata": {},
   "outputs": [],
   "source": [
    "a3_config.input_source = samna.xyloAudio3.InputSource.Saer\n",
    "a3_config.debug.sw_input_enable = True"
   ]
  },
  {
   "cell_type": "code",
   "execution_count": 12,
   "metadata": {},
   "outputs": [
    {
     "data": {
      "application/vnd.jupyter.widget-view+json": {
       "model_id": "b62c27390e394c7889aae755c5233e2f",
       "version_major": 2,
       "version_minor": 0
      },
      "text/plain": [
       "  0%|          | 0/100 [00:00<?, ?it/s]"
      ]
     },
     "metadata": {},
     "output_type": "display_data"
    }
   ],
   "source": [
    "if xa3_node:\n",
    "    dt = 0.01\n",
    "    Xmod = a3_XyloSamna(xa3_node, a3_config, dt = dt)\n",
    "    \n",
    "    # print(Xmod.config)\n",
    "    \n",
    "    out, _, rec = Xmod.evolve(input_data, record = True)"
   ]
  },
  {
   "cell_type": "code",
   "execution_count": 13,
   "metadata": {},
   "outputs": [
    {
     "name": "stdout",
     "output_type": "stream",
     "text": [
      "dict_keys(['Vmem', 'Isyn', 'Isyn2', 'Spikes', 'Vmem_out', 'Isyn_out'])\n"
     ]
    },
    {
     "data": {
      "image/png": "[encoded data removed]",
      "text/plain": [
       "<Figure size 1080x360 with 4 Axes>"
      ]
     },
     "metadata": {
      "needs_background": "light"
     },
     "output_type": "display_data"
    }
   ],
   "source": [
    "if xa3_node:\n",
    "    plt.figure(figsize=(15,5))\n",
    "    plt.subplot(131), plt.imshow(out.T, aspect='auto', interpolation='none'); plt.title('readout spikes'); plt.xlabel('Time'); plt.ylabel('Neuron index'); plt.colorbar()\n",
    "    plt.subplot(132), plt.imshow(rec['Vmem_out'].T, aspect='auto', interpolation='none');  plt.title('readout Vmem s'); plt.xlabel('Time'); plt.ylabel('Neuron index');  plt.colorbar()\n",
    "    print(rec.keys())"
   ]
  },
  {
   "cell_type": "code",
   "execution_count": 14,
   "metadata": {},
   "outputs": [],
   "source": [
    "# 0: input for Xylo, 1: Xylo output\n",
    "PDM_CLK_DIR  = 1\n",
    "# 0: Xylo samples PDM_DATA at risinge edge, 1: Xylo samples PDM_DATA at falling edge\n",
    "PDM_CLK_EDGE = 0\n",
    "\n",
    "def get_tr_wrap(ts_in_ms, main_clk_freq_in_mhz, debug=0):\n",
    "    ts_duration   = ts_in_ms*1e-3; # in second\n",
    "    main_clk_freq = main_clk_freq_in_mhz*1e6 # in Hz\n",
    "    tr_wrap       = int(ts_duration*main_clk_freq)\n",
    "    print(f\"set tr_wrap to 0x{format(tr_wrap,'_X')}\") if debug>=1 else None\n",
    "    return tr_wrap"
   ]
  },
  {
   "cell_type": "code",
   "execution_count": 15,
   "metadata": {},
   "outputs": [
    {
     "name": "stdout",
     "output_type": "stream",
     "text": [
      "set tr_wrap to 0x2FA_F080\n"
     ]
    }
   ],
   "source": [
    "if xa3_node:\n",
    "    a3_config.operation_mode                                        = samna.xyloAudio3.OperationMode.RealTime\n",
    "    a3_config.time_resolution_wrap                                  = get_tr_wrap(ts_in_ms=1000, main_clk_freq_in_mhz=50, debug=1)\n",
    "    a3_config.debug.always_update_omp_stat                          = True\n",
    "    a3_config.input_source                                          = samna.xyloAudio3.InputSource.Pdm\n",
    "    a3_config.digital_frontend.filter_bank.dn_enable                = False\n",
    "    a3_config.digital_frontend.filter_bank.use_global_iaf_threshold = False\n",
    "    a3_config.digital_frontend.pdm_preprocessing.clock_direction    = PDM_CLK_DIR\n",
    "    a3_config.digital_frontend.pdm_preprocessing.clock_edge         = PDM_CLK_EDGE\n",
    "    a3_config.debug.sdm_clock_ratio                                 = 24\n",
    "    a3_config.debug.sw_input_enable                                 = False"
   ]
  },
  {
   "cell_type": "code",
   "execution_count": 16,
   "metadata": {},
   "outputs": [
    {
     "name": "stdout",
     "output_type": "stream",
     "text": [
      "50\n"
     ]
    }
   ],
   "source": [
    "if xa3_node:\n",
    "    N = 0.5 # in seconds \n",
    "    duration = int(N * (1/dt)) \n",
    "    print(duration)\n",
    "    \n",
    "    a3_Monitor = a3_XyloMonitor(xa3_node, a3_config, dt = dt, output_mode=\"Spike\")\n",
    "    out, _, rec = a3_Monitor.evolve(record=False, record_power=False, read_timeout=N)"
   ]
  },
  {
   "cell_type": "code",
   "execution_count": 17,
   "metadata": {},
   "outputs": [
    {
     "data": {
      "text/plain": [
       "<matplotlib.colorbar.Colorbar at 0x77b564fde980>"
      ]
     },
     "execution_count": 17,
     "metadata": {},
     "output_type": "execute_result"
    },
    {
     "data": {
      "image/png": "[encoded data removed]",
      "text/plain": [
       "<Figure size 1080x360 with 2 Axes>"
      ]
     },
     "metadata": {
      "needs_background": "light"
     },
     "output_type": "display_data"
    }
   ],
   "source": [
    "plt.figure(figsize=(15,5))\n",
    "plt.subplot(131), plt.imshow(np.array(out).T, aspect='auto', interpolation='none'); plt.title('readout spikes'); plt.xlabel('Time'); plt.ylabel('Neuron index'); plt.colorbar()\n"
   ]
  }
 ],
 "metadata": {
  "interpreter": {
   "hash": "80082753f825f5fd87c9e01bdff400ed5e0a1d73f0e7712adc135a3cda2f38fe"
  },
  "kernelspec": {
   "display_name": "Python 3 (ipykernel)",
   "language": "python",
   "name": "python3"
  },
  "language_info": {
   "codemirror_mode": {
    "name": "ipython",
    "version": 3
   },
   "file_extension": ".py",
   "mimetype": "text/x-python",
   "name": "python",
   "nbconvert_exporter": "python",
   "pygments_lexer": "ipython3",
   "version": "3.10.12"
  }
 },
 "nbformat": 4,
 "nbformat_minor": 4
}
