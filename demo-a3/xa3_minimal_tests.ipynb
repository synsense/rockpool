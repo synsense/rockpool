{
 "cells": [
  {
   "cell_type": "markdown",
   "metadata": {},
   "source": [
    "## Minimal test of XyloSamna and XyloMonitor\n",
    "- Deploying a dummy network on Xylo a2 and Xylo a3 \n"
   ]
  },
  {
   "cell_type": "code",
   "execution_count": 1,
   "metadata": {},
   "outputs": [
    {
     "name": "stdout",
     "output_type": "stream",
     "text": [
      "Samna version 0.39.3.0\n",
      "from samna.xyloA3.configuration import InputInterfaceConfig\n"
     ]
    }
   ],
   "source": [
    "import warnings\n",
    "warnings.filterwarnings(\"ignore\")\n",
    "\n",
    "import samna\n",
    "print(f'Samna version {samna.__version__}')\n",
    "\n",
    "import numpy as np\n",
    "import matplotlib.pyplot as plt\n",
    "from rockpool.devices.xylo.syns61201 import config_from_specification as a2_config_from, mapper as a2_mapper, XyloSamna as a2_XyloSamna, XyloMonitor as a2_XyloMonitor\n",
    "from rockpool.devices.xylo.syns65302 import config_from_specification as a3_config_from, mapper as a3_mapper, XyloSamna as a3_XyloSamna, XyloMonitor as a3_XyloMonitor\n",
    "\n",
    "from rockpool.transform.quantize_methods import channel_quantize\n",
    "from rockpool.nn.modules import LIF, Linear\n",
    "from rockpool.nn.combinators import Sequential"
   ]
  },
  {
   "cell_type": "markdown",
   "metadata": {},
   "source": [
    "### Build a Dummy network "
   ]
  },
  {
   "cell_type": "code",
   "execution_count": 2,
   "metadata": {},
   "outputs": [],
   "source": [
    "net = Sequential(\n",
    "    Linear((16, 63)),\n",
    "    LIF((63, 63)),\n",
    "    Linear((63, 8)),\n",
    "    LIF(8),\n",
    ")"
   ]
  },
  {
   "cell_type": "markdown",
   "metadata": {},
   "source": [
    "### Create a simple spiking input \n"
   ]
  },
  {
   "cell_type": "code",
   "execution_count": 3,
   "metadata": {},
   "outputs": [
    {
     "name": "stdout",
     "output_type": "stream",
     "text": [
      "[[False False False ... False False False]\n",
      " [False False False ... False False False]\n",
      " [False False False ... False False False]\n",
      " ...\n",
      " [False False False ... False False False]\n",
      " [False False False ... False False False]\n",
      " [ True False False ... False False False]]\n"
     ]
    },
    {
     "data": {
      "text/plain": [
       "<matplotlib.colorbar.Colorbar at 0x74b2a573ed10>"
      ]
     },
     "execution_count": 3,
     "metadata": {},
     "output_type": "execute_result"
    },
    {
     "data": {
      "image/png": "[encoded data removed]",
      "text/plain": [
       "<Figure size 432x288 with 2 Axes>"
      ]
     },
     "metadata": {
      "needs_background": "light"
     },
     "output_type": "display_data"
    }
   ],
   "source": [
    "import matplotlib.pyplot as plt\n",
    "T = 100  #number of time steps\n",
    "dt = 0.01 #size of time step\n",
    "Nin = 16 # number of input channels \n",
    "p = 0.02 # spiking probability\n",
    "input_data = np.loadtxt('input_data.txt')\n",
    "# input_data = np.random.rand(T,Nin) > (1-p)\n",
    "# np.savetxt('input_data.txt', input_data)\n",
    "\n",
    "input_data = np.array(input_data, dtype=bool)\n",
    "\n",
    "print(input_data)\n",
    "plt.figure()\n",
    "plt.imshow(input_data.T, aspect='auto'); plt.xlabel('Time'); plt.ylabel('channel'); plt.colorbar()"
   ]
  },
  {
   "cell_type": "markdown",
   "metadata": {},
   "source": [
    "### Detecting Xylos"
   ]
  },
  {
   "cell_type": "code",
   "execution_count": 4,
   "metadata": {},
   "outputs": [
    {
     "name": "stdout",
     "output_type": "stream",
     "text": [
      "The connected Xylo HDK contains a Xylo A3. Importing `rockpool.devices.xylo.syns65302`\n",
      "[<samna.xyloAudio3Boards.XyloAudio3TestBoard object at 0x74b2b37704f0>] [<module 'rockpool.devices.xylo.syns65302' from '/home/vleite/Software/rockpool/rockpool/devices/xylo/syns65302/__init__.py'>] ['syns65302']\n",
      "no xylo audio v2 was found\n",
      "<samna.xyloAudio3Boards.XyloAudio3TestBoard object at 0x74b2b37704f0>\n"
     ]
    }
   ],
   "source": [
    "from rockpool.devices.xylo import find_xylo_hdks\n",
    "xylo_hdks, xylo_support_modules, xylo_versions = find_xylo_hdks()\n",
    "print(xylo_hdks, xylo_support_modules, xylo_versions)\n",
    "\n",
    "xa2_node = \"\"\n",
    "xa3_node = \"\"\n",
    "\n",
    "for version, xylo in zip(xylo_versions, xylo_hdks):\n",
    "    if version == \"syns61201\":\n",
    "        xa2_node = xylo\n",
    "    elif version == \"syns65302\":\n",
    "        xa3_node = xylo\n",
    "\n",
    "print(xa2_node) if xa2_node else print(\"no xylo audio v2 was found\")\n",
    "print(xa3_node) if xa3_node else print(\"no xylo audio v3 was found\")"
   ]
  },
  {
   "cell_type": "markdown",
   "metadata": {},
   "source": [
    "### Map it to Xylo a2\n",
    "- and verify the weights"
   ]
  },
  {
   "cell_type": "code",
   "execution_count": 5,
   "metadata": {},
   "outputs": [],
   "source": [
    "if xa2_node:\n",
    "    spec = a2_mapper(net.as_graph())\n",
    "    Q_spec = spec\n",
    "    Q_spec.update(channel_quantize(**Q_spec))\n",
    "    a2_config, is_valid, msg = a2_config_from(**Q_spec)\n",
    "    \n",
    "    if not is_valid:\n",
    "        print(msg)"
   ]
  },
  {
   "cell_type": "code",
   "execution_count": 6,
   "metadata": {},
   "outputs": [],
   "source": [
    "if xa2_node:\n",
    "    w_in = a2_config.input.weights\n",
    "    w_hid = a2_config.reservoir.weights\n",
    "    w_out = a2_config.readout.weights\n",
    "    plt.figure(figsize=(15,5))\n",
    "    plt.subplot(131)\n",
    "    plt.imshow(w_in, aspect='auto'); plt.colorbar(); plt.title('input weights')\n",
    "    plt.subplot(132)\n",
    "    plt.imshow(w_hid, aspect='auto');plt.colorbar(); plt.title('hidden weights')\n",
    "    plt.subplot(133)\n",
    "    plt.imshow(w_out, aspect='auto');plt.colorbar(); plt.title('readout weights')"
   ]
  },
  {
   "cell_type": "markdown",
   "metadata": {},
   "source": [
    "### Testing Xylo a2\n",
    "- #### with XyloSamna "
   ]
  },
  {
   "cell_type": "code",
   "execution_count": 7,
   "metadata": {},
   "outputs": [],
   "source": [
    "if xa2_node:\n",
    "    dt = 0.01\n",
    "    Xmod = a2_XyloSamna(xa2_node, a2_config, dt = dt)\n",
    "    # print(Xmod.config)\n",
    "    \n",
    "    out, _, rec = Xmod.evolve(input_data, record = True)\n",
    "    plt.figure(figsize=(15,5))\n",
    "    plt.subplot(131), plt.imshow(out.T, aspect='auto', interpolation='none'); plt.title('readout spikes'); plt.xlabel('Time'); plt.ylabel('Neuron index'); plt.colorbar()\n",
    "    plt.subplot(132), plt.imshow(rec['Vmem_out'].T, aspect='auto', interpolation='none');  plt.title('readout Vmem s'); plt.xlabel('Time'); plt.ylabel('Neuron index');  plt.colorbar()\n",
    "    print(rec.keys())"
   ]
  },
  {
   "cell_type": "markdown",
   "metadata": {},
   "source": [
    "- #### With XyloMonitor\n",
    "- clapping for 3 seconds"
   ]
  },
  {
   "cell_type": "code",
   "execution_count": 8,
   "metadata": {},
   "outputs": [],
   "source": [
    "if xa2_node:\n",
    "    N = 3 # in seconds \n",
    "    duration = int(N * (1/dt)) \n",
    "    print(duration)\n",
    "    \n",
    "    a2_Monitor = a2_XyloMonitor(xa2_node, a2_config, dt = dt)\n",
    "    out, _, rec = a2_Monitor.evolve(np.zeros((duration , Nin)))\n",
    "    plt.figure(figsize=(15,5))\n",
    "    plt.subplot(131), plt.imshow(np.array(out).T, aspect='auto', interpolation='none'); plt.title('readout spikes'); plt.xlabel('Time'); plt.ylabel('Neuron index'); plt.colorbar()\n"
   ]
  },
  {
   "cell_type": "markdown",
   "metadata": {},
   "source": [
    "### Testing with XyloSamna for Xylo a3"
   ]
  },
  {
   "cell_type": "markdown",
   "metadata": {},
   "source": [
    "### Map it to Xylo a3\n",
    "- and verifying the weights"
   ]
  },
  {
   "cell_type": "code",
   "execution_count": 9,
   "metadata": {},
   "outputs": [],
   "source": [
    "if xa3_node:\n",
    "    spec = a3_mapper(net.as_graph())\n",
    "    Q_spec = spec\n",
    "    Q_spec.update(channel_quantize(**Q_spec))\n",
    "    a3_config, is_valid, msg = a3_config_from(**Q_spec)\n",
    "    \n",
    "    if not is_valid:\n",
    "        print(msg)"
   ]
  },
  {
   "cell_type": "code",
   "execution_count": 10,
   "metadata": {},
   "outputs": [
    {
     "data": {
      "image/png": "[encoded data removed]",
      "text/plain": [
       "<Figure size 1080x360 with 6 Axes>"
      ]
     },
     "metadata": {
      "needs_background": "light"
     },
     "output_type": "display_data"
    }
   ],
   "source": [
    "if xa3_node:\n",
    "    w_in = a3_config.input.weights\n",
    "    w_hid = a3_config.hidden.weights\n",
    "    w_out = a3_config.readout.weights\n",
    "    plt.figure(figsize=(15,5))\n",
    "    plt.subplot(131)\n",
    "    plt.imshow(w_in, aspect='auto'); plt.colorbar(); plt.title('input weights')\n",
    "    plt.subplot(132)\n",
    "    plt.imshow(w_hid, aspect='auto');plt.colorbar(); plt.title('hidden weights')\n",
    "    plt.subplot(133)\n",
    "    plt.imshow(w_out, aspect='auto');plt.colorbar(); plt.title('readout weights')"
   ]
  },
  {
   "cell_type": "code",
   "execution_count": 11,
   "metadata": {},
   "outputs": [],
   "source": [
    "a3_config.input_source = samna.xyloAudio3.InputSource.Saer\n",
    "a3_config.debug.event_input_enable = True"
   ]
  },
  {
   "cell_type": "code",
   "execution_count": 12,
   "metadata": {},
   "outputs": [
    {
     "data": {
      "application/vnd.jupyter.widget-view+json": {
       "model_id": "f70bca127c4f4ad49b6182d1b8a29d82",
       "version_major": 2,
       "version_minor": 0
      },
      "text/plain": [
       "  0%|          | 0/100 [00:00<?, ?it/s]"
      ]
     },
     "metadata": {},
     "output_type": "display_data"
    }
   ],
   "source": [
    "if xa3_node:\n",
    "    dt = 0.01\n",
    "    Xmod = a3_XyloSamna(xa3_node, a3_config, dt = dt)\n",
    "    \n",
    "    # print(Xmod.config)\n",
    "    \n",
    "    out, _, rec = Xmod.evolve(input_data, record = True, record_power = True)"
   ]
  },
  {
   "cell_type": "code",
   "execution_count": 13,
   "metadata": {},
   "outputs": [
    {
     "name": "stdout",
     "output_type": "stream",
     "text": [
      "dict_keys(['Vmem', 'Isyn', 'Isyn2', 'Spikes', 'Vmem_out', 'Isyn_out', 'io_power', 'analog_power', 'digital_power'])\n",
      "[0.00027297 0.00027729 0.00026052 0.00034111 0.0002668  0.00027134\n",
      " 0.00026521 0.00025898 0.00026514 0.00025898 0.00026052 0.0002668\n",
      " 0.00025283 0.00025898 0.00025427 0.00040325 0.0002916  0.00027297\n",
      " 0.00026494 0.00027915 0.00025115 0.00027126 0.00026514 0.00026052\n",
      " 0.00025107 0.00026521 0.00024668 0.00022964 0.00025435 0.00024817\n",
      " 0.00026052 0.0003614  0.00027915 0.00028352 0.00026672 0.00027114\n",
      " 0.00027749 0.00026672 0.00028372 0.00031423 0.00025259 0.0002854\n",
      " 0.00026052 0.0002668  0.0002668  0.00025115 0.00026052 0.00026052\n",
      " 0.00024668 0.00027297 0.00028372 0.00027922 0.00026052 0.00026953\n",
      " 0.00027922 0.00029768 0.00027297 0.00026345 0.00031648 0.00026672\n",
      " 0.00027297 0.0002668  0.00027915 0.00026521 0.0002668  0.00027134\n",
      " 0.00024668 0.00027739 0.00038462 0.00026052]\n",
      "[6.32324236e-06 1.86523448e-05 1.25732431e-05 4.34082067e-05\n",
      " 1.46484382e-07 1.25732431e-05 1.25000006e-05 1.25000006e-05\n",
      " 1.25000006e-05 6.32324236e-06 1.25732431e-05 1.84326182e-05\n",
      " 7.32421910e-08 6.32324236e-06 6.22558628e-06 4.92675827e-05\n",
      " 7.32421910e-08 5.88378953e-06 1.87500009e-05 6.34765638e-06\n",
      " 6.32324236e-06 2.49511741e-05 6.32324236e-06 1.86523448e-05\n",
      " 1.25000006e-05 1.46484382e-07 1.46484382e-07 1.25000006e-05\n",
      " 1.87500009e-05 6.32324236e-06 1.86279321e-05 3.73779330e-05\n",
      " 1.86279321e-05 3.10058604e-05 1.87255882e-05 1.87011719e-05\n",
      " 6.20117225e-06 1.46484382e-07 1.25000006e-05 2.19726587e-07\n",
      " 7.32421910e-08 1.25732431e-05 5.59326218e-05 3.12011725e-05\n",
      " 6.20117225e-06 1.85546887e-05 1.25000006e-05 1.25000006e-05\n",
      " 1.46484382e-07 6.32324236e-06 6.07910169e-06 3.12011725e-05\n",
      " 1.24267590e-05 2.48535180e-05 1.87500009e-05 8.64990288e-05\n",
      " 1.46484382e-07 6.20117225e-06 2.45361334e-05 6.22558628e-06\n",
      " 2.48535180e-05 1.46484382e-07 1.46484382e-07 3.71337919e-05\n",
      " 2.50244157e-05 6.32324236e-06 2.48779306e-05 2.47070329e-05\n",
      " 3.74755873e-05 2.50976591e-05]\n",
      "[0.00470659 0.00462891 0.00468159 0.00466309 0.00465693 0.00461375\n",
      " 0.00463828 0.00465981 0.00465693 0.00462871 0.00468159 0.00463843\n",
      " 0.00465693 0.00465064 0.00466931 0.00476863 0.00468176 0.00471897\n",
      " 0.00466309 0.00463218 0.00466931 0.00465071 0.00461997 0.00471897\n",
      " 0.00462263 0.00467219 0.00460427 0.00471533 0.00469414 0.00466921\n",
      " 0.00466931 0.00468152 0.00466589 0.00470652 0.00470652 0.00469065\n",
      " 0.00467549 0.00463225 0.00466309 0.00463225 0.00465071 0.00464714\n",
      " 0.00463218 0.00467212 0.00470024 0.00471277 0.00462871 0.00468159\n",
      " 0.00459802 0.00457358 0.00463218 0.00466931 0.00468176 0.00467493\n",
      " 0.00462898 0.00469072 0.00468787 0.00462605 0.00472522 0.00463821\n",
      " 0.00465071 0.0046104  0.00468794 0.00469673 0.00468169 0.00462605\n",
      " 0.0046199  0.00464714 0.00460759 0.00462605]\n"
     ]
    },
    {
     "data": {
      "image/png": "[encoded data removed]",
      "text/plain": [
       "<Figure size 1080x360 with 4 Axes>"
      ]
     },
     "metadata": {
      "needs_background": "light"
     },
     "output_type": "display_data"
    }
   ],
   "source": [
    "if xa3_node:\n",
    "    plt.figure(figsize=(15,5))\n",
    "    plt.subplot(131), plt.imshow(out.T, aspect='auto', interpolation='none'); plt.title('readout spikes'); plt.xlabel('Time'); plt.ylabel('Neuron index'); plt.colorbar()\n",
    "    plt.subplot(132), plt.imshow(rec['Vmem_out'].T, aspect='auto', interpolation='none');  plt.title('readout Vmem s'); plt.xlabel('Time'); plt.ylabel('Neuron index');  plt.colorbar()\n",
    "    print(rec.keys())\n",
    "\n",
    "    print(rec['io_power'])\n",
    "    print(rec['analog_power'])\n",
    "    print(rec['digital_power'])"
   ]
  },
  {
   "cell_type": "code",
   "execution_count": 14,
   "metadata": {},
   "outputs": [],
   "source": [
    "# 0: input for Xylo, 1: Xylo output\n",
    "PDM_CLK_DIR  = 1\n",
    "# 0: Xylo samples PDM_DATA at risinge edge, 1: Xylo samples PDM_DATA at falling edge\n",
    "PDM_CLK_EDGE = 0\n",
    "\n",
    "def get_tr_wrap(ts_in_ms, main_clk_freq_in_mhz, debug=0):\n",
    "    ts_duration   = ts_in_ms*1e-3; # in second\n",
    "    main_clk_freq = main_clk_freq_in_mhz*1e6 # in Hz\n",
    "    tr_wrap       = int(ts_duration*main_clk_freq)\n",
    "    print(f\"set tr_wrap to 0x{format(tr_wrap,'_X')}\") if debug>=1 else None\n",
    "    return tr_wrap"
   ]
  },
  {
   "cell_type": "code",
   "execution_count": 15,
   "metadata": {},
   "outputs": [
    {
     "name": "stdout",
     "output_type": "stream",
     "text": [
      "set tr_wrap to 0x2FA_F080\n"
     ]
    }
   ],
   "source": [
    "if xa3_node:\n",
    "    a3_config.operation_mode                                        = samna.xyloAudio3.OperationMode.RealTime\n",
    "    a3_config.time_resolution_wrap                                  = get_tr_wrap(ts_in_ms=1000, main_clk_freq_in_mhz=50, debug=1)\n",
    "    a3_config.debug.always_update_omp_stat                          = True\n",
    "    a3_config.input_source                                          = samna.xyloAudio3.InputSource.Pdm\n",
    "    a3_config.digital_frontend.filter_bank.dn_enable                = False\n",
    "    a3_config.digital_frontend.filter_bank.use_global_iaf_threshold = False\n",
    "    a3_config.digital_frontend.pdm_preprocessing.clock_direction    = PDM_CLK_DIR\n",
    "    a3_config.digital_frontend.pdm_preprocessing.clock_edge         = PDM_CLK_EDGE\n",
    "    a3_config.debug.sdm_clock_ratio                                 = 24\n",
    "    a3_config.debug.event_input_enable                                 = False"
   ]
  },
  {
   "cell_type": "code",
   "execution_count": 16,
   "metadata": {},
   "outputs": [
    {
     "name": "stdout",
     "output_type": "stream",
     "text": [
      "50\n"
     ]
    }
   ],
   "source": [
    "if xa3_node:\n",
    "    N = 0.5 # in seconds \n",
    "    duration = int(N * (1/dt)) \n",
    "    print(duration)\n",
    "    \n",
    "    a3_Monitor = a3_XyloMonitor(xa3_node, a3_config, dt = dt, output_mode=\"Spike\")\n",
    "    out, _, rec = a3_Monitor.evolve(record=False, record_power=False, read_timeout=N)"
   ]
  },
  {
   "cell_type": "code",
   "execution_count": 17,
   "metadata": {},
   "outputs": [
    {
     "data": {
      "text/plain": [
       "<matplotlib.colorbar.Colorbar at 0x74b290122dd0>"
      ]
     },
     "execution_count": 17,
     "metadata": {},
     "output_type": "execute_result"
    },
    {
     "data": {
      "image/png": "[encoded data removed]",
      "text/plain": [
       "<Figure size 1080x360 with 2 Axes>"
      ]
     },
     "metadata": {
      "needs_background": "light"
     },
     "output_type": "display_data"
    }
   ],
   "source": [
    "plt.figure(figsize=(15,5))\n",
    "plt.subplot(131), plt.imshow(np.array(out).T, aspect='auto', interpolation='none'); plt.title('readout spikes'); plt.xlabel('Time'); plt.ylabel('Neuron index'); plt.colorbar()\n"
   ]
  }
 ],
 "metadata": {
  "interpreter": {
   "hash": "80082753f825f5fd87c9e01bdff400ed5e0a1d73f0e7712adc135a3cda2f38fe"
  },
  "kernelspec": {
   "display_name": "Python 3 (ipykernel)",
   "language": "python",
   "name": "python3"
  },
  "language_info": {
   "codemirror_mode": {
    "name": "ipython",
    "version": 3
   },
   "file_extension": ".py",
   "mimetype": "text/x-python",
   "name": "python",
   "nbconvert_exporter": "python",
   "pygments_lexer": "ipython3",
   "version": "3.10.12"
  }
 },
 "nbformat": 4,
 "nbformat_minor": 4
}
