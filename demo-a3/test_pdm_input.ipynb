{
 "cells": [
  {
   "cell_type": "code",
   "execution_count": 1,
   "metadata": {},
   "outputs": [
    {
     "name": "stderr",
     "output_type": "stream",
     "text": [
      "/usr/lib/python3/dist-packages/pythran/tables.py:4520: FutureWarning: In the future `np.bool` will be defined as the corresponding NumPy scalar.\n",
      "  if not hasattr(numpy, method):\n",
      "/usr/lib/python3/dist-packages/pythran/tables.py:4553: FutureWarning: In the future `np.bytes` will be defined as the corresponding NumPy scalar.\n",
      "  obj = getattr(themodule, elem)\n"
     ]
    },
    {
     "name": "stdout",
     "output_type": "stream",
     "text": [
      "Rockpool version 2.8.0.dev\n",
      "Samna version 0.39.0.0\n",
      "from samna.xyloA3.configuration import InputInterfaceConfig\n"
     ]
    }
   ],
   "source": [
    "import rockpool\n",
    "print(f'Rockpool version {rockpool.__version__}')\n",
    "\n",
    "import samna\n",
    "print(f'Samna version {samna.__version__}')\n",
    "\n",
    "# from rockpool.devices.xylo.syns63300 import mapper\n",
    "from rockpool.devices.xylo.syns65302 import XyloSamna, config_from_specification, mapper, XyloSim\n",
    "from rockpool.devices.xylo.syns65302 import xylo_a3_devkit_utils as hdkutils\n",
    "\n",
    "from rockpool.devices.xylo import find_xylo_hdks\n",
    "\n",
    "from rockpool.transform.quantize_methods import channel_quantize\n",
    "\n",
    "from rockpool.nn.modules import LIF, Linear\n",
    "from rockpool.nn.combinators import Sequential\n",
    "\n",
    "import numpy as np\n",
    "import matplotlib.pyplot as plt\n",
    "\n",
    "import time\n",
    "import warnings\n",
    "\n",
    "from tqdm.autonotebook import tqdm"
   ]
  },
  {
   "cell_type": "code",
   "execution_count": 2,
   "metadata": {},
   "outputs": [
    {
     "name": "stdout",
     "output_type": "stream",
     "text": [
      "The connected Xylo HDK contains a Xylo A3. Importing `rockpool.devices.xylo.syns65302`\n"
     ]
    }
   ],
   "source": [
    "hdks, modules, versions = find_xylo_hdks()\n",
    "\n",
    "for version, xylo in zip(versions, hdks):\n",
    "    if version == \"syns65302\":\n",
    "        xa3_node = xylo"
   ]
  },
  {
   "cell_type": "code",
   "execution_count": 3,
   "metadata": {},
   "outputs": [
    {
     "data": {
      "text/plain": [
       "ModSequential  with shape (16, 32) {\n",
       "    Linear '0_Linear' with shape (16, 63)\n",
       "    LIF '1_LIF' with shape (63, 63)\n",
       "    Linear '2_Linear' with shape (63, 32)\n",
       "    LIF '3_LIF' with shape (32, 32)\n",
       "}"
      ]
     },
     "execution_count": 3,
     "metadata": {},
     "output_type": "execute_result"
    }
   ],
   "source": [
    "net = Sequential(\n",
    "    Linear((16, 63)),\n",
    "    LIF((63, 63)),\n",
    "\n",
    "    Linear((63, 32)),\n",
    "    LIF(32),\n",
    ")\n",
    "net"
   ]
  },
  {
   "cell_type": "code",
   "execution_count": 4,
   "metadata": {},
   "outputs": [],
   "source": [
    "net[0].weight *= 0.05"
   ]
  },
  {
   "cell_type": "code",
   "execution_count": 5,
   "metadata": {},
   "outputs": [
    {
     "name": "stderr",
     "output_type": "stream",
     "text": [
      "WARNING    /home/vleite/Software/rockpool/rockpool/devices/xylo/syns65302/xylo_mapper.py:56: DRCWarning: Xylo-A3 only supports up to 16 output channels. The network requires 32 output channels.\n",
      "  warnings.warn(\n",
      " [py.warnings]\n",
      "WARNING:py.warnings:/home/vleite/Software/rockpool/rockpool/devices/xylo/syns65302/xylo_mapper.py:56: DRCWarning: Xylo-A3 only supports up to 16 output channels. The network requires 32 output channels.\n",
      "  warnings.warn(\n",
      "\n"
     ]
    }
   ],
   "source": [
    "spec = mapper(net.as_graph())\n",
    "Q_spec = spec\n",
    "Q_spec.update(channel_quantize(**Q_spec))\n",
    "\n",
    "# Q_spec['weights_in'] = np.expand_dims(Q_spec['weights_in'], -1)\n",
    "# Q_spec['weights_rec'] = np.expand_dims(Q_spec['weights_rec'], -1)\n",
    "\n",
    "config, is_valid, msg = config_from_specification(**Q_spec)\n",
    "\n",
    "if not is_valid:\n",
    "    print(msg)"
   ]
  },
  {
   "cell_type": "code",
   "execution_count": 6,
   "metadata": {},
   "outputs": [
    {
     "name": "stdout",
     "output_type": "stream",
     "text": [
      "`dn_rate_scale_bitshift` = (6, 0) is obtained given the target `rate_scale_factor` = 63, with diff = 0.000000e+00\n",
      "`dn_low_pass_bitshift` = 12 is obtained given the target `low_pass_averaging_window` = 0.084, with diff = 1.139200e-04\n",
      "`down_sampling_factor` = 50 is obtained given the target `dt` = 0.001024, with diff = 0.000000e+00\n"
     ]
    },
    {
     "name": "stderr",
     "output_type": "stream",
     "text": [
      "WARNING    /home/vleite/Software/rockpool/rockpool/devices/xylo/syns65302/afe/pdm/microphone_pdm.py:133: UserWarning: \n",
      "\n",
      "+++++++++++++++++++++++++++++++++++++++++++++++++++++++ warnings +++++++++++++++++++++++++++++++++++++++++++++++++++++++\n",
      "In practice, the input to the PDM microphone (fed by a clock of rate:1562500.0) is the analog audio signal.\n",
      "In simulations, however, we have to use sampled audio signal at the input to mimic this analog signal.\n",
      "Here we resample the input audio (of course artificially) to the higher sample rate of PDM microphone (1562500.0).\n",
      "For a more realistic simulation, it is better to provide an audio signal which is originally sampled with a higher rate.\n",
      "++++++++++++++++++++++++++++++++++++++++++++++++++++++++++++++++++++++++++++++++++++++++++++++++++++++++++++++++++++++++\n",
      "\n",
      "\n",
      "  warnings.warn(\n",
      " [py.warnings]\n",
      "WARNING:py.warnings:/home/vleite/Software/rockpool/rockpool/devices/xylo/syns65302/afe/pdm/microphone_pdm.py:133: UserWarning: \n",
      "\n",
      "+++++++++++++++++++++++++++++++++++++++++++++++++++++++ warnings +++++++++++++++++++++++++++++++++++++++++++++++++++++++\n",
      "In practice, the input to the PDM microphone (fed by a clock of rate:1562500.0) is the analog audio signal.\n",
      "In simulations, however, we have to use sampled audio signal at the input to mimic this analog signal.\n",
      "Here we resample the input audio (of course artificially) to the higher sample rate of PDM microphone (1562500.0).\n",
      "For a more realistic simulation, it is better to provide an audio signal which is originally sampled with a higher rate.\n",
      "++++++++++++++++++++++++++++++++++++++++++++++++++++++++++++++++++++++++++++++++++++++++++++++++++++++++++++++++++++++++\n",
      "\n",
      "\n",
      "  warnings.warn(\n",
      "\n",
      "WARNING:jax._src.xla_bridge:An NVIDIA GPU may be present on this machine, but a CUDA-enabled jaxlib is not installed. Falling back to cpu.\n"
     ]
    }
   ],
   "source": [
    "# - Encode a PDM input chirp\n",
    "from rockpool.devices.xylo.syns65302 import AFESimPDM\n",
    "\n",
    "from scipy.signal import chirp\n",
    "\n",
    "pdm_sr = 1562500.0\n",
    "net_dt = 1024e-6\n",
    "audio_sr = 48e3\n",
    "\n",
    "afesim_pdm = AFESimPDM.from_specification(\n",
    "    select_filters=(0, 1, 2, 3, 4, 5, 6, 7, 8, 9, 10, 11, 12, 13, 14, 15),\n",
    "    spike_gen_mode=\"divisive_norm\",\n",
    "    rate_scale_factor=63,\n",
    "    low_pass_averaging_window=84e-3,\n",
    "    dn_EPS=1,\n",
    "    fixed_threshold_vec=None,\n",
    "    dt=net_dt,\n",
    ")\n",
    "\n",
    "T = 10000\n",
    "times = np.arange(0, T) / audio_sr\n",
    "signal = chirp(times, 1, T/audio_sr, 100, phi = 90)\n",
    "\n",
    "__scale = 0.8\n",
    "out_pdm, state_pdm, rec_pdm = afesim_pdm((signal * __scale, audio_sr))"
   ]
  },
  {
   "cell_type": "code",
   "execution_count": 7,
   "metadata": {},
   "outputs": [
    {
     "data": {
      "text/plain": [
       "[<matplotlib.lines.Line2D at 0x7442fe109390>]"
      ]
     },
     "execution_count": 7,
     "metadata": {},
     "output_type": "execute_result"
    },
    {
     "data": {
      "image/png": "[encoded data removed]",
      "text/plain": [
       "<Figure size 432x288 with 2 Axes>"
      ]
     },
     "metadata": {
      "needs_background": "light"
     },
     "output_type": "display_data"
    }
   ],
   "source": [
    "plt.subplot(2, 1, 1)\n",
    "plt.plot(times, signal)\n",
    "plt.subplot(2, 1, 2)\n",
    "plt.plot((rec_pdm['0_PDMADC']['0_MicrophonePDM_output'] + 1) / 2)"
   ]
  },
  {
   "cell_type": "code",
   "execution_count": 8,
   "metadata": {},
   "outputs": [],
   "source": [
    "read_buffer = hdkutils.new_xylo_read_buffer(xa3_node)\n",
    "write_buffer = hdkutils.new_xylo_write_buffer(xa3_node)\n",
    "\n",
    "# - Trial PDM interface\n",
    "hdkutils.initialise_xylo_hdk(xa3_node)\n",
    "hdkutils.fpga_enable_pdm_interface(xa3_node)\n",
    "\n",
    "hdkutils.fpga_pdm_clk_enable(xa3_node)"
   ]
  },
  {
   "cell_type": "code",
   "execution_count": 9,
   "metadata": {},
   "outputs": [
    {
     "name": "stderr",
     "output_type": "stream",
     "text": [
      "WARNING    /tmp/ipykernel_24182/1781971046.py:24: UserWarning: Input PDM audio trace does not fit evenly into `dt`. Audio will be trimmed at the end of the sample. input size: 325489; PDM_samples_per_dt: 1600.\n",
      "  warnings.warn(\n",
      " [py.warnings]\n",
      "WARNING:py.warnings:/tmp/ipykernel_24182/1781971046.py:24: UserWarning: Input PDM audio trace does not fit evenly into `dt`. Audio will be trimmed at the end of the sample. input size: 325489; PDM_samples_per_dt: 1600.\n",
      "  warnings.warn(\n",
      "\n"
     ]
    },
    {
     "data": {
      "application/vnd.jupyter.widget-view+json": {
       "model_id": "29cfe17c05364ba783c639af6b308a58",
       "version_major": 2,
       "version_minor": 0
      },
      "text/plain": [
       "  0%|          | 0/203 [00:00<?, ?it/s]"
      ]
     },
     "metadata": {},
     "output_type": "display_data"
    },
    {
     "ename": "AssertionError",
     "evalue": "",
     "output_type": "error",
     "traceback": [
      "\u001b[0;31m---------------------------------------------------------------------------\u001b[0m",
      "\u001b[0;31mAssertionError\u001b[0m                            Traceback (most recent call last)",
      "\u001b[0;32m/tmp/ipykernel_24182/1781971046.py\u001b[0m in \u001b[0;36m<module>\u001b[0;34m\u001b[0m\n\u001b[1;32m     51\u001b[0m     \u001b[0mtime\u001b[0m\u001b[0;34m.\u001b[0m\u001b[0msleep\u001b[0m\u001b[0;34m(\u001b[0m\u001b[0;36m.5\u001b[0m\u001b[0;34m)\u001b[0m\u001b[0;34m\u001b[0m\u001b[0;34m\u001b[0m\u001b[0m\n\u001b[1;32m     52\u001b[0m \u001b[0;34m\u001b[0m\u001b[0m\n\u001b[0;32m---> 53\u001b[0;31m     \u001b[0mhdkutils\u001b[0m\u001b[0;34m.\u001b[0m\u001b[0mread_input_spikes\u001b[0m\u001b[0;34m(\u001b[0m\u001b[0mread_buffer\u001b[0m\u001b[0;34m,\u001b[0m \u001b[0mwrite_buffer\u001b[0m\u001b[0;34m)\u001b[0m\u001b[0;34m\u001b[0m\u001b[0;34m\u001b[0m\u001b[0m\n\u001b[0m\u001b[1;32m     54\u001b[0m \u001b[0;34m\u001b[0m\u001b[0m\n\u001b[1;32m     55\u001b[0m     \u001b[0;31m# - Trigger processing\u001b[0m\u001b[0;34m\u001b[0m\u001b[0;34m\u001b[0m\u001b[0m\n",
      "\u001b[0;32m~/Software/rockpool/rockpool/devices/xylo/syns65302/xylo_a3_devkit_utils.py\u001b[0m in \u001b[0;36mread_input_spikes\u001b[0;34m(read_buffer, write_buffer, debug)\u001b[0m\n\u001b[1;32m    655\u001b[0m ) -> np.array:\n\u001b[1;32m    656\u001b[0m     \u001b[0;31m# - Read input spike register pointer\u001b[0m\u001b[0;34m\u001b[0m\u001b[0;34m\u001b[0m\u001b[0m\n\u001b[0;32m--> 657\u001b[0;31m     \u001b[0mdbg_stat1\u001b[0m \u001b[0;34m=\u001b[0m \u001b[0mread_register\u001b[0m\u001b[0;34m(\u001b[0m\u001b[0mread_buffer\u001b[0m\u001b[0;34m,\u001b[0m \u001b[0mwrite_buffer\u001b[0m\u001b[0;34m,\u001b[0m \u001b[0mreg\u001b[0m\u001b[0;34m.\u001b[0m\u001b[0mdbg_stat1\u001b[0m\u001b[0;34m)\u001b[0m\u001b[0;34m[\u001b[0m\u001b[0;36m0\u001b[0m\u001b[0;34m]\u001b[0m\u001b[0;34m\u001b[0m\u001b[0;34m\u001b[0m\u001b[0m\n\u001b[0m\u001b[1;32m    658\u001b[0m     \u001b[0mispk_reg_ptr\u001b[0m \u001b[0;34m=\u001b[0m \u001b[0mbool\u001b[0m\u001b[0;34m(\u001b[0m\u001b[0;34m(\u001b[0m\u001b[0mdbg_stat1\u001b[0m \u001b[0;34m&\u001b[0m \u001b[0;36m0b10000000000000000\u001b[0m\u001b[0;34m)\u001b[0m \u001b[0;34m>>\u001b[0m \u001b[0;36m15\u001b[0m\u001b[0;34m)\u001b[0m\u001b[0;34m\u001b[0m\u001b[0;34m\u001b[0m\u001b[0m\n\u001b[1;32m    659\u001b[0m \u001b[0;34m\u001b[0m\u001b[0m\n",
      "\u001b[0;32m~/Software/rockpool/rockpool/devices/xylo/syns65302/xylo_a3_devkit_utils.py\u001b[0m in \u001b[0;36mread_register\u001b[0;34m(read_buffer, write_buffer, address, timeout)\u001b[0m\n\u001b[1;32m    543\u001b[0m     \u001b[0mwrite_buffer\u001b[0m\u001b[0;34m.\u001b[0m\u001b[0mwrite\u001b[0m\u001b[0;34m(\u001b[0m\u001b[0;34m[\u001b[0m\u001b[0msamna\u001b[0m\u001b[0;34m.\u001b[0m\u001b[0mxyloAudio3\u001b[0m\u001b[0;34m.\u001b[0m\u001b[0mevent\u001b[0m\u001b[0;34m.\u001b[0m\u001b[0mReadRegisterValue\u001b[0m\u001b[0;34m(\u001b[0m\u001b[0maddress\u001b[0m\u001b[0;34m=\u001b[0m\u001b[0maddress\u001b[0m\u001b[0;34m)\u001b[0m\u001b[0;34m]\u001b[0m\u001b[0;34m)\u001b[0m\u001b[0;34m\u001b[0m\u001b[0;34m\u001b[0m\u001b[0m\n\u001b[1;32m    544\u001b[0m     \u001b[0mevents\u001b[0m \u001b[0;34m=\u001b[0m \u001b[0mread_buffer\u001b[0m\u001b[0;34m.\u001b[0m\u001b[0mget_n_events\u001b[0m\u001b[0;34m(\u001b[0m\u001b[0;36m1\u001b[0m\u001b[0;34m,\u001b[0m \u001b[0;36m3000\u001b[0m\u001b[0;34m)\u001b[0m\u001b[0;34m\u001b[0m\u001b[0;34m\u001b[0m\u001b[0m\n\u001b[0;32m--> 545\u001b[0;31m     \u001b[0;32massert\u001b[0m \u001b[0mlen\u001b[0m\u001b[0;34m(\u001b[0m\u001b[0mevents\u001b[0m\u001b[0;34m)\u001b[0m \u001b[0;34m==\u001b[0m \u001b[0;36m1\u001b[0m\u001b[0;34m\u001b[0m\u001b[0;34m\u001b[0m\u001b[0m\n\u001b[0m\u001b[1;32m    546\u001b[0m     \u001b[0;32mreturn\u001b[0m \u001b[0;34m[\u001b[0m\u001b[0mevents\u001b[0m\u001b[0;34m[\u001b[0m\u001b[0;36m0\u001b[0m\u001b[0;34m]\u001b[0m\u001b[0;34m.\u001b[0m\u001b[0mdata\u001b[0m\u001b[0;34m]\u001b[0m\u001b[0;34m\u001b[0m\u001b[0;34m\u001b[0m\u001b[0m\n\u001b[1;32m    547\u001b[0m \u001b[0;34m\u001b[0m\u001b[0m\n",
      "\u001b[0;31mAssertionError\u001b[0m: "
     ]
    }
   ],
   "source": [
    "# - Configure XA3\n",
    "hdkutils.apply_configuration(xa3_node, config)\n",
    "\n",
    "input = (rec_pdm['0_PDMADC']['0_MicrophonePDM_output'] + 1) / 2\n",
    "\n",
    "dt = net_dt\n",
    "\n",
    "# - Calculate sample rates and `dt`-length window\n",
    "PDM_sample_rate = 1562500\n",
    "PDM_samples_per_dt = PDM_sample_rate * dt\n",
    "\n",
    "# - Check window length, should be integer\n",
    "if not np.allclose(PDM_samples_per_dt % 1, 0.0):\n",
    "    warnings.warn(\n",
    "        f\"Non-integer number of PDM samples per network `dt`. Network evolution will not be accurate. PDM_samples_per_dt: {PDM_samples_per_dt}; PDM_sample_rate: {PDM_sample_rate} Hz.\"\n",
    "    )\n",
    "PDM_samples_per_dt = int(PDM_samples_per_dt)\n",
    "\n",
    "# - Compute number of `dt` time-steps\n",
    "num_dt = np.size(input) // PDM_samples_per_dt\n",
    "\n",
    "# - Check input length\n",
    "if np.size(input) % PDM_samples_per_dt > 0:\n",
    "    warnings.warn(\n",
    "        f\"Input PDM audio trace does not fit evenly into `dt`. Audio will be trimmed at the end of the sample. input size: {np.size(input)}; PDM_samples_per_dt: {PDM_samples_per_dt}.\"\n",
    "    )\n",
    "\n",
    "# - Bin samples into `dt`-length windows and trim\n",
    "input_raster = np.reshape(\n",
    "    input[: num_dt * PDM_samples_per_dt], [-1, PDM_samples_per_dt]\n",
    ")\n",
    "\n",
    "read_timeout = 5.\n",
    "Nin, Nhidden, Nout = (16, 63, 32)\n",
    "record = True\n",
    "\n",
    "# - Initialise lists for recording state\n",
    "vmem_ts = []\n",
    "isyn_ts = []\n",
    "isyn2_ts = []\n",
    "vmem_out_ts = []\n",
    "isyn_out_ts = []\n",
    "spikes_ts = []\n",
    "output_ts = []\n",
    "\n",
    "# - Send PDM data and extract activity\n",
    "for input_sample in tqdm(input_raster):\n",
    "    # - Send PDM events for this dt\n",
    "    pdm_events = [samna.xyloAudio3.event.AfeSample(data = int(i)) for i in input_sample]\n",
    "    write_buffer.write(pdm_events)\n",
    "    time.sleep(.5)\n",
    "\n",
    "    hdkutils.read_input_spikes(read_buffer, write_buffer)\n",
    "\n",
    "    # - Trigger processing\n",
    "    hdkutils.advance_time_step(write_buffer)\n",
    "\n",
    "    # - Wait until xylo has finished the simulation of this time step\n",
    "    t_start = time.time()\n",
    "    is_timeout = False\n",
    "    while not hdkutils.is_xylo_ready(read_buffer, write_buffer):\n",
    "        if time.time() - t_start > read_timeout:\n",
    "            is_timeout = True\n",
    "            break\n",
    "\n",
    "    if is_timeout:\n",
    "        raise TimeoutError\n",
    "\n",
    "    # - Read all synapse and neuron states for this time step\n",
    "    if record:\n",
    "        this_state = hdkutils.read_neuron_synapse_state(\n",
    "            read_buffer, write_buffer, Nin, Nhidden, Nout\n",
    "        )\n",
    "        vmem_ts.append(this_state.V_mem_hid)\n",
    "        isyn_ts.append(this_state.I_syn_hid)\n",
    "        isyn2_ts.append(this_state.I_syn2_hid)\n",
    "        vmem_out_ts.append(this_state.V_mem_out)\n",
    "        isyn_out_ts.append(this_state.I_syn_out)\n",
    "        spikes_ts.append(this_state.Spikes_hid)\n",
    "\n",
    "    # - Read the output event register\n",
    "    output_events = hdkutils.read_output_events(\n",
    "        read_buffer, write_buffer\n",
    "    )[:Nout]\n",
    "    output_ts.append(output_events)\n"
   ]
  },
  {
   "cell_type": "code",
   "execution_count": null,
   "metadata": {},
   "outputs": [],
   "source": [
    "plt.imshow(rec_pdm['3_Raster_output'].T, aspect='auto', origin='lower')"
   ]
  }
 ],
 "metadata": {
  "kernelspec": {
   "display_name": "Python 3 (ipykernel)",
   "language": "python",
   "name": "python3"
  },
  "language_info": {
   "codemirror_mode": {
    "name": "ipython",
    "version": 3
   },
   "file_extension": ".py",
   "mimetype": "text/x-python",
   "name": "python",
   "nbconvert_exporter": "python",
   "pygments_lexer": "ipython3",
   "version": "3.10.12"
  }
 },
 "nbformat": 4,
 "nbformat_minor": 4
}
