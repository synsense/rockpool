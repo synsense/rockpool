{
 "cells": [
  {
   "cell_type": "code",
   "execution_count": 1,
   "metadata": {},
   "outputs": [
    {
     "name": "stderr",
     "output_type": "stream",
     "text": [
      "/usr/lib/python3/dist-packages/pythran/tables.py:4520: FutureWarning: In the future `np.bool` will be defined as the corresponding NumPy scalar.\n",
      "  if not hasattr(numpy, method):\n",
      "/usr/lib/python3/dist-packages/pythran/tables.py:4553: FutureWarning: In the future `np.bytes` will be defined as the corresponding NumPy scalar.\n",
      "  obj = getattr(themodule, elem)\n"
     ]
    },
    {
     "name": "stdout",
     "output_type": "stream",
     "text": [
      "Rockpool version 2.7.dev\n",
      "Samna version 0.37.10.31+g52e7582d3.dirty\n"
     ]
    },
    {
     "name": "stderr",
     "output_type": "stream",
     "text": [
      "WARNING    /home/vleite/Software/rockpool/rockpool/devices/xylo/syns61201/xylo_samna.py:39: TqdmExperimentalWarning: Using `tqdm.autonotebook.tqdm` in notebook mode. Use `tqdm.tqdm` instead to force console mode (e.g. in jupyter console)\n",
      "  from tqdm.autonotebook import tqdm\n",
      " [py.warnings]\n",
      "WARNING:py.warnings:/home/vleite/Software/rockpool/rockpool/devices/xylo/syns61201/xylo_samna.py:39: TqdmExperimentalWarning: Using `tqdm.autonotebook.tqdm` in notebook mode. Use `tqdm.tqdm` instead to force console mode (e.g. in jupyter console)\n",
      "  from tqdm.autonotebook import tqdm\n",
      "\n"
     ]
    },
    {
     "name": "stdout",
     "output_type": "stream",
     "text": [
      "from samna.xyloA3.configuration import InputInterfaceConfig\n"
     ]
    }
   ],
   "source": [
    "import rockpool\n",
    "print(f'Rockpool version {rockpool.__version__}')\n",
    "\n",
    "import samna\n",
    "print(f'Samna version {samna.__version__}')\n",
    "\n",
    "# from rockpool.devices.xylo.syns63300 import mapper\n",
    "from rockpool.devices.xylo.syns65302 import XyloSamna, config_from_specification, mapper, XyloSim\n",
    "from rockpool.devices.xylo.syns65302 import xylo_a3_devkit_utils as hdkutils\n",
    "\n",
    "from rockpool.devices.xylo import find_xylo_hdks\n",
    "\n",
    "from rockpool.transform.quantize_methods import channel_quantize\n",
    "\n",
    "from rockpool.nn.modules import LIF, Linear\n",
    "from rockpool.nn.combinators import Sequential\n",
    "\n",
    "import numpy as np\n",
    "import matplotlib.pyplot as plt\n",
    "\n",
    "import time\n",
    "import warnings\n",
    "\n",
    "from tqdm.autonotebook import tqdm"
   ]
  },
  {
   "cell_type": "code",
   "execution_count": 2,
   "metadata": {},
   "outputs": [
    {
     "name": "stdout",
     "output_type": "stream",
     "text": [
      "The connected Xylo HDK contains a Xylo A3. Importing `rockpool.devices.xylo.syns65302`\n",
      "size of hidden neuron count 1\n",
      "size of output neuron count 1\n"
     ]
    }
   ],
   "source": [
    "hdks, modules, versions = find_xylo_hdks()\n",
    "\n",
    "for version, xylo in zip(versions, hdks):\n",
    "    if version == \"syns65302\":\n",
    "        xa3_node = xylo"
   ]
  },
  {
   "cell_type": "code",
   "execution_count": 3,
   "metadata": {},
   "outputs": [
    {
     "data": {
      "text/plain": [
       "ModSequential  with shape (16, 32) {\n",
       "    Linear '0_Linear' with shape (16, 63)\n",
       "    LIF '1_LIF' with shape (63, 63)\n",
       "    Linear '2_Linear' with shape (63, 32)\n",
       "    LIF '3_LIF' with shape (32, 32)\n",
       "}"
      ]
     },
     "execution_count": 3,
     "metadata": {},
     "output_type": "execute_result"
    }
   ],
   "source": [
    "net = Sequential(\n",
    "    Linear((16, 63)),\n",
    "    LIF((63, 63)),\n",
    "\n",
    "    Linear((63, 32)),\n",
    "    LIF(32),\n",
    ")\n",
    "net"
   ]
  },
  {
   "cell_type": "code",
   "execution_count": 4,
   "metadata": {},
   "outputs": [],
   "source": [
    "net[0].weight *= 0.05"
   ]
  },
  {
   "cell_type": "code",
   "execution_count": 5,
   "metadata": {},
   "outputs": [
    {
     "name": "stderr",
     "output_type": "stream",
     "text": [
      "WARNING    /home/vleite/Software/rockpool/rockpool/devices/xylo/syns65302/xylo_mapper.py:56: DRCWarning: Xylo-A3 only supports up to 16 output channels. The network requires 32 output channels.\n",
      "  warnings.warn(\n",
      " [py.warnings]\n",
      "WARNING:py.warnings:/home/vleite/Software/rockpool/rockpool/devices/xylo/syns65302/xylo_mapper.py:56: DRCWarning: Xylo-A3 only supports up to 16 output channels. The network requires 32 output channels.\n",
      "  warnings.warn(\n",
      "\n"
     ]
    }
   ],
   "source": [
    "spec = mapper(net.as_graph())\n",
    "Q_spec = spec\n",
    "Q_spec.update(channel_quantize(**Q_spec))\n",
    "\n",
    "# Q_spec['weights_in'] = np.expand_dims(Q_spec['weights_in'], -1)\n",
    "# Q_spec['weights_rec'] = np.expand_dims(Q_spec['weights_rec'], -1)\n",
    "\n",
    "config, is_valid, msg = config_from_specification(**Q_spec)\n",
    "\n",
    "if not is_valid:\n",
    "    print(msg)"
   ]
  },
  {
   "cell_type": "code",
   "execution_count": 6,
   "metadata": {},
   "outputs": [
    {
     "name": "stderr",
     "output_type": "stream",
     "text": [
      "WARNING:root:`dn_rate_scale_bitshift` = (6, 0) is obtained given the target `rate_scale_factor` = 63, with diff = 0.000000e+00\n",
      "WARNING:root:`dn_low_pass_bitshift` = 12 is obtained given the target `low_pass_averaging_window` = 0.084, with diff = 1.139200e-04\n",
      "WARNING:root:`down_sampling_factor` = 50 is obtained given the target `dt` = 0.001024, with diff = 0.000000e+00\n",
      "WARNING    /home/vleite/Software/rockpool/rockpool/devices/xylo/syns65302/afe/pdm/microphone_pdm.py:133: UserWarning: \n",
      "\n",
      "+++++++++++++++++++++++++++++++++++++++++++++++++++++++ warnings +++++++++++++++++++++++++++++++++++++++++++++++++++++++\n",
      "In practice, the input to the PDM microphone (fed by a clock of rate:1562500.0) is the analog audio signal.\n",
      "In simulations, however, we have to use sampled audio signal at the input to mimic this analog signal.\n",
      "Here we resample the input audio (of course artificially) to the higher sample rate of PDM microphone (1562500.0).\n",
      "For a more realistic simulation, it is better to provide an audio signal which is originally sampled with a higher rate.\n",
      "++++++++++++++++++++++++++++++++++++++++++++++++++++++++++++++++++++++++++++++++++++++++++++++++++++++++++++++++++++++++\n",
      "\n",
      "\n",
      "  warnings.warn(\n",
      " [py.warnings]\n",
      "WARNING:py.warnings:/home/vleite/Software/rockpool/rockpool/devices/xylo/syns65302/afe/pdm/microphone_pdm.py:133: UserWarning: \n",
      "\n",
      "+++++++++++++++++++++++++++++++++++++++++++++++++++++++ warnings +++++++++++++++++++++++++++++++++++++++++++++++++++++++\n",
      "In practice, the input to the PDM microphone (fed by a clock of rate:1562500.0) is the analog audio signal.\n",
      "In simulations, however, we have to use sampled audio signal at the input to mimic this analog signal.\n",
      "Here we resample the input audio (of course artificially) to the higher sample rate of PDM microphone (1562500.0).\n",
      "For a more realistic simulation, it is better to provide an audio signal which is originally sampled with a higher rate.\n",
      "++++++++++++++++++++++++++++++++++++++++++++++++++++++++++++++++++++++++++++++++++++++++++++++++++++++++++++++++++++++++\n",
      "\n",
      "\n",
      "  warnings.warn(\n",
      "\n"
     ]
    }
   ],
   "source": [
    "# - Encode a PDM input chirp\n",
    "from rockpool.devices.xylo.syns65302 import AFESimPDM\n",
    "\n",
    "from scipy.signal import chirp\n",
    "\n",
    "pdm_sr = 1562500.0\n",
    "net_dt = 1024e-6\n",
    "audio_sr = 48e3\n",
    "\n",
    "afesim_pdm = AFESimPDM.from_specification(\n",
    "    select_filters=(0, 1, 2, 3, 4, 5, 6, 7, 8, 9, 10, 11, 12, 13, 14, 15),\n",
    "    spike_gen_mode=\"divisive_norm\",\n",
    "    rate_scale_factor=63,\n",
    "    low_pass_averaging_window=84e-3,\n",
    "    dn_EPS=1,\n",
    "    fixed_threshold_vec=None,\n",
    "    dt=net_dt,\n",
    ")\n",
    "\n",
    "T = 10000\n",
    "times = np.arange(0, T) / audio_sr\n",
    "signal = chirp(times, 1, T/audio_sr, 100, phi = 90)\n",
    "\n",
    "__scale = 0.8\n",
    "out_pdm, state_pdm, rec_pdm = afesim_pdm((signal * __scale, audio_sr))"
   ]
  },
  {
   "cell_type": "code",
   "execution_count": 7,
   "metadata": {},
   "outputs": [
    {
     "data": {
      "text/plain": [
       "[<matplotlib.lines.Line2D at 0x7038cd744a90>]"
      ]
     },
     "execution_count": 7,
     "metadata": {},
     "output_type": "execute_result"
    },
    {
     "data": {
      "image/png": "[encoded data removed]",
      "text/plain": [
       "<Figure size 432x288 with 2 Axes>"
      ]
     },
     "metadata": {
      "needs_background": "light"
     },
     "output_type": "display_data"
    }
   ],
   "source": [
    "plt.subplot(2, 1, 1)\n",
    "plt.plot(times, signal)\n",
    "plt.subplot(2, 1, 2)\n",
    "plt.plot((rec_pdm['0_PDMADC']['0_MicrophonePDM_output'] + 1) / 2)"
   ]
  },
  {
   "cell_type": "code",
   "execution_count": 8,
   "metadata": {},
   "outputs": [],
   "source": [
    "read_buffer = hdkutils.new_xylo_read_buffer(xa3_node)\n",
    "write_buffer = hdkutils.new_xylo_write_buffer(xa3_node)\n",
    "\n",
    "# - Trial PDM interface\n",
    "hdkutils.initialise_xylo_hdk(xa3_node)\n",
    "hdkutils.fpga_enable_pdm_interface(xa3_node)\n",
    "\n",
    "hdkutils.fpga_pdm_clk_enable(xa3_node)"
   ]
  },
  {
   "cell_type": "code",
   "execution_count": 9,
   "metadata": {},
   "outputs": [
    {
     "name": "stderr",
     "output_type": "stream",
     "text": [
      "WARNING    /tmp/ipykernel_86470/1573868565.py:24: UserWarning: Input PDM audio trace does not fit evenly into `dt`. Audio will be trimmed at the end of the sample. input size: 325489; PDM_samples_per_dt: 1600.\n",
      "  warnings.warn(\n",
      " [py.warnings]\n",
      "WARNING:py.warnings:/tmp/ipykernel_86470/1573868565.py:24: UserWarning: Input PDM audio trace does not fit evenly into `dt`. Audio will be trimmed at the end of the sample. input size: 325489; PDM_samples_per_dt: 1600.\n",
      "  warnings.warn(\n",
      "\n"
     ]
    },
    {
     "name": "stdout",
     "output_type": "stream",
     "text": [
      "size of hidden neuron count 63\n",
      "size of output neuron count 32\n"
     ]
    },
    {
     "data": {
      "application/vnd.jupyter.widget-view+json": {
       "model_id": "d7238dcea1854627b41a89441e7160b5",
       "version_major": 2,
       "version_minor": 0
      },
      "text/plain": [
       "  0%|          | 0/203 [00:00<?, ?it/s]"
      ]
     },
     "metadata": {},
     "output_type": "display_data"
    }
   ],
   "source": [
    "# - Configure XA3\n",
    "hdkutils.apply_configuration(xa3_node, config)\n",
    "\n",
    "input = (rec_pdm['0_PDMADC']['0_MicrophonePDM_output'] + 1) / 2\n",
    "\n",
    "dt = net_dt\n",
    "\n",
    "# - Calculate sample rates and `dt`-length window\n",
    "PDM_sample_rate = 1562500\n",
    "PDM_samples_per_dt = PDM_sample_rate * dt\n",
    "\n",
    "# - Check window length, should be integer\n",
    "if not np.allclose(PDM_samples_per_dt % 1, 0.0):\n",
    "    warnings.warn(\n",
    "        f\"Non-integer number of PDM samples per network `dt`. Network evolution will not be accurate. PDM_samples_per_dt: {PDM_samples_per_dt}; PDM_sample_rate: {PDM_sample_rate} Hz.\"\n",
    "    )\n",
    "PDM_samples_per_dt = int(PDM_samples_per_dt)\n",
    "\n",
    "# - Compute number of `dt` time-steps\n",
    "num_dt = np.size(input) // PDM_samples_per_dt\n",
    "\n",
    "# - Check input length\n",
    "if np.size(input) % PDM_samples_per_dt > 0:\n",
    "    warnings.warn(\n",
    "        f\"Input PDM audio trace does not fit evenly into `dt`. Audio will be trimmed at the end of the sample. input size: {np.size(input)}; PDM_samples_per_dt: {PDM_samples_per_dt}.\"\n",
    "    )\n",
    "\n",
    "# - Bin samples into `dt`-length windows and trim\n",
    "input_raster = np.reshape(\n",
    "    input[: num_dt * PDM_samples_per_dt], [-1, PDM_samples_per_dt]\n",
    ")\n",
    "\n",
    "read_timeout = 5.\n",
    "Nin, Nhidden, Nout = (16, 63, 32)\n",
    "record = True\n",
    "\n",
    "# - Initialise lists for recording state\n",
    "vmem_ts = []\n",
    "isyn_ts = []\n",
    "isyn2_ts = []\n",
    "vmem_out_ts = []\n",
    "isyn_out_ts = []\n",
    "spikes_ts = []\n",
    "output_ts = []\n",
    "\n",
    "# - Send PDM data and extract activity\n",
    "for input_sample in tqdm(input_raster):\n",
    "    # - Send PDM events for this dt\n",
    "    pdm_events = [samna.xyloAudio3.event.AfeSample(data = int(i)) for i in input_sample]\n",
    "    write_buffer.write(pdm_events)\n",
    "    time.sleep(.5)\n",
    "\n",
    "    hdkutils.read_input_spikes(read_buffer, write_buffer)\n",
    "\n",
    "    # - Trigger processing\n",
    "    hdkutils.advance_time_step(write_buffer)\n",
    "\n",
    "    # - Wait until xylo has finished the simulation of this time step\n",
    "    t_start = time.time()\n",
    "    is_timeout = False\n",
    "    while not hdkutils.is_xylo_ready(read_buffer, write_buffer):\n",
    "        if time.time() - t_start > read_timeout:\n",
    "            is_timeout = True\n",
    "            break\n",
    "\n",
    "    if is_timeout:\n",
    "        raise TimeoutError\n",
    "\n",
    "    # - Read all synapse and neuron states for this time step\n",
    "    if record:\n",
    "        this_state = hdkutils.read_neuron_synapse_state(\n",
    "            read_buffer, write_buffer, Nin, Nhidden, Nout\n",
    "        )\n",
    "        vmem_ts.append(this_state.V_mem_hid)\n",
    "        isyn_ts.append(this_state.I_syn_hid)\n",
    "        isyn2_ts.append(this_state.I_syn2_hid)\n",
    "        vmem_out_ts.append(this_state.V_mem_out)\n",
    "        isyn_out_ts.append(this_state.I_syn_out)\n",
    "        spikes_ts.append(this_state.Spikes_hid)\n",
    "\n",
    "    # - Read the output event register\n",
    "    output_events = hdkutils.read_output_events(\n",
    "        read_buffer, write_buffer\n",
    "    )[:Nout]\n",
    "    output_ts.append(output_events)\n"
   ]
  },
  {
   "cell_type": "code",
   "execution_count": 10,
   "metadata": {},
   "outputs": [
    {
     "data": {
      "text/plain": [
       "<matplotlib.image.AxesImage at 0x7038cc41ad10>"
      ]
     },
     "execution_count": 10,
     "metadata": {},
     "output_type": "execute_result"
    },
    {
     "data": {
      "image/png": "[encoded data removed]",
      "text/plain": [
       "<Figure size 432x288 with 1 Axes>"
      ]
     },
     "metadata": {
      "needs_background": "light"
     },
     "output_type": "display_data"
    }
   ],
   "source": [
    "plt.imshow(rec_pdm['3_Raster_output'].T, aspect='auto', origin='lower')"
   ]
  }
 ],
 "metadata": {
  "kernelspec": {
   "display_name": "Python 3 (ipykernel)",
   "language": "python",
   "name": "python3"
  },
  "language_info": {
   "codemirror_mode": {
    "name": "ipython",
    "version": 3
   },
   "file_extension": ".py",
   "mimetype": "text/x-python",
   "name": "python",
   "nbconvert_exporter": "python",
   "pygments_lexer": "ipython3",
   "version": "3.10.12"
  }
 },
 "nbformat": 4,
 "nbformat_minor": 4
}
