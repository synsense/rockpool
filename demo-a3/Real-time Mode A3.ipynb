{
 "cells": [
  {
   "cell_type": "markdown",
   "id": "baa3f1f9-7ce8-494f-a8b5-c3be438b1784",
   "metadata": {},
   "source": [
    "# Real-time Steps\n",
    "\n",
    "In real-time mode, the FPGA lets Xylo run freely and only performs readout after receiving a timestep done interrupt.\n",
    "This means sending input to Xylo from the FPGA is not supported in real-time mode.  Instead, the switches on the PCB must be configured such that Xylo receives input from the microphones on the PCB.\n"
   ]
  },
  {
   "cell_type": "markdown",
   "id": "2bd0de7c-c363-4228-a03c-b93e7c4762b1",
   "metadata": {},
   "source": [
    "Open Dev Kit\n",
    "\n",
    "* Call open_device() on a discovered device with Samna."
   ]
  },
  {
   "cell_type": "code",
   "execution_count": 1,
   "id": "6cebeac6-db3d-4ad5-a6c9-98cb9c0b5544",
   "metadata": {},
   "outputs": [
    {
     "name": "stdout",
     "output_type": "stream",
     "text": [
      "Rockpool version 2.7.dev\n",
      "Samna version 0.37.10.26+g11d2fc36e.dirty\n",
      "from samna.xyloA3.configuration import InputInterfaceConfig\n",
      "The connected Xylo HDK contains a Xylo A3. Importing `rockpool.devices.xylo.syns65302`\n",
      "[<samna.xyloAudio3Boards.XyloAudio3TestBoard object at 0x74f5249a88b0>] [<module 'rockpool.devices.xylo.syns65302' from '/home/vleite/Software/rockpool/rockpool/devices/xylo/syns65302/__init__.py'>] ['syns65302']\n"
     ]
    }
   ],
   "source": [
    "import warnings\n",
    "warnings.filterwarnings(\"ignore\")\n",
    "\n",
    "import rockpool\n",
    "print(f'Rockpool version {rockpool.__version__}')\n",
    "import samna\n",
    "print(f'Samna version {samna.__version__}')\n",
    "\n",
    "from rockpool.devices.xylo.syns65302 import config_from_specification, mapper, XyloMonitor\n",
    "\n",
    "from rockpool.devices.xylo import find_xylo_hdks\n",
    "\n",
    "from rockpool.transform.quantize_methods import channel_quantize\n",
    "from rockpool.nn.modules import LIF, Linear\n",
    "from rockpool.nn.combinators import Sequential\n",
    "\n",
    "import numpy as np\n",
    "\n",
    "# find_xylo_hdks() directly calls the Samna device finder and opens all available devices.\n",
    "# When Samna opens a device, it will perform actions on the board. Such as, powering on the chip, resetting it,\n",
    "# applying a default configuration, and configuring the FPGA for default operation.\n",
    "\n",
    "xylo_hdks, xylo_support_modules, xylo_versions = find_xylo_hdks()\n",
    "print(xylo_hdks, xylo_support_modules, xylo_versions)"
   ]
  },
  {
   "cell_type": "markdown",
   "id": "3af52c3d-130f-4597-af8d-c1f18c44adb1",
   "metadata": {},
   "source": [
    "## Build a model and map it to hardware"
   ]
  },
  {
   "cell_type": "code",
   "execution_count": 2,
   "id": "c4282fb5-6573-47b8-9613-c6d2fe89e1ee",
   "metadata": {},
   "outputs": [
    {
     "name": "stdout",
     "output_type": "stream",
     "text": [
      "ModSequential  with shape (2, 4) {\n",
      "    Linear '0_Linear' with shape (2, 7)\n",
      "    LIF '1_LIF' with shape (7, 7)\n",
      "    Linear '2_Linear' with shape (7, 4)\n",
      "    LIF '3_LIF' with shape (4, 4)\n",
      "}\n"
     ]
    }
   ],
   "source": [
    "# simple model to test\n",
    "\n",
    "net = Sequential(\n",
    "    Linear((2, 7)),\n",
    "    LIF((7, 7)),\n",
    "\n",
    "    Linear((7, 4)),\n",
    "    LIF(4),\n",
    ")\n",
    "\n",
    "print(net)\n",
    "\n",
    "# net[0].weight *= 0.05\n",
    "spec = mapper(net.as_graph())\n",
    "Q_spec = spec\n",
    "Q_spec.update(channel_quantize(**Q_spec))\n",
    "config, is_valid, msg = config_from_specification(**Q_spec)\n",
    "\n",
    "if not is_valid:\n",
    "    print(msg)"
   ]
  },
  {
   "cell_type": "markdown",
   "id": "8e3862ef-1054-46c2-99e9-300cac3d9bae",
   "metadata": {},
   "source": [
    "## Set up Samna graphs and configuration\n",
    "\n",
    "* Create a buffer sink for events from the chip model source node. Readout events will be captured here.\n",
    "* Set Xylo configuration as desired for PDM and network config\n",
    "* Set Xylo TR_WRAP register for desired time step length with default 25 MHz clock\n",
    "* Set Xylo to real-time mode\n",
    "* Enable PCB switches for PDM microphones\n",
    "* Set FPGA module to real-time mode\n",
    "   * io.write_config(0x12, 0) and io.write_config(0x31, 2)"
   ]
  },
  {
   "cell_type": "code",
   "execution_count": 1,
   "id": "e7c34a35-b254-4335-99e3-a8a900a5416c",
   "metadata": {},
   "outputs": [
    {
     "ename": "NameError",
     "evalue": "name 'xylo_hdks' is not defined",
     "output_type": "error",
     "traceback": [
      "\u001b[0;31m---------------------------------------------------------------------------\u001b[0m",
      "\u001b[0;31mNameError\u001b[0m                                 Traceback (most recent call last)",
      "\u001b[0;32m/tmp/ipykernel_19798/2694593335.py\u001b[0m in \u001b[0;36m<module>\u001b[0;34m\u001b[0m\n\u001b[1;32m      1\u001b[0m \u001b[0;31m# create xylo monitor\u001b[0m\u001b[0;34m\u001b[0m\u001b[0;34m\u001b[0m\u001b[0m\n\u001b[1;32m      2\u001b[0m \u001b[0mdt\u001b[0m \u001b[0;34m=\u001b[0m \u001b[0;36m0.01\u001b[0m\u001b[0;34m\u001b[0m\u001b[0;34m\u001b[0m\u001b[0m\n\u001b[0;32m----> 3\u001b[0;31m \u001b[0mxylo_node\u001b[0m \u001b[0;34m=\u001b[0m \u001b[0mxylo_hdks\u001b[0m\u001b[0;34m[\u001b[0m\u001b[0;36m0\u001b[0m\u001b[0;34m]\u001b[0m\u001b[0;34m\u001b[0m\u001b[0;34m\u001b[0m\u001b[0m\n\u001b[0m\u001b[1;32m      4\u001b[0m \u001b[0mprint\u001b[0m\u001b[0;34m(\u001b[0m\u001b[0mxylo_node\u001b[0m\u001b[0;34m)\u001b[0m\u001b[0;34m\u001b[0m\u001b[0;34m\u001b[0m\u001b[0m\n\u001b[1;32m      5\u001b[0m \u001b[0;34m\u001b[0m\u001b[0m\n",
      "\u001b[0;31mNameError\u001b[0m: name 'xylo_hdks' is not defined"
     ]
    }
   ],
   "source": [
    "# create xylo monitor\n",
    "dt = 0.01\n",
    "xylo_node = xylo_hdks[0]\n",
    "print(xylo_node)\n",
    "\n",
    "\n",
    "# PDM\n",
    "config.digital_frontend.mode = samna.xyloAudio3.DigitalFrontendMode.Pdm\n",
    "\n",
    "# TR_WRAP register\n",
    "config.time_resolution_wrap = int(0x7_9FF3)\n",
    "\n",
    "# real-time mode\n",
    "config.operation_mode = samna.xyloAudio3.OperationMode.RealTime\n",
    "\n",
    "config.debug.debug_status_update_enable = 1\n",
    "config.debug.debug_input_enable = 1\n",
    "config.debug.monitor_signals_enable = 1\n",
    "\n",
    "# PCB switches\n",
    "# This is physically checked on the board\n",
    "\n",
    "# inside XyloMonitor the buffers are created and FPGA modules are set\n",
    "xylo_monitor = XyloMonitor(device=xylo_node, \n",
    "    config=config, \n",
    "    dt = dt,\n",
    "    output_mode='Spike')\n",
    "\n",
    "print(xylo_monitor)\n",
    "\n",
    "print(xylo_monitor.config)\n",
    "\n",
    "# Create a XyloSamna structure for evolving\n",
    "modSamna = XyloSamna(node, config, dt = dt)"
   ]
  },
  {
   "cell_type": "markdown",
   "id": "992ec60e-f1c5-4f97-b225-d684e97d240c",
   "metadata": {},
   "source": [
    "## Start processing and collect events\n",
    "\n",
    "* Send TriggerProcessing event from Samna with the desired time step\n",
    "* Collect readout events in the BufferSink attached to the model source node"
   ]
  },
  {
   "cell_type": "code",
   "execution_count": 2,
   "id": "98971254-fcc7-4ee1-bd11-2ee87fcf63f6",
   "metadata": {},
   "outputs": [
    {
     "ename": "NameError",
     "evalue": "name 'modSamna' is not defined",
     "output_type": "error",
     "traceback": [
      "\u001b[0;31m---------------------------------------------------------------------------\u001b[0m",
      "\u001b[0;31mNameError\u001b[0m                                 Traceback (most recent call last)",
      "\u001b[0;32m/tmp/ipykernel_19798/2109954221.py\u001b[0m in \u001b[0;36m<module>\u001b[0;34m\u001b[0m\n\u001b[1;32m      5\u001b[0m \u001b[0mN\u001b[0m \u001b[0;34m=\u001b[0m \u001b[0;36m1000\u001b[0m\u001b[0;34m\u001b[0m\u001b[0;34m\u001b[0m\u001b[0m\n\u001b[1;32m      6\u001b[0m \u001b[0;34m\u001b[0m\u001b[0m\n\u001b[0;32m----> 7\u001b[0;31m \u001b[0mout\u001b[0m\u001b[0;34m,\u001b[0m \u001b[0m_\u001b[0m\u001b[0;34m,\u001b[0m \u001b[0mrd\u001b[0m \u001b[0;34m=\u001b[0m \u001b[0mmodSamna\u001b[0m\u001b[0;34m.\u001b[0m\u001b[0mevolve\u001b[0m\u001b[0;34m(\u001b[0m\u001b[0minput\u001b[0m \u001b[0;34m=\u001b[0m \u001b[0mnp\u001b[0m\u001b[0;34m.\u001b[0m\u001b[0mzeros\u001b[0m\u001b[0;34m(\u001b[0m\u001b[0ma\u001b[0m\u001b[0;34m,\u001b[0m\u001b[0mb\u001b[0m\u001b[0;34m,\u001b[0m \u001b[0mN\u001b[0m\u001b[0;34m)\u001b[0m\u001b[0;34m,\u001b[0m \u001b[0mrecord\u001b[0m \u001b[0;34m=\u001b[0m \u001b[0;32mTrue\u001b[0m\u001b[0;34m)\u001b[0m\u001b[0;34m\u001b[0m\u001b[0;34m\u001b[0m\u001b[0m\n\u001b[0m\u001b[1;32m      8\u001b[0m \u001b[0;34m\u001b[0m\u001b[0m\n\u001b[1;32m      9\u001b[0m \u001b[0;31m# out, _, rec = xylo_monitor.evolve(input_data=np.ones((N,2)))\u001b[0m\u001b[0;34m\u001b[0m\u001b[0;34m\u001b[0m\u001b[0m\n",
      "\u001b[0;31mNameError\u001b[0m: name 'modSamna' is not defined"
     ]
    }
   ],
   "source": [
    "# The notebook calls XyloMonitor.evolve() with some input data, which the evolve function will try to send. \n",
    "# This is not allowed in real-time mode.\n",
    "\n",
    "import numpy as np\n",
    "N = 1000\n",
    "\n",
    "# in rd there is a AFE related record ('spike_in' or similar).\n",
    "# It should be empty in silence and non empty when we make noise\n",
    "out, _, rd = modSamna.evolve(input = np.zeros(a,b, N), record = True)\n",
    "\n",
    "\n",
    "# out, _, rec = xylo_monitor.evolve(input_data=np.ones((N,2)))\n",
    "print(out)\n",
    "print(rd)\n"
   ]
  },
  {
   "cell_type": "code",
   "execution_count": null,
   "id": "c4dcbd61-c09b-4239-baf0-600b8c49b91e",
   "metadata": {},
   "outputs": [],
   "source": []
  }
 ],
 "metadata": {
  "kernelspec": {
   "display_name": "Python 3 (ipykernel)",
   "language": "python",
   "name": "python3"
  },
  "language_info": {
   "codemirror_mode": {
    "name": "ipython",
    "version": 3
   },
   "file_extension": ".py",
   "mimetype": "text/x-python",
   "name": "python",
   "nbconvert_exporter": "python",
   "pygments_lexer": "ipython3",
   "version": "3.10.12"
  }
 },
 "nbformat": 4,
 "nbformat_minor": 5
}
