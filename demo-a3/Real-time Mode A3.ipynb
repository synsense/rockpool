{
 "cells": [
  {
   "cell_type": "markdown",
   "id": "baa3f1f9-7ce8-494f-a8b5-c3be438b1784",
   "metadata": {},
   "source": [
    "# Real-time Steps\n",
    "\n",
    "In real-time mode, the FPGA lets Xylo run freely and only performs readout after receiving a timestep done interrupt.\n",
    "This means sending input to Xylo from the FPGA is not supported in real-time mode.  Instead, the switches on the PCB must be configured such that Xylo receives input from the microphones on the PCB.\n"
   ]
  },
  {
   "cell_type": "markdown",
   "id": "6be1fd9c-8f83-4b33-b6a9-6652a384b2a0",
   "metadata": {},
   "source": [
    "## Simple Samna example to access the board"
   ]
  },
  {
   "cell_type": "code",
   "execution_count": 1,
   "id": "5c7e4dc6-d726-47f0-81f7-f2855b3edc44",
   "metadata": {},
   "outputs": [
    {
     "name": "stdout",
     "output_type": "stream",
     "text": [
      "500000\n"
     ]
    }
   ],
   "source": [
    "ts_duration   = 10*1e-3; # in second\n",
    "main_clk_freq = 50*1e6 # in Hz\n",
    "tr_wrap       = int(ts_duration*main_clk_freq)\n",
    "print(tr_wrap)\n",
    "\n",
    "# 0: input for Xylo, 1: Xylo output\n",
    "PDM_CLK_DIR  = 1\n",
    "# 0: Xylo samples PDM_DATA at risinge edge, 1: Xylo samples PDM_DATA at falling edge\n",
    "PDM_CLK_EDGE = 0\n",
    "\n",
    "def get_tr_wrap(ts_in_ms, main_clk_freq_in_mhz, debug=0):\n",
    "    ts_duration   = ts_in_ms*1e-3; # in second\n",
    "    main_clk_freq = main_clk_freq_in_mhz*1e6 # in Hz\n",
    "    tr_wrap       = int(ts_duration*main_clk_freq)\n",
    "    print(f\"set tr_wrap to 0x{format(tr_wrap,'_X')}\") if debug>=1 else None\n",
    "    return tr_wrap"
   ]
  },
  {
   "cell_type": "code",
   "execution_count": 2,
   "id": "b5964e99-d017-4138-baa3-4633cb5b9131",
   "metadata": {},
   "outputs": [
    {
     "name": "stdout",
     "output_type": "stream",
     "text": [
      "samna version: 0.39.0.0\n",
      "set tr_wrap to 0x2FA_F080\n",
      "Generated graph\n"
     ]
    }
   ],
   "source": [
    "import samna\n",
    "print(f\"samna version: {samna.__version__}\")\n",
    "import time\n",
    "\n",
    "device = samna.device.open_device('XyloAudio3TestBoard')\n",
    "\n",
    "# set device configuration\n",
    "ioc = device.get_io_control_module()\n",
    "io = device.get_io_module()\n",
    "model = device.get_model()\n",
    "\n",
    "# power off\n",
    "ioc.write_config(0, 0x0)\n",
    "time.sleep(1)\n",
    "\n",
    "# main clock disable\n",
    "io.write_config(0x0008, 0)\n",
    "time.sleep(1)\n",
    "\n",
    "# power on\n",
    "ioc.write_config(0, 0x1B)\n",
    "time.sleep(1)\n",
    "\n",
    "# main clock enable\n",
    "io.write_config(0x0008, 1)\n",
    "time.sleep(1)\n",
    "\n",
    "# DIG_MIC drives PDM_DATA\n",
    "io.write_config(0x0012, 0)\n",
    "time.sleep(1)\n",
    "\n",
    "\n",
    "# # set PDM clock\n",
    "io.write_config(0x0027, 0)  # pdm clock msw\n",
    "io.write_config(0x0028, 19)  # pdm clock lsw\n",
    "io.write_config(0x0029, 1)  # FPGA pdm clock generation enabled\n",
    "io.write_config(0x0026, 2)  # select: use pdm interface\n",
    "# # bit 0: PDM_CLK edge (0: FPGA drives PDM_DATA at falling edge, 1: FPGA drives PDM_DATA at rising edge)\n",
    "# # bit 1: PDM_CLK dir  (0: FPGA->Xylo, 1: Xylo->FPGA)\n",
    "pdm_config = 1 + 1 << 1\n",
    "io.write_config(0x002A, pdm_config)\n",
    "\n",
    "# FPGA drive PDM_DATA\n",
    "# io.write_config(0x0012, 1)\n",
    "# PDM port write enable\n",
    "io.write_config(0x0013, 1)\n",
    "\n",
    "# set samna configuration\n",
    "config = samna.xyloAudio3.configuration.XyloConfiguration()\n",
    "\n",
    "config.operation_mode                                        = samna.xyloAudio3.OperationMode.RealTime\n",
    "config.time_resolution_wrap                                  = get_tr_wrap(ts_in_ms=1000, main_clk_freq_in_mhz=50, debug=1)\n",
    "config.debug.always_update_omp_stat                          = True\n",
    "config.input_source                                          = samna.xyloAudio3.InputSource.Pdm\n",
    "config.digital_frontend.filter_bank.dn_enable                = False\n",
    "config.digital_frontend.filter_bank.use_global_iaf_threshold = False\n",
    "config.digital_frontend.pdm_preprocessing.clock_direction    = PDM_CLK_DIR\n",
    "config.digital_frontend.pdm_preprocessing.clock_edge         = PDM_CLK_EDGE\n",
    "config.debug.sdm_clock_ratio                                 = 24\n",
    "\n",
    "device.get_model().apply_configuration(config)\n",
    "\n",
    "# define real-time mode\n",
    "io.write_config(0x31, 2)\n",
    "time.sleep(1)\n",
    "\n",
    "# create access to xylo input/output\n",
    "source = samna.graph.source_to(model.get_sink_node())\n",
    "sink   = samna.graph.sink_from(model.get_source_node())\n",
    "\n",
    "print(\"Generated graph\")"
   ]
  },
  {
   "cell_type": "markdown",
   "id": "4feb37ce-596c-4e4f-b047-7e46bf99c414",
   "metadata": {},
   "source": [
    "### read register values\n",
    "\n",
    "values from test_dig_mic_03-A.py\n",
    "\n",
    "ctrl1       : 0x143_011C\n",
    "\n",
    "ctrl2       : 0x9_0902\n",
    "\n",
    "ctrl3       : 0x901\n",
    "\n",
    "tr_wrap     : 0x2FA_F080\n",
    "\n",
    "hm_tr_wrap  : 0x0\n",
    "\n",
    "clk_ctrl    : 0x11\n",
    "\n",
    "clk_div     : 0x18_0000\n",
    "\n",
    "pwr_ctrl1   : 0x33_00FF\n",
    "\n",
    "pwr_ctrl2   : 0x3_0001\n",
    "\n",
    "pwr_ctrl3   : 0xFFFF_FFFF\n",
    "\n",
    "pwr_ctrl4   : 0xFFFF_0001\n",
    "\n",
    "pad_ctrl    : 0x0\n",
    "\n",
    "ie1         : 0x0\n",
    "\n",
    "ie2         : 0x1\n",
    "\n",
    "out_ctrl    : 0x70\n",
    "\n",
    "monsel      : 0x0\n",
    "\n",
    "mon_grp_sel : 0x1F1F_0773\n",
    "\n",
    "dbg_ctrl1   : 0x0\n",
    "\n",
    "dbg_stat1   : 0x0\n",
    "\n",
    "\n"
   ]
  },
  {
   "cell_type": "code",
   "execution_count": 3,
   "id": "5b1cd9ba-88b1-4d84-a240-6677e37744d4",
   "metadata": {},
   "outputs": [],
   "source": [
    "ctrl1 = 0x0001\n",
    "ctrl2 = 0x0002\n",
    "ctrl3 = 0x0003\n",
    "tr_wrap = 0x0004\n",
    "hm_tr_wrap = 0x0005\n",
    "clk_ctrl = 0x0006\n",
    "clk_div = 0x0007\n",
    "pwr_ctrl1 = 0x0008\n",
    "pwr_ctrl2 = 0x0009\n",
    "pwr_ctrl3 = 0x000A\n",
    "pwr_ctrl4 = 0x000B\n",
    "pad_ctrl = 0x000C\n",
    "ie1 = 0x000E\n",
    "ie2 = 0x000F\n",
    "out_ctrl = 0x0011\n",
    "monsel = 0x0166\n",
    "mon_grp_sel = 0x0167\n",
    "dbg_ctrl1 = 0x0168\n",
    "dbg_stat1 = 0x0171\n",
    "dfe_ctrl = 0x001B"
   ]
  },
  {
   "cell_type": "code",
   "execution_count": 4,
   "id": "7113843f-d3a3-454b-9d44-ac7ba3e0132a",
   "metadata": {},
   "outputs": [],
   "source": [
    "# write registers for real-time mode -- values from Xin -- to update Rockpool\n",
    "\n",
    "source.write([samna.xyloAudio3.event.WriteRegisterValue(address=ctrl1, data=0x143_011C)])\n",
    "source.write([samna.xyloAudio3.event.WriteRegisterValue(address=ctrl2, data=0x9_0902)])\n",
    "source.write([samna.xyloAudio3.event.WriteRegisterValue(address=ctrl3, data=0x901)])\n",
    "\n",
    "source.write([samna.xyloAudio3.event.WriteRegisterValue(address=tr_wrap, data=500000)])\n",
    "source.write([samna.xyloAudio3.event.WriteRegisterValue(address=hm_tr_wrap, data=0x0)])\n",
    "\n",
    "source.write([samna.xyloAudio3.event.WriteRegisterValue(address=clk_ctrl, data=0x011)])\n",
    "source.write([samna.xyloAudio3.event.WriteRegisterValue(address=clk_div, data=0x18_0000)])\n",
    "\n",
    "source.write([samna.xyloAudio3.event.WriteRegisterValue(address=pwr_ctrl1, data=0x33_00FF)])\n",
    "source.write([samna.xyloAudio3.event.WriteRegisterValue(address=pwr_ctrl2, data=0x3_0001)])\n",
    "source.write([samna.xyloAudio3.event.WriteRegisterValue(address=pwr_ctrl3, data=0xFFFF_FFFF)])\n",
    "source.write([samna.xyloAudio3.event.WriteRegisterValue(address=pwr_ctrl4, data=0xFFFF_0001)])\n",
    "\n",
    "source.write([samna.xyloAudio3.event.WriteRegisterValue(address=pad_ctrl, data=0x00)])\n",
    "source.write([samna.xyloAudio3.event.WriteRegisterValue(address=ie1, data=0x0)])\n",
    "source.write([samna.xyloAudio3.event.WriteRegisterValue(address=ie2, data=0x1)])\n",
    "source.write([samna.xyloAudio3.event.WriteRegisterValue(address=out_ctrl, data=0x70)])\n",
    "\n",
    "source.write([samna.xyloAudio3.event.WriteRegisterValue(address=monsel, data=0x0)])\n",
    "source.write([samna.xyloAudio3.event.WriteRegisterValue(address=mon_grp_sel, data=0x1F1F_0773)])\n",
    "source.write([samna.xyloAudio3.event.WriteRegisterValue(address=dbg_ctrl1, data=0x0)])\n",
    "source.write([samna.xyloAudio3.event.WriteRegisterValue(address=dbg_stat1, data=0x0)])\n",
    "source.write([samna.xyloAudio3.event.WriteRegisterValue(address=dfe_ctrl, data=0x510)])\n",
    "\n"
   ]
  },
  {
   "cell_type": "code",
   "execution_count": 5,
   "id": "0f6e182e-c33d-40d9-8183-5c960e7e115f",
   "metadata": {},
   "outputs": [
    {
     "name": "stdout",
     "output_type": "stream",
     "text": [
      "\n",
      "# ======= read important registers =======\n",
      "\n",
      "ctrl1       : 0x143_011C vs 0x143_011C\n",
      "ctrl2       : 0x9_0902 vs 0x9_0902\n",
      "ctrl3       : 0x901 vs 0x901\n",
      "\n",
      "tr_wrap     : 0x7_A120 vs 0x2FA_F080\n",
      "hm_tr_wrap  : 0x0 vs 0x0\n",
      "\n",
      "clk_ctrl    : 0x11 vs 0x11\n",
      "clk_div     : 0x18_0000 vs 0x18_0000\n",
      "\n",
      "pwr_ctrl1   : 0x33_00FF vs 0x33_00FF\n",
      "pwr_ctrl2   : 0x3_0001 vs 0x3_0001\n",
      "pwr_ctrl3   : 0xFFFF_FFFF vs 0xFFFF_FFFF\n",
      "pwr_ctrl4   : 0xFFFF_0001 vs 0xFFFF_0001\n",
      "\n",
      "pad_ctrl    : 0x0 vs 0x0\n",
      "ie1         : 0x0 vs 0x0\n",
      "ie2         : 0x1 vs 0x1\n",
      "out_ctrl    : 0x70 vs 0x70\n",
      "\n",
      "monsel      : 0x0 vs 0x0\n",
      "mon_grp_sel : 0x1F1F_0773 vs 0x1F1F_0773\n",
      "dbg_ctrl1   : 0x0 vs 0x0\n",
      "dbg_stat1   : 0x0 vs 0x0\n",
      "dbg_stat1   : 0x510 vs 0x510\n",
      "\n"
     ]
    }
   ],
   "source": [
    "def read_register(addr):\n",
    "    source.write([samna.xyloAudio3.event.ReadRegisterValue(address = addr)])\n",
    "    events = sink.get_n_events(1, 3000)\n",
    "    assert(len(events) == 1)\n",
    "    return events[0].data\n",
    "    \n",
    "print(\"\\n# ======= read important registers =======\\n\")\n",
    "# ctrl[1-3]\n",
    "print(f\"ctrl1       : 0x{format(read_register(ctrl1),'_X')} vs 0x143_011C\")\n",
    "print(f\"ctrl2       : 0x{format(read_register(ctrl2),'_X')} vs 0x9_0902\")\n",
    "print(f\"ctrl3       : 0x{format(read_register(ctrl3),'_X')} vs 0x901\")\n",
    "print()\n",
    "# *_wrap\n",
    "print(f\"tr_wrap     : 0x{format(read_register(tr_wrap),'_X')} vs 0x2FA_F080\")\n",
    "print(f\"hm_tr_wrap  : 0x{format(read_register(hm_tr_wrap),'_X')} vs 0x0\")\n",
    "print()\n",
    "# clk_*\n",
    "print(f\"clk_ctrl    : 0x{format(read_register(clk_ctrl),'_X')} vs 0x11\")\n",
    "print(f\"clk_div     : 0x{format(read_register(clk_div),'_X')} vs 0x18_0000\")\n",
    "print()\n",
    "# pwr_ctrl[1-4]\n",
    "print(f\"pwr_ctrl1   : 0x{format(read_register(pwr_ctrl1),'_X')} vs 0x33_00FF\")\n",
    "print(f\"pwr_ctrl2   : 0x{format(read_register(pwr_ctrl2),'_X')} vs 0x3_0001\")\n",
    "print(f\"pwr_ctrl3   : 0x{format(read_register(pwr_ctrl3),'_X')} vs 0xFFFF_FFFF\")\n",
    "print(f\"pwr_ctrl4   : 0x{format(read_register(pwr_ctrl4),'_X')} vs 0xFFFF_0001\")\n",
    "print()\n",
    "# misc\n",
    "print(f\"pad_ctrl    : 0x{format(read_register(pad_ctrl),'_X')} vs 0x0\")\n",
    "print(f\"ie1         : 0x{format(read_register(ie1),'_X')} vs 0x0\")\n",
    "print(f\"ie2         : 0x{format(read_register(ie2),'_X')} vs 0x1\")\n",
    "print(f\"out_ctrl    : 0x{format(read_register(out_ctrl),'_X')} vs 0x70\")\n",
    "print()\n",
    "# debug regs\n",
    "print(f\"monsel      : 0x{format(read_register(monsel),'_X')} vs 0x0\")\n",
    "print(f\"mon_grp_sel : 0x{format(read_register(mon_grp_sel),'_X')} vs 0x1F1F_0773\")\n",
    "print(f\"dbg_ctrl1   : 0x{format(read_register(dbg_ctrl1),'_X')} vs 0x0\")\n",
    "print(f\"dbg_stat1   : 0x{format(read_register(dbg_stat1),'_X')} vs 0x0\")\n",
    "print(f\"dbg_stat1   : 0x{format(read_register(dfe_ctrl),'_X')} vs 0x510\")\n",
    "print()\n",
    "\n"
   ]
  },
  {
   "cell_type": "markdown",
   "id": "31e1a6d5-3106-40e4-b0b0-c9916c084162",
   "metadata": {},
   "source": [
    "Send trigger processing and read events"
   ]
  },
  {
   "cell_type": "code",
   "execution_count": 6,
   "id": "955eb63a-52de-4731-8e25-83bb14534b18",
   "metadata": {},
   "outputs": [
    {
     "name": "stdout",
     "output_type": "stream",
     "text": [
      "\n",
      "events from sink node:\n",
      "[xyloAudio3::event::Readout(timestep=0, neuron_v_mems={ }, neuron_i_syns={ }, hidden_spikes={ }, output_v_mems={ -32768 }, output_spikes={ 0 }), xyloAudio3::event::Readout(timestep=1, neuron_v_mems={ }, neuron_i_syns={ }, hidden_spikes={ }, output_v_mems={ -32768 }, output_spikes={ 0 }), xyloAudio3::event::Readout(timestep=2, neuron_v_mems={ }, neuron_i_syns={ }, hidden_spikes={ }, output_v_mems={ -32768 }, output_spikes={ 0 }), xyloAudio3::event::Readout(timestep=3, neuron_v_mems={ }, neuron_i_syns={ }, hidden_spikes={ }, output_v_mems={ -32768 }, output_spikes={ 0 }), xyloAudio3::event::Readout(timestep=4, neuron_v_mems={ }, neuron_i_syns={ }, hidden_spikes={ }, output_v_mems={ -32768 }, output_spikes={ 0 }), xyloAudio3::event::Readout(timestep=5, neuron_v_mems={ }, neuron_i_syns={ }, hidden_spikes={ }, output_v_mems={ -32768 }, output_spikes={ 0 }), xyloAudio3::event::Readout(timestep=6, neuron_v_mems={ }, neuron_i_syns={ }, hidden_spikes={ }, output_v_mems={ -32768 }, output_spikes={ 0 }), xyloAudio3::event::Readout(timestep=7, neuron_v_mems={ }, neuron_i_syns={ }, hidden_spikes={ }, output_v_mems={ -32768 }, output_spikes={ 0 }), xyloAudio3::event::Readout(timestep=8, neuron_v_mems={ }, neuron_i_syns={ }, hidden_spikes={ }, output_v_mems={ -32768 }, output_spikes={ 0 }), xyloAudio3::event::Readout(timestep=9, neuron_v_mems={ }, neuron_i_syns={ }, hidden_spikes={ }, output_v_mems={ -32768 }, output_spikes={ 0 }), xyloAudio3::event::Readout(timestep=10, neuron_v_mems={ }, neuron_i_syns={ }, hidden_spikes={ }, output_v_mems={ -32768 }, output_spikes={ 0 }), xyloAudio3::event::Spike(neuron_id=1, timestep=0, timestamp=0), xyloAudio3::event::Readout(timestep=11, neuron_v_mems={ }, neuron_i_syns={ }, hidden_spikes={ }, output_v_mems={ -32768 }, output_spikes={ 0 }), xyloAudio3::event::Spike(neuron_id=1, timestep=0, timestamp=0), xyloAudio3::event::Readout(timestep=12, neuron_v_mems={ }, neuron_i_syns={ }, hidden_spikes={ }, output_v_mems={ -32768 }, output_spikes={ 0 }), xyloAudio3::event::Spike(neuron_id=1, timestep=0, timestamp=0), xyloAudio3::event::Readout(timestep=13, neuron_v_mems={ }, neuron_i_syns={ }, hidden_spikes={ }, output_v_mems={ -32768 }, output_spikes={ 0 }), xyloAudio3::event::Spike(neuron_id=1, timestep=0, timestamp=0), xyloAudio3::event::Readout(timestep=14, neuron_v_mems={ }, neuron_i_syns={ }, hidden_spikes={ }, output_v_mems={ -32768 }, output_spikes={ 0 }), xyloAudio3::event::Spike(neuron_id=1, timestep=0, timestamp=0), xyloAudio3::event::Readout(timestep=15, neuron_v_mems={ }, neuron_i_syns={ }, hidden_spikes={ }, output_v_mems={ -32768 }, output_spikes={ 0 }), xyloAudio3::event::Spike(neuron_id=1, timestep=0, timestamp=0), xyloAudio3::event::Readout(timestep=16, neuron_v_mems={ }, neuron_i_syns={ }, hidden_spikes={ }, output_v_mems={ -32768 }, output_spikes={ 0 }), xyloAudio3::event::Spike(neuron_id=1, timestep=0, timestamp=0), xyloAudio3::event::Readout(timestep=17, neuron_v_mems={ }, neuron_i_syns={ }, hidden_spikes={ }, output_v_mems={ -32768 }, output_spikes={ 0 }), xyloAudio3::event::Spike(neuron_id=1, timestep=0, timestamp=0), xyloAudio3::event::Readout(timestep=18, neuron_v_mems={ }, neuron_i_syns={ }, hidden_spikes={ }, output_v_mems={ -32768 }, output_spikes={ 0 }), xyloAudio3::event::Spike(neuron_id=1, timestep=0, timestamp=0), xyloAudio3::event::Readout(timestep=19, neuron_v_mems={ }, neuron_i_syns={ }, hidden_spikes={ }, output_v_mems={ -32768 }, output_spikes={ 0 }), xyloAudio3::event::Spike(neuron_id=1, timestep=0, timestamp=0), xyloAudio3::event::Readout(timestep=20, neuron_v_mems={ }, neuron_i_syns={ }, hidden_spikes={ }, output_v_mems={ -32768 }, output_spikes={ 0 }), xyloAudio3::event::Spike(neuron_id=1, timestep=0, timestamp=0), xyloAudio3::event::Readout(timestep=21, neuron_v_mems={ }, neuron_i_syns={ }, hidden_spikes={ }, output_v_mems={ -32768 }, output_spikes={ 0 }), xyloAudio3::event::Spike(neuron_id=1, timestep=0, timestamp=0), xyloAudio3::event::Readout(timestep=22, neuron_v_mems={ }, neuron_i_syns={ }, hidden_spikes={ }, output_v_mems={ -32768 }, output_spikes={ 0 }), xyloAudio3::event::Spike(neuron_id=1, timestep=0, timestamp=0), xyloAudio3::event::Readout(timestep=23, neuron_v_mems={ }, neuron_i_syns={ }, hidden_spikes={ }, output_v_mems={ -32768 }, output_spikes={ 0 }), xyloAudio3::event::Spike(neuron_id=1, timestep=0, timestamp=0), xyloAudio3::event::Readout(timestep=24, neuron_v_mems={ }, neuron_i_syns={ }, hidden_spikes={ }, output_v_mems={ -32768 }, output_spikes={ 0 }), xyloAudio3::event::Spike(neuron_id=1, timestep=0, timestamp=0), xyloAudio3::event::Readout(timestep=25, neuron_v_mems={ }, neuron_i_syns={ }, hidden_spikes={ }, output_v_mems={ -32768 }, output_spikes={ 0 }), xyloAudio3::event::Spike(neuron_id=1, timestep=0, timestamp=0), xyloAudio3::event::Readout(timestep=26, neuron_v_mems={ }, neuron_i_syns={ }, hidden_spikes={ }, output_v_mems={ -32768 }, output_spikes={ 0 }), xyloAudio3::event::Spike(neuron_id=1, timestep=0, timestamp=0), xyloAudio3::event::Readout(timestep=27, neuron_v_mems={ }, neuron_i_syns={ }, hidden_spikes={ }, output_v_mems={ -32768 }, output_spikes={ 0 }), xyloAudio3::event::Spike(neuron_id=1, timestep=0, timestamp=0), xyloAudio3::event::Readout(timestep=28, neuron_v_mems={ }, neuron_i_syns={ }, hidden_spikes={ }, output_v_mems={ -32768 }, output_spikes={ 0 }), xyloAudio3::event::Spike(neuron_id=1, timestep=0, timestamp=0), xyloAudio3::event::Readout(timestep=29, neuron_v_mems={ }, neuron_i_syns={ }, hidden_spikes={ }, output_v_mems={ -32768 }, output_spikes={ 0 }), xyloAudio3::event::Spike(neuron_id=1, timestep=0, timestamp=0), xyloAudio3::event::Readout(timestep=30, neuron_v_mems={ }, neuron_i_syns={ }, hidden_spikes={ }, output_v_mems={ -32768 }, output_spikes={ 0 }), xyloAudio3::event::Spike(neuron_id=1, timestep=0, timestamp=0), xyloAudio3::event::Readout(timestep=31, neuron_v_mems={ }, neuron_i_syns={ }, hidden_spikes={ }, output_v_mems={ -32768 }, output_spikes={ 0 }), xyloAudio3::event::Spike(neuron_id=1, timestep=0, timestamp=0), xyloAudio3::event::Readout(timestep=32, neuron_v_mems={ }, neuron_i_syns={ }, hidden_spikes={ }, output_v_mems={ -32768 }, output_spikes={ 0 }), xyloAudio3::event::Spike(neuron_id=1, timestep=0, timestamp=0), xyloAudio3::event::Readout(timestep=33, neuron_v_mems={ }, neuron_i_syns={ }, hidden_spikes={ }, output_v_mems={ -32768 }, output_spikes={ 0 }), xyloAudio3::event::Spike(neuron_id=1, timestep=0, timestamp=0), xyloAudio3::event::Readout(timestep=34, neuron_v_mems={ }, neuron_i_syns={ }, hidden_spikes={ }, output_v_mems={ -32768 }, output_spikes={ 0 }), xyloAudio3::event::Spike(neuron_id=1, timestep=0, timestamp=0), xyloAudio3::event::Readout(timestep=35, neuron_v_mems={ }, neuron_i_syns={ }, hidden_spikes={ }, output_v_mems={ -32768 }, output_spikes={ 0 }), xyloAudio3::event::Spike(neuron_id=1, timestep=0, timestamp=0), xyloAudio3::event::Readout(timestep=36, neuron_v_mems={ }, neuron_i_syns={ }, hidden_spikes={ }, output_v_mems={ -32768 }, output_spikes={ 0 }), xyloAudio3::event::Spike(neuron_id=1, timestep=0, timestamp=0), xyloAudio3::event::Readout(timestep=37, neuron_v_mems={ }, neuron_i_syns={ }, hidden_spikes={ }, output_v_mems={ -32768 }, output_spikes={ 0 }), xyloAudio3::event::Spike(neuron_id=1, timestep=0, timestamp=0), xyloAudio3::event::Readout(timestep=38, neuron_v_mems={ }, neuron_i_syns={ }, hidden_spikes={ }, output_v_mems={ -32768 }, output_spikes={ 0 }), xyloAudio3::event::Spike(neuron_id=1, timestep=0, timestamp=0), xyloAudio3::event::Readout(timestep=39, neuron_v_mems={ }, neuron_i_syns={ }, hidden_spikes={ }, output_v_mems={ -32768 }, output_spikes={ 0 }), xyloAudio3::event::Spike(neuron_id=1, timestep=0, timestamp=0), xyloAudio3::event::Readout(timestep=40, neuron_v_mems={ }, neuron_i_syns={ }, hidden_spikes={ }, output_v_mems={ -32768 }, output_spikes={ 0 }), xyloAudio3::event::Spike(neuron_id=1, timestep=0, timestamp=0), xyloAudio3::event::Readout(timestep=41, neuron_v_mems={ }, neuron_i_syns={ }, hidden_spikes={ }, output_v_mems={ -32768 }, output_spikes={ 0 }), xyloAudio3::event::Spike(neuron_id=1, timestep=0, timestamp=0), xyloAudio3::event::Readout(timestep=42, neuron_v_mems={ }, neuron_i_syns={ }, hidden_spikes={ }, output_v_mems={ -32768 }, output_spikes={ 0 }), xyloAudio3::event::Spike(neuron_id=1, timestep=0, timestamp=0), xyloAudio3::event::Readout(timestep=43, neuron_v_mems={ }, neuron_i_syns={ }, hidden_spikes={ }, output_v_mems={ -32768 }, output_spikes={ 0 }), xyloAudio3::event::Spike(neuron_id=1, timestep=0, timestamp=0), xyloAudio3::event::Readout(timestep=44, neuron_v_mems={ }, neuron_i_syns={ }, hidden_spikes={ }, output_v_mems={ -32768 }, output_spikes={ 0 }), xyloAudio3::event::Spike(neuron_id=1, timestep=0, timestamp=0), xyloAudio3::event::Readout(timestep=45, neuron_v_mems={ }, neuron_i_syns={ }, hidden_spikes={ }, output_v_mems={ -32768 }, output_spikes={ 0 }), xyloAudio3::event::Spike(neuron_id=1, timestep=0, timestamp=0), xyloAudio3::event::Readout(timestep=46, neuron_v_mems={ }, neuron_i_syns={ }, hidden_spikes={ }, output_v_mems={ -32768 }, output_spikes={ 0 }), xyloAudio3::event::Spike(neuron_id=1, timestep=0, timestamp=0), xyloAudio3::event::Readout(timestep=47, neuron_v_mems={ }, neuron_i_syns={ }, hidden_spikes={ }, output_v_mems={ -32768 }, output_spikes={ 0 }), xyloAudio3::event::Spike(neuron_id=1, timestep=0, timestamp=0), xyloAudio3::event::Readout(timestep=48, neuron_v_mems={ }, neuron_i_syns={ }, hidden_spikes={ }, output_v_mems={ -32768 }, output_spikes={ 0 }), xyloAudio3::event::Spike(neuron_id=1, timestep=0, timestamp=0), xyloAudio3::event::Readout(timestep=49, neuron_v_mems={ }, neuron_i_syns={ }, hidden_spikes={ }, output_v_mems={ -32768 }, output_spikes={ 0 }), xyloAudio3::event::Spike(neuron_id=1, timestep=0, timestamp=0), xyloAudio3::event::Readout(timestep=50, neuron_v_mems={ }, neuron_i_syns={ }, hidden_spikes={ }, output_v_mems={ -32768 }, output_spikes={ 0 }), xyloAudio3::event::Spike(neuron_id=1, timestep=0, timestamp=0), xyloAudio3::event::Readout(timestep=51, neuron_v_mems={ }, neuron_i_syns={ }, hidden_spikes={ }, output_v_mems={ -32768 }, output_spikes={ 0 }), xyloAudio3::event::Spike(neuron_id=1, timestep=0, timestamp=0), xyloAudio3::event::Readout(timestep=52, neuron_v_mems={ }, neuron_i_syns={ }, hidden_spikes={ }, output_v_mems={ -32768 }, output_spikes={ 0 }), xyloAudio3::event::Spike(neuron_id=1, timestep=0, timestamp=0), xyloAudio3::event::Readout(timestep=53, neuron_v_mems={ }, neuron_i_syns={ }, hidden_spikes={ }, output_v_mems={ -32768 }, output_spikes={ 0 }), xyloAudio3::event::Spike(neuron_id=1, timestep=0, timestamp=0), xyloAudio3::event::Readout(timestep=54, neuron_v_mems={ }, neuron_i_syns={ }, hidden_spikes={ }, output_v_mems={ -32768 }, output_spikes={ 0 }), xyloAudio3::event::Spike(neuron_id=1, timestep=0, timestamp=0), xyloAudio3::event::Readout(timestep=55, neuron_v_mems={ }, neuron_i_syns={ }, hidden_spikes={ }, output_v_mems={ -32768 }, output_spikes={ 0 }), xyloAudio3::event::Spike(neuron_id=1, timestep=0, timestamp=0), xyloAudio3::event::Readout(timestep=56, neuron_v_mems={ }, neuron_i_syns={ }, hidden_spikes={ }, output_v_mems={ -32768 }, output_spikes={ 0 }), xyloAudio3::event::Spike(neuron_id=1, timestep=0, timestamp=0), xyloAudio3::event::Readout(timestep=57, neuron_v_mems={ }, neuron_i_syns={ }, hidden_spikes={ }, output_v_mems={ -32768 }, output_spikes={ 0 }), xyloAudio3::event::Spike(neuron_id=1, timestep=0, timestamp=0), xyloAudio3::event::Readout(timestep=58, neuron_v_mems={ }, neuron_i_syns={ }, hidden_spikes={ }, output_v_mems={ -32768 }, output_spikes={ 0 }), xyloAudio3::event::Spike(neuron_id=1, timestep=0, timestamp=0), xyloAudio3::event::Readout(timestep=59, neuron_v_mems={ }, neuron_i_syns={ }, hidden_spikes={ }, output_v_mems={ -32768 }, output_spikes={ 0 }), xyloAudio3::event::Spike(neuron_id=1, timestep=0, timestamp=0), xyloAudio3::event::Readout(timestep=60, neuron_v_mems={ }, neuron_i_syns={ }, hidden_spikes={ }, output_v_mems={ -32768 }, output_spikes={ 0 }), xyloAudio3::event::Spike(neuron_id=1, timestep=0, timestamp=0), xyloAudio3::event::Readout(timestep=61, neuron_v_mems={ }, neuron_i_syns={ }, hidden_spikes={ }, output_v_mems={ -32768 }, output_spikes={ 0 }), xyloAudio3::event::Spike(neuron_id=1, timestep=0, timestamp=0), xyloAudio3::event::Readout(timestep=62, neuron_v_mems={ }, neuron_i_syns={ }, hidden_spikes={ }, output_v_mems={ -32768 }, output_spikes={ 0 }), xyloAudio3::event::Spike(neuron_id=1, timestep=0, timestamp=0), xyloAudio3::event::Readout(timestep=63, neuron_v_mems={ }, neuron_i_syns={ }, hidden_spikes={ }, output_v_mems={ -32768 }, output_spikes={ 0 }), xyloAudio3::event::Spike(neuron_id=1, timestep=0, timestamp=0), xyloAudio3::event::Readout(timestep=64, neuron_v_mems={ }, neuron_i_syns={ }, hidden_spikes={ }, output_v_mems={ -32768 }, output_spikes={ 0 }), xyloAudio3::event::Spike(neuron_id=1, timestep=0, timestamp=0), xyloAudio3::event::Readout(timestep=65, neuron_v_mems={ }, neuron_i_syns={ }, hidden_spikes={ }, output_v_mems={ -32768 }, output_spikes={ 0 }), xyloAudio3::event::Spike(neuron_id=1, timestep=0, timestamp=0), xyloAudio3::event::Readout(timestep=66, neuron_v_mems={ }, neuron_i_syns={ }, hidden_spikes={ }, output_v_mems={ -32768 }, output_spikes={ 0 }), xyloAudio3::event::Spike(neuron_id=1, timestep=0, timestamp=0), xyloAudio3::event::Readout(timestep=67, neuron_v_mems={ }, neuron_i_syns={ }, hidden_spikes={ }, output_v_mems={ -32768 }, output_spikes={ 0 }), xyloAudio3::event::Spike(neuron_id=1, timestep=0, timestamp=0), xyloAudio3::event::Readout(timestep=68, neuron_v_mems={ }, neuron_i_syns={ }, hidden_spikes={ }, output_v_mems={ -32768 }, output_spikes={ 0 }), xyloAudio3::event::Spike(neuron_id=1, timestep=0, timestamp=0), xyloAudio3::event::Readout(timestep=69, neuron_v_mems={ }, neuron_i_syns={ }, hidden_spikes={ }, output_v_mems={ -32768 }, output_spikes={ 0 }), xyloAudio3::event::Spike(neuron_id=1, timestep=0, timestamp=0), xyloAudio3::event::Readout(timestep=70, neuron_v_mems={ }, neuron_i_syns={ }, hidden_spikes={ }, output_v_mems={ -32768 }, output_spikes={ 0 }), xyloAudio3::event::Spike(neuron_id=1, timestep=0, timestamp=0), xyloAudio3::event::Readout(timestep=71, neuron_v_mems={ }, neuron_i_syns={ }, hidden_spikes={ }, output_v_mems={ -32768 }, output_spikes={ 0 }), xyloAudio3::event::Spike(neuron_id=1, timestep=0, timestamp=0), xyloAudio3::event::Readout(timestep=72, neuron_v_mems={ }, neuron_i_syns={ }, hidden_spikes={ }, output_v_mems={ -32768 }, output_spikes={ 0 }), xyloAudio3::event::Spike(neuron_id=1, timestep=0, timestamp=0), xyloAudio3::event::Readout(timestep=73, neuron_v_mems={ }, neuron_i_syns={ }, hidden_spikes={ }, output_v_mems={ -32768 }, output_spikes={ 0 }), xyloAudio3::event::Spike(neuron_id=1, timestep=0, timestamp=0), xyloAudio3::event::Readout(timestep=74, neuron_v_mems={ }, neuron_i_syns={ }, hidden_spikes={ }, output_v_mems={ -32768 }, output_spikes={ 0 }), xyloAudio3::event::Spike(neuron_id=1, timestep=0, timestamp=0), xyloAudio3::event::Readout(timestep=75, neuron_v_mems={ }, neuron_i_syns={ }, hidden_spikes={ }, output_v_mems={ -32768 }, output_spikes={ 0 }), xyloAudio3::event::Spike(neuron_id=1, timestep=0, timestamp=0), xyloAudio3::event::Readout(timestep=76, neuron_v_mems={ }, neuron_i_syns={ }, hidden_spikes={ }, output_v_mems={ -32768 }, output_spikes={ 0 }), xyloAudio3::event::Spike(neuron_id=1, timestep=0, timestamp=0), xyloAudio3::event::Readout(timestep=77, neuron_v_mems={ }, neuron_i_syns={ }, hidden_spikes={ }, output_v_mems={ -32768 }, output_spikes={ 0 }), xyloAudio3::event::Spike(neuron_id=1, timestep=0, timestamp=0), xyloAudio3::event::Readout(timestep=78, neuron_v_mems={ }, neuron_i_syns={ }, hidden_spikes={ }, output_v_mems={ -32768 }, output_spikes={ 0 }), xyloAudio3::event::Spike(neuron_id=1, timestep=0, timestamp=0), xyloAudio3::event::Readout(timestep=79, neuron_v_mems={ }, neuron_i_syns={ }, hidden_spikes={ }, output_v_mems={ -32768 }, output_spikes={ 0 }), xyloAudio3::event::Spike(neuron_id=1, timestep=0, timestamp=0), xyloAudio3::event::Readout(timestep=80, neuron_v_mems={ }, neuron_i_syns={ }, hidden_spikes={ }, output_v_mems={ -32768 }, output_spikes={ 0 }), xyloAudio3::event::Spike(neuron_id=1, timestep=0, timestamp=0), xyloAudio3::event::Readout(timestep=81, neuron_v_mems={ }, neuron_i_syns={ }, hidden_spikes={ }, output_v_mems={ -32768 }, output_spikes={ 0 }), xyloAudio3::event::Spike(neuron_id=1, timestep=0, timestamp=0), xyloAudio3::event::Readout(timestep=82, neuron_v_mems={ }, neuron_i_syns={ }, hidden_spikes={ }, output_v_mems={ -32768 }, output_spikes={ 0 }), xyloAudio3::event::Spike(neuron_id=1, timestep=0, timestamp=0), xyloAudio3::event::Readout(timestep=83, neuron_v_mems={ }, neuron_i_syns={ }, hidden_spikes={ }, output_v_mems={ -32768 }, output_spikes={ 0 }), xyloAudio3::event::Spike(neuron_id=1, timestep=0, timestamp=0), xyloAudio3::event::Readout(timestep=84, neuron_v_mems={ }, neuron_i_syns={ }, hidden_spikes={ }, output_v_mems={ -32768 }, output_spikes={ 0 }), xyloAudio3::event::Spike(neuron_id=1, timestep=0, timestamp=0), xyloAudio3::event::Readout(timestep=85, neuron_v_mems={ }, neuron_i_syns={ }, hidden_spikes={ }, output_v_mems={ -32768 }, output_spikes={ 0 }), xyloAudio3::event::Spike(neuron_id=1, timestep=0, timestamp=0), xyloAudio3::event::Readout(timestep=86, neuron_v_mems={ }, neuron_i_syns={ }, hidden_spikes={ }, output_v_mems={ -32768 }, output_spikes={ 0 }), xyloAudio3::event::Spike(neuron_id=1, timestep=0, timestamp=0), xyloAudio3::event::Readout(timestep=87, neuron_v_mems={ }, neuron_i_syns={ }, hidden_spikes={ }, output_v_mems={ -32768 }, output_spikes={ 0 }), xyloAudio3::event::Spike(neuron_id=1, timestep=0, timestamp=0), xyloAudio3::event::Readout(timestep=88, neuron_v_mems={ }, neuron_i_syns={ }, hidden_spikes={ }, output_v_mems={ -32768 }, output_spikes={ 0 }), xyloAudio3::event::Spike(neuron_id=1, timestep=0, timestamp=0), xyloAudio3::event::Readout(timestep=89, neuron_v_mems={ }, neuron_i_syns={ }, hidden_spikes={ }, output_v_mems={ -32768 }, output_spikes={ 0 }), xyloAudio3::event::Spike(neuron_id=1, timestep=0, timestamp=0), xyloAudio3::event::Readout(timestep=90, neuron_v_mems={ }, neuron_i_syns={ }, hidden_spikes={ }, output_v_mems={ -32768 }, output_spikes={ 0 }), xyloAudio3::event::Spike(neuron_id=1, timestep=0, timestamp=0), xyloAudio3::event::Readout(timestep=91, neuron_v_mems={ }, neuron_i_syns={ }, hidden_spikes={ }, output_v_mems={ -32768 }, output_spikes={ 0 }), xyloAudio3::event::Spike(neuron_id=1, timestep=0, timestamp=0), xyloAudio3::event::Readout(timestep=92, neuron_v_mems={ }, neuron_i_syns={ }, hidden_spikes={ }, output_v_mems={ -32768 }, output_spikes={ 0 }), xyloAudio3::event::Spike(neuron_id=1, timestep=0, timestamp=0), xyloAudio3::event::Readout(timestep=93, neuron_v_mems={ }, neuron_i_syns={ }, hidden_spikes={ }, output_v_mems={ -32768 }, output_spikes={ 0 }), xyloAudio3::event::Spike(neuron_id=1, timestep=0, timestamp=0), xyloAudio3::event::Readout(timestep=94, neuron_v_mems={ }, neuron_i_syns={ }, hidden_spikes={ }, output_v_mems={ -32768 }, output_spikes={ 0 }), xyloAudio3::event::Spike(neuron_id=1, timestep=0, timestamp=0), xyloAudio3::event::Readout(timestep=95, neuron_v_mems={ }, neuron_i_syns={ }, hidden_spikes={ }, output_v_mems={ -32768 }, output_spikes={ 0 }), xyloAudio3::event::Spike(neuron_id=1, timestep=0, timestamp=0), xyloAudio3::event::Readout(timestep=96, neuron_v_mems={ }, neuron_i_syns={ }, hidden_spikes={ }, output_v_mems={ -32768 }, output_spikes={ 0 }), xyloAudio3::event::Spike(neuron_id=1, timestep=0, timestamp=0), xyloAudio3::event::Readout(timestep=97, neuron_v_mems={ }, neuron_i_syns={ }, hidden_spikes={ }, output_v_mems={ -32768 }, output_spikes={ 0 }), xyloAudio3::event::Spike(neuron_id=1, timestep=0, timestamp=0), xyloAudio3::event::Readout(timestep=98, neuron_v_mems={ }, neuron_i_syns={ }, hidden_spikes={ }, output_v_mems={ -32768 }, output_spikes={ 0 }), xyloAudio3::event::Spike(neuron_id=1, timestep=0, timestamp=0), xyloAudio3::event::Readout(timestep=99, neuron_v_mems={ }, neuron_i_syns={ }, hidden_spikes={ }, output_v_mems={ -32768 }, output_spikes={ 0 })]\n"
     ]
    }
   ],
   "source": [
    "# # send trigger processing\n",
    "target_timestep = 300\n",
    "source.write([samna.xyloAudio3.event.TriggerProcessing(target_timestep)])\n",
    "time.sleep(1)\n",
    "\n",
    "print(f\"\\nevents from sink node:\")\n",
    "while True:\n",
    "    events = sink.get_events()\n",
    "    if len(events) == 0:\n",
    "        break\n",
    "\n",
    "    print(events)\n"
   ]
  },
  {
   "cell_type": "code",
   "execution_count": 7,
   "id": "c0173a8f-47aa-4905-82e6-fa8fc203eb7a",
   "metadata": {},
   "outputs": [
    {
     "name": "stdout",
     "output_type": "stream",
     "text": [
      "\n",
      "packet_hook.poll_tx():\n",
      "['0x3', '0x42', '0x3', '0x1c', '0x2c', '0x1', '0x0', '0x0']\n",
      "\n",
      "events from sink node:\n",
      "[xyloAudio3::event::Spike(neuron_id=1, timestep=0, timestamp=0), xyloAudio3::event::Readout(timestep=100, neuron_v_mems={ }, neuron_i_syns={ }, hidden_spikes={ }, output_v_mems={ -32768 }, output_spikes={ 0 }), xyloAudio3::event::Spike(neuron_id=1, timestep=0, timestamp=0), xyloAudio3::event::Readout(timestep=101, neuron_v_mems={ }, neuron_i_syns={ }, hidden_spikes={ }, output_v_mems={ -32768 }, output_spikes={ 0 }), xyloAudio3::event::Spike(neuron_id=1, timestep=0, timestamp=0), xyloAudio3::event::Readout(timestep=102, neuron_v_mems={ }, neuron_i_syns={ }, hidden_spikes={ }, output_v_mems={ -32768 }, output_spikes={ 0 }), xyloAudio3::event::Spike(neuron_id=1, timestep=0, timestamp=0), xyloAudio3::event::Readout(timestep=103, neuron_v_mems={ }, neuron_i_syns={ }, hidden_spikes={ }, output_v_mems={ -32768 }, output_spikes={ 0 }), xyloAudio3::event::Spike(neuron_id=1, timestep=0, timestamp=0), xyloAudio3::event::Readout(timestep=104, neuron_v_mems={ }, neuron_i_syns={ }, hidden_spikes={ }, output_v_mems={ -32768 }, output_spikes={ 0 }), xyloAudio3::event::Spike(neuron_id=1, timestep=0, timestamp=0), xyloAudio3::event::Readout(timestep=105, neuron_v_mems={ }, neuron_i_syns={ }, hidden_spikes={ }, output_v_mems={ -32768 }, output_spikes={ 0 }), xyloAudio3::event::Spike(neuron_id=1, timestep=0, timestamp=0), xyloAudio3::event::Readout(timestep=106, neuron_v_mems={ }, neuron_i_syns={ }, hidden_spikes={ }, output_v_mems={ -32768 }, output_spikes={ 0 }), xyloAudio3::event::Spike(neuron_id=1, timestep=0, timestamp=0), xyloAudio3::event::Readout(timestep=107, neuron_v_mems={ }, neuron_i_syns={ }, hidden_spikes={ }, output_v_mems={ -32768 }, output_spikes={ 0 }), xyloAudio3::event::Spike(neuron_id=1, timestep=0, timestamp=0), xyloAudio3::event::Readout(timestep=108, neuron_v_mems={ }, neuron_i_syns={ }, hidden_spikes={ }, output_v_mems={ -32768 }, output_spikes={ 0 }), xyloAudio3::event::Spike(neuron_id=1, timestep=0, timestamp=0), xyloAudio3::event::Readout(timestep=109, neuron_v_mems={ }, neuron_i_syns={ }, hidden_spikes={ }, output_v_mems={ -32768 }, output_spikes={ 0 }), xyloAudio3::event::Spike(neuron_id=1, timestep=0, timestamp=0), xyloAudio3::event::Readout(timestep=110, neuron_v_mems={ }, neuron_i_syns={ }, hidden_spikes={ }, output_v_mems={ -32768 }, output_spikes={ 0 }), xyloAudio3::event::Spike(neuron_id=1, timestep=0, timestamp=0), xyloAudio3::event::Readout(timestep=111, neuron_v_mems={ }, neuron_i_syns={ }, hidden_spikes={ }, output_v_mems={ -32768 }, output_spikes={ 0 }), xyloAudio3::event::Spike(neuron_id=1, timestep=0, timestamp=0), xyloAudio3::event::Readout(timestep=112, neuron_v_mems={ }, neuron_i_syns={ }, hidden_spikes={ }, output_v_mems={ -32768 }, output_spikes={ 0 }), xyloAudio3::event::Spike(neuron_id=1, timestep=0, timestamp=0), xyloAudio3::event::Readout(timestep=113, neuron_v_mems={ }, neuron_i_syns={ }, hidden_spikes={ }, output_v_mems={ -32768 }, output_spikes={ 0 }), xyloAudio3::event::Spike(neuron_id=1, timestep=0, timestamp=0), xyloAudio3::event::Readout(timestep=114, neuron_v_mems={ }, neuron_i_syns={ }, hidden_spikes={ }, output_v_mems={ -32768 }, output_spikes={ 0 }), xyloAudio3::event::Spike(neuron_id=1, timestep=0, timestamp=0), xyloAudio3::event::Readout(timestep=115, neuron_v_mems={ }, neuron_i_syns={ }, hidden_spikes={ }, output_v_mems={ -32768 }, output_spikes={ 0 }), xyloAudio3::event::Spike(neuron_id=1, timestep=0, timestamp=0), xyloAudio3::event::Readout(timestep=116, neuron_v_mems={ }, neuron_i_syns={ }, hidden_spikes={ }, output_v_mems={ -32768 }, output_spikes={ 0 }), xyloAudio3::event::Spike(neuron_id=1, timestep=0, timestamp=0), xyloAudio3::event::Readout(timestep=117, neuron_v_mems={ }, neuron_i_syns={ }, hidden_spikes={ }, output_v_mems={ -32768 }, output_spikes={ 0 }), xyloAudio3::event::Spike(neuron_id=1, timestep=0, timestamp=0), xyloAudio3::event::Readout(timestep=118, neuron_v_mems={ }, neuron_i_syns={ }, hidden_spikes={ }, output_v_mems={ -32768 }, output_spikes={ 0 }), xyloAudio3::event::Spike(neuron_id=1, timestep=0, timestamp=0), xyloAudio3::event::Readout(timestep=119, neuron_v_mems={ }, neuron_i_syns={ }, hidden_spikes={ }, output_v_mems={ -32768 }, output_spikes={ 0 }), xyloAudio3::event::Spike(neuron_id=1, timestep=0, timestamp=0), xyloAudio3::event::Readout(timestep=120, neuron_v_mems={ }, neuron_i_syns={ }, hidden_spikes={ }, output_v_mems={ -32768 }, output_spikes={ 0 }), xyloAudio3::event::Spike(neuron_id=1, timestep=0, timestamp=0), xyloAudio3::event::Readout(timestep=121, neuron_v_mems={ }, neuron_i_syns={ }, hidden_spikes={ }, output_v_mems={ -32768 }, output_spikes={ 0 }), xyloAudio3::event::Spike(neuron_id=1, timestep=0, timestamp=0), xyloAudio3::event::Readout(timestep=122, neuron_v_mems={ }, neuron_i_syns={ }, hidden_spikes={ }, output_v_mems={ -32768 }, output_spikes={ 0 }), xyloAudio3::event::Spike(neuron_id=1, timestep=0, timestamp=0), xyloAudio3::event::Readout(timestep=123, neuron_v_mems={ }, neuron_i_syns={ }, hidden_spikes={ }, output_v_mems={ -32768 }, output_spikes={ 0 }), xyloAudio3::event::Spike(neuron_id=1, timestep=0, timestamp=0), xyloAudio3::event::Readout(timestep=124, neuron_v_mems={ }, neuron_i_syns={ }, hidden_spikes={ }, output_v_mems={ -32768 }, output_spikes={ 0 }), xyloAudio3::event::Spike(neuron_id=1, timestep=0, timestamp=0), xyloAudio3::event::Readout(timestep=125, neuron_v_mems={ }, neuron_i_syns={ }, hidden_spikes={ }, output_v_mems={ -32768 }, output_spikes={ 0 }), xyloAudio3::event::Spike(neuron_id=1, timestep=0, timestamp=0), xyloAudio3::event::Readout(timestep=126, neuron_v_mems={ }, neuron_i_syns={ }, hidden_spikes={ }, output_v_mems={ -32768 }, output_spikes={ 0 }), xyloAudio3::event::Spike(neuron_id=1, timestep=0, timestamp=0), xyloAudio3::event::Readout(timestep=127, neuron_v_mems={ }, neuron_i_syns={ }, hidden_spikes={ }, output_v_mems={ -32768 }, output_spikes={ 0 }), xyloAudio3::event::Spike(neuron_id=1, timestep=0, timestamp=0), xyloAudio3::event::Readout(timestep=128, neuron_v_mems={ }, neuron_i_syns={ }, hidden_spikes={ }, output_v_mems={ -32768 }, output_spikes={ 0 }), xyloAudio3::event::Spike(neuron_id=1, timestep=0, timestamp=0), xyloAudio3::event::Readout(timestep=129, neuron_v_mems={ }, neuron_i_syns={ }, hidden_spikes={ }, output_v_mems={ -32768 }, output_spikes={ 0 }), xyloAudio3::event::Spike(neuron_id=1, timestep=0, timestamp=0), xyloAudio3::event::Readout(timestep=130, neuron_v_mems={ }, neuron_i_syns={ }, hidden_spikes={ }, output_v_mems={ -32768 }, output_spikes={ 0 }), xyloAudio3::event::Spike(neuron_id=1, timestep=0, timestamp=0), xyloAudio3::event::Readout(timestep=131, neuron_v_mems={ }, neuron_i_syns={ }, hidden_spikes={ }, output_v_mems={ -32768 }, output_spikes={ 0 }), xyloAudio3::event::Spike(neuron_id=1, timestep=0, timestamp=0), xyloAudio3::event::Readout(timestep=132, neuron_v_mems={ }, neuron_i_syns={ }, hidden_spikes={ }, output_v_mems={ -32768 }, output_spikes={ 0 }), xyloAudio3::event::Spike(neuron_id=1, timestep=0, timestamp=0), xyloAudio3::event::Readout(timestep=133, neuron_v_mems={ }, neuron_i_syns={ }, hidden_spikes={ }, output_v_mems={ -32768 }, output_spikes={ 0 }), xyloAudio3::event::Spike(neuron_id=1, timestep=0, timestamp=0), xyloAudio3::event::Readout(timestep=134, neuron_v_mems={ }, neuron_i_syns={ }, hidden_spikes={ }, output_v_mems={ -32768 }, output_spikes={ 0 }), xyloAudio3::event::Spike(neuron_id=1, timestep=0, timestamp=0), xyloAudio3::event::Readout(timestep=135, neuron_v_mems={ }, neuron_i_syns={ }, hidden_spikes={ }, output_v_mems={ -32768 }, output_spikes={ 0 }), xyloAudio3::event::Spike(neuron_id=1, timestep=0, timestamp=0), xyloAudio3::event::Readout(timestep=136, neuron_v_mems={ }, neuron_i_syns={ }, hidden_spikes={ }, output_v_mems={ -32768 }, output_spikes={ 0 }), xyloAudio3::event::Spike(neuron_id=1, timestep=0, timestamp=0), xyloAudio3::event::Readout(timestep=137, neuron_v_mems={ }, neuron_i_syns={ }, hidden_spikes={ }, output_v_mems={ -32768 }, output_spikes={ 0 }), xyloAudio3::event::Spike(neuron_id=1, timestep=0, timestamp=0), xyloAudio3::event::Readout(timestep=138, neuron_v_mems={ }, neuron_i_syns={ }, hidden_spikes={ }, output_v_mems={ -32768 }, output_spikes={ 0 }), xyloAudio3::event::Spike(neuron_id=1, timestep=0, timestamp=0), xyloAudio3::event::Readout(timestep=139, neuron_v_mems={ }, neuron_i_syns={ }, hidden_spikes={ }, output_v_mems={ -32768 }, output_spikes={ 0 }), xyloAudio3::event::Spike(neuron_id=1, timestep=0, timestamp=0), xyloAudio3::event::Readout(timestep=140, neuron_v_mems={ }, neuron_i_syns={ }, hidden_spikes={ }, output_v_mems={ -32768 }, output_spikes={ 0 }), xyloAudio3::event::Spike(neuron_id=1, timestep=0, timestamp=0), xyloAudio3::event::Readout(timestep=141, neuron_v_mems={ }, neuron_i_syns={ }, hidden_spikes={ }, output_v_mems={ -32768 }, output_spikes={ 0 }), xyloAudio3::event::Spike(neuron_id=1, timestep=0, timestamp=0), xyloAudio3::event::Readout(timestep=142, neuron_v_mems={ }, neuron_i_syns={ }, hidden_spikes={ }, output_v_mems={ -32768 }, output_spikes={ 0 }), xyloAudio3::event::Spike(neuron_id=1, timestep=0, timestamp=0), xyloAudio3::event::Readout(timestep=143, neuron_v_mems={ }, neuron_i_syns={ }, hidden_spikes={ }, output_v_mems={ -32768 }, output_spikes={ 0 }), xyloAudio3::event::Spike(neuron_id=1, timestep=0, timestamp=0), xyloAudio3::event::Readout(timestep=144, neuron_v_mems={ }, neuron_i_syns={ }, hidden_spikes={ }, output_v_mems={ -32768 }, output_spikes={ 0 }), xyloAudio3::event::Spike(neuron_id=1, timestep=0, timestamp=0), xyloAudio3::event::Readout(timestep=145, neuron_v_mems={ }, neuron_i_syns={ }, hidden_spikes={ }, output_v_mems={ -32768 }, output_spikes={ 0 }), xyloAudio3::event::Spike(neuron_id=1, timestep=0, timestamp=0), xyloAudio3::event::Readout(timestep=146, neuron_v_mems={ }, neuron_i_syns={ }, hidden_spikes={ }, output_v_mems={ -32768 }, output_spikes={ 0 }), xyloAudio3::event::Spike(neuron_id=1, timestep=0, timestamp=0), xyloAudio3::event::Readout(timestep=147, neuron_v_mems={ }, neuron_i_syns={ }, hidden_spikes={ }, output_v_mems={ -32768 }, output_spikes={ 0 }), xyloAudio3::event::Spike(neuron_id=1, timestep=0, timestamp=0), xyloAudio3::event::Readout(timestep=148, neuron_v_mems={ }, neuron_i_syns={ }, hidden_spikes={ }, output_v_mems={ -32768 }, output_spikes={ 0 }), xyloAudio3::event::Spike(neuron_id=1, timestep=0, timestamp=0), xyloAudio3::event::Readout(timestep=149, neuron_v_mems={ }, neuron_i_syns={ }, hidden_spikes={ }, output_v_mems={ -32768 }, output_spikes={ 0 }), xyloAudio3::event::Spike(neuron_id=1, timestep=0, timestamp=0), xyloAudio3::event::Readout(timestep=150, neuron_v_mems={ }, neuron_i_syns={ }, hidden_spikes={ }, output_v_mems={ -32768 }, output_spikes={ 0 }), xyloAudio3::event::Spike(neuron_id=1, timestep=0, timestamp=0), xyloAudio3::event::Readout(timestep=151, neuron_v_mems={ }, neuron_i_syns={ }, hidden_spikes={ }, output_v_mems={ -32768 }, output_spikes={ 0 }), xyloAudio3::event::Spike(neuron_id=1, timestep=0, timestamp=0), xyloAudio3::event::Readout(timestep=152, neuron_v_mems={ }, neuron_i_syns={ }, hidden_spikes={ }, output_v_mems={ -32768 }, output_spikes={ 0 }), xyloAudio3::event::Spike(neuron_id=1, timestep=0, timestamp=0), xyloAudio3::event::Readout(timestep=153, neuron_v_mems={ }, neuron_i_syns={ }, hidden_spikes={ }, output_v_mems={ -32768 }, output_spikes={ 0 }), xyloAudio3::event::Spike(neuron_id=1, timestep=0, timestamp=0), xyloAudio3::event::Readout(timestep=154, neuron_v_mems={ }, neuron_i_syns={ }, hidden_spikes={ }, output_v_mems={ -32768 }, output_spikes={ 0 }), xyloAudio3::event::Spike(neuron_id=1, timestep=0, timestamp=0), xyloAudio3::event::Readout(timestep=155, neuron_v_mems={ }, neuron_i_syns={ }, hidden_spikes={ }, output_v_mems={ -32768 }, output_spikes={ 0 }), xyloAudio3::event::Spike(neuron_id=1, timestep=0, timestamp=0), xyloAudio3::event::Readout(timestep=156, neuron_v_mems={ }, neuron_i_syns={ }, hidden_spikes={ }, output_v_mems={ -32768 }, output_spikes={ 0 }), xyloAudio3::event::Spike(neuron_id=1, timestep=0, timestamp=0), xyloAudio3::event::Readout(timestep=157, neuron_v_mems={ }, neuron_i_syns={ }, hidden_spikes={ }, output_v_mems={ -32768 }, output_spikes={ 0 }), xyloAudio3::event::Spike(neuron_id=1, timestep=0, timestamp=0), xyloAudio3::event::Readout(timestep=158, neuron_v_mems={ }, neuron_i_syns={ }, hidden_spikes={ }, output_v_mems={ -32768 }, output_spikes={ 0 }), xyloAudio3::event::Spike(neuron_id=1, timestep=0, timestamp=0), xyloAudio3::event::Readout(timestep=159, neuron_v_mems={ }, neuron_i_syns={ }, hidden_spikes={ }, output_v_mems={ -32768 }, output_spikes={ 0 }), xyloAudio3::event::Spike(neuron_id=1, timestep=0, timestamp=0), xyloAudio3::event::Readout(timestep=160, neuron_v_mems={ }, neuron_i_syns={ }, hidden_spikes={ }, output_v_mems={ -32768 }, output_spikes={ 0 }), xyloAudio3::event::Spike(neuron_id=1, timestep=0, timestamp=0), xyloAudio3::event::Readout(timestep=161, neuron_v_mems={ }, neuron_i_syns={ }, hidden_spikes={ }, output_v_mems={ -32768 }, output_spikes={ 0 }), xyloAudio3::event::Spike(neuron_id=1, timestep=0, timestamp=0), xyloAudio3::event::Readout(timestep=162, neuron_v_mems={ }, neuron_i_syns={ }, hidden_spikes={ }, output_v_mems={ -32768 }, output_spikes={ 0 }), xyloAudio3::event::Spike(neuron_id=1, timestep=0, timestamp=0), xyloAudio3::event::Readout(timestep=163, neuron_v_mems={ }, neuron_i_syns={ }, hidden_spikes={ }, output_v_mems={ -32768 }, output_spikes={ 0 }), xyloAudio3::event::Spike(neuron_id=1, timestep=0, timestamp=0), xyloAudio3::event::Readout(timestep=164, neuron_v_mems={ }, neuron_i_syns={ }, hidden_spikes={ }, output_v_mems={ -32768 }, output_spikes={ 0 }), xyloAudio3::event::Spike(neuron_id=1, timestep=0, timestamp=0), xyloAudio3::event::Readout(timestep=165, neuron_v_mems={ }, neuron_i_syns={ }, hidden_spikes={ }, output_v_mems={ -32768 }, output_spikes={ 0 }), xyloAudio3::event::Spike(neuron_id=1, timestep=0, timestamp=0), xyloAudio3::event::Readout(timestep=166, neuron_v_mems={ }, neuron_i_syns={ }, hidden_spikes={ }, output_v_mems={ -32768 }, output_spikes={ 0 }), xyloAudio3::event::Spike(neuron_id=1, timestep=0, timestamp=0), xyloAudio3::event::Readout(timestep=167, neuron_v_mems={ }, neuron_i_syns={ }, hidden_spikes={ }, output_v_mems={ -32768 }, output_spikes={ 0 }), xyloAudio3::event::Spike(neuron_id=1, timestep=0, timestamp=0), xyloAudio3::event::Readout(timestep=168, neuron_v_mems={ }, neuron_i_syns={ }, hidden_spikes={ }, output_v_mems={ -32768 }, output_spikes={ 0 }), xyloAudio3::event::Spike(neuron_id=1, timestep=0, timestamp=0), xyloAudio3::event::Readout(timestep=169, neuron_v_mems={ }, neuron_i_syns={ }, hidden_spikes={ }, output_v_mems={ -32768 }, output_spikes={ 0 }), xyloAudio3::event::Spike(neuron_id=1, timestep=0, timestamp=0), xyloAudio3::event::Readout(timestep=170, neuron_v_mems={ }, neuron_i_syns={ }, hidden_spikes={ }, output_v_mems={ -32768 }, output_spikes={ 0 }), xyloAudio3::event::Spike(neuron_id=1, timestep=0, timestamp=0), xyloAudio3::event::Readout(timestep=171, neuron_v_mems={ }, neuron_i_syns={ }, hidden_spikes={ }, output_v_mems={ -32768 }, output_spikes={ 0 }), xyloAudio3::event::Spike(neuron_id=1, timestep=0, timestamp=0), xyloAudio3::event::Readout(timestep=172, neuron_v_mems={ }, neuron_i_syns={ }, hidden_spikes={ }, output_v_mems={ -32768 }, output_spikes={ 0 }), xyloAudio3::event::Spike(neuron_id=1, timestep=0, timestamp=0), xyloAudio3::event::Readout(timestep=173, neuron_v_mems={ }, neuron_i_syns={ }, hidden_spikes={ }, output_v_mems={ -32768 }, output_spikes={ 0 }), xyloAudio3::event::Spike(neuron_id=1, timestep=0, timestamp=0), xyloAudio3::event::Readout(timestep=174, neuron_v_mems={ }, neuron_i_syns={ }, hidden_spikes={ }, output_v_mems={ -32768 }, output_spikes={ 0 }), xyloAudio3::event::Spike(neuron_id=1, timestep=0, timestamp=0), xyloAudio3::event::Readout(timestep=175, neuron_v_mems={ }, neuron_i_syns={ }, hidden_spikes={ }, output_v_mems={ -32768 }, output_spikes={ 0 }), xyloAudio3::event::Spike(neuron_id=1, timestep=0, timestamp=0), xyloAudio3::event::Readout(timestep=176, neuron_v_mems={ }, neuron_i_syns={ }, hidden_spikes={ }, output_v_mems={ -32768 }, output_spikes={ 0 }), xyloAudio3::event::Spike(neuron_id=1, timestep=0, timestamp=0), xyloAudio3::event::Readout(timestep=177, neuron_v_mems={ }, neuron_i_syns={ }, hidden_spikes={ }, output_v_mems={ -32768 }, output_spikes={ 0 }), xyloAudio3::event::Spike(neuron_id=1, timestep=0, timestamp=0), xyloAudio3::event::Readout(timestep=178, neuron_v_mems={ }, neuron_i_syns={ }, hidden_spikes={ }, output_v_mems={ -32768 }, output_spikes={ 0 }), xyloAudio3::event::Spike(neuron_id=1, timestep=0, timestamp=0), xyloAudio3::event::Readout(timestep=179, neuron_v_mems={ }, neuron_i_syns={ }, hidden_spikes={ }, output_v_mems={ -32768 }, output_spikes={ 0 }), xyloAudio3::event::Spike(neuron_id=1, timestep=0, timestamp=0), xyloAudio3::event::Readout(timestep=180, neuron_v_mems={ }, neuron_i_syns={ }, hidden_spikes={ }, output_v_mems={ -32768 }, output_spikes={ 0 }), xyloAudio3::event::Spike(neuron_id=1, timestep=0, timestamp=0), xyloAudio3::event::Readout(timestep=181, neuron_v_mems={ }, neuron_i_syns={ }, hidden_spikes={ }, output_v_mems={ -32768 }, output_spikes={ 0 }), xyloAudio3::event::Spike(neuron_id=1, timestep=0, timestamp=0), xyloAudio3::event::Readout(timestep=182, neuron_v_mems={ }, neuron_i_syns={ }, hidden_spikes={ }, output_v_mems={ -32768 }, output_spikes={ 0 }), xyloAudio3::event::Spike(neuron_id=1, timestep=0, timestamp=0), xyloAudio3::event::Readout(timestep=183, neuron_v_mems={ }, neuron_i_syns={ }, hidden_spikes={ }, output_v_mems={ -32768 }, output_spikes={ 0 }), xyloAudio3::event::Spike(neuron_id=1, timestep=0, timestamp=0), xyloAudio3::event::Readout(timestep=184, neuron_v_mems={ }, neuron_i_syns={ }, hidden_spikes={ }, output_v_mems={ -32768 }, output_spikes={ 0 }), xyloAudio3::event::Spike(neuron_id=1, timestep=0, timestamp=0), xyloAudio3::event::Readout(timestep=185, neuron_v_mems={ }, neuron_i_syns={ }, hidden_spikes={ }, output_v_mems={ -32768 }, output_spikes={ 0 }), xyloAudio3::event::Spike(neuron_id=1, timestep=0, timestamp=0), xyloAudio3::event::Readout(timestep=186, neuron_v_mems={ }, neuron_i_syns={ }, hidden_spikes={ }, output_v_mems={ -32768 }, output_spikes={ 0 }), xyloAudio3::event::Spike(neuron_id=1, timestep=0, timestamp=0), xyloAudio3::event::Readout(timestep=187, neuron_v_mems={ }, neuron_i_syns={ }, hidden_spikes={ }, output_v_mems={ -32768 }, output_spikes={ 0 }), xyloAudio3::event::Spike(neuron_id=1, timestep=0, timestamp=0), xyloAudio3::event::Readout(timestep=188, neuron_v_mems={ }, neuron_i_syns={ }, hidden_spikes={ }, output_v_mems={ -32768 }, output_spikes={ 0 }), xyloAudio3::event::Spike(neuron_id=1, timestep=0, timestamp=0), xyloAudio3::event::Readout(timestep=189, neuron_v_mems={ }, neuron_i_syns={ }, hidden_spikes={ }, output_v_mems={ -32768 }, output_spikes={ 0 }), xyloAudio3::event::Spike(neuron_id=1, timestep=0, timestamp=0), xyloAudio3::event::Readout(timestep=190, neuron_v_mems={ }, neuron_i_syns={ }, hidden_spikes={ }, output_v_mems={ -32768 }, output_spikes={ 0 }), xyloAudio3::event::Spike(neuron_id=1, timestep=0, timestamp=0), xyloAudio3::event::Readout(timestep=191, neuron_v_mems={ }, neuron_i_syns={ }, hidden_spikes={ }, output_v_mems={ -32768 }, output_spikes={ 0 }), xyloAudio3::event::Spike(neuron_id=1, timestep=0, timestamp=0), xyloAudio3::event::Readout(timestep=192, neuron_v_mems={ }, neuron_i_syns={ }, hidden_spikes={ }, output_v_mems={ -32768 }, output_spikes={ 0 }), xyloAudio3::event::Spike(neuron_id=1, timestep=0, timestamp=0), xyloAudio3::event::Readout(timestep=193, neuron_v_mems={ }, neuron_i_syns={ }, hidden_spikes={ }, output_v_mems={ -32768 }, output_spikes={ 0 }), xyloAudio3::event::Spike(neuron_id=1, timestep=0, timestamp=0), xyloAudio3::event::Readout(timestep=194, neuron_v_mems={ }, neuron_i_syns={ }, hidden_spikes={ }, output_v_mems={ -32768 }, output_spikes={ 0 }), xyloAudio3::event::Spike(neuron_id=1, timestep=0, timestamp=0), xyloAudio3::event::Readout(timestep=195, neuron_v_mems={ }, neuron_i_syns={ }, hidden_spikes={ }, output_v_mems={ -32768 }, output_spikes={ 0 }), xyloAudio3::event::Spike(neuron_id=1, timestep=0, timestamp=0), xyloAudio3::event::Readout(timestep=196, neuron_v_mems={ }, neuron_i_syns={ }, hidden_spikes={ }, output_v_mems={ -32768 }, output_spikes={ 0 }), xyloAudio3::event::Spike(neuron_id=1, timestep=0, timestamp=0), xyloAudio3::event::Readout(timestep=197, neuron_v_mems={ }, neuron_i_syns={ }, hidden_spikes={ }, output_v_mems={ -32768 }, output_spikes={ 0 }), xyloAudio3::event::Spike(neuron_id=1, timestep=0, timestamp=0), xyloAudio3::event::Readout(timestep=198, neuron_v_mems={ }, neuron_i_syns={ }, hidden_spikes={ }, output_v_mems={ -32768 }, output_spikes={ 0 }), xyloAudio3::event::Spike(neuron_id=1, timestep=0, timestamp=0), xyloAudio3::event::Readout(timestep=199, neuron_v_mems={ }, neuron_i_syns={ }, hidden_spikes={ }, output_v_mems={ -32768 }, output_spikes={ 0 }), xyloAudio3::event::Spike(neuron_id=1, timestep=0, timestamp=0), xyloAudio3::event::Readout(timestep=200, neuron_v_mems={ }, neuron_i_syns={ }, hidden_spikes={ }, output_v_mems={ -32768 }, output_spikes={ 0 })]\n"
     ]
    }
   ],
   "source": [
    "def print_in_hex(data):\n",
    "    data_hex = [[hex(num) for num in sublist] for sublist in data]\n",
    "    for datum_hex in data_hex:\n",
    "        print(datum_hex)\n",
    "        \n",
    "packet_hook = device.make_unifirm_hook()\n",
    "packet_hook.poll_tx()  # flush\n",
    "\n",
    "# # send trigger processing\n",
    "target_timestep = 300\n",
    "source.write([samna.xyloAudio3.event.TriggerProcessing(target_timestep)])\n",
    "\n",
    "# source.write([samna.xyloAudio3.event.TriggerReadout()])\n",
    "# print(sink.get_events_blocking(3000))\n",
    "\n",
    "# packet_hook.poll_tx()  # flush\n",
    "\n",
    "# events = []\n",
    "# for t, neurons in enumerate([[0], [0], [0]]):\n",
    "#     for n in neurons:\n",
    "#         ev = samna.xyloAudio3.event.Spike()\n",
    "#         ev.neuron_id = n\n",
    "#         ev.timestep = t\n",
    "#         events.append(ev)\n",
    "# print(f\"\\nevents:\", events)\n",
    "# source.write(events)\n",
    "\n",
    "time.sleep(1)\n",
    "\n",
    "print(f\"\\npacket_hook.poll_tx():\")\n",
    "print_in_hex(packet_hook.poll_tx())  # read out packets sent\n",
    "\n",
    "print(f\"\\nevents from sink node:\")\n",
    "while True:\n",
    "    events = sink.get_events()\n",
    "    if len(events) == 0:\n",
    "        break\n",
    "\n",
    "    print(events)\n",
    "\n"
   ]
  },
  {
   "cell_type": "markdown",
   "id": "2bd0de7c-c363-4228-a03c-b93e7c4762b1",
   "metadata": {},
   "source": [
    "## Example with Rockpool\n",
    "\n",
    "Open Dev Kit\n",
    "\n",
    "* Call open_device() on a discovered device with Samna."
   ]
  },
  {
   "cell_type": "code",
   "execution_count": 2,
   "id": "6cebeac6-db3d-4ad5-a6c9-98cb9c0b5544",
   "metadata": {},
   "outputs": [
    {
     "name": "stdout",
     "output_type": "stream",
     "text": [
      "Rockpool version 2.8.0.dev\n",
      "Samna version 0.39.0.0\n",
      "from samna.xyloA3.configuration import InputInterfaceConfig\n",
      "The connected Xylo HDK contains a Xylo A3. Importing `rockpool.devices.xylo.syns65302`\n",
      "[<samna.xyloAudio3Boards.XyloAudio3TestBoard object at 0x726a309475f0>] [<module 'rockpool.devices.xylo.syns65302' from '/home/vleite/Software/rockpool/rockpool/devices/xylo/syns65302/__init__.py'>] ['syns65302']\n"
     ]
    }
   ],
   "source": [
    "import warnings\n",
    "warnings.filterwarnings(\"ignore\")\n",
    "\n",
    "import rockpool\n",
    "print(f'Rockpool version {rockpool.__version__}')\n",
    "import samna\n",
    "print(f'Samna version {samna.__version__}')\n",
    "from rockpool.devices.xylo.syns65302 import config_from_specification, mapper, XyloMonitor, XyloSamna\n",
    "\n",
    "from rockpool.devices.xylo import find_xylo_hdks\n",
    "\n",
    "from rockpool.transform.quantize_methods import channel_quantize\n",
    "from rockpool.nn.modules import LIF, Linear\n",
    "from rockpool.nn.combinators import Sequential\n",
    "\n",
    "import numpy as np\n",
    "\n",
    "# find_xylo_hdks() directly calls the Samna device finder and opens all available devices.\n",
    "# When Samna opens a device, it will perform actions on the board. Such as, powering on the chip, resetting it,\n",
    "# applying a default configuration, and configuring the FPGA for default operation.\n",
    "\n",
    "hdks, modules, versions = find_xylo_hdks()\n",
    "print(hdks, modules, versions)\n",
    "\n",
    "for version, xylo in zip(versions, hdks):\n",
    "    if version == \"syns65302\":\n",
    "        xylo_node = xylo"
   ]
  },
  {
   "cell_type": "markdown",
   "id": "3af52c3d-130f-4597-af8d-c1f18c44adb1",
   "metadata": {},
   "source": [
    "## Build a model and map it to hardware"
   ]
  },
  {
   "cell_type": "code",
   "execution_count": 3,
   "id": "c4282fb5-6573-47b8-9613-c6d2fe89e1ee",
   "metadata": {},
   "outputs": [
    {
     "name": "stdout",
     "output_type": "stream",
     "text": [
      "ModSequential  with shape (16, 16) {\n",
      "    Linear '0_Linear' with shape (16, 63)\n",
      "    LIF '1_LIF' with shape (63, 63)\n",
      "    Linear '2_Linear' with shape (63, 16)\n",
      "    LIF '3_LIF' with shape (16, 16)\n",
      "}\n"
     ]
    }
   ],
   "source": [
    "# simple model to test\n",
    "\n",
    "net = Sequential(\n",
    "    Linear((16, 63)),\n",
    "    LIF((63, 63)),\n",
    "\n",
    "    Linear((63, 16)),\n",
    "    LIF(16),\n",
    ")\n",
    "\n",
    "print(net)\n",
    "\n",
    "# net[0].weight *= 0.05\n",
    "spec = mapper(net.as_graph())\n",
    "Q_spec = spec\n",
    "Q_spec.update(channel_quantize(**Q_spec))\n",
    "config, is_valid, msg = config_from_specification(**Q_spec)\n",
    "\n",
    "if not is_valid:\n",
    "    print(msg)"
   ]
  },
  {
   "cell_type": "markdown",
   "id": "8e3862ef-1054-46c2-99e9-300cac3d9bae",
   "metadata": {},
   "source": [
    "## Set up Samna graphs and configuration\n",
    "\n",
    "* Create a buffer sink for events from the chip model source node. Readout events will be captured here.\n",
    "* Set Xylo configuration as desired for PDM and network config\n",
    "* Set Xylo TR_WRAP register for desired time step length with default 25 MHz clock\n",
    "* Set Xylo to real-time mode\n",
    "* Enable PCB switches for PDM microphones\n",
    "* Set FPGA module to real-time mode\n",
    "   * io.write_config(0x12, 0) and io.write_config(0x31, 2)"
   ]
  },
  {
   "cell_type": "code",
   "execution_count": 4,
   "id": "e7c34a35-b254-4335-99e3-a8a900a5416c",
   "metadata": {},
   "outputs": [
    {
     "name": "stdout",
     "output_type": "stream",
     "text": [
      "<samna.xyloAudio3Boards.XyloAudio3TestBoard object at 0x726a309475f0>\n",
      "set tr_wrap to 0x2FA_F080\n",
      "[xyloAudio3::event::RegisterValue(address=4, data=500000)]\n"
     ]
    }
   ],
   "source": [
    "# create xylo monitor\n",
    "dt = 0.01\n",
    "print(xylo_node)\n",
    "\n",
    "\n",
    "config.operation_mode                                        = samna.xyloAudio3.OperationMode.RealTime\n",
    "config.time_resolution_wrap                                  = get_tr_wrap(ts_in_ms=1000, main_clk_freq_in_mhz=50, debug=1)\n",
    "config.debug.always_update_omp_stat                          = True\n",
    "config.input_source                                          = samna.xyloAudio3.InputSource.Pdm\n",
    "config.digital_frontend.filter_bank.dn_enable                = False\n",
    "config.digital_frontend.filter_bank.use_global_iaf_threshold = False\n",
    "config.digital_frontend.pdm_preprocessing.clock_direction    = PDM_CLK_DIR\n",
    "config.digital_frontend.pdm_preprocessing.clock_edge         = PDM_CLK_EDGE\n",
    "config.debug.sdm_clock_ratio                                 = 24\n",
    "\n",
    "# inside XyloMonitor the buffers are created and FPGA modules are set\n",
    "xylo_monitor = XyloMonitor(device=xylo_node, \n",
    "    config=config, \n",
    "    dt = dt,\n",
    "    output_mode='Spike')\n",
    "\n",
    "# print(xylo_monitor)\n",
    "xylo_monitor._write_buffer.write([samna.xyloAudio3.event.ReadRegisterValue(0x0004)])\n",
    "print(xylo_monitor._read_buffer.get_n_events(1, 2000))\n",
    "# print(xylo_monitor.config)\n"
   ]
  },
  {
   "cell_type": "markdown",
   "id": "992ec60e-f1c5-4f97-b225-d684e97d240c",
   "metadata": {},
   "source": [
    "## Start processing and collect events\n",
    "\n",
    "* Send TriggerProcessing event from Samna with the desired time step\n",
    "* Collect readout events in the BufferSink attached to the model source node"
   ]
  },
  {
   "cell_type": "code",
   "execution_count": 5,
   "id": "98971254-fcc7-4ee1-bd11-2ee87fcf63f6",
   "metadata": {},
   "outputs": [
    {
     "name": "stdout",
     "output_type": "stream",
     "text": [
      "[[0, 0, 0, 0, 0, 0, 0, 0, 0, 0, 0, 0, 0, 0, 0, 0], [0, 1, 1, 1, 1, 0, 0, 1, 1, 0, 0, 0, 1, 0, 1, 0], [0, 1, 1, 1, 1, 0, 0, 1, 1, 0, 0, 0, 1, 0, 1, 0], [0, 1, 1, 1, 1, 0, 0, 1, 1, 0, 0, 1, 1, 1, 1, 0], [0, 1, 1, 1, 1, 0, 0, 1, 1, 0, 0, 1, 1, 1, 1, 0], [0, 1, 1, 1, 1, 0, 0, 1, 1, 0, 1, 1, 1, 1, 1, 0], [0, 1, 1, 1, 1, 0, 0, 1, 1, 0, 1, 1, 1, 1, 1, 0], [0, 1, 1, 1, 1, 0, 0, 1, 1, 0, 1, 1, 1, 1, 1, 0], [0, 1, 1, 1, 1, 0, 0, 1, 1, 0, 1, 1, 1, 1, 1, 0], [0, 1, 1, 1, 1, 0, 0, 1, 1, 0, 1, 1, 1, 1, 1, 0], [0, 1, 1, 1, 1, 0, 0, 1, 1, 0, 1, 1, 1, 1, 1, 0], [0, 1, 1, 1, 1, 0, 0, 1, 1, 0, 1, 1, 1, 1, 1, 0], [0, 1, 1, 1, 1, 0, 0, 1, 1, 0, 1, 1, 1, 1, 1, 0], [0, 1, 1, 1, 1, 0, 0, 1, 1, 0, 1, 1, 1, 1, 1, 0], [0, 1, 1, 1, 1, 0, 0, 1, 1, 0, 1, 1, 1, 1, 1, 0], [0, 1, 1, 1, 1, 0, 0, 1, 1, 0, 1, 1, 1, 1, 1, 0], [0, 1, 1, 1, 1, 0, 0, 1, 1, 0, 1, 1, 1, 1, 1, 0], [0, 1, 1, 1, 1, 0, 0, 1, 1, 0, 1, 1, 1, 1, 1, 0], [0, 1, 1, 1, 1, 0, 0, 1, 1, 0, 1, 1, 1, 1, 1, 0], [0, 1, 1, 1, 1, 0, 0, 1, 1, 0, 1, 1, 1, 1, 1, 0], [0, 1, 1, 1, 1, 0, 0, 1, 1, 0, 1, 1, 1, 1, 1, 0], [0, 1, 1, 1, 1, 0, 0, 1, 1, 0, 1, 1, 1, 1, 1, 0], [0, 1, 1, 1, 1, 0, 0, 1, 1, 0, 1, 1, 1, 1, 1, 0], [0, 1, 1, 1, 1, 0, 0, 1, 1, 0, 1, 1, 1, 1, 1, 0], [0, 1, 1, 1, 1, 0, 0, 1, 1, 0, 1, 1, 1, 1, 1, 0], [0, 1, 1, 1, 1, 0, 0, 1, 1, 0, 1, 1, 1, 1, 1, 0], [0, 1, 1, 1, 1, 0, 0, 1, 1, 0, 1, 1, 1, 1, 1, 0], [0, 1, 1, 1, 1, 0, 0, 1, 1, 0, 1, 1, 1, 1, 1, 0], [0, 1, 1, 1, 1, 0, 0, 1, 1, 0, 1, 1, 1, 1, 1, 0], [0, 1, 1, 1, 1, 0, 0, 1, 1, 0, 1, 1, 1, 1, 1, 0], [0, 1, 1, 1, 1, 0, 0, 1, 1, 0, 1, 1, 1, 1, 1, 0], [0, 1, 1, 1, 1, 0, 0, 1, 1, 0, 1, 1, 1, 1, 1, 0], [0, 1, 1, 1, 1, 0, 0, 1, 1, 0, 1, 1, 1, 1, 1, 0], [0, 1, 1, 1, 1, 0, 0, 1, 1, 0, 1, 1, 1, 1, 1, 0], [0, 1, 1, 1, 1, 0, 0, 1, 1, 0, 1, 1, 1, 1, 1, 0], [0, 1, 1, 1, 1, 0, 0, 1, 1, 0, 1, 1, 1, 1, 1, 0], [0, 1, 1, 1, 1, 0, 0, 1, 1, 0, 1, 1, 1, 1, 1, 0], [0, 1, 1, 1, 1, 0, 0, 1, 1, 0, 1, 1, 1, 1, 1, 0], [0, 1, 1, 1, 1, 0, 0, 1, 1, 0, 1, 1, 1, 1, 1, 0], [0, 1, 1, 1, 1, 0, 0, 1, 1, 0, 1, 1, 1, 1, 1, 0], [0, 1, 1, 1, 1, 0, 0, 1, 1, 0, 1, 1, 1, 1, 1, 0], [0, 1, 1, 1, 1, 0, 0, 1, 1, 0, 1, 1, 1, 1, 1, 0], [0, 1, 1, 1, 1, 0, 0, 1, 1, 0, 1, 1, 1, 1, 1, 0], [0, 1, 1, 1, 1, 0, 0, 1, 1, 0, 1, 1, 1, 1, 1, 0], [0, 1, 1, 1, 1, 0, 0, 1, 1, 0, 1, 1, 1, 1, 1, 0], [0, 1, 1, 1, 1, 0, 0, 1, 1, 0, 1, 1, 1, 1, 1, 0], [0, 1, 1, 1, 1, 0, 0, 1, 1, 0, 1, 1, 1, 1, 1, 0], [0, 1, 1, 1, 1, 0, 0, 1, 1, 0, 1, 1, 1, 1, 1, 0], [0, 1, 1, 1, 1, 0, 0, 1, 1, 0, 1, 1, 1, 1, 1, 0], [0, 1, 1, 1, 1, 0, 0, 1, 1, 0, 1, 1, 1, 1, 1, 0], [0, 1, 1, 1, 1, 0, 0, 1, 1, 0, 1, 1, 1, 1, 1, 0], [0, 1, 1, 1, 1, 0, 0, 1, 1, 0, 1, 1, 1, 1, 1, 0], [0, 1, 1, 1, 1, 0, 0, 1, 1, 0, 1, 1, 1, 1, 1, 0], [0, 1, 1, 1, 1, 0, 0, 1, 1, 0, 1, 1, 1, 1, 1, 0], [0, 1, 1, 1, 1, 0, 0, 1, 1, 0, 1, 1, 1, 1, 1, 0], [0, 1, 1, 1, 1, 0, 0, 1, 1, 0, 1, 1, 1, 1, 1, 0], [0, 1, 1, 1, 1, 0, 0, 1, 1, 0, 1, 1, 1, 1, 1, 0], [0, 1, 1, 1, 1, 0, 0, 1, 1, 0, 1, 1, 1, 1, 1, 0], [0, 1, 1, 1, 1, 0, 0, 1, 1, 0, 1, 1, 1, 1, 1, 0], [0, 1, 1, 1, 1, 0, 0, 1, 1, 0, 1, 1, 1, 1, 1, 0], [0, 1, 1, 1, 1, 0, 0, 1, 1, 0, 1, 1, 1, 1, 1, 0], [0, 1, 1, 1, 1, 0, 0, 1, 1, 0, 1, 1, 1, 1, 1, 0], [0, 1, 1, 1, 1, 0, 0, 1, 1, 0, 1, 1, 1, 1, 1, 0], [0, 1, 1, 1, 1, 0, 0, 1, 1, 0, 1, 1, 1, 1, 1, 0], [0, 1, 1, 1, 1, 0, 0, 1, 1, 0, 1, 1, 1, 1, 1, 0], [0, 1, 1, 1, 1, 0, 0, 1, 1, 0, 1, 1, 1, 1, 1, 0], [0, 1, 1, 1, 1, 0, 0, 1, 1, 0, 1, 1, 1, 1, 1, 0], [0, 1, 1, 1, 1, 0, 0, 1, 1, 0, 1, 1, 1, 1, 1, 0], [0, 1, 1, 1, 1, 0, 0, 1, 1, 0, 1, 1, 1, 1, 1, 0], [0, 1, 1, 1, 1, 0, 0, 1, 1, 0, 1, 1, 1, 1, 1, 0], [0, 1, 1, 1, 1, 0, 0, 1, 1, 0, 1, 1, 1, 1, 1, 0], [0, 1, 1, 1, 1, 0, 0, 1, 1, 0, 1, 1, 1, 1, 1, 0], [0, 1, 1, 1, 1, 0, 0, 1, 1, 0, 1, 1, 1, 1, 1, 0], [0, 1, 1, 1, 1, 0, 0, 1, 1, 0, 1, 1, 1, 1, 1, 0], [0, 1, 1, 1, 1, 0, 0, 1, 1, 0, 1, 1, 1, 1, 1, 0], [0, 1, 1, 1, 1, 0, 0, 1, 1, 0, 1, 1, 1, 1, 1, 0], [0, 1, 1, 1, 1, 0, 0, 1, 1, 0, 1, 1, 1, 1, 1, 0], [0, 1, 1, 1, 1, 0, 0, 1, 1, 0, 1, 1, 1, 1, 1, 0], [0, 1, 1, 1, 1, 0, 0, 1, 1, 0, 1, 1, 1, 1, 1, 0], [0, 1, 1, 1, 1, 0, 0, 1, 1, 0, 1, 1, 1, 1, 1, 0], [0, 1, 1, 1, 1, 0, 0, 1, 1, 0, 1, 1, 1, 1, 1, 0], [0, 1, 1, 1, 1, 0, 0, 1, 1, 0, 1, 1, 1, 1, 1, 0], [0, 1, 1, 1, 1, 0, 0, 1, 1, 0, 1, 1, 1, 1, 1, 0], [0, 1, 1, 1, 1, 0, 0, 1, 1, 0, 1, 1, 1, 1, 1, 0], [0, 1, 1, 1, 1, 0, 0, 1, 1, 0, 1, 1, 1, 1, 1, 0], [0, 1, 1, 1, 1, 0, 0, 1, 1, 0, 1, 1, 1, 1, 1, 0], [0, 1, 1, 1, 1, 0, 0, 1, 1, 0, 1, 1, 1, 1, 1, 0], [0, 1, 1, 1, 1, 0, 0, 1, 1, 0, 1, 1, 1, 1, 1, 0], [0, 1, 1, 1, 1, 0, 0, 1, 1, 0, 1, 1, 1, 1, 1, 0], [0, 1, 1, 1, 1, 0, 0, 1, 1, 0, 1, 1, 1, 1, 1, 0], [0, 1, 1, 1, 1, 0, 0, 1, 1, 0, 1, 1, 1, 1, 1, 0], [0, 1, 1, 1, 1, 0, 0, 1, 1, 0, 1, 1, 1, 1, 1, 0], [0, 1, 1, 1, 1, 0, 0, 1, 1, 0, 1, 1, 1, 1, 1, 0], [0, 1, 1, 1, 1, 0, 0, 1, 1, 0, 1, 1, 1, 1, 1, 0], [0, 1, 1, 1, 1, 0, 0, 1, 1, 0, 1, 1, 1, 1, 1, 0], [0, 1, 1, 1, 1, 0, 0, 1, 1, 0, 1, 1, 1, 1, 1, 0], [0, 1, 1, 1, 1, 0, 0, 1, 1, 0, 1, 1, 1, 1, 1, 0], [0, 1, 1, 1, 1, 0, 0, 1, 1, 0, 1, 1, 1, 1, 1, 0], [0, 1, 1, 1, 1, 0, 0, 1, 1, 0, 1, 1, 1, 1, 1, 0], [0, 1, 1, 1, 1, 0, 0, 1, 1, 0, 1, 1, 1, 1, 1, 0]]\n"
     ]
    }
   ],
   "source": [
    "import numpy as np\n",
    "N = 1 # in seconds\n",
    "\n",
    "out, _, rec = xylo_monitor.evolve(record=False, record_power=True, read_timeout=N)\n",
    "print(out)\n"
   ]
  },
  {
   "cell_type": "code",
   "execution_count": 6,
   "id": "c5aed48d-773b-4b19-8473-744363ee8aa4",
   "metadata": {},
   "outputs": [
    {
     "data": {
      "text/plain": [
       "<matplotlib.colorbar.Colorbar at 0x726a30896530>"
      ]
     },
     "execution_count": 6,
     "metadata": {},
     "output_type": "execute_result"
    },
    {
     "data": {
      "image/png": "[encoded data removed]",
      "text/plain": [
       "<Figure size 1080x360 with 2 Axes>"
      ]
     },
     "metadata": {
      "needs_background": "light"
     },
     "output_type": "display_data"
    }
   ],
   "source": [
    "import matplotlib.pyplot as plt\n",
    "plt.figure(figsize=(15,5))\n",
    "plt.subplot(131), plt.imshow(np.array(out).T, aspect='auto', interpolation='none'); plt.title('readout spikes'); plt.xlabel('Time'); plt.ylabel('Neuron index'); plt.colorbar()"
   ]
  },
  {
   "cell_type": "code",
   "execution_count": null,
   "id": "23f69198-fd79-40cf-b65c-bbc3f737a164",
   "metadata": {},
   "outputs": [],
   "source": []
  }
 ],
 "metadata": {
  "kernelspec": {
   "display_name": "Python 3 (ipykernel)",
   "language": "python",
   "name": "python3"
  },
  "language_info": {
   "codemirror_mode": {
    "name": "ipython",
    "version": 3
   },
   "file_extension": ".py",
   "mimetype": "text/x-python",
   "name": "python",
   "nbconvert_exporter": "python",
   "pygments_lexer": "ipython3",
   "version": "3.10.12"
  }
 },
 "nbformat": 4,
 "nbformat_minor": 5
}
