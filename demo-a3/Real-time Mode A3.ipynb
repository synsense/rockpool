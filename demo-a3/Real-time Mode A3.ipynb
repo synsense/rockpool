{
 "cells": [
  {
   "cell_type": "markdown",
   "id": "baa3f1f9-7ce8-494f-a8b5-c3be438b1784",
   "metadata": {},
   "source": [
    "# Real-time Steps\n",
    "\n",
    "In real-time mode, the FPGA lets Xylo run freely and only performs readout after receiving a timestep done interrupt.\n",
    "This means sending input to Xylo from the FPGA is not supported in real-time mode.  Instead, the switches on the PCB must be configured such that Xylo receives input from the microphones on the PCB.\n"
   ]
  },
  {
   "cell_type": "markdown",
   "id": "6be1fd9c-8f83-4b33-b6a9-6652a384b2a0",
   "metadata": {},
   "source": [
    "## Simple Samna example to access the board"
   ]
  },
  {
   "cell_type": "code",
   "execution_count": 22,
   "id": "5c7e4dc6-d726-47f0-81f7-f2855b3edc44",
   "metadata": {},
   "outputs": [
    {
     "name": "stdout",
     "output_type": "stream",
     "text": [
      "50000000\n"
     ]
    }
   ],
   "source": [
    "ts_duration   = 1000*1e-3; # in second\n",
    "main_clk_freq = 50*1e6 # in Hz\n",
    "tr_wrap       = int(ts_duration*main_clk_freq)\n",
    "print(tr_wrap)"
   ]
  },
  {
   "cell_type": "code",
   "execution_count": 23,
   "id": "b5964e99-d017-4138-baa3-4633cb5b9131",
   "metadata": {},
   "outputs": [
    {
     "name": "stdout",
     "output_type": "stream",
     "text": [
      "samna version: 0.37.10.26+g11d2fc36e.dirty\n"
     ]
    },
    {
     "ename": "RuntimeError",
     "evalue": "No devices available!",
     "output_type": "error",
     "traceback": [
      "\u001b[0;31m---------------------------------------------------------------------------\u001b[0m",
      "\u001b[0;31mRuntimeError\u001b[0m                              Traceback (most recent call last)",
      "\u001b[0;32m/tmp/ipykernel_592341/72443465.py\u001b[0m in \u001b[0;36m<module>\u001b[0;34m\u001b[0m\n\u001b[1;32m      3\u001b[0m \u001b[0;32mimport\u001b[0m \u001b[0mtime\u001b[0m\u001b[0;34m\u001b[0m\u001b[0;34m\u001b[0m\u001b[0m\n\u001b[1;32m      4\u001b[0m \u001b[0;34m\u001b[0m\u001b[0m\n\u001b[0;32m----> 5\u001b[0;31m \u001b[0mdevice\u001b[0m \u001b[0;34m=\u001b[0m \u001b[0msamna\u001b[0m\u001b[0;34m.\u001b[0m\u001b[0mdevice\u001b[0m\u001b[0;34m.\u001b[0m\u001b[0mopen_device\u001b[0m\u001b[0;34m(\u001b[0m\u001b[0;34m'XyloAudio3TestBoard'\u001b[0m\u001b[0;34m)\u001b[0m\u001b[0;34m\u001b[0m\u001b[0;34m\u001b[0m\u001b[0m\n\u001b[0m\u001b[1;32m      6\u001b[0m \u001b[0;34m\u001b[0m\u001b[0m\n\u001b[1;32m      7\u001b[0m \u001b[0;31m# set device configuration\u001b[0m\u001b[0;34m\u001b[0m\u001b[0;34m\u001b[0m\u001b[0m\n",
      "\u001b[0;31mRuntimeError\u001b[0m: No devices available!"
     ]
    }
   ],
   "source": [
    "import samna\n",
    "print(f\"samna version: {samna.__version__}\")\n",
    "import time\n",
    "\n",
    "device = samna.device.open_device('XyloAudio3TestBoard')\n",
    "\n",
    "# set device configuration\n",
    "ioc = device.get_io_control_module()\n",
    "io = device.get_io_module()\n",
    "model = device.get_model()\n",
    "\n",
    "# power off\n",
    "ioc.write_config(0, 0x0)\n",
    "time.sleep(1)\n",
    "\n",
    "# main clock disable\n",
    "io.write_config(0x0008, 0)\n",
    "time.sleep(1)\n",
    "\n",
    "# power on\n",
    "ioc.write_config(0, 0x1B)\n",
    "time.sleep(1)\n",
    "\n",
    "# main clock enable\n",
    "io.write_config(0x0008, 1)\n",
    "time.sleep(1)\n",
    "\n",
    "# DIG_MIC drives PDM_DATA\n",
    "io.write_config(0x0012, 0)\n",
    "time.sleep(1)\n",
    "\n",
    "# define real-time mode\n",
    "io.write_config(0x31, 2)\n",
    "time.sleep(1)\n",
    "\n",
    "# set samna configuration\n",
    "config = samna.xyloAudio3.configuration.XyloConfiguration()\n",
    "\n",
    "config.operation_mode = samna.xyloAudio3.OperationMode.RealTime\n",
    "config.digital_frontend.mode = samna.xyloAudio3.DigitalFrontendMode.Pdm\n",
    "config.time_resolution_wrap = 50000000\n",
    "config.debug.debug_status_update_enable = 1\n",
    "config.debug.debug_input_enable = 1\n",
    "config.debug.monitor_signals_enable = 1\n",
    "# 0: input for Xylo, 1: Xylo output\n",
    "config.digital_frontend.pdm_preprocessing.clock_direction = 1\n",
    "# 0: Xylo samples PDM_DATA at risinge edge, 1: Xylo samples PDM_DATA at falling edge\n",
    "config.digital_frontend.pdm_preprocessing.clock_edge = 1\n",
    "\n",
    "device.get_model().apply_configuration(config)\n",
    "\n",
    "# create access to xylo input/output\n",
    "source = samna.graph.source_to(model.get_sink_node())\n",
    "sink   = samna.graph.sink_from(model.get_source_node())\n",
    "\n",
    "source.write([samna.xyloAudio3.event.ReadRegisterValue(12)])\n",
    "print(sink.get_n_events(1, 2000))\n"
   ]
  },
  {
   "cell_type": "markdown",
   "id": "2bd0de7c-c363-4228-a03c-b93e7c4762b1",
   "metadata": {},
   "source": [
    "## Example with Rockpool\n",
    "\n",
    "Open Dev Kit\n",
    "\n",
    "* Call open_device() on a discovered device with Samna."
   ]
  },
  {
   "cell_type": "code",
   "execution_count": 1,
   "id": "6cebeac6-db3d-4ad5-a6c9-98cb9c0b5544",
   "metadata": {},
   "outputs": [
    {
     "name": "stdout",
     "output_type": "stream",
     "text": [
      "Rockpool version 2.7.dev\n",
      "Samna version 0.37.10.26+g11d2fc36e.dirty\n",
      "from samna.xyloA3.configuration import InputInterfaceConfig\n",
      "The connected Xylo HDK contains a Xylo A3. Importing `rockpool.devices.xylo.syns65302`\n",
      "[<samna.xyloAudio3Boards.XyloAudio3TestBoard object at 0x7546c989baf0>] [<module 'rockpool.devices.xylo.syns65302' from '/home/vleite/Software/rockpool/rockpool/devices/xylo/syns65302/__init__.py'>] ['syns65302']\n"
     ]
    }
   ],
   "source": [
    "import warnings\n",
    "warnings.filterwarnings(\"ignore\")\n",
    "\n",
    "import rockpool\n",
    "print(f'Rockpool version {rockpool.__version__}')\n",
    "import samna\n",
    "print(f'Samna version {samna.__version__}')\n",
    "from rockpool.devices.xylo.syns65302 import config_from_specification, mapper, XyloMonitor, XyloSamna\n",
    "\n",
    "from rockpool.devices.xylo import find_xylo_hdks\n",
    "\n",
    "from rockpool.transform.quantize_methods import channel_quantize\n",
    "from rockpool.nn.modules import LIF, Linear\n",
    "from rockpool.nn.combinators import Sequential\n",
    "\n",
    "import numpy as np\n",
    "\n",
    "# find_xylo_hdks() directly calls the Samna device finder and opens all available devices.\n",
    "# When Samna opens a device, it will perform actions on the board. Such as, powering on the chip, resetting it,\n",
    "# applying a default configuration, and configuring the FPGA for default operation.\n",
    "\n",
    "xylo_hdks, xylo_support_modules, xylo_versions = find_xylo_hdks()\n",
    "print(xylo_hdks, xylo_support_modules, xylo_versions)"
   ]
  },
  {
   "cell_type": "markdown",
   "id": "3af52c3d-130f-4597-af8d-c1f18c44adb1",
   "metadata": {},
   "source": [
    "## Build a model and map it to hardware"
   ]
  },
  {
   "cell_type": "code",
   "execution_count": 2,
   "id": "c4282fb5-6573-47b8-9613-c6d2fe89e1ee",
   "metadata": {},
   "outputs": [
    {
     "name": "stdout",
     "output_type": "stream",
     "text": [
      "ModSequential  with shape (16, 32) {\n",
      "    Linear '0_Linear' with shape (16, 63)\n",
      "    LIF '1_LIF' with shape (63, 63)\n",
      "    Linear '2_Linear' with shape (63, 32)\n",
      "    LIF '3_LIF' with shape (32, 32)\n",
      "}\n"
     ]
    }
   ],
   "source": [
    "# simple model to test\n",
    "\n",
    "net = Sequential(\n",
    "    Linear((16, 63)),\n",
    "    LIF((63, 63)),\n",
    "\n",
    "    Linear((63, 32)),\n",
    "    LIF(32),\n",
    ")\n",
    "\n",
    "print(net)\n",
    "\n",
    "# net[0].weight *= 0.05\n",
    "spec = mapper(net.as_graph())\n",
    "Q_spec = spec\n",
    "Q_spec.update(channel_quantize(**Q_spec))\n",
    "config, is_valid, msg = config_from_specification(**Q_spec)\n",
    "\n",
    "if not is_valid:\n",
    "    print(msg)"
   ]
  },
  {
   "cell_type": "markdown",
   "id": "8e3862ef-1054-46c2-99e9-300cac3d9bae",
   "metadata": {},
   "source": [
    "## Set up Samna graphs and configuration\n",
    "\n",
    "* Create a buffer sink for events from the chip model source node. Readout events will be captured here.\n",
    "* Set Xylo configuration as desired for PDM and network config\n",
    "* Set Xylo TR_WRAP register for desired time step length with default 25 MHz clock\n",
    "* Set Xylo to real-time mode\n",
    "* Enable PCB switches for PDM microphones\n",
    "* Set FPGA module to real-time mode\n",
    "   * io.write_config(0x12, 0) and io.write_config(0x31, 2)"
   ]
  },
  {
   "cell_type": "code",
   "execution_count": 3,
   "id": "e7c34a35-b254-4335-99e3-a8a900a5416c",
   "metadata": {},
   "outputs": [
    {
     "name": "stdout",
     "output_type": "stream",
     "text": [
      "<samna.xyloAudio3Boards.XyloAudio3TestBoard object at 0x7546c989baf0>\n",
      "xyloAudio3::configuration::XyloConfiguration(operation_mode=OperationMode.RealTime, bias_enable=1, time_resolution_wrap=499699, input=xyloAudio3::configuration::InputConfig(weight_bit_shift=0, weights={ -119 -13 79 -97 -99 44 124 -2 -61 23 88 -32 -119 30 76 -3 127 -107 -47 127 40 -34 111 -104 -126 102 -10 121 -75 4 -116 -127 -127 12 -1 93 -117 -90 -38 104 127 -107 -17 21 -75 -40 -63 24 -127 57 61 -53 41 105 -127 -117 -9 65 27 -67 94 83 83 65 112 109 -77 -47 -60 57 121 -66 100 40 84 -127 -18 23 60 59 64 -37 114 -13 85 -14 -118 -53 97 98 -83 -27 56 32 -41 20 107 71 78 93 -127 15 14 -41 -57 -121 -58 119 -3 -9 56 -38 -71 -116 -127 46 -113 -117 -40 68 -113 33 -87 55 85 122 -51 -36 -71 -19 16 45 -101 -117 -107 97 -97 127 53 97 48 -81 105 -123 -119 103 90 -62 -97 113 -116 103 80 -19 -7 -78 127 -16 109 -38 55 -71 -51 42 -13 127 -15 112 -34 -80 40 51 -124 116 111 86 -72 25 59 100 98 -78 -86 42 102 -127 63 -41 49 107 66 -113 49 13 18 86 84 21 -17 -43 60 -88 29 39 -17 40 -101 73 -7 -15 -18 30 -88 -57 -76 94 95 -44 -105 -121 -84 17 113 71 127 -6 -78 84 122 -37 96 -68 120 -15 110 127 110 57 115 -103 -101 33 -24 102 100 87 84 3 97 11 -43 -62 80 -51 26 48 53 -93 -108 127 28 0 -55 79 53 -63 46 51 12 -52 115 87 72 119 -95 70 16 12 -67 -9 7 90 -68 -14 -64 -6 -20 37 34 -22 85 -44 23 80 -57 -120 90 -99 102 -127 63 -82 92 58 -25 25 30 19 -4 -127 17 -78 28 85 110 -16 84 16 13 108 99 104 70 -73 46 -124 50 111 21 45 -100 123 68 -93 71 -127 -125 120 79 -55 17 -96 85 126 -13 -65 -50 30 -87 -56 36 9 82 89 -73 89 110 -6 -14 -1 127 -24 -1 -58 -4 91 -10 -44 -95 -31 2 -127 -31 33 -54 -11 69 -66 -32 74 -42 16 -88 -52 14 102 -111 127 -65 16 -2 -111 -11 99 -78 -99 49 -42 83 -102 52 -88 -111 -127 -57 50 103 -22 97 -34 123 80 93 -101 -41 -127 -89 23 -44 -15 11 -53 -42 -46 42 -104 87 61 -124 -21 44 -57 -11 -24 -94 -68 127 -107 22 -127 -123 111 118 99 89 127 -56 40 105 -4 -82 20 -65 -115 -38 -115 62 118 -66 -45 48 68 -127 -33 -110 -47 43 -72 -119 94 127 17 -93 -38 127 58 55 -63 119 81 -59 22 -3 -94 5 -105 -49 68 5 76 -117 -27 90 83 43 127 17 -48 -35 34 40 90 -35 106 97 16 74 68 29 -74 26 74 116 108 73 -54 1 82 -23 113 90 -101 53 -47 -3 99 -115 -76 33 14 127 -106 -16 -64 -52 -79 -115 -7 -127 -85 118 47 0 76 -121 -106 -31 100 46 -10 72 -20 -95 -57 19 126 -85 -69 -102 127 -11 -22 109 126 46 -83 -124 -91 101 6 -10 -71 -35 -35 39 48 64 -76 10 82 -14 50 -98 110 -58 -53 121 -126 112 84 110 39 -116 47 -30 -22 77 -81 111 -19 25 -70 22 127 -74 -127 100 -92 -127 -99 -15 127 -12 62 -113 -93 -127 -12 -117 -127 -86 -105 -56 20 -115 -19 41 127 97 125 -77 12 127 -22 8 119 -94 -24 82 108 51 102 59 95 81 -44 51 43 99 -43 30 -43 45 126 -127 -59 -26 2 127 89 -18 -65 71 -58 -124 97 -17 9 -97 -71 -69 -10 48 15 124 -65 38 -119 -5 -118 14 -27 -89 61 112 124 85 35 -30 37 -11 -73 83 103 -32 -9 5 -14 28 -59 -89 -37 35 127 -81 78 127 110 101 116 44 24 -15 -62 34 -59 -37 94 -111 -116 -110 65 -119 5 8 26 110 -115 103 92 -123 55 -30 25 -7 10 -87 63 58 13 88 -96 93 87 -59 14 -16 -21 -112 -13 94 27 -90 -60 51 93 -127 -90 -18 -64 13 117 -127 -103 127 119 21 -49 49 48 -50 50 -76 -104 127 123 25 56 -37 127 65 17 -92 -37 95 16 108 23 -28 72 52 25 -116 -65 -41 7 34 72 31 -59 -42 14 -115 114 -52 -78 -78 -57 9 97 -74 102 56 33 111 85 90 -120 74 -73 -58 -18 -40 -127 -127 -95 -28 54 83 5 -108 -76 101 127 48 104 -125 0 -119 10 -10 -127 28 -33 73 -68 127 -56 -10 -63 12 64 107 -32 40 24 -62 32 46 -101 30 -127 90 -70 -94 63 -39 21 -3 63 -8 68 -28 -45 -101 85 120 94 106 -40 -99 -88 -61 -127 -115 27 114 11 -117 86 -37 64 53 115 72 -32 63 -66 45 -12 -23 83 61 -47 -76 55 -93 45 41 -17 120 -56 -115 -79 27 29 -30 23 -126 126 4 -61 -63 -25 46 -69 -104 -119 -85 -19 38 -54 127 -76 -42 33 94 -4 114 34 2 -112 24 113 34 -66 -12 -26 127 24 -52 45 -52 -87 82 78 -7 -7 -63 -105 127 -35 -127 -112 82 21 -111 85 21 41 19 50 -29 4 14 48 -58 121 -46 70 -11 49 -48 -5 -34 -56 -39 26 -127 104 55 -91 -76 13 35 17 -29 -98 -127 -63 -59 57 83 -64 79 126 22 -127 }), hidden=xyloAudio3::configuration::HiddenConfig(weight_bit_shift=0, weights={ 0 0 0 0 0 0 0 0 0 0 0 0 0 0 0 0 0 0 0 0 0 0 0 0 0 0 0 0 0 0 0 0 0 0 0 0 0 0 0 0 0 0 0 0 0 0 0 0 0 0 0 0 0 0 0 0 0 0 0 0 0 0 0 0 0 0 0 0 0 0 0 0 0 0 0 0 0 0 0 0 0 0 0 0 0 0 0 0 0 0 0 0 0 0 0 0 0 0 0 0 0 0 0 0 0 0 0 0 0 0 0 0 0 0 0 0 0 0 0 0 0 0 0 0 0 0 0 0 0 0 0 0 0 0 0 0 0 0 0 0 0 0 0 0 0 0 0 0 0 0 0 0 0 0 0 0 0 0 0 0 0 0 0 0 0 0 0 0 0 0 0 0 0 0 0 0 0 0 0 0 0 0 0 0 0 0 0 0 0 0 0 0 0 0 0 0 0 0 0 0 0 0 0 0 0 0 0 0 0 0 0 0 0 0 0 0 0 0 0 0 0 0 0 0 0 0 0 0 0 0 0 0 0 0 0 0 0 0 0 0 0 0 0 0 0 0 0 0 0 0 0 0 0 0 0 0 0 0 0 0 0 0 0 0 0 0 0 0 0 0 0 0 0 0 0 0 0 0 0 0 0 0 0 0 0 0 0 0 0 0 0 0 0 0 0 0 0 0 0 0 0 0 0 0 0 0 0 0 0 0 0 0 0 0 0 0 0 0 0 0 0 0 0 0 0 0 0 0 0 0 0 0 0 0 0 0 0 0 0 0 0 0 0 0 0 0 0 0 0 0 0 0 0 0 0 0 0 0 0 0 0 0 0 0 0 0 0 0 0 0 0 0 0 0 0 0 0 0 0 0 0 0 0 0 0 0 0 0 0 0 0 0 0 0 0 0 0 0 0 0 0 0 0 0 0 0 0 0 0 0 0 0 0 0 0 0 0 0 0 0 0 0 0 0 0 0 0 0 0 0 0 0 0 0 0 0 0 0 0 0 0 0 0 0 0 0 0 0 0 0 0 0 0 0 0 0 0 0 0 0 0 0 0 0 0 0 0 0 0 0 0 0 0 0 0 0 0 0 0 0 0 0 0 0 0 0 0 0 0 0 0 0 0 0 0 0 0 0 0 0 0 0 0 0 0 0 0 0 0 0 0 0 0 0 0 0 0 0 0 0 0 0 0 0 0 0 0 0 0 0 0 0 0 0 0 0 0 0 0 0 0 0 0 0 0 0 0 0 0 0 0 0 0 0 0 0 0 0 0 0 0 0 0 0 0 0 0 0 0 0 0 0 0 0 0 0 0 0 0 0 0 0 0 0 0 0 0 0 0 0 0 0 0 0 0 0 0 0 0 0 0 0 0 0 0 0 0 0 0 0 0 0 0 0 0 0 0 0 0 0 0 0 0 0 0 0 0 0 0 0 0 0 0 0 0 0 0 0 0 0 0 0 0 0 0 0 0 0 0 0 0 0 0 0 0 0 0 0 0 0 0 0 0 0 0 0 0 0 0 0 0 0 0 0 0 0 0 0 0 0 0 0 0 0 0 0 0 0 0 0 0 0 0 0 0 0 0 0 0 0 0 0 0 0 0 0 0 0 0 0 0 0 0 0 0 0 0 0 0 0 0 0 0 0 0 0 0 0 0 0 0 0 0 0 0 0 0 0 0 0 0 0 0 0 0 0 0 0 0 0 0 0 0 0 0 0 0 0 0 0 0 0 0 0 0 0 0 0 0 0 0 0 0 0 0 0 0 0 0 0 0 0 0 0 0 0 0 0 0 0 0 0 0 0 0 0 0 0 0 0 0 0 0 0 0 0 0 0 0 0 0 0 0 0 0 0 0 0 0 0 0 0 0 0 0 0 0 0 0 0 0 0 0 0 0 0 0 0 0 0 0 0 0 0 0 0 0 0 0 0 0 0 0 0 0 0 0 0 0 0 0 0 0 0 0 0 0 0 0 0 0 0 0 0 0 0 0 0 0 0 0 0 0 0 0 0 0 0 0 0 0 0 0 0 0 0 0 0 0 0 0 0 0 0 0 0 0 0 0 0 0 0 0 0 0 0 0 0 0 0 0 0 0 0 0 0 0 0 0 0 0 0 0 0 0 0 0 0 0 0 0 0 0 0 0 0 0 0 0 0 0 0 0 0 0 0 0 0 0 0 0 0 0 0 0 0 0 0 0 0 0 0 0 0 0 0 0 0 0 0 0 0 0 0 0 0 0 0 0 0 0 0 0 0 0 0 0 0 0 0 0 0 0 0 0 0 0 0 0 0 0 0 0 0 0 0 0 0 0 0 0 0 0 0 0 0 0 0 0 0 0 0 0 0 0 0 0 0 0 0 0 0 0 0 0 0 0 0 0 0 0 0 0 0 0 0 0 0 0 0 0 0 0 0 0 0 0 0 0 0 0 0 0 0 0 0 0 0 0 0 0 0 0 0 0 0 0 0 0 0 0 0 0 0 0 0 0 0 0 0 0 0 0 0 0 0 0 0 0 0 0 0 0 0 0 0 0 0 0 0 0 0 0 0 0 0 0 0 0 0 0 0 0 0 0 0 0 0 0 0 0 0 0 0 0 0 0 0 0 0 0 0 0 0 0 0 0 0 0 0 0 0 0 0 0 0 0 0 0 0 0 0 0 0 0 0 0 0 0 0 0 0 0 0 0 0 0 0 0 0 0 0 0 0 0 0 0 0 0 0 0 0 0 0 0 0 0 0 0 0 0 0 0 0 0 0 0 0 0 0 0 0 0 0 0 0 0 0 0 0 0 0 0 0 0 0 0 0 0 0 0 0 0 0 0 0 0 0 0 0 0 0 0 0 0 0 0 0 0 0 0 0 0 0 0 0 0 0 0 0 0 0 0 0 0 0 0 0 0 0 0 0 0 0 0 0 0 0 0 0 0 0 0 0 0 0 0 0 0 0 0 0 0 0 0 0 0 0 0 0 0 0 0 0 0 0 0 0 0 0 0 0 0 0 0 0 0 0 0 0 0 0 0 0 0 0 0 0 0 0 0 0 0 0 0 0 0 0 0 0 0 0 0 0 0 0 0 0 0 0 0 0 0 0 0 0 0 0 0 0 0 0 0 0 0 0 0 0 0 0 0 0 0 0 0 0 0 0 0 0 0 0 0 0 0 0 0 0 0 0 0 0 0 0 0 0 0 0 0 0 0 0 0 0 0 0 0 0 0 0 0 0 0 0 0 0 0 0 0 0 0 0 0 0 0 0 0 0 0 0 0 0 0 0 0 0 0 0 0 0 0 0 0 0 0 0 0 0 0 0 0 0 0 0 0 0 0 0 0 0 0 0 0 0 0 0 0 0 0 0 0 0 0 0 0 0 0 0 0 0 0 0 0 0 0 0 0 0 0 0 0 0 0 0 0 0 0 0 0 0 0 0 0 0 0 0 0 0 0 0 0 0 0 0 0 0 0 0 0 0 0 0 0 0 0 0 0 0 0 0 0 0 0 0 0 0 0 0 0 0 0 0 0 0 0 0 0 0 0 0 0 0 0 0 0 0 0 0 0 0 0 0 0 0 0 0 0 0 0 0 0 0 0 0 0 0 0 0 0 0 0 0 0 0 0 0 0 0 0 0 0 0 0 0 0 0 0 0 0 0 0 0 0 0 0 0 0 0 0 0 0 0 0 0 0 0 0 0 0 0 0 0 0 0 0 0 0 0 0 0 0 0 0 0 0 0 0 0 0 0 0 0 0 0 0 0 0 0 0 0 0 0 0 0 0 0 0 0 0 0 0 0 0 0 0 0 0 0 0 0 0 0 0 0 0 0 0 0 0 0 0 0 0 0 0 0 0 0 0 0 0 0 0 0 0 0 0 0 0 0 0 0 0 0 0 0 0 0 0 0 0 0 0 0 0 0 0 0 0 0 0 0 0 0 0 0 0 0 0 0 0 0 0 0 0 0 0 0 0 0 0 0 0 0 0 0 0 0 0 0 0 0 0 0 0 0 0 0 0 0 0 0 0 0 0 0 0 0 0 0 0 0 0 0 0 0 0 0 0 0 0 0 0 0 0 0 0 0 0 0 0 0 0 0 0 0 0 0 0 0 0 0 0 0 0 0 0 0 0 0 0 0 0 0 0 0 0 0 0 0 0 0 0 0 0 0 0 0 0 0 0 0 0 0 0 0 0 0 0 0 0 0 0 0 0 0 0 0 0 0 0 0 0 0 0 0 0 0 0 0 0 0 0 0 0 0 0 0 0 0 0 0 0 0 0 0 0 0 0 0 0 0 0 0 0 0 0 0 0 0 0 0 0 0 0 0 0 0 0 0 0 0 0 0 0 0 0 0 0 0 0 0 0 0 0 0 0 0 0 0 0 0 0 0 0 0 0 0 0 0 0 0 0 0 0 0 0 0 0 0 0 0 0 0 0 0 0 0 0 0 0 0 0 0 0 0 0 0 0 0 0 0 0 0 0 0 0 0 0 0 0 0 0 0 0 0 0 0 0 0 0 0 0 0 0 0 0 0 0 0 0 0 0 0 0 0 0 0 0 0 0 0 0 0 0 0 0 0 0 0 0 0 0 0 0 0 0 0 0 0 0 0 0 0 0 0 0 0 0 0 0 0 0 0 0 0 0 0 0 0 0 0 0 0 0 0 0 0 0 0 0 0 0 0 0 0 0 0 0 0 0 0 0 0 0 0 0 0 0 0 0 0 0 0 0 0 0 0 0 0 0 0 0 0 0 0 0 0 0 0 0 0 0 0 0 0 0 0 0 0 0 0 0 0 0 0 0 0 0 0 0 0 0 0 0 0 0 0 0 0 0 0 0 0 0 0 0 0 0 0 0 0 0 0 0 0 0 0 0 0 0 0 0 0 0 0 0 0 0 0 0 0 0 0 0 0 0 0 0 0 0 0 0 0 0 0 0 0 0 0 0 0 0 0 0 0 0 0 0 0 0 0 0 0 0 0 0 0 0 0 0 0 0 0 0 0 0 0 0 0 0 0 0 0 0 0 0 0 0 0 0 0 0 0 0 0 0 0 0 0 0 0 0 0 0 0 0 0 0 0 0 0 0 0 0 0 0 0 0 0 0 0 0 0 0 0 0 0 0 0 0 0 0 0 0 0 0 0 0 0 0 0 0 0 0 0 0 0 0 0 0 0 0 0 0 0 0 0 0 0 0 0 0 0 0 0 0 0 0 0 0 0 0 0 0 0 0 0 0 0 0 0 0 0 0 0 0 0 0 0 0 0 0 0 0 0 0 0 0 0 0 0 0 0 0 0 0 0 0 0 0 0 0 0 0 0 0 0 0 0 0 0 0 0 0 0 0 0 0 0 0 0 0 0 0 0 0 0 0 0 0 0 0 0 0 0 0 0 0 0 0 0 0 0 0 0 0 0 0 0 0 0 0 0 0 0 0 0 0 0 0 0 0 0 0 0 0 0 0 0 0 0 0 0 0 0 0 0 0 0 0 0 0 0 0 0 0 0 0 0 0 0 0 0 0 0 0 0 0 0 0 0 0 0 0 0 0 0 0 0 0 0 0 0 0 0 0 0 0 0 0 0 0 0 0 0 0 0 0 0 0 0 0 0 0 0 0 0 0 0 0 0 0 0 0 0 0 0 0 0 0 0 0 0 0 0 0 0 0 0 0 0 0 0 0 0 0 0 0 0 0 0 0 0 0 0 0 0 0 0 0 0 0 0 0 0 0 0 0 0 0 0 0 0 0 0 0 0 0 0 0 0 0 0 0 0 0 0 0 0 0 0 0 0 0 0 0 0 0 0 0 0 0 0 0 0 0 0 0 0 0 0 0 0 0 0 0 0 0 0 0 0 0 0 0 0 0 0 0 0 0 0 0 0 0 0 0 0 0 0 0 0 0 0 0 0 0 0 0 0 0 0 0 0 0 0 0 0 0 0 0 0 0 0 0 0 0 0 0 0 0 0 0 0 0 0 0 0 0 0 0 0 0 0 0 0 0 0 0 0 0 0 0 0 0 0 0 0 0 0 0 0 0 0 0 0 0 0 0 0 0 0 0 0 0 0 0 0 0 0 0 0 0 0 0 0 0 0 0 0 0 0 0 0 0 0 0 0 0 0 0 0 0 0 0 0 0 0 0 0 0 0 0 0 0 0 0 0 0 0 0 0 0 0 0 0 0 0 0 0 0 0 0 0 0 0 0 0 0 0 0 0 0 0 0 0 0 0 0 0 0 0 0 0 0 0 0 0 0 0 0 0 0 0 0 0 0 0 0 0 0 0 0 0 0 0 0 0 0 0 0 0 0 0 0 0 0 0 0 0 0 0 0 0 0 0 0 0 0 0 0 0 0 0 0 0 0 0 0 0 0 0 0 0 0 0 0 0 0 0 0 0 0 0 0 0 0 0 0 0 0 0 0 0 0 0 0 0 0 0 0 0 0 0 0 0 0 0 0 0 0 0 0 0 0 0 0 0 0 0 0 0 0 0 0 0 0 0 0 0 0 0 0 0 0 0 0 0 0 0 0 0 0 0 0 0 0 0 0 0 0 0 0 0 0 0 0 0 0 0 0 0 0 0 0 0 0 0 0 0 0 0 0 0 0 0 0 0 0 0 0 0 0 0 0 0 0 0 0 0 0 0 0 0 0 0 0 0 0 0 0 0 0 0 0 0 0 0 0 0 0 0 0 0 0 0 0 0 0 0 0 0 0 0 0 0 0 0 0 0 0 0 0 0 0 0 0 0 0 0 0 0 0 0 0 0 0 0 0 0 0 0 0 0 0 0 0 0 0 0 0 0 0 0 0 0 0 0 0 0 0 0 0 0 0 0 0 0 0 0 0 0 0 0 0 0 0 0 0 0 0 0 0 0 0 0 0 0 0 0 0 0 0 0 0 0 0 0 0 0 0 0 0 0 0 0 0 0 0 0 0 0 0 0 0 0 0 0 0 0 0 0 0 0 0 0 0 0 0 0 0 0 0 0 0 0 0 0 0 0 0 0 0 0 0 0 0 0 0 0 0 0 0 0 0 0 0 0 0 0 0 0 0 0 0 0 0 0 0 0 0 0 0 0 0 0 0 0 0 0 0 0 0 0 0 0 0 0 0 0 0 0 0 0 0 0 0 0 0 0 0 0 0 0 0 0 0 0 0 0 0 0 0 0 0 0 0 0 0 0 0 0 0 0 0 0 0 0 0 0 0 0 0 0 0 0 0 0 0 0 0 0 0 0 0 0 0 0 0 0 0 0 0 0 0 0 0 0 0 0 0 0 0 0 0 0 0 0 0 0 0 0 0 0 0 0 0 0 0 0 0 0 0 0 0 0 0 0 0 0 0 0 0 0 0 0 0 0 0 0 0 0 0 0 0 0 0 0 0 0 0 0 0 0 0 0 0 0 0 0 0 0 0 0 0 0 0 0 0 0 0 0 0 0 0 0 0 0 0 0 0 0 0 0 0 0 0 0 0 0 0 0 0 0 0 0 0 0 0 0 0 0 0 0 0 0 0 0 0 0 0 0 0 0 0 0 0 0 0 0 0 0 0 0 0 0 0 0 0 0 0 0 0 0 0 0 0 0 0 0 0 0 0 0 0 0 0 0 0 0 0 0 0 0 0 0 0 0 0 0 0 0 0 0 0 0 0 0 0 0 0 0 0 0 0 0 0 0 0 0 0 0 0 0 0 0 0 0 0 0 0 0 0 0 0 0 0 0 0 0 0 0 0 0 0 0 0 0 0 0 0 0 0 0 0 0 0 0 0 0 0 0 0 0 0 0 0 0 0 0 0 0 0 0 0 0 0 0 0 0 0 0 0 0 0 0 0 0 0 0 0 0 0 0 0 0 0 0 0 0 0 0 0 0 0 0 0 0 0 0 0 0 0 0 0 0 0 0 0 0 0 0 0 0 0 0 0 0 0 0 0 0 0 0 0 0 0 0 0 0 0 0 0 0 0 0 0 0 0 0 0 0 0 0 0 0 0 0 0 0 0 0 0 0 0 0 0 0 0 0 0 0 0 0 0 0 0 0 0 0 0 0 0 0 0 0 0 0 0 0 0 0 0 0 0 0 0 0 0 0 0 0 0 0 0 0 0 0 0 0 0 0 0 0 0 0 0 0 0 0 0 0 0 0 0 0 0 0 0 0 0 0 0 0 0 0 0 0 0 0 0 0 0 0 0 0 0 0 0 0 0 0 0 0 0 0 0 0 0 0 0 0 0 0 0 0 0 0 0 0 0 0 0 0 0 0 0 0 0 0 0 0 0 0 0 0 0 0 0 0 0 0 0 0 0 0 0 0 0 0 0 0 0 0 0 0 0 0 0 0 0 0 0 0 0 0 0 0 0 0 0 0 0 0 0 0 0 0 0 0 0 0 0 0 0 0 0 0 0 0 0 0 0 0 0 0 0 0 0 0 0 0 0 0 0 0 0 0 0 0 0 0 0 0 0 0 0 0 0 0 0 0 0 0 0 0 0 0 0 0 0 0 0 0 0 0 0 0 0 0 0 0 0 0 0 0 0 0 0 0 0 0 0 0 0 0 0 0 0 0 0 0 0 0 0 0 0 0 0 0 0 0 0 0 0 0 0 0 0 0 0 0 0 0 0 0 0 0 0 0 0 0 0 0 0 0 0 0 0 0 0 0 0 0 0 0 0 0 0 0 0 0 0 0 0 0 0 0 0 0 0 0 0 0 0 0 0 0 0 0 0 0 0 0 0 0 0 0 0 0 0 0 0 0 0 0 0 0 0 0 0 0 0 0 0 0 0 0 0 0 0 0 0 0 0 0 0 0 0 0 0 0 0 0 0 0 0 0 0 0 0 0 0 0 0 0 0 0 0 0 0 0 0 0 0 0 0 0 0 0 0 0 0 0 0 0 0 0 0 0 0 0 0 0 0 0 0 0 0 0 0 0 0 0 0 0 0 0 0 0 0 0 0 0 0 0 0 0 0 0 0 0 0 0 0 0 0 0 0 }, neurons={                                                                }, aliasing=1), readout=xyloAudio3::configuration::ReadoutConfig(weight_bit_shift=0, weights={ 5 -77 113 -96 52 -100 -61 13 -96 -71 14 -31 122 71 -48 24 104 60 -6 -104 -96 89 66 5 90 33 1 71 -48 101 124 97 76 -112 120 102 102 -3 -85 -10 -126 82 -106 -71 84 -8 -116 24 71 -83 -81 -33 -11 11 -58 80 -116 -27 97 -11 -43 5 13 -125 -83 -80 -99 -60 -104 83 4 45 -127 -80 -118 10 71 -102 100 8 -90 -115 105 -41 -10 76 -75 -78 -5 42 40 49 41 74 -114 125 -121 -15 -70 -97 -3 -98 36 127 43 108 -108 -78 52 66 43 -66 62 -81 45 37 2 13 48 52 -122 -86 32 -15 -58 -27 -70 13 49 77 98 -115 -104 9 116 -6 -120 124 -22 -27 7 67 -50 -100 -112 18 39 67 34 -53 -46 -26 50 -64 -55 92 -31 59 2 70 127 108 -107 7 -48 -104 -25 -70 -66 45 -64 -35 -58 21 127 87 -68 -70 76 -37 36 94 -74 -37 -115 -13 -110 -3 -35 -13 -66 69 13 -76 -67 24 34 32 -66 84 78 -56 -117 126 88 106 -103 44 1 90 -74 -83 98 82 -105 111 -117 113 -31 -42 -33 113 -73 59 79 101 119 70 -121 -6 -119 117 70 31 120 42 10 -91 96 112 -24 -29 6 109 -50 -8 107 47 100 86 -74 -114 -94 73 63 -114 -72 -38 92 -21 -103 41 71 -86 102 22 77 64 11 118 -2 -90 -19 46 -123 -42 -119 32 -117 -10 105 -23 -111 -82 -92 104 3 48 -84 1 29 -34 77 -20 -57 -51 -65 40 60 -7 -53 49 -118 -100 -21 97 -8 125 -22 -98 25 53 -23 -49 -97 119 67 -117 -19 -27 3 -107 -15 -13 59 117 -118 121 105 30 -6 82 111 8 -16 9 125 -107 -51 115 -121 102 99 13 -107 87 85 -50 -62 106 -122 -10 -62 18 114 -3 38 -122 -38 115 17 -19 76 -118 75 -39 55 46 -45 -98 -1 74 45 -102 -74 44 50 -122 -56 -25 -113 -54 -86 -119 -2 103 -97 45 -90 -5 44 -105 -67 74 -37 109 41 -40 31 -101 38 127 52 -96 38 -127 86 -65 116 47 -65 69 -90 53 -122 -42 38 9 127 -33 125 2 29 104 72 75 -101 -14 95 -106 -27 32 -33 -50 9 100 91 110 -13 -111 77 -17 102 122 87 2 -91 48 57 -70 108 -117 33 -36 125 -40 42 127 56 127 -111 -84 93 -23 -123 30 -115 21 21 109 27 -76 84 -65 -18 47 75 -42 82 74 -84 0 31 94 -120 14 23 -115 107 -52 -25 -95 76 -54 -24 -113 36 -99 -12 -60 -42 -64 70 -102 -8 -12 50 -60 120 -22 -13 2 -35 40 119 58 -88 72 88 -107 51 125 62 -37 -51 67 -104 -66 -124 -96 1 -5 80 28 23 -23 -98 110 -116 22 7 -121 95 -60 -29 -125 -104 -81 7 65 -47 -37 -21 97 23 6 -56 7 75 80 -113 75 -41 -19 94 18 -127 -84 -96 -82 -93 -80 65 95 -6 -43 115 -22 118 -125 -91 41 96 -52 -95 76 62 55 -1 -58 111 -106 108 15 53 -68 -27 -108 -77 9 -48 48 -91 74 2 109 82 -105 19 -37 -126 -41 -111 123 -56 84 40 12 54 -41 -83 88 -123 25 120 8 -8 108 107 14 -102 126 127 -91 -118 -26 -74 78 45 106 -20 35 114 18 71 -41 37 107 -15 -3 126 -55 27 123 -95 -23 107 -20 -58 -15 -116 5 61 -127 -92 -38 6 -115 54 -41 118 4 -112 122 123 75 -114 -44 -86 103 -117 61 18 -108 -58 -96 84 116 -96 -124 56 -13 110 114 -71 78 100 -13 -39 -118 16 -75 -52 -67 55 5 -113 -57 -48 -117 -103 -12 113 -15 22 -9 -85 -110 -31 58 -100 -104 -99 -97 -82 -71 82 120 -16 -13 113 -41 -70 -42 106 -123 -72 78 -78 -112 52 -82 112 68 -98 -71 -60 81 -76 44 116 -41 -87 -58 38 -92 -94 53 -30 -111 -38 -43 127 -22 42 -1 0 47 -96 111 -84 -11 -119 117 -30 40 -39 -38 120 19 75 -123 29 -22 -39 68 -12 -46 108 71 -77 -76 9 -119 -111 14 123 -119 102 127 -63 0 15 21 -119 35 27 -127 -64 -89 -4 69 -87 -20 -76 -43 -31 -5 49 -56 72 32 -92 90 -41 -110 -92 92 -68 4 -125 51 68 -50 -61 -59 72 41 116 67 -58 -50 55 79 52 -32 83 -77 41 -85 -75 -42 1 -97 82 -52 -103 -54 -81 -91 35 -43 -32 -23 73 55 41 93 -50 -111 -50 31 -47 57 3 -84 93 -21 -109 -38 11 31 -125 -127 -127 -82 22 81 77 113 47 112 58 -31 122 4 -92 -126 -82 -72 -33 -48 3 8 -71 10 -82 42 6 -112 -54 125 42 -49 -9 -7 -82 -20 -90 95 33 6 97 -35 -123 -91 -95 75 -32 -6 122 37 -70 118 15 -125 77 -5 49 70 98 96 51 -48 -59 -14 97 124 10 -3 -56 -49 6 -127 -92 -92 104 -54 -16 45 6 -121 -125 -33 -71 -127 20 -89 -83 -11 -93 0 -85 -127 82 -68 -1 1 -33 -43 64 -90 41 97 68 4 41 51 78 -64 -112 67 -116 -93 2 82 -50 4 62 104 -38 -43 10 122 -50 126 -119 -82 -27 -19 -13 84 -31 -126 74 89 21 47 -52 15 -106 45 -42 -64 -26 14 46 -37 -93 -57 55 -1 -37 77 -16 83 -28 81 69 -35 -126 -80 1 -117 -65 -22 49 -15 21 -63 -122 58 -122 -53 -10 -65 89 -80 -14 -80 -80 -29 33 72 62 110 65 -77 -105 102 7 28 -77 -76 -101 9 112 -99 -81 -61 -59 51 59 -50 -91 88 -46 -102 26 -40 -104 81 48 -90 -5 -57 -31 -110 -7 -111 113 -42 9 20 93 -91 -15 37 73 39 -20 90 -114 120 8 72 -97 -127 -67 91 -57 -86 -108 -103 -30 13 60 82 -54 37 -45 -37 80 118 24 -71 54 55 4 29 110 118 -66 -123 -97 -123 85 -60 -85 89 -127 -89 -89 -29 54 35 -53 63 -39 7 108 -14 62 -99 -49 62 72 26 20 -56 10 103 6 8 80 -94 -124 -53 -17 116 13 121 -39 -24 126 75 -13 -92 125 -1 -45 43 75 117 51 -90 -51 -93 66 -127 -53 -83 43 61 -35 -91 -112 61 -32 -127 105 105 -66 -73 -41 8 -30 -35 93 87 -41 93 -85 38 -106 -92 111 33 -25 106 113 -110 -113 -53 -91 97 81 -107 -14 111 115 112 28 -47 4 -120 61 9 -62 -26 -22 -117 -78 29 -86 116 -62 -38 -11 -13 58 -107 -47 -36 80 123 15 -103 -61 -44 16 -31 19 119 -40 87 106 79 124 -37 -15 114 -103 -15 70 -48 -127 -23 -37 28 77 46 57 72 62 -39 127 -89 47 90 -59 -17 -30 42 -77 9 95 88 91 -57 -36 -3 36 88 -110 -86 49 -105 107 -98 -51 -126 -60 77 -41 16 -53 81 -122 -114 107 -23 -102 80 59 -39 -85 21 -15 -55 3 7 -58 87 12 121 -50 80 -99 18 72 8 -79 -35 -80 70 -98 -9 -101 -83 -62 11 -70 115 -69 -85 -81 -42 32 95 22 127 116 123 64 -81 61 -84 53 -112 -7 72 26 98 -21 75 -4 -88 45 57 -24 -60 91 116 -99 -113 109 -63 119 27 104 24 -108 19 121 31 106 57 -111 -127 -125 104 101 78 -1 81 -119 -56 -108 -82 -34 20 -81 -3 89 85 -50 -16 6 -73 127 118 117 10 15 -55 -98 -126 -84 -54 -126 -91 -55 -80 -23 3 -72 -117 -50 -63 -30 -47 76 105 -115 -100 -17 -56 89 -61 -18 116 48 20 -69 27 -16 -8 -54 94 -52 44 126 111 19 -127 21 -117 -114 115 -119 -88 -127 -109 121 -15 -45 54 -121 -55 -68 120 -113 64 -67 -6 -24 119 23 125 89 -10 -56 21 0 -74 55 13 48 -117 88 96 -124 -127 9 -14 -59 96 -75 -49 -58 -66 18 52 117 -97 -20 51 59 -54 -5 -53 114 -72 -95 67 -18 44 -57 58 -11 77 25 -115 52 -8 -91 97 86 -62 -114 -110 7 -41 -127 1 96 75 -56 67 -101 3 -99 -91 100 -45 -117 -78 -95 -119 125 -105 -53 -53 1 -113 96 89 124 73 -15 81 -66 -3 -119 7 8 -39 6 27 111 -31 -91 -40 -20 16 86 124 -106 5 43 -120 -15 37 -59 47 85 110 -36 114 11 100 50 78 -12 48 -8 -124 -70 -24 113 -35 -28 -30 -27 -115 20 88 89 96 -75 21 36 -86 -75 -115 -96 -57 -104 -83 44 123 -78 49 -101 54 124 -114 114 -103 -124 87 -91 -64 123 108 -45 -125 -14 -109 122 -33 -62 -62 76 110 -108 44 -92 64 54 84 -122 65 9 -114 127 119 -65 71 122 60 120 103 -119 -119 122 57 -85 -30 -6 -102 -49 -31 -83 -72 -92 27 115 -102 9 87 -88 21 70 -21 -103 81 -46 99 51 41 -85 -99 -4 23 126 -47 -45 -48 103 -56 2 -70 71 -15 101 119 -25 -16 -122 76 99 80 55 -50 -89 -73 -3 88 4 -1 9 -28 4 -63 -80 -57 -68 -32 127 -57 -50 114 7 -83 -32 -81 -16 119 -23 121 -37 52 127 -112 20 -29 125 -2 105 -60 28 0 70 -121 -52 -16 -106 -107 -79 69 24 62 101 -7 102 -81 30 -78 3 117 106 108 118 18 32 67 53 -76 -30 -62 -54 48 67 -41 -30 88 58 14 -2 71 -88 -46 12 -4 -114 48 112 -23 -84 90 43 72 -72 77 -100 101 -72 -74 26 39 -16 -82 107 114 -90 13 -78 -61 -32 49 36 127 -126 102 -58 96 15 -8 -20 123 127 -30 94 63 -30 -83 -80 -30 46 98 1 -30 114 24 -53 13 -2 29 92 -125 -83 101 -74 -103 -102 38 -93 -15 51 -45 -74 21 7 -118 26 20 -33 -11 122 112 42 114 -106 94 62 75 71 106 30 -15 13 87 -22 -108 -25 -92 -32 32 -25 -117 -123 79 -76 33 -10 71 47 -48 92 22 -13 -38 88 -26 -58 37 -70 50 25 -3 83 -74 -42 -70 111 -121 98 -90 -110 99 -17 -65 30 -78 -48 -118 -27 -33 -109 -52 21 -68 -13 -22 81 -14 97 -75 -16 -11 54 67 42 119 -45 92 -59 52 -107 115 -39 -65 -114 5 -78 125 -116 29 -46 28 72 14 35 -46 -76 -109 -108 -80 -33 -37 13 -50 -42 -124 65 -38 -13 -65 -49 -51 100 61 46 -23 117 4 75 -103 66 -123 -115 40 -32 -20 }, neurons={                                 }), digital_frontend=xyloAudio3::configuration::DigitalFrontendConfig(mode=DigitalFrontendMode.Pdm, automatic_gain_control=xyloAudio3::configuration::AutomaticGainControlConfig(bypass=1, pga_gain_value=(...), rise_average_bit_shift=0, fall_average_bit_shift=0, reliable_max_hysteresis=0, gain_smoother_average_bit_shift=0, gain_smoother_gain_fraction_num_bits=0, gain_high_res_init_value=0, max_sample_number=0, aaf_oversampling_mode=0, anti_alias_filter_a_parameters={ 0 0 0 0 }, anti_alias_filter_b_parameters={ 0 0 0 0 0 }, anti_alias_filter_surplus=0, anti_alias_filter_baf=0, wait_time_vectors={ 0 0 0 0 0 0 0 0 0 0 0 0 0 0 0 0 }, amp_thresholds={ 0 0 0 0 0 0 0 0 0 0 0 0 0 0 0 0 }, pga_gain_index_variations={ 0 0 0 0 0 0 0 0 0 0 0 0 0 0 0 0 0 }, up_gain_rotation_shift_averages={ 0 0 0 0 0 0 0 0 0 0 0 0 0 0 0 }, down_gain_rotation_shift_averages={ 0 0 0 0 0 0 0 0 0 0 0 0 0 0 0 }), pdm_preprocessing=xyloAudio3::configuration::PdmPreprocessingConfig(clock_direction=1, clock_edge=0, h_values={ -115 553 -1962 3916 19991 3314 -1822 533 0 0 533 -1822 3314 19991 3916 -1962 553 -115 0 510 -1677 2735 19943 4538 -2096 570 -107 0 484 -1530 2181 19846 5180 -2224 583 -98 0 457 -1382 1652 19701 5838 -2342 592 -90 0 429 -1233 1151 19509 6511 -2451 596 -80 0 399 -1086 679 19270 7195 -2547 595 -70 0 369 -941 236 18987 7889 -2630 588 -59 0 338 -799 -176 18659 8589 -2697 575 -47 0 308 -662 -559 18290 9293 -2748 556 -34 0 277 -529 -910 17881 9998 -2780 529 -20 0 248 -402 -1229 17433 10700 -2792 495 -4 0 218 -282 -1517 16949 11398 -2782 454 11 0 190 -168 -1775 16432 12087 -2750 405 29 0 163 -62 -2001 15883 12765 -2693 347 48 0 138 35 -2197 15305 13429 -2610 282 68 0 113 126 -2363 14702 14076 -2500 208 90 0 90 208 -2500 14076 14702 -2363 126 113 0 68 282 -2610 13429 15305 -2197 35 138 0 48 347 -2693 12765 15883 -2001 -62 163 0 29 405 -2750 12087 16432 -1775 -168 190 0 11 454 -2782 11398 16949 -1517 -282 218 0 -4 495 -2792 10700 17433 -1229 -402 248 0 -20 529 -2780 9998 17881 -910 -529 277 0 -34 556 -2748 9293 18290 -559 -662 308 0 -47 575 -2697 8589 18659 -176 -799 338 0 -59 588 -2630 7889 18987 236 -941 369 0 -70 595 -2547 7195 19270 679 -1086 399 0 -80 596 -2451 6511 19509 1151 -1233 429 0 -90 592 -2342 5838 19701 1652 -1382 457 0 -98 583 -2224 5180 19846 2181 -1530 484 0 -107 570 -2096 4538 19943 2735 -1677 510 }), filter_bank=xyloAudio3::configuration::FilterBankConfig(bpf_bb_values={ 8 8 7 7 6 6 5 5 4 4 4 3 3 2 2 1 }, bpf_bwf_values={ 8 8 8 8 8 8 8 8 8 8 8 8 8 8 8 8 }, bpf_baf_values={ 6 6 7 7 8 8 9 9 10 10 10 11 11 13 13 14 }, bpf_a1_values={ -32694 -32663 -32617 -32551 -32453 -32305 -32077 -31718 -31139 -30185 -28582 -25862 -21262 -27375 -4180 25566 }, bpf_a2_values={ 16313 16284 16244 16188 16110 16000 15848 15638 15347 14947 14402 13666 12687 22803 19488 15280 }, use_global_iaf_threshold=0, iaf_thresholds={ 33554432 33554432 33554432 33554432 33554432 33554432 33554432 33554432 33554432 33554432 33554432 33554432 33554432 33554432 33554432 33554432 }, dn_enable=1, dn_eps_values={ 32 32 32 32 32 32 32 32 32 32 32 32 32 32 32 32 }, dn_b_values={ 12 12 12 12 12 12 12 12 12 12 12 12 12 12 12 12 }, dn_k1_values={ 6 6 6 6 6 6 6 6 6 6 6 6 6 6 6 6 }, dn_k2_values={ 0 0 0 0 0 0 0 0 0 0 0 0 0 0 0 0 })), debug=xyloAudio3::configuration::DebugConfig(monitor_neuron_v_mem={ }, monitor_neuron_i_syn={ }, monitor_neuron_spike={ }, input_write_select=0, input_read_select=0, debug_input_enable=1, saer_if_enable=0, ram_power_enable=0, monitor_signals={ 0 0 0 0 }, monitor_signals_enable=1, debug_status_update_enable=1))\n",
      "[xyloAudio3::event::RegisterValue(address=0, data=65538)]\n"
     ]
    }
   ],
   "source": [
    "# create xylo monitor\n",
    "dt = 0.01\n",
    "xylo_node = xylo_hdks[0]\n",
    "print(xylo_node)\n",
    "\n",
    "\n",
    "# PDM\n",
    "config.digital_frontend.mode = samna.xyloAudio3.DigitalFrontendMode.Pdm\n",
    "\n",
    "# TR_WRAP register\n",
    "# config.time_resolution_wrap = int(0x7_9FF3)\n",
    "config.time_resolution_wrap = 50000000 # use the same value as in Xin's tests\n",
    "\n",
    "# real-time mode\n",
    "config.operation_mode = samna.xyloAudio3.OperationMode.RealTime\n",
    "\n",
    "config.debug.debug_status_update_enable = 1\n",
    "config.debug.debug_input_enable = 1\n",
    "config.debug.monitor_signals_enable = 1\n",
    "\n",
    "# PCB switches\n",
    "# This is physically checked on the board\n",
    "\n",
    "# inside XyloMonitor the buffers are created and FPGA modules are set\n",
    "xylo_monitor = XyloMonitor(device=xylo_node, \n",
    "    config=config, \n",
    "    dt = dt,\n",
    "    output_mode='Spike')\n",
    "\n",
    "# print(xylo_monitor)\n",
    "\n",
    "print(xylo_monitor.config)\n",
    "\n",
    "# Create a XyloSamna structure for evolving\n",
    "modSamna = XyloSamna(xylo_node, config, dt = dt)\n",
    "\n",
    "xylo_monitor._write_buffer.write([samna.xyloAudio3.event.ReadRegisterValue(0)])\n",
    "print(xylo_monitor._read_buffer.get_n_events(1, 2000))\n"
   ]
  },
  {
   "cell_type": "markdown",
   "id": "992ec60e-f1c5-4f97-b225-d684e97d240c",
   "metadata": {},
   "source": [
    "## Start processing and collect events\n",
    "\n",
    "* Send TriggerProcessing event from Samna with the desired time step\n",
    "* Collect readout events in the BufferSink attached to the model source node"
   ]
  },
  {
   "cell_type": "code",
   "execution_count": 4,
   "id": "98971254-fcc7-4ee1-bd11-2ee87fcf63f6",
   "metadata": {},
   "outputs": [
    {
     "data": {
      "application/vnd.jupyter.widget-view+json": {
       "model_id": "92f4b4f7b46c41cc942598651c0ff36e",
       "version_major": 2,
       "version_minor": 0
      },
      "text/plain": [
       "  0%|          | 0/1000 [00:00<?, ?it/s]"
      ]
     },
     "metadata": {},
     "output_type": "display_data"
    },
    {
     "name": "stdout",
     "output_type": "stream",
     "text": [
      "{'Vmem': array([[0, 0, 0, ..., 0, 0, 0],\n",
      "       [0, 0, 0, ..., 0, 0, 0],\n",
      "       [0, 0, 0, ..., 0, 0, 0],\n",
      "       ...,\n",
      "       [0, 0, 0, ..., 0, 0, 0],\n",
      "       [0, 0, 0, ..., 0, 0, 0],\n",
      "       [0, 0, 0, ..., 0, 0, 0]], dtype=int16), 'Isyn': array([[0, 0, 0, ..., 0, 0, 0],\n",
      "       [0, 0, 0, ..., 0, 0, 0],\n",
      "       [0, 0, 0, ..., 0, 0, 0],\n",
      "       ...,\n",
      "       [0, 0, 0, ..., 0, 0, 0],\n",
      "       [0, 0, 0, ..., 0, 0, 0],\n",
      "       [0, 0, 0, ..., 0, 0, 0]], dtype=int16), 'Isyn2': array([[0, 0, 0, ..., 0, 0, 0],\n",
      "       [0, 0, 0, ..., 0, 0, 0],\n",
      "       [0, 0, 0, ..., 0, 0, 0],\n",
      "       ...,\n",
      "       [0, 0, 0, ..., 0, 0, 0],\n",
      "       [0, 0, 0, ..., 0, 0, 0],\n",
      "       [0, 0, 0, ..., 0, 0, 0]], dtype=int16), 'Spikes': array([[False, False, False, ..., False, False, False],\n",
      "       [False, False, False, ..., False, False, False],\n",
      "       [False, False, False, ..., False, False, False],\n",
      "       ...,\n",
      "       [False, False, False, ..., False, False, False],\n",
      "       [False, False, False, ..., False, False, False],\n",
      "       [False, False, False, ..., False, False, False]]), 'Vmem_out': array([[0, 0, 0, ..., 0, 0, 0],\n",
      "       [0, 0, 0, ..., 0, 0, 0],\n",
      "       [0, 0, 0, ..., 0, 0, 0],\n",
      "       ...,\n",
      "       [0, 0, 0, ..., 0, 0, 0],\n",
      "       [0, 0, 0, ..., 0, 0, 0],\n",
      "       [0, 0, 0, ..., 0, 0, 0]], dtype=int16), 'Isyn_out': array([[0, 0, 0, ..., 0, 0, 0],\n",
      "       [0, 0, 0, ..., 0, 0, 0],\n",
      "       [0, 0, 0, ..., 0, 0, 0],\n",
      "       ...,\n",
      "       [0, 0, 0, ..., 0, 0, 0],\n",
      "       [0, 0, 0, ..., 0, 0, 0],\n",
      "       [0, 0, 0, ..., 0, 0, 0]], dtype=int16)}\n",
      "[[False False False ... False False False]\n",
      " [False False False ... False False False]\n",
      " [False False False ... False False False]\n",
      " ...\n",
      " [False False False ... False False False]\n",
      " [False False False ... False False False]\n",
      " [False False False ... False False False]]\n"
     ]
    }
   ],
   "source": [
    "# The notebook calls XyloMonitor.evolve() with some input data, which the evolve function will try to send. \n",
    "# This is not allowed in real-time mode.\n",
    "\n",
    "import numpy as np\n",
    "N = 1000\n",
    "\n",
    "# in rd there is a AFE related record ('spike_in' or similar).\n",
    "# It should be empty in silence and non empty when we make noise\n",
    "out, _, rd = modSamna.evolve(input = np.zeros((N,2)), record = True)\n",
    "print(rd)\n",
    "\n",
    "# out, _, rec = xylo_monitor.evolve(input_data=np.ones((N,16)))\n",
    "print(out)\n"
   ]
  },
  {
   "cell_type": "code",
   "execution_count": 21,
   "id": "c4dcbd61-c09b-4239-baf0-600b8c49b91e",
   "metadata": {},
   "outputs": [
    {
     "data": {
      "text/plain": [
       "'0x517'"
      ]
     },
     "execution_count": 21,
     "metadata": {},
     "output_type": "execute_result"
    }
   ],
   "source": [
    "hex(1303)\n"
   ]
  },
  {
   "cell_type": "code",
   "execution_count": 23,
   "id": "fa22a130-b216-4ad0-a287-7fe6a8617f85",
   "metadata": {},
   "outputs": [
    {
     "name": "stdout",
     "output_type": "stream",
     "text": [
      "[xyloAudio3::event::MemoryValue(address=4623, data=0)]\n"
     ]
    }
   ],
   "source": [
    "xylo_monitor._write_buffer.write([samna.xyloAudio3.event.ReadRegisterValue(0)])\n",
    "print(xylo_monitor._read_buffer.get_n_events(1, 2000))"
   ]
  },
  {
   "cell_type": "code",
   "execution_count": 18,
   "id": "11632dce-44d7-4706-8c0d-19dbf49ab5a0",
   "metadata": {},
   "outputs": [
    {
     "name": "stdout",
     "output_type": "stream",
     "text": [
      "[xyloAudio3::event::MemoryValue(address=4619, data=0)]\n"
     ]
    }
   ],
   "source": [
    "xylo_monitor._write_buffer.write([samna.xyloAudio3.event.ReadRegisterValue(12)])\n",
    "print(xylo_monitor._read_buffer.get_n_events(1, 2000))"
   ]
  },
  {
   "cell_type": "code",
   "execution_count": 19,
   "id": "d41e3c3e-1113-41da-95a4-207443f21749",
   "metadata": {},
   "outputs": [
    {
     "name": "stdout",
     "output_type": "stream",
     "text": [
      "[xyloAudio3::event::MemoryValue(address=4620, data=0)]\n"
     ]
    }
   ],
   "source": [
    "xylo_monitor._write_buffer.write([samna.xyloAudio3.event.ReadRegisterValue(27)])\n",
    "print(xylo_monitor._read_buffer.get_n_events(1, 2000))"
   ]
  },
  {
   "cell_type": "code",
   "execution_count": 20,
   "id": "a229b175-3b55-426f-985c-1ce2ebe8997d",
   "metadata": {},
   "outputs": [
    {
     "name": "stdout",
     "output_type": "stream",
     "text": [
      "[xyloAudio3::event::MemoryValue(address=4621, data=0)]\n"
     ]
    }
   ],
   "source": [
    "xylo_monitor._io.write_config(0x0008, 1)\n",
    "print(xylo_monitor._read_buffer.get_n_events(1, 2000))"
   ]
  },
  {
   "cell_type": "code",
   "execution_count": null,
   "id": "720d197b-0a0c-401a-9830-0f47192687ce",
   "metadata": {},
   "outputs": [],
   "source": []
  },
  {
   "cell_type": "code",
   "execution_count": null,
   "id": "bc7f47e7-0677-4fdb-8cdc-27b0a6a3e7ef",
   "metadata": {},
   "outputs": [],
   "source": []
  }
 ],
 "metadata": {
  "kernelspec": {
   "display_name": "Python 3 (ipykernel)",
   "language": "python",
   "name": "python3"
  },
  "language_info": {
   "codemirror_mode": {
    "name": "ipython",
    "version": 3
   },
   "file_extension": ".py",
   "mimetype": "text/x-python",
   "name": "python",
   "nbconvert_exporter": "python",
   "pygments_lexer": "ipython3",
   "version": "3.10.12"
  }
 },
 "nbformat": 4,
 "nbformat_minor": 5
}
