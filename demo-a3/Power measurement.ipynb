{
 "cells": [
  {
   "cell_type": "code",
   "execution_count": 4,
   "id": "c47bd1ae-2cda-46fd-90cd-d97e8144e10e",
   "metadata": {},
   "outputs": [
    {
     "name": "stdout",
     "output_type": "stream",
     "text": [
      "0.39.3.0\n",
      "waiting for events\n",
      "[0.2370484259650864, 0.01359621424977785, 1.381604718296109]  in mW\n"
     ]
    }
   ],
   "source": [
    "import samna\n",
    "import time\n",
    "\n",
    "print(samna.__version__)\n",
    "\n",
    "d= samna.device.get_unopened_devices()\n",
    "dk = samna.device.open_device(d[0])\n",
    "\n",
    "pm = dk.get_power_monitor()\n",
    "buf = samna.graph.sink_from(pm.get_source_node())\n",
    "\n",
    "sw = dk.get_stop_watch()\n",
    "# has to enable stopwatch to use auto power measurement\n",
    "sw.start(True)\n",
    "pm.start_auto_power_measurement(100) # 100Hz\n",
    "\n",
    "print(\"waiting for events\")\n",
    "events = buf.get_n_events(1000)\n",
    "pm.stop_auto_power_measurement()\n",
    "\n",
    "counts = [0,0,0]\n",
    "sums = [0,0,0]\n",
    "avgs = [0,0,0]\n",
    "\n",
    "for e in events:\n",
    "    sums[e.channel] += e.value\n",
    "    counts[e.channel] += 1\n",
    "\n",
    "idx = 0\n",
    "for sum, count in zip(sums, counts):\n",
    "    avgs[idx] = sum/count * 1000\n",
    "    idx += 1\n",
    "\n",
    "print(avgs, \" in mW\")\n"
   ]
  },
  {
   "cell_type": "code",
   "execution_count": 7,
   "id": "1e15b88d-38fe-4edd-b128-9271fd58e1dc",
   "metadata": {},
   "outputs": [
    {
     "name": "stdout",
     "output_type": "stream",
     "text": [
      "[0.23629428372563174, 0.01388680098112142, 1.3831259073534359]\n"
     ]
    }
   ],
   "source": [
    "import samna\n",
    "\n",
    "# Open the device and connect to the power monitor.\n",
    "board = samna.device.open_device(\"XyloAudio3TestBoard\")\n",
    "power_monitor = board.get_power_monitor()\n",
    "sink_pm = samna.graph.sink_from(power_monitor.get_source_node())\n",
    "stopwatch = board.get_stop_watch()\n",
    "\n",
    "# Start the stopwatch to enable time-stamped power sampling.\n",
    "stopwatch.start()\n",
    "\n",
    "# Start sampling power on all channels at a rate of 100 Hz.\n",
    "power_monitor.start_auto_power_measurement(100)\n",
    "\n",
    "# Auto power measurement streams PowerMeasurement events continuously.\n",
    "# To capture 3 seconds of data from 3 channels at 100Hz, we collect 900 events.\n",
    "events = sink_pm.get_n_events(900, timeout=4000)\n",
    "\n",
    "# Stop the automatic power measurement process.\n",
    "power_monitor.stop_auto_power_measurement()\n",
    "\n",
    "# Calculate the average power consumption for each channel over 3 seconds.\n",
    "counts = [0, 0, 0]\n",
    "sums = [0, 0, 0]\n",
    "for e in events:\n",
    "    assert isinstance(e, samna.unifirm.modules.events.PowerMeasurement)\n",
    "    sums[e.channel] += e.value\n",
    "    counts[e.channel] += 1\n",
    "\n",
    "# Compute the averages and convert to milliwatts (W -> mW).\n",
    "avgs = [sum/count * 1000 for sum, count in zip(sums, counts)]\n",
    "print(avgs)"
   ]
  },
  {
   "cell_type": "code",
   "execution_count": null,
   "id": "e9c8fbf4-71c1-44b5-84e7-c968a8d749c6",
   "metadata": {},
   "outputs": [],
   "source": []
  }
 ],
 "metadata": {
  "kernelspec": {
   "display_name": "Python 3 (ipykernel)",
   "language": "python",
   "name": "python3"
  },
  "language_info": {
   "codemirror_mode": {
    "name": "ipython",
    "version": 3
   },
   "file_extension": ".py",
   "mimetype": "text/x-python",
   "name": "python",
   "nbconvert_exporter": "python",
   "pygments_lexer": "ipython3",
   "version": "3.10.12"
  }
 },
 "nbformat": 4,
 "nbformat_minor": 5
}
