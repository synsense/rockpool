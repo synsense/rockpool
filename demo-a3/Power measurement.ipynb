{
 "cells": [
  {
   "cell_type": "code",
   "execution_count": 1,
   "id": "c47bd1ae-2cda-46fd-90cd-d97e8144e10e",
   "metadata": {},
   "outputs": [
    {
     "name": "stdout",
     "output_type": "stream",
     "text": [
      "0.38.5.79+g58034298\n",
      "waiting for events\n",
      "[0.2193026904530494, 0.013196718109905144, 1.4038859634428054]  in mW\n"
     ]
    }
   ],
   "source": [
    "import samna\n",
    "import time\n",
    "\n",
    "print(samna.__version__)\n",
    "\n",
    "d= samna.device.get_unopened_devices()\n",
    "dk = samna.device.open_device(d[0])\n",
    "\n",
    "pm = dk.get_power_monitor()\n",
    "buf = samna.graph.sink_from(pm.get_source_node())\n",
    "\n",
    "sw = dk.get_stop_watch()\n",
    "# has to enable stopwatch to use auto power measurement\n",
    "sw.set_enable_value(True)\n",
    "pm.start_auto_power_measurement(100) # 100Hz\n",
    "\n",
    "print(\"waiting for events\")\n",
    "events = buf.get_n_events(1000)\n",
    "pm.stop_auto_power_measurement()\n",
    "\n",
    "counts = [0,0,0]\n",
    "sums = [0,0,0]\n",
    "avgs = [0,0,0]\n",
    "\n",
    "for e in events:\n",
    "    sums[e.channel] += e.value\n",
    "    counts[e.channel] += 1\n",
    "\n",
    "idx = 0\n",
    "for sum, count in zip(sums, counts):\n",
    "    avgs[idx] = sum/count * 1000\n",
    "    idx += 1\n",
    "\n",
    "print(avgs, \" in mW\")\n"
   ]
  },
  {
   "cell_type": "code",
   "execution_count": null,
   "id": "1e15b88d-38fe-4edd-b128-9271fd58e1dc",
   "metadata": {},
   "outputs": [],
   "source": []
  }
 ],
 "metadata": {
  "kernelspec": {
   "display_name": "Python 3 (ipykernel)",
   "language": "python",
   "name": "python3"
  },
  "language_info": {
   "codemirror_mode": {
    "name": "ipython",
    "version": 3
   },
   "file_extension": ".py",
   "mimetype": "text/x-python",
   "name": "python",
   "nbconvert_exporter": "python",
   "pygments_lexer": "ipython3",
   "version": "3.10.12"
  }
 },
 "nbformat": 4,
 "nbformat_minor": 5
}
