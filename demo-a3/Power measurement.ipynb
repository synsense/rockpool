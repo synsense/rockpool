{
 "cells": [
  {
   "cell_type": "markdown",
   "id": "c6baca84-2049-4cd2-aad7-bd4b5708e8b1",
   "metadata": {},
   "source": [
    "## Read ADC information from the chip -- voltages\n",
    "used to debug the chip measurements"
   ]
  },
  {
   "cell_type": "code",
   "execution_count": 1,
   "id": "c47bd1ae-2cda-46fd-90cd-d97e8144e10e",
   "metadata": {},
   "outputs": [
    {
     "name": "stdout",
     "output_type": "stream",
     "text": [
      "0.39.5.7+g0e6db422\n",
      "[unifirm::adc::ina229::RegisterValue(address=7, value=1165216, timestamp=0)]\n",
      "[unifirm::adc::ina229::RegisterValue(address=5, value=207840, timestamp=0)]\n",
      "[unifirm::adc::ina229::RegisterValue(address=4, value=1117760, timestamp=0)]\n",
      "[unifirm::adc::ina229::RegisterValue(address=8, value=56970, timestamp=0)]\n"
     ]
    }
   ],
   "source": [
    "import samna\n",
    "import time\n",
    "\n",
    "print(samna.__version__)\n",
    "    \n",
    "d= samna.device.get_unopened_devices()\n",
    "dk = samna.device.open_device(d[0])\n",
    "power_module = dk.get_power_module()\n",
    "adc = power_module.get_digital_adc()\n",
    "\n",
    "adc.write([samna.unifirm.adc.ina229.RegisterRead(0x7)]) #digital current\n",
    "time.sleep(2)\n",
    "print(adc.read())\n",
    "\n",
    "adc.write([samna.unifirm.adc.ina229.RegisterRead(0x5)]) #digital voltage\n",
    "time.sleep(2)\n",
    "print(adc.read())\n",
    "\n",
    "adc.write([samna.unifirm.adc.ina229.RegisterRead(0x4)]) #digital v_shant\n",
    "time.sleep(2)\n",
    "print(adc.read())\n",
    "\n",
    "adc.write([samna.unifirm.adc.ina229.RegisterRead(0x8)]) #digital raw power\n",
    "time.sleep(2)\n",
    "print(adc.read())"
   ]
  },
  {
   "cell_type": "markdown",
   "id": "3b6e6992-6fe9-47d0-b921-b7600d3df886",
   "metadata": {},
   "source": [
    "## Basic power measurement -- Samna"
   ]
  },
  {
   "cell_type": "code",
   "execution_count": 2,
   "id": "1e15b88d-38fe-4edd-b128-9271fd58e1dc",
   "metadata": {},
   "outputs": [
    {
     "name": "stdout",
     "output_type": "stream",
     "text": [
      "[0.2684944046874686, 0.013561036032522603, 1.3764079539881398]\n"
     ]
    }
   ],
   "source": [
    "import samna\n",
    "\n",
    "# Open the device and connect to the power monitor.\n",
    "board = samna.device.open_device(\"XyloAudio3TestBoard\")\n",
    "power_monitor = board.get_power_monitor()\n",
    "sink_pm = samna.graph.sink_from(power_monitor.get_source_node())\n",
    "stopwatch = board.get_stop_watch()\n",
    "\n",
    "model = board.get_model()\n",
    "source = samna.graph.source_to(model.get_sink_node())\n",
    "sink   = samna.graph.sink_from(model.get_source_node())\n",
    "\n",
    "source.write([samna.xyloAudio3.event.WriteRegisterValue(address=0x168, data=0x0100_0000)])\n",
    "\n",
    "# Start the stopwatch to enable time-stamped power sampling.\n",
    "stopwatch.start()\n",
    "\n",
    "# Start sampling power on all channels at a rate of 100 Hz.\n",
    "power_monitor.start_auto_power_measurement(100)\n",
    "\n",
    "# Auto power measurement streams PowerMeasurement events continuously.\n",
    "# To capture 3 seconds of data from 3 channels at 100Hz, we collect 900 events.\n",
    "events = sink_pm.get_n_events(900, timeout=4000)\n",
    "\n",
    "# Stop the automatic power measurement process.\n",
    "power_monitor.stop_auto_power_measurement()\n",
    "\n",
    "# Calculate the average power consumption for each channel over 3 seconds.\n",
    "counts = [0, 0, 0]\n",
    "sums = [0, 0, 0]\n",
    "for e in events:\n",
    "    assert isinstance(e, samna.unifirm.modules.events.PowerMeasurement)\n",
    "    sums[e.channel] += e.value\n",
    "    counts[e.channel] += 1\n",
    "\n",
    "# Compute the averages and convert to milliwatts (W -> mW).\n",
    "avgs = [sum/count * 1000 for sum, count in zip(sums, counts)]\n",
    "print(avgs)"
   ]
  },
  {
   "cell_type": "markdown",
   "id": "0f431ceb-e7bb-4da3-9279-37147ea2e386",
   "metadata": {},
   "source": [
    "## Basic power measurement -- Rockpool"
   ]
  },
  {
   "cell_type": "code",
   "execution_count": 1,
   "id": "e9c8fbf4-71c1-44b5-84e7-c968a8d749c6",
   "metadata": {},
   "outputs": [
    {
     "name": "stdout",
     "output_type": "stream",
     "text": [
      "Samna version 0.39.5.7+g0e6db422\n",
      "from samna.xyloA3.configuration import InputInterfaceConfig\n",
      "The connected Xylo HDK contains a XyloAudio 3. Importing `rockpool.devices.xylo.syns65302`\n",
      "1\n",
      "0\n",
      "0\n",
      "0\n",
      "[]\n",
      "[]\n",
      "[]\n",
      "XyloAudio 3\n",
      "All IO:\t\tnan mW\n",
      "AFE core:\tnan mW\n",
      "SNN core logic:\tnan mW\n"
     ]
    }
   ],
   "source": [
    "import warnings\n",
    "warnings.filterwarnings(\"ignore\")\n",
    "\n",
    "import samna\n",
    "print(f'Samna version {samna.__version__}')\n",
    "\n",
    "import numpy as np\n",
    "from rockpool.devices.xylo.syns65302 import config_from_specification as a3_config_from, mapper as a3_mapper, XyloSamna as a3_XyloSamna, XyloMonitor as a3_XyloMonitor\n",
    "from rockpool.devices.xylo import find_xylo_hdks\n",
    "xylo_hdks, xylo_support_modules, xylo_versions = find_xylo_hdks()\n",
    "\n",
    "xa3_node = \"\"\n",
    "for version, xylo in zip(xylo_versions, xylo_hdks):\n",
    "    if version == \"syns65302\":\n",
    "        xa3_node = xylo\n",
    "\n",
    "input_data = np.loadtxt('input_data.txt')\n",
    "input_data = np.array(input_data, dtype=bool)\n",
    "\n",
    "if xa3_node:\n",
    "    a3_config = samna.xyloAudio3.configuration.XyloConfiguration()\n",
    "    a3_config.operation_mode = samna.xyloAudio3.OperationMode.AcceleratedTime\n",
    "    a3_config.input_source = samna.xyloAudio3.InputSource.SpikeEvents\n",
    "\n",
    "    dt = 0.01\n",
    "    Xmod = a3_XyloSamna(xa3_node, a3_config)    \n",
    "    out, _, rec = Xmod.evolve(input_data, record = False, record_power = True)\n",
    "\n",
    "    print(len(rec['io_power']))\n",
    "    print(len(rec['analog_power']))\n",
    "    print(len(rec['digital_power']))\n",
    "\n",
    "    print(rec['io_power'])\n",
    "    print(rec['analog_power'])\n",
    "    print(rec['digital_power'])\n",
    "    \n",
    "    io_power = np.mean(rec['io_power'])\n",
    "    analog = np.mean(rec['analog_power'])\n",
    "    digital = np.mean(rec['digital_power'])\n",
    "\n",
    "\n",
    "    print(f'XyloAudio 3\\nAll IO:\\t\\t{io_power * 1000:.1f} mW\\nAFE core:\\t{analog * 1000:.1f} mW\\nSNN core logic:\\t{digital*1000:.1f} mW')\n"
   ]
  },
  {
   "cell_type": "code",
   "execution_count": null,
   "id": "c80b8440-a85a-4d53-84b2-137eabbaa767",
   "metadata": {},
   "outputs": [],
   "source": []
  }
 ],
 "metadata": {
  "kernelspec": {
   "display_name": "Python 3 (ipykernel)",
   "language": "python",
   "name": "python3"
  },
  "language_info": {
   "codemirror_mode": {
    "name": "ipython",
    "version": 3
   },
   "file_extension": ".py",
   "mimetype": "text/x-python",
   "name": "python",
   "nbconvert_exporter": "python",
   "pygments_lexer": "ipython3",
   "version": "3.10.12"
  }
 },
 "nbformat": 4,
 "nbformat_minor": 5
}
