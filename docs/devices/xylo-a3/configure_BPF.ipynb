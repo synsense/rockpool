{
 "cells": [
  {
   "cell_type": "markdown",
   "metadata": {},
   "source": [
    "# Bandpass Filtering In Audio Front End (AFE) Of Xylo™Audio 3\n",
    "\n",
    " In this tutorial we will review main features of the filterbank in Xylo™Audio 3 and provide instructions to reconfigure them if needed. \n",
    "\n",
    " The key feature extraction module in Xylo™Audio 3 is the collectuion of Mel-filterbanks, which compute the time-frequency transform of the input audio signal. Central frequency and all parameters of the filterbank have \n",
    "\n",
    " been designed for efficient audio processing, convering the range of $100~Hz$ up to around $17~KHz$ audio spectrum. They also have been hard coded in AFESim3 (:py:class:`~.syns65302.AFESim`).  \n",
    "\n",
    "  Main features include:\n",
    "\n",
    " * Logarithmically spaced Mel-filterbanks  matched to human perception mechanism, with following **frequency scaling** $\\alpha$ and **quality factor** $Q$:\n",
    "\n",
    "     $ \\alpha = (\\frac{17000}{100})^{1/(16-1)}= 170^{\\frac{1}{15}} = 1.4083$    and $~~~~~~ Q \\approx 6$ \n",
    "     \n",
    " *  Implemented with order-1 Butterworth filters  with digital transfer function: $~~~~~~H(z)= \\frac{b(z)}{a(z)}=\\frac{b_0 + b_1 z + b_2 z^2}{a_0 + a_1 z + a_2 z^2}$.\n",
    " \n",
    " *   Implemented as a cascaded of AR (auto-regressive filter) $H_1(z)=\\frac{1}{a(z)}$ followed by the MA (moving average) filter $H_2(z)=b(z)$, as illustrated in the  block diagram below\n",
    "\n",
    " *   **In Rockpool:**  implemented as quantized digital filterbank with hard coded parameters. (See :py:class:`~.syns65302.AFESim`). \n"
   ]
  },
  {
   "cell_type": "markdown",
   "metadata": {},
   "source": [
    "Default central frequencies in Xylo™Audio 3 are:"
   ]
  },
  {
   "cell_type": "code",
   "execution_count": null,
   "metadata": {},
   "outputs": [],
   "source": [
    "import numpy as np\n",
    "f0 = 100\n",
    "f15 = 17000\n",
    "N_filters = 16 # number of filters\n",
    "alpha = np.pow(f15/f0, 1/(N_filters-1))\n",
    "freqs = [f0]\n",
    "for i in range(1,N_filters):\n",
    "    freqs.append(int(alpha*freqs[-1]))\n",
    "print(f'designed filter centers are: {freqs}')    "
   ]
  },
  {
   "cell_type": "markdown",
   "metadata": {},
   "source": [
    "Defining AFESim:"
   ]
  },
  {
   "cell_type": "code",
   "execution_count": null,
   "metadata": {},
   "outputs": [],
   "source": [
    "from rockpool.devices.xylo.syns65302 import AFESimExternal\n",
    "\n",
    "dt_s = 0.009994\n",
    "afesim_external = AFESimExternal.from_specification(spike_gen_mode=\"divisive_norm\",\n",
    "                                                    fixed_threshold_vec = None,\n",
    "                                                    rate_scale_factor=63,\n",
    "                                                    low_pass_averaging_window=84e-3,\n",
    "                                                    dn_EPS=32,\n",
    "                                                    dt=dt_s,)"
   ]
  },
  {
   "cell_type": "markdown",
   "metadata": {},
   "source": [
    "Let's demonstrate the response of filters in the simulator :py:class:`~.syns65302.AFESim` by passing monotone sinusoids as input (first and fifth filters with central frequencies $100~Hz$ and $390~Hz$). "
   ]
  },
  {
   "cell_type": "code",
   "execution_count": null,
   "metadata": {},
   "outputs": [],
   "source": [
    "from rockpool.devices.xylo.syns65302.afe import ChipButterworth\n",
    "import matplotlib.pyplot as plt\n",
    "\n",
    "test_freqs = [freqs[0], freqs[4]]  #input frequency \n",
    "fs = 48000 #sampling rate \n",
    "N = 5 #input duration (seconds)\n",
    "time = np.linspace(0,N,int(N*fs))\n",
    "\n",
    "EPS = 0.00001\n",
    "fb = ChipButterworth()\n",
    "B_in = fb.bd_list[0].B_in + 4 # quantization range for input signal\n",
    "\n",
    "plt.figure(figsize=(11,4))\n",
    "for i,f in enumerate(test_freqs):\n",
    "    sig_in = np.sin(2*np.pi*f*time)\n",
    "    # quantize the sinal\n",
    "    sig_in = sig_in/np.max(np.abs(sig_in)) * (1 + EPS) * 2**(B_in-1)\n",
    "    q_sig_in = sig_in.astype(np.int64)\n",
    "    output,_, _ = afesim_external((q_sig_in,fs))\n",
    "    ax = plt.subplot(1,2,i+1)\n",
    "    plt.imshow(output.T, aspect='auto'); \n",
    "    plt.grid(True); plt.xlabel('Time(sec)'); plt.ylabel('Freq(Hz)')\n",
    "    ax.set_xticks(range(0,500, 100)); ax.set_yticks(range(N_filters))\n",
    "    ax.set_xticklabels( [int(t * np.round(dt_s, decimals=2)) for t in ax.get_xticks()])\n",
    "    ax.set_yticklabels(freqs); plt.colorbar()"
   ]
  },
  {
   "cell_type": "markdown",
   "metadata": {},
   "source": [
    "### Reconfiguration of filter parameters\n"
   ]
  },
  {
   "cell_type": "code",
   "execution_count": null,
   "metadata": {},
   "outputs": [],
   "source": [
    "from IPython.display import Image\n",
    "Image(\"figures/block_diagram.png\")"
   ]
  },
  {
   "cell_type": "markdown",
   "metadata": {},
   "source": [
    "As mentioned above, this design value of parameters are suitable for efficient audio processing. They have been carefully chosen for good coverage of the the range between $100~Hz$ and $17~KHz$ and numerical stability. \n",
    "\n",
    "Changing these parameters is not recomeneded for audio applications. \n",
    "\n",
    "However, coresponding registers in the devkit are configurable and users with customized use cases can modify them and shift the center of filters to desired values.  \n",
    "\n",
    "Main parameters to modify are $a_1$ and $a_2$ in $H(z)$ and using $scipy.signal.iirpeak()$  we can find  the parameters of the transfer function. \n",
    "\n",
    "Following block can be used to calculate transfer function of a desired filter  (required $a_1$ and $a_2$) parameters. \n"
   ]
  },
  {
   "cell_type": "code",
   "execution_count": 5,
   "metadata": {},
   "outputs": [],
   "source": [
    "from scipy import signal\n",
    "# Given parameters\n",
    "f0 = 100        # Center frequency (Hz)\n",
    "Q = 6           # Q factor\n",
    "fs = 48000      # Sampling rate (Hz)\n",
    "# Get digital filter coefficients (z-domain)\n",
    "b, a = signal.iirpeak(f0, Q, fs=fs)"
   ]
  },
  {
   "cell_type": "markdown",
   "metadata": {},
   "source": [
    "As in :py:class:`~.syns65302.AFESim` quantized version of filters are implemented (to match Xylo™Audio 3), $a_1$ and $a_2$ parameters need to be quantized as follows:\n",
    "\n",
    "\n",
    "- $$\\tilde{a}_1=[2^{B_b} 2^{B_{a,f}} a_1]~~~~~~~~~\\tilde{a}_2=[2^{B_b} 2^{B_{a,f}} a_2]$$\n",
    "where: \n",
    "- $B_b$ : bits needed for scaling b0\n",
    "- $B_{af}$ : bits needed for encoding the fractional parts of taps\n",
    "\n",
    "Without going into details, $B_b$ and $B_{af}$ are integer values defining precision of each parameter in the filter. They have been hard coded in :py:class:`~.syns65302.AFESim` for each of 16 filters and should not be modified. \n",
    "\n",
    "Please note that central frequency of low-frequency filters in HDK can shift from design value due to poor dynamic range in their filter coefficients and with chosen values (around 16 bits).\n",
    "\n",
    "While the consequence is not significant for audio processing configuration, users need to have this in mind for the use cases that require central frequcies below $100~Hz$"
   ]
  },
  {
   "cell_type": "markdown",
   "metadata": {},
   "source": [
    "To change the center of filters to a desired range one can get $a_1$ $a_2$ parameters with the following code and replace "
   ]
  },
  {
   "cell_type": "code",
   "execution_count": null,
   "metadata": {},
   "outputs": [],
   "source": [
    "import numpy as np\n",
    "f0 = 300\n",
    "f15 = 20000\n",
    "N_filters = 16 # number of filters\n",
    "alpha = np.pow(f15/f0, 1/(N_filters-1))\n",
    "new_freqs = [f0]\n",
    "for i in range(1,N_filters):\n",
    "    new_freqs.append(int(alpha*new_freqs[-1]))\n",
    "print(f'designed filter centers are: {new_freqs}')  "
   ]
  },
  {
   "cell_type": "code",
   "execution_count": 8,
   "metadata": {},
   "outputs": [],
   "source": [
    "from scipy import signal\n",
    "Q = 6  # Qfactor\n",
    "new_params = []\n",
    "for f in new_freqs:\n",
    "    # Get digital filter coefficients (z-domain)\n",
    "    filter_params = signal.iirpeak(f, Q, fs=fs)\n",
    "    new_params.append(filter_params)"
   ]
  },
  {
   "cell_type": "code",
   "execution_count": null,
   "metadata": {},
   "outputs": [],
   "source": []
  },
  {
   "cell_type": "code",
   "execution_count": null,
   "metadata": {},
   "outputs": [],
   "source": []
  },
  {
   "cell_type": "code",
   "execution_count": null,
   "metadata": {},
   "outputs": [],
   "source": []
  },
  {
   "cell_type": "code",
   "execution_count": null,
   "metadata": {},
   "outputs": [],
   "source": []
  },
  {
   "cell_type": "code",
   "execution_count": null,
   "metadata": {},
   "outputs": [],
   "source": [
    "import numpy as np\n",
    "\n",
    "# Define the BlockDiagram class to store the filter parameters\n",
    "class BlockDiagram:\n",
    "    def __init__(self, B_worst_case, B_b, B_af, a1, a2, scale_out):\n",
    "        self.B_worst_case = B_worst_case  # Worst case bandwidth or some parameter\n",
    "        self.B_b = B_b  # Bandwidth (or other related parameter)\n",
    "        self.B_af = B_af  # Filter bandwidth factor or parameter\n",
    "        self.a1 = a1  # Coefficient a1 for filter transfer function\n",
    "        self.a2 = a2  # Coefficient a2 for filter transfer function\n",
    "        self.scale_out = scale_out  # Output scaling factor (or gain)\n",
    "\n",
    "# Ground truth centers (in Hz)\n",
    "ground_truth_centers = [105, 136, 201, 279, 390, 542, 762, 1070, 1503, 2110, \n",
    "                        2963, 4161, 5843, 8204, 11582, 16611]\n",
    "\n",
    "# Convert Hz to Mel scale\n",
    "def hz_to_mel(hz):\n",
    "    return 2595 * np.log10(1 + hz / 700)\n",
    "\n",
    "# Convert Mel scale back to Hz\n",
    "def mel_to_hz(mel):\n",
    "    return 700 * (10**(mel / 2595) - 1)\n",
    "\n",
    "# Convert all ground truth Hz centers to Mel scale\n",
    "mel_centers = [hz_to_mel(f) for f in ground_truth_centers]\n",
    "\n",
    "# Calculate the Mel frequencies for filters' desired positions\n",
    "# Now let's adjust the filter parameters for these centers\n",
    "def design_filter_for_center(mel_center):\n",
    "    # Convert Mel center to Hz\n",
    "    center_hz = mel_to_hz(mel_center)\n",
    "    \n",
    "    # Placeholder design: you would need to adjust the parameters based on your actual filter design\n",
    "    a1 = -int(center_hz)  # rough approximation\n",
    "    a2 = int(center_hz / 2)  # another rough guess for filter parameter\n",
    "    scale_out = 0.6  # Placeholder scaling factor\n",
    "    \n",
    "    return BlockDiagram(\n",
    "        B_worst_case=5,\n",
    "        B_b=6,\n",
    "        B_af=8,\n",
    "        a1=a1,\n",
    "        a2=a2,\n",
    "        scale_out=scale_out\n",
    "    )\n",
    "\n",
    "# Design the filters with desired centers\n",
    "filters = []\n",
    "for mel_center in mel_centers:\n",
    "    filter_obj = design_filter_for_center(mel_center)\n",
    "    filters.append(filter_obj)\n",
    "\n",
    "# Print the desired and estimated filter centers in Hz\n",
    "print(\"Desired and Calculated Centers (in Hz):\")\n",
    "for i, (ground_truth, mel_center) in enumerate(zip(ground_truth_centers, mel_centers)):\n",
    "    print(f\"Filter {i} - Ground Truth Center: {ground_truth} Hz, Estimated Mel Center: {mel_center:.2f} Mel, Estimated Hz Center: {mel_to_hz(mel_center):.2f} Hz\")\n"
   ]
  },
  {
   "cell_type": "markdown",
   "metadata": {},
   "source": [
    "Explanation:\n",
    "- BlockDiagram class: This class stores filter parameters such as a1, a2, scale_out, and other attributes that describe each filter.\n",
    "- Filter Design: For each Mel center, I am designing a filter and using a simple approximation to calculate the filter parameters (a1, a2, etc.). This is a placeholder that you would typically replace with the actual filter design formula or algorithm.\n",
    "\n",
    "- Mel Scale: The code converts your desired center frequencies in Hz to Mel frequencies and then computes the corresponding filter parameters.\n",
    "- You can replace the filter design method inside design_filter_for_center with more sophisticated methods like Butterworth or Chebyshev filter design algorithms to generate actual filter coefficients (a1, a2, etc.) based on the desired frequency response.\n",
    "\n"
   ]
  },
  {
   "cell_type": "markdown",
   "metadata": {},
   "source": [
    "\n"
   ]
  },
  {
   "cell_type": "code",
   "execution_count": null,
   "metadata": {},
   "outputs": [],
   "source": [
    "from scipy import signal\n",
    "\n",
    "# Given parameters\n",
    "f0 = 15000       # Center frequency (Hz)\n",
    "Q = 6           # Q factor\n",
    "fs = 48000      # Sampling rate (Hz)\n",
    "\n",
    "# Get digital filter coefficients (z-domain)\n",
    "b, a = signal.iirpeak(f0, Q, fs=fs)\n",
    "\n",
    "print(\"Numerator coefficients (b):\", b)\n",
    "print(\"Denominator coefficients (a):\", a)\n"
   ]
  },
  {
   "cell_type": "code",
   "execution_count": null,
   "metadata": {},
   "outputs": [],
   "source": [
    "b_b = 1\n",
    "b_af = 14\n",
    "\n",
    "a0 = 2** (b_b + b_af) \n",
    "A = a0*a\n",
    "A\n",
    "# a1 = a0 *a1\n",
    "# a2 = [a0*a2]"
   ]
  },
  {
   "cell_type": "code",
   "execution_count": null,
   "metadata": {},
   "outputs": [],
   "source": [
    "import numpy as np\n",
    "a = np.pow(170, 1/15)\n",
    "a"
   ]
  },
  {
   "cell_type": "code",
   "execution_count": null,
   "metadata": {},
   "outputs": [],
   "source": []
  }
 ],
 "metadata": {
  "kernelspec": {
   "display_name": "py_310",
   "language": "python",
   "name": "python3"
  },
  "language_info": {
   "codemirror_mode": {
    "name": "ipython",
    "version": 3
   },
   "file_extension": ".py",
   "mimetype": "text/x-python",
   "name": "python",
   "nbconvert_exporter": "python",
   "pygments_lexer": "ipython3",
   "version": "3.10.2"
  },
  "orig_nbformat": 4
 },
 "nbformat": 4,
 "nbformat_minor": 2
}
