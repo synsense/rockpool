{
 "cells": [
  {
   "cell_type": "markdown",
   "id": "9074173a",
   "metadata": {},
   "source": [
    "# Using PyTorch Lightning and MLFlow with Rockpool"
   ]
  },
  {
   "attachments": {},
   "cell_type": "markdown",
   "id": "2ee36c44",
   "metadata": {},
   "source": [
    "## Set up task"
   ]
  },
  {
   "cell_type": "code",
   "execution_count": 17,
   "id": "cd5496d6",
   "metadata": {},
   "outputs": [],
   "source": [
    "import tonic\n",
    "from tonic.datasets import SMNIST\n",
    "from tonic import CachedDataset\n",
    "# from tonic.transforms import Compose, ToFrame, Downsample, NumpyAsType, Repeat\n",
    "# from tonic.collation import PadTensors\n",
    "from torch.utils.data import DataLoader\n",
    "from torchvision import datasets, transforms\n",
    "import torch\n",
    "# import numpy as np\n",
    "\n",
    "from rockpool import TSEvent\n",
    "\n",
    "import sys\n",
    "!{sys.executable} -m pip install --quiet matplotlib\n",
    "import matplotlib.pyplot as plt\n",
    "\n",
    "from dataclasses import dataclass, field"
   ]
  },
  {
   "cell_type": "code",
   "execution_count": 35,
   "id": "2a07d4c8",
   "metadata": {},
   "outputs": [],
   "source": [
    "class ToSpike:\n",
    "    def __init__(self, n_neurons):\n",
    "        self.n_neurons = n_neurons\n",
    "#         self.bins = np.linspace(-1, 1, num=self.n_neurons+1)\n",
    "    def __call__(self, sample):\n",
    "        sample = sample.reshape(28*28)\n",
    "#         sample_diff = torch.unsqueeze(sample[0][1:]-sample[0][:-1], 0) \n",
    "#         sample_diff = np.expand_dims(sample[0][1:]-sample[0][:-1], 0) \n",
    "        sample_diff = sample[1:]-sample[:-1]\n",
    "        spikes = torch.zeros((self.n_neurons, sample_diff.shape[0]))\n",
    "#         indices = np.digitize(sample_diff, self.bins, right=True)\n",
    "#         indices -= 1\n",
    "#         spikes[indices[0], np.arange(sample_diff.shape[1])] = 1\n",
    "        spikes[0, sample_diff > 0] = torch.round(sample_diff[sample_diff > 0]*10)\n",
    "        spikes[1, sample_diff < 0] = torch.round(torch.abs(sample_diff[sample_diff < 0])*10)\n",
    "        return spikes.T"
   ]
  },
  {
   "cell_type": "code",
   "execution_count": 36,
   "id": "bd9a8ebc",
   "metadata": {},
   "outputs": [],
   "source": [
    "dt = 1e-3\n",
    "n_neurons = 2\n",
    "batch_size = 300"
   ]
  },
  {
   "cell_type": "code",
   "execution_count": 37,
   "id": "290635c8",
   "metadata": {},
   "outputs": [],
   "source": [
    "# - Create dataset and dataloader for Spiking Heidelberg Digits\n",
    "data_transform_original = transforms.Compose([\n",
    "    transforms.ToTensor(),\n",
    "#     transforms.Normalize((0.1307,), (0.3081,)),\n",
    "])\n",
    "data_transform = transforms.Compose([\n",
    "    transforms.ToTensor(),\n",
    "#     transforms.Normalize((0.1307,), (0.3081,)),\n",
    "#     transforms.Lambda(lambda x: x.view(1, -1)), # unrolls 28x28 to one sequence of length 784\n",
    "    ToSpike(n_neurons),\n",
    "#     transforms.ToTensor()\n",
    "])\n",
    "\n",
    "ds_original = datasets.MNIST('./data', train=True, transform=data_transform_original)\n",
    "ds_train = datasets.MNIST('./data', train=True, transform=data_transform)#, target_transform=target_transform)\n",
    "ds_test = datasets.MNIST('./data', train=False, transform=data_transform)#, target_transform=target_transform)\n",
    "    \n",
    "dl_train = DataLoader(ds_train, num_workers = 8, batch_size = batch_size)\n",
    "dl_test = DataLoader(ds_test, num_workers = 8, batch_size = batch_size)"
   ]
  },
  {
   "cell_type": "code",
   "execution_count": 38,
   "id": "7a2a317f",
   "metadata": {},
   "outputs": [
    {
     "name": "stdout",
     "output_type": "stream",
     "text": [
      "torch.Size([783, 2])\n"
     ]
    },
    {
     "data": {
      "text/plain": [
       "<matplotlib.colorbar.Colorbar at 0x7fed6eb95760>"
      ]
     },
     "execution_count": 38,
     "metadata": {},
     "output_type": "execute_result"
    },
    {
     "data": {
      "image/png": "[encoded data removed]",
      "text/plain": [
       "<Figure size 1440x360 with 7 Axes>"
      ]
     },
     "metadata": {
      "needs_background": "light"
     },
     "output_type": "display_data"
    }
   ],
   "source": [
    "sample_mnist, target_mnist = ds_original[0]\n",
    "# a sample of sequential MNIST\n",
    "sample_seq_mnist = sample_mnist[0].reshape(sample_mnist.shape[1]*sample_mnist.shape[2])\n",
    "# a sample of spiking sequential MNIST\n",
    "sample_smnist, target_smnist = ds_train[0]\n",
    "print(sample_smnist.shape)\n",
    "# difference between pixel and previous pixel\n",
    "sample_seq_mnist_diff = torch.unsqueeze(sample_seq_mnist[1:]-sample_seq_mnist[:-1], 0) \n",
    "nx, ny = 3, 2\n",
    "fig = plt.figure(figsize=(20, 5))\n",
    "fig.subplots_adjust(wspace=0.01, hspace=0.5)\n",
    "ax = [plt.subplot2grid((nx, ny), (0, 0), rowspan=3), \n",
    "      plt.subplot2grid((nx, ny), (0, 1)), plt.subplot2grid((nx, ny), (1, 1)), plt.subplot2grid((nx, ny), (2, 1))]\n",
    "ax[0].imshow(sample_mnist[0], cmap='gray')#, vmin=0, vmax=255)\n",
    "c = ax[3].pcolor(sample_smnist.T, cmap='gray')\n",
    "fig.colorbar(c, ax=ax[3])\n",
    "c = ax[2].pcolor(sample_seq_mnist_diff, cmap='gray')\n",
    "fig.colorbar(c, ax=ax[2])\n",
    "c = ax[1].pcolor(torch.unsqueeze(sample_seq_mnist,0), cmap='gray')\n",
    "fig.colorbar(c, ax=ax[1])"
   ]
  },
  {
   "cell_type": "code",
   "execution_count": 39,
   "id": "f40ef6bc",
   "metadata": {},
   "outputs": [],
   "source": [
    "# - Record the number of input channels\n",
    "N_in = n_neurons\n",
    "N_hidden = 300\n",
    "\n",
    "# - Number of output classes is fixed\n",
    "N_out = 10"
   ]
  },
  {
   "cell_type": "markdown",
   "id": "4bab9d8d",
   "metadata": {},
   "source": [
    "## Define network and model"
   ]
  },
  {
   "cell_type": "code",
   "execution_count": 40,
   "id": "760b8e38",
   "metadata": {},
   "outputs": [],
   "source": [
    "from rockpool.nn.modules import LIFTorch, LinearTorch\n",
    "from rockpool.nn.combinators import Sequential, Residual\n",
    "\n",
    "from torch.nn import functional as F\n",
    "\n",
    "import pytorch_lightning as pl\n",
    "\n",
    "import mlflow"
   ]
  },
  {
   "cell_type": "code",
   "execution_count": 41,
   "id": "86356cba",
   "metadata": {},
   "outputs": [],
   "source": [
    "# - Define a PyTorch Lightning module\n",
    "class Model(pl.LightningModule):\n",
    "    def __init__(self):\n",
    "        super().__init__()\n",
    "        self.net = Sequential(\n",
    "            LinearTorch((N_in, N_hidden), has_bias = False),\n",
    "            LIFTorch(N_hidden, dt=dt, tau_mem=1., tau_syn=1., has_bias = True, bias = 1., device='cuda'),\n",
    "            LinearTorch((N_hidden, N_out), has_bias = False),\n",
    "            LIFTorch(N_out, dt=dt, tau_mem=100., tau_syn=1., has_bias = True, bias = 1.,  device='cuda'),\n",
    "        ).to_torch()\n",
    "    \n",
    "    def forward(self, x):\n",
    "        return self.net(x)\n",
    "    \n",
    "    def _shared_eval_step(self, batch):\n",
    "        x, y = batch\n",
    "        y_hat = self(x.float())\n",
    "        y = y.unsqueeze(1).repeat(1, y_hat.shape[1])\n",
    "        \n",
    "        crit = F.cross_entropy(y_hat.permute(0, 2, 1), y)        \n",
    "        reg = torch.mean((1 - x) ** 2)\n",
    "        loss = crit + reg\n",
    "\n",
    "        return loss\n",
    "        \n",
    "    def training_step(self, batch, batch_idx):\n",
    "        loss = self._shared_eval_step(batch)\n",
    "        self.log(\"train_loss\", loss)\n",
    "        return loss\n",
    "    \n",
    "    def validation_step(self, batch, batch_idx):\n",
    "        loss = self._shared_eval_step(batch)\n",
    "        self.log(\"val_loss\", loss)\n",
    "        return loss\n",
    "    \n",
    "    def configure_optimizers(self):\n",
    "        return torch.optim.Adam(self.parameters(), lr=0.02)"
   ]
  },
  {
   "cell_type": "code",
   "execution_count": 42,
   "id": "3adc1348",
   "metadata": {},
   "outputs": [
    {
     "name": "stdout",
     "output_type": "stream",
     "text": [
      "torch.Size([300, 783, 2])\n"
     ]
    }
   ],
   "source": [
    "# - Instantiate the model\n",
    "model = Model().float()\n",
    "dl_train_iter = iter(dl_train) \n",
    "inputs, targets = next(dl_train_iter) \n",
    "print(inputs.shape)\n",
    "# model(inputs.T)"
   ]
  },
  {
   "cell_type": "code",
   "execution_count": 43,
   "id": "74889d25",
   "metadata": {},
   "outputs": [
    {
     "name": "stderr",
     "output_type": "stream",
     "text": [
      "GPU available: True, used: True\n",
      "TPU available: False, using: 0 TPU cores\n",
      "IPU available: False, using: 0 IPUs\n",
      "2021/12/20 15:20:43 WARNING mlflow.utils.autologging_utils: You are using an unsupported version of pytorch. If you encounter errors during autologging, try upgrading / downgrading pytorch to a supported version, or try upgrading MLflow.\n",
      "LOCAL_RANK: 0 - CUDA_VISIBLE_DEVICES: [0]\n",
      "\n",
      "  | Name | Type            | Params\n",
      "-----------------------------------------\n",
      "0 | net  | TorchSequential | 3.9 K \n",
      "-----------------------------------------\n",
      "3.9 K     Trainable params\n",
      "0         Non-trainable params\n",
      "3.9 K     Total params\n",
      "0.016     Total estimated model params size (MB)\n"
     ]
    },
    {
     "data": {
      "application/vnd.jupyter.widget-view+json": {
       "model_id": "",
       "version_major": 2,
       "version_minor": 0
      },
      "text/plain": [
       "Validation sanity check: 0it [00:00, ?it/s]"
      ]
     },
     "metadata": {},
     "output_type": "display_data"
    },
    {
     "data": {
      "application/vnd.jupyter.widget-view+json": {
       "model_id": "cc6c97a7b1764aa3a9bd330b5aac1f3f",
       "version_major": 2,
       "version_minor": 0
      },
      "text/plain": [
       "Training: 0it [00:00, ?it/s]"
      ]
     },
     "metadata": {},
     "output_type": "display_data"
    },
    {
     "data": {
      "application/vnd.jupyter.widget-view+json": {
       "model_id": "",
       "version_major": 2,
       "version_minor": 0
      },
      "text/plain": [
       "Validating: 0it [00:00, ?it/s]"
      ]
     },
     "metadata": {},
     "output_type": "display_data"
    },
    {
     "name": "stderr",
     "output_type": "stream",
     "text": [
      "2021/12/20 15:35:55 WARNING mlflow.utils.requirements_utils: Found torch version (1.9.1+cu111) contains a local version label (+cu111). MLflow logged a pip requirement for this package as 'torch==1.9.1' without the local version label to make it installable from PyPI. To specify pip requirements containing local version labels, please use `conda_env` or `pip_requirements`.\n",
      "2021/12/20 15:35:55 WARNING mlflow.utils.requirements_utils: Found torchvision version (0.10.1+cu111) contains a local version label (+cu111). MLflow logged a pip requirement for this package as 'torchvision==0.10.1' without the local version label to make it installable from PyPI. To specify pip requirements containing local version labels, please use `conda_env` or `pip_requirements`.\n",
      "2021/12/20 15:36:02 WARNING mlflow.utils.requirements_utils: Found jaxlib version (0.1.73+cuda11.cudnn82) contains a local version label (+cuda11.cudnn82). MLflow logged a pip requirement for this package as 'jaxlib==0.1.73' without the local version label to make it installable from PyPI. To specify pip requirements containing local version labels, please use `conda_env` or `pip_requirements`.\n",
      "2021/12/20 15:36:02 WARNING mlflow.utils.requirements_utils: Found torchvision version (0.10.1+cu111) contains a local version label (+cu111). MLflow logged a pip requirement for this package as 'torchvision==0.10.1' without the local version label to make it installable from PyPI. To specify pip requirements containing local version labels, please use `conda_env` or `pip_requirements`.\n"
     ]
    }
   ],
   "source": [
    "# - Initialize a trainer\n",
    "trainer = pl.Trainer(\n",
    "    callbacks = [pl.callbacks.ModelCheckpoint()],\n",
    "    max_epochs=2, gpus=1\n",
    ")\n",
    "\n",
    "# - Enable autologging\n",
    "mlflow.pytorch.autolog()\n",
    "\n",
    "# - Create a new MLFlow run and fit the model\n",
    "with mlflow.start_run() as run:\n",
    "    trainer.fit(model, dl_train, dl_test)"
   ]
  },
  {
   "cell_type": "code",
   "execution_count": 16,
   "id": "cf0b209d",
   "metadata": {},
   "outputs": [
    {
     "ename": "TypeError",
     "evalue": "expected np.ndarray (got Tensor)",
     "output_type": "error",
     "traceback": [
      "\u001b[0;31m---------------------------------------------------------------------------\u001b[0m",
      "\u001b[0;31mTypeError\u001b[0m                                 Traceback (most recent call last)",
      "\u001b[0;32m/tmp/ipykernel_325704/1509276877.py\u001b[0m in \u001b[0;36m<module>\u001b[0;34m\u001b[0m\n\u001b[1;32m      1\u001b[0m \u001b[0msample\u001b[0m\u001b[0;34m,\u001b[0m \u001b[0mtarget\u001b[0m \u001b[0;34m=\u001b[0m \u001b[0mds_train\u001b[0m\u001b[0;34m[\u001b[0m\u001b[0;36m23\u001b[0m\u001b[0;34m]\u001b[0m\u001b[0;34m\u001b[0m\u001b[0;34m\u001b[0m\u001b[0m\n\u001b[0;32m----> 2\u001b[0;31m \u001b[0mplt\u001b[0m\u001b[0;34m.\u001b[0m\u001b[0mplot\u001b[0m\u001b[0;34m(\u001b[0m\u001b[0mmodel\u001b[0m\u001b[0;34m(\u001b[0m\u001b[0mtorch\u001b[0m\u001b[0;34m.\u001b[0m\u001b[0mfrom_numpy\u001b[0m\u001b[0;34m(\u001b[0m\u001b[0msample\u001b[0m\u001b[0;34m.\u001b[0m\u001b[0mreshape\u001b[0m\u001b[0;34m(\u001b[0m\u001b[0;36m1\u001b[0m\u001b[0;34m,\u001b[0m \u001b[0;34m-\u001b[0m\u001b[0;36m1\u001b[0m\u001b[0;34m,\u001b[0m \u001b[0mN_in\u001b[0m\u001b[0;34m)\u001b[0m\u001b[0;34m)\u001b[0m\u001b[0;34m)\u001b[0m\u001b[0;34m.\u001b[0m\u001b[0mdetach\u001b[0m\u001b[0;34m(\u001b[0m\u001b[0;34m)\u001b[0m\u001b[0;34m.\u001b[0m\u001b[0mnumpy\u001b[0m\u001b[0;34m(\u001b[0m\u001b[0;34m)\u001b[0m\u001b[0;34m.\u001b[0m\u001b[0msqueeze\u001b[0m\u001b[0;34m(\u001b[0m\u001b[0;34m)\u001b[0m\u001b[0;34m)\u001b[0m\u001b[0;34m;\u001b[0m\u001b[0;34m\u001b[0m\u001b[0;34m\u001b[0m\u001b[0m\n\u001b[0m\u001b[1;32m      3\u001b[0m \u001b[0mplt\u001b[0m\u001b[0;34m.\u001b[0m\u001b[0mtitle\u001b[0m\u001b[0;34m(\u001b[0m\u001b[0mtarget\u001b[0m\u001b[0;34m)\u001b[0m\u001b[0;34m\u001b[0m\u001b[0;34m\u001b[0m\u001b[0m\n",
      "\u001b[0;31mTypeError\u001b[0m: expected np.ndarray (got Tensor)"
     ]
    }
   ],
   "source": [
    "sample, target = ds_train[23]\n",
    "plt.plot(model(torch.from_numpy(sample.reshape(1, -1, N_in))).detach().numpy().squeeze());\n",
    "plt.title(target)"
   ]
  },
  {
   "cell_type": "code",
   "execution_count": null,
   "id": "5b219f4c",
   "metadata": {},
   "outputs": [],
   "source": [
    "out, _, r_d = model.net.evolve(torch.from_numpy(sample.reshape(1, -1, N_in)), record = True)"
   ]
  },
  {
   "cell_type": "code",
   "execution_count": null,
   "id": "55cd37ec",
   "metadata": {},
   "outputs": [],
   "source": [
    "plt.imshow(r_d['0_LinearTorch_output'].squeeze().detach().numpy().T, aspect = 'auto')"
   ]
  },
  {
   "cell_type": "code",
   "execution_count": null,
   "id": "98061045",
   "metadata": {},
   "outputs": [],
   "source": [
    "plt.imshow(r_d['1_LIFTorch']['Vmem'].detach().numpy().squeeze().T, aspect='auto')"
   ]
  },
  {
   "cell_type": "code",
   "execution_count": null,
   "id": "d4cb6081",
   "metadata": {},
   "outputs": [],
   "source": [
    "plt.imshow(r_d['1_LIFTorch_output'].squeeze().detach().numpy().T, aspect = 'auto')"
   ]
  },
  {
   "cell_type": "code",
   "execution_count": null,
   "id": "15179e9f",
   "metadata": {},
   "outputs": [],
   "source": [
    "plt.imshow(r_d['3_LIFTorch_output'].squeeze().detach().numpy().T, aspect = 'auto')"
   ]
  },
  {
   "cell_type": "code",
   "execution_count": null,
   "id": "c7029732",
   "metadata": {},
   "outputs": [],
   "source": []
  }
 ],
 "metadata": {
  "kernelspec": {
   "display_name": "qut_noise_dev",
   "language": "python",
   "name": "qut_noise_dev"
  },
  "language_info": {
   "codemirror_mode": {
    "name": "ipython",
    "version": 3
   },
   "file_extension": ".py",
   "mimetype": "text/x-python",
   "name": "python",
   "nbconvert_exporter": "python",
   "pygments_lexer": "ipython3",
   "version": "3.8.12"
  }
 },
 "nbformat": 4,
 "nbformat_minor": 5
}
