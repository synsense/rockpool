{
 "cells": [
  {
   "attachments": {},
   "cell_type": "markdown",
   "id": "75b6f867",
   "metadata": {},
   "source": [
    "# Torch transformation-in-training pipeline prototype\n",
    "This notebook gives an overview of the prototype parameter and activation quantization-aware-training pipeline and facilities available for Torch-backed modules in Rockpool.\n",
    "\n",
    "This is still work-in-progress and subject to change.\n",
    "\n",
    "The torch pipeline is based on Torch's `functional_call` API, new in Torch 1.12.\n",
    "\n",
    "## Design goals\n",
    "* No need to modify pre-defined modules to make \"magic quantization\" modules\n",
    "* General solution that can be applied widely to modules and parameters\n",
    "* Convenient API for specifying transformations over parameters in a network in a \"grouped\" way, using Rockpool's parameter families\n",
    "* Similar API for parameter- and activity-transformation\n",
    "* Quantization controllable at a fine-grained level\n",
    "* Provide useful and flexible transformation methods --- can be used for QAT, dropout, pruning..."
   ]
  },
  {
   "cell_type": "code",
   "execution_count": 1,
   "id": "83676234",
   "metadata": {},
   "outputs": [],
   "source": [
    "# - Basic imports\n",
    "from rockpool.nn.modules import LinearTorch, LIFTorch\n",
    "from rockpool.nn.combinators import Sequential, Residual\n",
    "\n",
    "import torch"
   ]
  },
  {
   "cell_type": "code",
   "execution_count": 2,
   "id": "29f984fb",
   "metadata": {},
   "outputs": [],
   "source": [
    "# - Transformation pipeline imports\n",
    "import rockpool.transform.torch_transform as tt\n",
    "import rockpool.utilities.tree_utils as tu"
   ]
  },
  {
   "attachments": {},
   "cell_type": "markdown",
   "id": "12101216",
   "metadata": {},
   "source": [
    "## Parameter transformations\n",
    "The parameter transformation pipeline allows you to insert transformations to any parameter in the forward pass before evolution, in a configurable way. You would use this to perform quantisation-aware-training, random parameter attacks, connection pruning, ...\n",
    "\n",
    "We'll begin here with a simple Rockpool SNN that uses most of the features of network composition in Rockpool, and is compatible with Xylo."
   ]
  },
  {
   "cell_type": "code",
   "execution_count": 3,
   "id": "ab431ab2",
   "metadata": {},
   "outputs": [
    {
     "data": {
      "text/plain": [
       "TorchSequential  with shape (3, 3) {\n",
       "    LinearTorch '0_LinearTorch' with shape (3, 5)\n",
       "    LIFTorch '1_LIFTorch' with shape (5, 5)\n",
       "    TorchResidual '2_TorchResidual' with shape (5, 5) {\n",
       "        LinearTorch '0_LinearTorch' with shape (5, 5)\n",
       "        LIFTorch '1_LIFTorch' with shape (5, 5)\n",
       "    }\n",
       "    LinearTorch '3_LinearTorch' with shape (5, 3)\n",
       "    LIFTorch '4_LIFTorch' with shape (3, 3)\n",
       "}"
      ]
     },
     "execution_count": 3,
     "metadata": {},
     "output_type": "execute_result"
    }
   ],
   "source": [
    "# - Build a network to use\n",
    "net = Sequential(\n",
    "    LinearTorch((3, 5)),\n",
    "    LIFTorch(5),\n",
    "    Residual(\n",
    "        LinearTorch((5, 5)),\n",
    "        LIFTorch(5, has_rec=True),\n",
    "    ),\n",
    "    LinearTorch((5, 3)),\n",
    "    LIFTorch(3),\n",
    ")\n",
    "net"
   ]
  },
  {
   "cell_type": "raw",
   "id": "22854914",
   "metadata": {
    "raw_mimetype": "text/restructuredtext"
   },
   "source": [
    "Now we build a configuration that describes the desired parameter transformation to apply to each parameter. We will transform weights with :py:func:`.stochastic_rounding` and transform biases with :py:func:`.dropout`. We can use parameter families to select the parameters to transform and which transformation to apply."
   ]
  },
  {
   "cell_type": "code",
   "execution_count": 4,
   "id": "1995f681",
   "metadata": {},
   "outputs": [
    {
     "data": {
      "text/plain": [
       "{'0_LinearTorch': {'weight': <function __main__.<lambda>(p)>},\n",
       " '2_TorchResidual': {'0_LinearTorch': {'weight': <function __main__.<lambda>(p)>},\n",
       "  '1_LIFTorch': {'w_rec': <function __main__.<lambda>(p)>}},\n",
       " '3_LinearTorch': {'weight': <function __main__.<lambda>(p)>}}"
      ]
     },
     "execution_count": 4,
     "metadata": {},
     "output_type": "execute_result"
    }
   ],
   "source": [
    "# - Get the 'weights' parameter family, and specify stochastic rounding\n",
    "tconfig = tt.make_param_T_config(\n",
    "    net, lambda p: tt.stochastic_rounding(p, num_levels=2**2), \"weights\"\n",
    ")\n",
    "tconfig"
   ]
  },
  {
   "cell_type": "code",
   "execution_count": 5,
   "id": "669fc4f3",
   "metadata": {},
   "outputs": [
    {
     "data": {
      "text/plain": [
       "{'0_LinearTorch': {'weight': <function __main__.<lambda>(p)>},\n",
       " '2_TorchResidual': {'0_LinearTorch': {'weight': <function __main__.<lambda>(p)>},\n",
       "  '1_LIFTorch': {'w_rec': <function __main__.<lambda>(p)>}},\n",
       " '3_LinearTorch': {'weight': <function __main__.<lambda>(p)>}}"
      ]
     },
     "execution_count": 5,
     "metadata": {},
     "output_type": "execute_result"
    }
   ],
   "source": [
    "# - Now we add in the bias transformation\n",
    "tconfig = tu.tree_update(\n",
    "    tconfig, tt.make_param_T_config(net, lambda p: tt.dropout(p, 0.3), \"biases\")\n",
    ")\n",
    "tconfig"
   ]
  },
  {
   "cell_type": "raw",
   "id": "4c2c022b",
   "metadata": {
    "raw_mimetype": "text/restructuredtext"
   },
   "source": [
    "We then use this quantization configuration tree to patch the network with transformation modules, with the :py:func:`.make_param_T_network` helper function."
   ]
  },
  {
   "cell_type": "code",
   "execution_count": 6,
   "id": "2a4586ed",
   "metadata": {},
   "outputs": [
    {
     "data": {
      "text/plain": [
       "TorchSequential  with shape (3, 3) {\n",
       "    TWrapper '0_LinearTorch' with shape (3, 5) {\n",
       "        LinearTorch '_mod' with shape (3, 5)\n",
       "    }\n",
       "    LIFTorch '1_LIFTorch' with shape (5, 5)\n",
       "    TorchResidual '2_TorchResidual' with shape (5, 5) {\n",
       "        TWrapper '0_LinearTorch' with shape (5, 5) {\n",
       "            LinearTorch '_mod' with shape (5, 5)\n",
       "        }\n",
       "        TWrapper '1_LIFTorch' with shape (5, 5) {\n",
       "            LIFTorch '_mod' with shape (5, 5)\n",
       "        }\n",
       "    }\n",
       "    TWrapper '3_LinearTorch' with shape (5, 3) {\n",
       "        LinearTorch '_mod' with shape (5, 3)\n",
       "    }\n",
       "    LIFTorch '4_LIFTorch' with shape (3, 3)\n",
       "}"
      ]
     },
     "execution_count": 6,
     "metadata": {},
     "output_type": "execute_result"
    }
   ],
   "source": [
    "# - We now use this configuration to patch the original network with transformation modules\n",
    "tnet = tt.make_param_T_network(net, tconfig)\n",
    "tnet"
   ]
  },
  {
   "cell_type": "raw",
   "id": "0364f365",
   "metadata": {
    "raw_mimetype": "text/restructuredtext"
   },
   "source": [
    "Each of the transformed modules is now wrapped in a :py:class:`.TWrapper` module --- these special wrapper modules apply any required transformations to the wrapped module, in the forward pass, injecting the transformed parameters and then evolving the wrapped module as usual. The original module doesn't need to know anything special, and simply uses the quantized parameters passed to it.\n",
    "\n",
    "The parameters are held by the original modules, un-transofmred, so that any parameters updates during training are applied to the un-transformed parameters.\n",
    "\n",
    "If we investigate the :py:meth:`.Module.parameters` of the network we can see this structure:"
   ]
  },
  {
   "cell_type": "code",
   "execution_count": 7,
   "id": "f3134b4f",
   "metadata": {},
   "outputs": [
    {
     "data": {
      "text/plain": [
       "{'0_LinearTorch': {'_mod': {'weight': Parameter containing:\n",
       "   tensor([[-0.8337, -0.4811, -1.0898, -0.7309, -0.2193],\n",
       "           [ 0.8017,  0.7001, -0.1010, -1.2180,  1.4088],\n",
       "           [-1.3568, -0.6440,  0.1773, -1.0603,  0.7051]], requires_grad=True)}},\n",
       " '2_TorchResidual': {'0_LinearTorch': {'_mod': {'weight': Parameter containing:\n",
       "    tensor([[ 0.2452, -0.1040, -0.6809, -0.5192, -1.0748],\n",
       "            [-0.7669, -0.2566,  0.6481, -0.1794, -0.1849],\n",
       "            [ 0.5732, -0.7922, -0.7750,  0.7075, -0.5805],\n",
       "            [ 0.5087, -0.1379, -0.3209,  0.3345,  0.2006],\n",
       "            [ 0.9543, -1.0458,  0.9624, -0.3144,  0.1960]], requires_grad=True)}},\n",
       "  '1_LIFTorch': {'_mod': {'w_rec': Parameter containing:\n",
       "    tensor([[-0.5553,  0.5043, -0.8002,  1.0671,  0.5552],\n",
       "            [ 0.0891, -1.0943, -0.3825, -0.7623,  0.8179],\n",
       "            [ 0.3327,  0.8391,  0.6506,  0.1105, -0.1883],\n",
       "            [-0.0614, -0.9433, -0.6902, -0.4699,  0.3375],\n",
       "            [-0.4792,  0.7939,  0.0106,  0.4522, -0.2737]], requires_grad=True)}}},\n",
       " '3_LinearTorch': {'_mod': {'weight': Parameter containing:\n",
       "   tensor([[-0.9582,  0.9870, -0.3827],\n",
       "           [ 0.5585, -0.9113, -0.1586],\n",
       "           [ 0.8854,  0.8445,  0.0221],\n",
       "           [-0.8204,  0.3860,  0.8635],\n",
       "           [ 0.7997,  0.4473, -1.0423]], requires_grad=True)}}}"
      ]
     },
     "execution_count": 7,
     "metadata": {},
     "output_type": "execute_result"
    }
   ],
   "source": [
    "tnet.parameters(\"weights\")"
   ]
  },
  {
   "attachments": {},
   "cell_type": "markdown",
   "id": "2b1fd41e",
   "metadata": {},
   "source": [
    "These are the un-transformed parameters, in floating-point format. But if we evolve the module by calling it, the parameters will all be transformed in the forward pass:"
   ]
  },
  {
   "cell_type": "code",
   "execution_count": 8,
   "id": "218adea8",
   "metadata": {},
   "outputs": [
    {
     "name": "stderr",
     "output_type": "stream",
     "text": [
      "/home/dylan/miniconda3/envs/torch2/lib/python3.8/site-packages/torch/nn/utils/stateless.py:216: UserWarning: This API is deprecated as of PyTorch 2.0 and will be removed in a future version of PyTorch. Please use torch.func.functional_call instead which is a drop-in replacement for this API.\n",
      "  warnings.warn(\n"
     ]
    },
    {
     "data": {
      "text/plain": [
       "tensor([[[  0.,   2.,   0.],\n",
       "         [  2.,   8.,   0.],\n",
       "         [  0.,  17.,   0.],\n",
       "         [  0.,  32.,   0.],\n",
       "         [  0.,  47.,   0.],\n",
       "         [  0.,  65.,   0.],\n",
       "         [  0.,  89.,   4.],\n",
       "         [  0., 117.,  27.],\n",
       "         [  0., 154.,  46.],\n",
       "         [  0., 200.,  70.]]], grad_fn=<CopySlices>)"
      ]
     },
     "execution_count": 8,
     "metadata": {},
     "output_type": "execute_result"
    }
   ],
   "source": [
    "out, ns, rd = tnet(torch.ones(1, 10, 3))\n",
    "out"
   ]
  },
  {
   "attachments": {},
   "cell_type": "markdown",
   "id": "a006050a",
   "metadata": {},
   "source": [
    "**Training goes here!**\n"
   ]
  },
  {
   "cell_type": "raw",
   "id": "89b1d3b6",
   "metadata": {
    "raw_mimetype": "text/restructuredtext"
   },
   "source": [
    "Here you can train the model, interacting with it as any other Rockpool :py:class:`.TorchModule`.\n",
    "\n",
    "Once we've trained the model, you might want to access the transformed parameters. At this point you have two options:\n",
    "\n",
    "1. you can execute the transformation such that the parameters are updated manually, using the helper function :py:func:`.apply_T`. This will \"burn in\" the transformation, storing the result as the \"real\" parameters within the module:"
   ]
  },
  {
   "cell_type": "code",
   "execution_count": 9,
   "id": "ec107009",
   "metadata": {},
   "outputs": [
    {
     "data": {
      "text/plain": [
       "TorchSequential  with shape (3, 3) {\n",
       "    TWrapper '0_LinearTorch' with shape (3, 5) {\n",
       "        LinearTorch '_mod' with shape (3, 5)\n",
       "    }\n",
       "    LIFTorch '1_LIFTorch' with shape (5, 5)\n",
       "    TorchResidual '2_TorchResidual' with shape (5, 5) {\n",
       "        TWrapper '0_LinearTorch' with shape (5, 5) {\n",
       "            LinearTorch '_mod' with shape (5, 5)\n",
       "        }\n",
       "        TWrapper '1_LIFTorch' with shape (5, 5) {\n",
       "            LIFTorch '_mod' with shape (5, 5)\n",
       "        }\n",
       "    }\n",
       "    TWrapper '3_LinearTorch' with shape (5, 3) {\n",
       "        LinearTorch '_mod' with shape (5, 3)\n",
       "    }\n",
       "    LIFTorch '4_LIFTorch' with shape (3, 3)\n",
       "}"
      ]
     },
     "execution_count": 9,
     "metadata": {},
     "output_type": "execute_result"
    }
   ],
   "source": [
    "ttnet = tt.apply_T(tnet, inplace=True)\n",
    "ttnet"
   ]
  },
  {
   "attachments": {},
   "cell_type": "markdown",
   "id": "d215f181",
   "metadata": {},
   "source": [
    "If we now examine the parameters, we will see the low-resolution quantized versions (still stored as floating-point numbers -- this transformation did not force the parameters to be integers)."
   ]
  },
  {
   "cell_type": "code",
   "execution_count": 10,
   "id": "538c9571",
   "metadata": {},
   "outputs": [
    {
     "data": {
      "text/plain": [
       "{'0_LinearTorch': {'_mod': {'weight': Parameter containing:\n",
       "   tensor([[-1.4088, -0.4696, -1.4088, -0.4696,  0.4696],\n",
       "           [ 1.4088,  1.4088,  0.4696, -1.4088,  1.4088],\n",
       "           [-1.4088, -0.4696, -0.4696, -1.4088,  1.4088]], requires_grad=True)}},\n",
       " '2_TorchResidual': {'0_LinearTorch': {'_mod': {'weight': Parameter containing:\n",
       "    tensor([[ 0.3583, -0.3583, -0.3583, -1.0748, -1.0748],\n",
       "            [-1.0748, -0.3583,  0.3583, -0.3583, -0.3583],\n",
       "            [ 0.3583, -0.3583, -0.3583,  0.3583, -0.3583],\n",
       "            [ 0.3583, -0.3583, -0.3583,  0.3583,  0.3583],\n",
       "            [ 1.0748, -1.0748,  1.0748, -0.3583,  0.3583]], requires_grad=True)}},\n",
       "  '1_LIFTorch': {'_mod': {'w_rec': Parameter containing:\n",
       "    tensor([[-1.0943,  0.3648, -1.0943,  1.0943,  0.3648],\n",
       "            [ 0.3648, -1.0943, -0.3648, -1.0943,  0.3648],\n",
       "            [ 0.3648,  0.3648,  0.3648,  0.3648, -0.3648],\n",
       "            [ 0.3648, -1.0943, -0.3648, -0.3648,  0.3648],\n",
       "            [-0.3648,  1.0943,  0.3648,  0.3648, -0.3648]], requires_grad=True)}}},\n",
       " '3_LinearTorch': {'_mod': {'weight': Parameter containing:\n",
       "   tensor([[-1.0423,  1.0423, -0.3474],\n",
       "           [ 0.3474, -0.3474, -0.3474],\n",
       "           [ 1.0423,  0.3474,  0.3474],\n",
       "           [-0.3474,  0.3474,  1.0423],\n",
       "           [ 1.0423,  0.3474, -1.0423]], requires_grad=True)}}}"
      ]
     },
     "execution_count": 10,
     "metadata": {},
     "output_type": "execute_result"
    }
   ],
   "source": [
    "ttnet.parameters(\"weights\")"
   ]
  },
  {
   "cell_type": "raw",
   "id": "3bc1e966",
   "metadata": {
    "raw_mimetype": "text/restructuredtext"
   },
   "source": [
    "You can now convert the network back to the original \"unpatched\" structure with the helper function  :py:func:`.remove_T_net`."
   ]
  },
  {
   "cell_type": "code",
   "execution_count": 11,
   "id": "f32ed0da",
   "metadata": {},
   "outputs": [
    {
     "data": {
      "text/plain": [
       "TorchSequential  with shape (3, 3) {\n",
       "    LinearTorch '0_LinearTorch' with shape (3, 5)\n",
       "    LIFTorch '1_LIFTorch' with shape (5, 5)\n",
       "    TorchResidual '2_TorchResidual' with shape (5, 5) {\n",
       "        LinearTorch '0_LinearTorch' with shape (5, 5)\n",
       "        LIFTorch '1_LIFTorch' with shape (5, 5)\n",
       "    }\n",
       "    LinearTorch '3_LinearTorch' with shape (5, 3)\n",
       "    LIFTorch '4_LIFTorch' with shape (3, 3)\n",
       "}"
      ]
     },
     "execution_count": 11,
     "metadata": {},
     "output_type": "execute_result"
    }
   ],
   "source": [
    "unpatched_net = tt.remove_T_net(ttnet, inplace=True)\n",
    "unpatched_net"
   ]
  },
  {
   "cell_type": "raw",
   "id": "0f39649f",
   "metadata": {
    "raw_mimetype": "text/restructuredtext"
   },
   "source": [
    "Compare this with the original network above.\n",
    "\n",
    "2. The second option is to \"unpatch\" the network with :py:func:`.remove_T_net` and use post-training quantisation through whatever method you prefer. This might be preferable if you have included \"destructive\" transformations such as :py:func:`.dropout`."
   ]
  },
  {
   "attachments": {},
   "cell_type": "markdown",
   "id": "83d34883",
   "metadata": {},
   "source": [
    "### How to: Quantize to round numbers"
   ]
  },
  {
   "cell_type": "raw",
   "id": "f39e1630",
   "metadata": {
    "raw_mimetype": "text/restructuredtext"
   },
   "source": [
    "We might want to quantize to integer levels, for example when targetting processors that use integer logic and representations for parameters (such as Xylo). This is possible with :py:func:`.stochastic_rounding`.\n",
    "\n",
    "The cell below shows you how to use :py:func:`.stochastic_rounding` to target signed integer parameter values. By default, :py:func:`.stochastic_rounding` makes sure that zero in the input space maps to a zero in the output space."
   ]
  },
  {
   "cell_type": "code",
   "execution_count": 12,
   "id": "0b489351",
   "metadata": {},
   "outputs": [
    {
     "data": {
      "text/plain": [
       "tensor([[ 1.,  1.,  2., -3., -7.],\n",
       "        [-5., -2., -5.,  7., -1.],\n",
       "        [-2.,  4., -6.,  4., -5.],\n",
       "        [-7.,  7.,  6., -1., -6.],\n",
       "        [-2.,  4.,  4., -5.,  2.]])"
      ]
     },
     "execution_count": 12,
     "metadata": {},
     "output_type": "execute_result"
    }
   ],
   "source": [
    "w = torch.rand((5, 5)) - 0.5\n",
    "\n",
    "num_bits = 4\n",
    "\n",
    "tt.stochastic_rounding(\n",
    "    w,\n",
    "    output_range=[-(2 ** (num_bits - 1)) + 1, 2 ** (num_bits - 1)],\n",
    "    num_levels=2**num_bits,\n",
    ")"
   ]
  },
  {
   "attachments": {},
   "cell_type": "markdown",
   "id": "6e0b520c",
   "metadata": {},
   "source": [
    "## Activity transformations\n",
    "There is a similar pipeline available for activity transformations. This can be used to transform the output of modules in the forward pass, without modifying the module code.\n",
    "\n",
    "Let's begin again with a simple SNN artchitecture:"
   ]
  },
  {
   "cell_type": "code",
   "execution_count": 13,
   "id": "c0d28ca7",
   "metadata": {},
   "outputs": [
    {
     "data": {
      "text/plain": [
       "TorchSequential  with shape (3, 3) {\n",
       "    LinearTorch '0_LinearTorch' with shape (3, 5)\n",
       "    LIFTorch '1_LIFTorch' with shape (5, 5)\n",
       "    TorchResidual '2_TorchResidual' with shape (5, 5) {\n",
       "        LinearTorch '0_LinearTorch' with shape (5, 5)\n",
       "        LIFTorch '1_LIFTorch' with shape (5, 5)\n",
       "    }\n",
       "    LinearTorch '3_LinearTorch' with shape (5, 3)\n",
       "    LIFTorch '4_LIFTorch' with shape (3, 3)\n",
       "}"
      ]
     },
     "execution_count": 13,
     "metadata": {},
     "output_type": "execute_result"
    }
   ],
   "source": [
    "# - Build a network to use\n",
    "net = Sequential(\n",
    "    LinearTorch((3, 5)),\n",
    "    LIFTorch(5),\n",
    "    Residual(\n",
    "        LinearTorch((5, 5)),\n",
    "        LIFTorch(5, has_rec=True),\n",
    "    ),\n",
    "    LinearTorch((5, 3)),\n",
    "    LIFTorch(3),\n",
    ")\n",
    "net"
   ]
  },
  {
   "cell_type": "raw",
   "id": "3f87e259",
   "metadata": {
    "raw_mimetype": "text/restructuredtext"
   },
   "source": [
    "We need to build a configuration to patch the network with. We can conveniently specify which modules to transform according to the module class. Here we'll perform rounding of output activations to 8-bit signed integers, using the function :py:func:`.deterministic_rounding`."
   ]
  },
  {
   "cell_type": "code",
   "execution_count": 14,
   "id": "704bea66",
   "metadata": {},
   "outputs": [
    {
     "data": {
      "text/plain": [
       "{'': None,\n",
       " '0_LinearTorch': {'': <function __main__.<lambda>(p)>},\n",
       " '1_LIFTorch': {'': None},\n",
       " '2_TorchResidual': {'': None,\n",
       "  '0_LinearTorch': {'': <function __main__.<lambda>(p)>},\n",
       "  '1_LIFTorch': {'': None}},\n",
       " '3_LinearTorch': {'': <function __main__.<lambda>(p)>},\n",
       " '4_LIFTorch': {'': None}}"
      ]
     },
     "execution_count": 14,
     "metadata": {},
     "output_type": "execute_result"
    }
   ],
   "source": [
    "# - Build a null configuration tree, which can be manipulated directly\n",
    "tt.make_act_T_config(net)\n",
    "\n",
    "# - Specify a transformation function as a lambda\n",
    "T_fn = lambda p: tt.deterministic_rounding(\n",
    "    p, output_range=[-128, 127], num_levels=2**8\n",
    ")\n",
    "\n",
    "# - Conveniently build a configuration tree by selecting a module class\n",
    "tconf = tt.make_act_T_config(net, T_fn, LinearTorch)\n",
    "tconf"
   ]
  },
  {
   "cell_type": "raw",
   "id": "bdc34acd",
   "metadata": {
    "raw_mimetype": "text/restructuredtext"
   },
   "source": [
    "Now we patch the network, analogously to the parameter transformation above, using the helper function :py:func:`.make_act_T_network`:"
   ]
  },
  {
   "cell_type": "code",
   "execution_count": 15,
   "id": "69de444d",
   "metadata": {},
   "outputs": [
    {
     "data": {
      "text/plain": [
       "TorchSequential  with shape (3, 3) {\n",
       "    ActWrapper '0_LinearTorch' with shape (3, 5) {\n",
       "        LinearTorch '_mod' with shape (3, 5)\n",
       "    }\n",
       "    LIFTorch '1_LIFTorch' with shape (5, 5)\n",
       "    TorchResidual '2_TorchResidual' with shape (5, 5) {\n",
       "        ActWrapper '0_LinearTorch' with shape (5, 5) {\n",
       "            LinearTorch '_mod' with shape (5, 5)\n",
       "        }\n",
       "        LIFTorch '1_LIFTorch' with shape (5, 5)\n",
       "    }\n",
       "    ActWrapper '3_LinearTorch' with shape (5, 3) {\n",
       "        LinearTorch '_mod' with shape (5, 3)\n",
       "    }\n",
       "    LIFTorch '4_LIFTorch' with shape (3, 3)\n",
       "}"
      ]
     },
     "execution_count": 15,
     "metadata": {},
     "output_type": "execute_result"
    }
   ],
   "source": [
    "# - Make a transformed network by patching with the configuration\n",
    "tnet = tt.make_act_T_network(net, tconf)\n",
    "tnet"
   ]
  },
  {
   "cell_type": "raw",
   "id": "9040d7c2",
   "metadata": {
    "raw_mimetype": "text/restructuredtext"
   },
   "source": [
    "Again, the network has been patched (this time with :py:class:`.ActWrapper` modules), each of which handle the transformations for a single wrapped module.\n",
    "\n",
    "Now we evolve the module as useful, and check the outputs of the :py:class:`LinearTorch` layers:"
   ]
  },
  {
   "cell_type": "code",
   "execution_count": 16,
   "id": "1e491a97",
   "metadata": {},
   "outputs": [],
   "source": [
    "# - We evolve the module as usual\n",
    "out, ns, rd = tnet(torch.ones(1, 10, 3), record=True)"
   ]
  },
  {
   "cell_type": "code",
   "execution_count": 17,
   "id": "7c70b447",
   "metadata": {},
   "outputs": [
    {
     "data": {
      "text/plain": [
       "{'0_LinearTorch': {},\n",
       " '0_LinearTorch_output': tensor([[[  -2.,   68., -105., -128.,   18.],\n",
       "          [  -2.,   68., -105., -128.,   18.],\n",
       "          [  -2.,   68., -105., -128.,   18.],\n",
       "          [  -2.,   68., -105., -128.,   18.],\n",
       "          [  -2.,   68., -105., -128.,   18.],\n",
       "          [  -2.,   68., -105., -128.,   18.],\n",
       "          [  -2.,   68., -105., -128.,   18.],\n",
       "          [  -2.,   68., -105., -128.,   18.],\n",
       "          [  -2.,   68., -105., -128.,   18.],\n",
       "          [  -2.,   68., -105., -128.,   18.]]], requires_grad=True),\n",
       " '1_LIFTorch': {'vmem': tensor([[[-1.9025e+00,  6.8360e-01, -9.9879e+01, -1.2176e+02,  1.2213e-01],\n",
       "           [-5.5218e+00,  8.6280e-01, -2.8989e+02, -3.5340e+02,  5.2538e-01],\n",
       "           [-1.0686e+01,  5.6142e-01, -5.6102e+02, -6.8391e+02,  4.0171e-01],\n",
       "           [-1.7236e+01,  9.4843e-01, -9.0489e+02, -1.1031e+03,  2.1217e-02],\n",
       "           [-2.5024e+01,  2.7499e-01, -1.3138e+03, -1.6015e+03,  6.7770e-01],\n",
       "           [-3.3914e+01,  1.0071e-02, -1.7805e+03, -2.1705e+03,  6.3689e-01],\n",
       "           [-4.3779e+01,  6.7685e-01, -2.2984e+03, -2.8019e+03,  2.8247e-01],\n",
       "           [-5.4504e+01,  8.9288e-01, -2.8615e+03, -3.4883e+03,  1.1093e-02],\n",
       "           [-6.5982e+01,  4.5712e-01, -3.4640e+03, -4.2228e+03,  2.3026e-01],\n",
       "           [-7.8112e+01,  2.8668e-01, -4.1009e+03, -4.9992e+03,  3.5631e-01]]],\n",
       "         grad_fn=<CopySlices>),\n",
       "  'isyn': tensor([[[[  -1.9025],\n",
       "            [  64.6836],\n",
       "            [ -99.8791],\n",
       "            [-121.7574],\n",
       "            [  17.1221]],\n",
       "  \n",
       "           [[  -3.7121],\n",
       "            [ 126.2125],\n",
       "            [-194.8870],\n",
       "            [-237.5766],\n",
       "            [  33.4092]],\n",
       "  \n",
       "           [[  -5.4335],\n",
       "            [ 184.7407],\n",
       "            [-285.2614],\n",
       "            [-347.7472],\n",
       "            [  48.9020]],\n",
       "  \n",
       "           [[  -7.0710],\n",
       "            [ 240.4144],\n",
       "            [-371.2281],\n",
       "            [-452.5447],\n",
       "            [  63.6391]],\n",
       "  \n",
       "           [[  -8.6286],\n",
       "            [ 293.3728],\n",
       "            [-453.0022],\n",
       "            [-552.2313],\n",
       "            [  77.6575]],\n",
       "  \n",
       "           [[ -10.1103],\n",
       "            [ 343.7485],\n",
       "            [-530.7881],\n",
       "            [-647.0560],\n",
       "            [  90.9922]],\n",
       "  \n",
       "           [[ -11.5196],\n",
       "            [ 391.6673],\n",
       "            [-604.7804],\n",
       "            [-737.2561],\n",
       "            [ 103.6766]],\n",
       "  \n",
       "           [[ -12.8603],\n",
       "            [ 437.2491],\n",
       "            [-675.1640],\n",
       "            [-823.0571],\n",
       "            [ 115.7424]],\n",
       "  \n",
       "           [[ -14.1355],\n",
       "            [ 480.6078],\n",
       "            [-742.1150],\n",
       "            [-904.6735],\n",
       "            [ 127.2197]],\n",
       "  \n",
       "           [[ -15.3486],\n",
       "            [ 521.8519],\n",
       "            [-805.8007],\n",
       "            [-982.3095],\n",
       "            [ 138.1373]]]], grad_fn=<CopySlices>),\n",
       "  'irec': tensor([[[[0.],\n",
       "            [0.],\n",
       "            [0.],\n",
       "            [0.],\n",
       "            [0.]],\n",
       "  \n",
       "           [[0.],\n",
       "            [0.],\n",
       "            [0.],\n",
       "            [0.],\n",
       "            [0.]],\n",
       "  \n",
       "           [[0.],\n",
       "            [0.],\n",
       "            [0.],\n",
       "            [0.],\n",
       "            [0.]],\n",
       "  \n",
       "           [[0.],\n",
       "            [0.],\n",
       "            [0.],\n",
       "            [0.],\n",
       "            [0.]],\n",
       "  \n",
       "           [[0.],\n",
       "            [0.],\n",
       "            [0.],\n",
       "            [0.],\n",
       "            [0.]],\n",
       "  \n",
       "           [[0.],\n",
       "            [0.],\n",
       "            [0.],\n",
       "            [0.],\n",
       "            [0.]],\n",
       "  \n",
       "           [[0.],\n",
       "            [0.],\n",
       "            [0.],\n",
       "            [0.],\n",
       "            [0.]],\n",
       "  \n",
       "           [[0.],\n",
       "            [0.],\n",
       "            [0.],\n",
       "            [0.],\n",
       "            [0.]],\n",
       "  \n",
       "           [[0.],\n",
       "            [0.],\n",
       "            [0.],\n",
       "            [0.],\n",
       "            [0.]],\n",
       "  \n",
       "           [[0.],\n",
       "            [0.],\n",
       "            [0.],\n",
       "            [0.],\n",
       "            [0.]]]]),\n",
       "  'spikes': tensor([[[  0.,  64.,   0.,   0.,  17.],\n",
       "           [  0., 126.,   0.,   0.,  33.],\n",
       "           [  0., 185.,   0.,   0.,  49.],\n",
       "           [  0., 240.,   0.,   0.,  64.],\n",
       "           [  0., 294.,   0.,   0.,  77.],\n",
       "           [  0., 344.,   0.,   0.,  91.],\n",
       "           [  0., 391.,   0.,   0., 104.],\n",
       "           [  0., 437.,   0.,   0., 116.],\n",
       "           [  0., 481.,   0.,   0., 127.],\n",
       "           [  0., 522.,   0.,   0., 138.]]], grad_fn=<CopySlices>)},\n",
       " '1_LIFTorch_output': tensor([[[  0.,  64.,   0.,   0.,  17.],\n",
       "          [  0., 126.,   0.,   0.,  33.],\n",
       "          [  0., 185.,   0.,   0.,  49.],\n",
       "          [  0., 240.,   0.,   0.,  64.],\n",
       "          [  0., 294.,   0.,   0.,  77.],\n",
       "          [  0., 344.,   0.,   0.,  91.],\n",
       "          [  0., 391.,   0.,   0., 104.],\n",
       "          [  0., 437.,   0.,   0., 116.],\n",
       "          [  0., 481.,   0.,   0., 127.],\n",
       "          [  0., 522.,   0.,   0., 138.]]], requires_grad=True),\n",
       " '2_TorchResidual': {'0_LinearTorch': {},\n",
       "  '0_LinearTorch_output': tensor([[[ 15.,   8.,  -9.,   5.,   3.],\n",
       "           [ 30.,  15., -17.,  10.,   6.],\n",
       "           [ 45.,  23., -24.,  15.,  10.],\n",
       "           [ 58.,  30., -31.,  19.,  13.],\n",
       "           [ 71.,  37., -39.,  24.,  16.],\n",
       "           [ 84.,  43., -45.,  28.,  18.],\n",
       "           [ 95.,  49., -51.,  32.,  21.],\n",
       "           [106.,  55., -57.,  35.,  23.],\n",
       "           [117.,  60., -63.,  39.,  26.],\n",
       "           [127.,  65., -68.,  43.,  28.]]], requires_grad=True),\n",
       "  '1_LIFTorch': {'vmem': tensor([[[ 2.6844e-01,  6.0984e-01, -8.5611e+00,  7.5615e-01,  8.5369e-01],\n",
       "            [ 3.2919e-01,  4.6384e-01, -2.6536e+01,  9.9693e-01,  1.4157e-01],\n",
       "            [ 3.7964e-01,  3.1346e-01, -4.6506e+01,  3.3242e-01,  7.7141e-01],\n",
       "            [ 5.3272e-01,  5.6500e-01, -6.4679e+01,  1.0973e-01, -3.1371e+00],\n",
       "            [ 8.4690e-01,  9.1185e-01, -7.3795e+01,  8.6328e-01, -1.5641e+01],\n",
       "            [ 7.7775e-01,  8.4974e-01, -6.3736e+01,  1.4055e-01, -3.8865e+01],\n",
       "            [ 1.8718e-01,  4.4014e-01, -1.6837e+01,  2.6741e-02, -7.1991e+01],\n",
       "            [ 8.7653e-01, -2.1199e+00,  7.3981e-01,  2.7437e-01, -1.0837e+02],\n",
       "            [ 5.1117e-02, -1.1532e+02,  3.3788e-01,  2.0024e-01, -2.1593e+02],\n",
       "            [ 4.4446e-01, -4.9026e+02,  1.3531e-01,  3.2864e-01, -5.3796e+02]]],\n",
       "          grad_fn=<CopySlices>),\n",
       "   'isyn': tensor([[[[  14.2684],\n",
       "             [   7.6098],\n",
       "             [  -8.5611],\n",
       "             [   4.7561],\n",
       "             [   2.8537]],\n",
       "   \n",
       "            [[  29.0738],\n",
       "             [  15.8837],\n",
       "             [ -18.3921],\n",
       "             [  16.2777],\n",
       "             [   4.3295]],\n",
       "   \n",
       "            [[  47.0665],\n",
       "             [  24.8722],\n",
       "             [ -21.2643],\n",
       "             [  27.3841],\n",
       "             [   1.6367]],\n",
       "   \n",
       "            [[  60.1716],\n",
       "             [  31.2668],\n",
       "             [ -20.4412],\n",
       "             [  42.7935],\n",
       "             [  -3.8709]],\n",
       "   \n",
       "            [[  78.3402],\n",
       "             [  36.3744],\n",
       "             [ -12.2705],\n",
       "             [  56.7589],\n",
       "             [ -12.6570]],\n",
       "   \n",
       "            [[  97.9722],\n",
       "             [  35.9824],\n",
       "             [   6.4595],\n",
       "             [  72.3194],\n",
       "             [ -23.9871]],\n",
       "   \n",
       "            [[ 122.4474],\n",
       "             [  25.6318],\n",
       "             [  43.7905],\n",
       "             [  87.8930],\n",
       "             [ -35.0216]],\n",
       "   \n",
       "            [[ 155.6985],\n",
       "             [  -2.5386],\n",
       "             [ 106.7561],\n",
       "             [ 108.2489],\n",
       "             [ -39.8943]],\n",
       "   \n",
       "            [[ 260.2173],\n",
       "             [-113.2995],\n",
       "             [ 253.6342],\n",
       "             [ 148.9393],\n",
       "             [-112.8409]],\n",
       "   \n",
       "            [[ 408.3958],\n",
       "             [-380.5690],\n",
       "             [ 546.8139],\n",
       "             [ 239.1382],\n",
       "             [-332.5651]]]], grad_fn=<CopySlices>),\n",
       "   'irec': tensor([[[[   0.0000],\n",
       "             [   0.0000],\n",
       "             [   0.0000],\n",
       "             [   0.0000],\n",
       "             [   0.0000]],\n",
       "   \n",
       "            [[ -13.7040],\n",
       "             [  -5.9117],\n",
       "             [   6.2260],\n",
       "             [   2.3561],\n",
       "             [  -4.3022]],\n",
       "   \n",
       "            [[ -24.5942],\n",
       "             [ -12.7363],\n",
       "             [  20.0376],\n",
       "             [  -2.4895],\n",
       "             [ -12.6089]],\n",
       "   \n",
       "            [[ -41.8099],\n",
       "             [ -22.0023],\n",
       "             [  30.7751],\n",
       "             [  -1.3965],\n",
       "             [ -18.7061]],\n",
       "   \n",
       "            [[ -48.8148],\n",
       "             [ -30.0275],\n",
       "             [  46.5415],\n",
       "             [  -7.1246],\n",
       "             [ -25.4350]],\n",
       "   \n",
       "            [[ -59.3449],\n",
       "             [ -41.5472],\n",
       "             [  64.0612],\n",
       "             [  -8.7316],\n",
       "             [ -30.5599]],\n",
       "   \n",
       "            [[ -64.2468],\n",
       "             [ -58.0363],\n",
       "             [  90.5762],\n",
       "             [ -11.9200],\n",
       "             [ -33.8301]],\n",
       "   \n",
       "            [[ -64.7661],\n",
       "             [ -83.3006],\n",
       "             [ 125.4391],\n",
       "             [  -9.0941],\n",
       "             [ -29.9181]],\n",
       "   \n",
       "            [[   0.8605],\n",
       "             [-176.5699],\n",
       "             [ 222.8821],\n",
       "             [   9.3266],\n",
       "             [-104.7321]],\n",
       "   \n",
       "            [[  42.1174],\n",
       "             [-351.7816],\n",
       "             [ 389.2155],\n",
       "             [  59.4598],\n",
       "             [-264.7752]]]], grad_fn=<CopySlices>),\n",
       "   'spikes': tensor([[[ 14.,   7.,   0.,   4.,   2.],\n",
       "            [ 29.,  16.,   0.,  16.,   5.],\n",
       "            [ 47.,  25.,   0.,  28.,   1.],\n",
       "            [ 60.,  31.,   0.,  43.,   0.],\n",
       "            [ 78.,  36.,   0.,  56.,   0.],\n",
       "            [ 98.,  36.,   0.,  73.,   0.],\n",
       "            [123.,  26.,   0.,  88.,   0.],\n",
       "            [155.,   0.,  90., 108.,   0.],\n",
       "            [261.,   0., 254., 149.,   0.],\n",
       "            [408.,   0., 547., 239.,   0.]]], grad_fn=<CopySlices>)},\n",
       "  '1_LIFTorch_output': tensor([[[ 14.,   7.,   0.,   4.,   2.],\n",
       "           [ 29.,  16.,   0.,  16.,   5.],\n",
       "           [ 47.,  25.,   0.,  28.,   1.],\n",
       "           [ 60.,  31.,   0.,  43.,   0.],\n",
       "           [ 78.,  36.,   0.,  56.,   0.],\n",
       "           [ 98.,  36.,   0.,  73.,   0.],\n",
       "           [123.,  26.,   0.,  88.,   0.],\n",
       "           [155.,   0.,  90., 108.,   0.],\n",
       "           [261.,   0., 254., 149.,   0.],\n",
       "           [408.,   0., 547., 239.,   0.]]], requires_grad=True)},\n",
       " '2_TorchResidual_output': tensor([[[ 14.,  71.,   0.,   4.,  19.],\n",
       "          [ 29., 142.,   0.,  16.,  38.],\n",
       "          [ 47., 210.,   0.,  28.,  50.],\n",
       "          [ 60., 271.,   0.,  43.,  64.],\n",
       "          [ 78., 330.,   0.,  56.,  77.],\n",
       "          [ 98., 380.,   0.,  73.,  91.],\n",
       "          [123., 417.,   0.,  88., 104.],\n",
       "          [155., 437.,  90., 108., 116.],\n",
       "          [261., 481., 254., 149., 127.],\n",
       "          [408., 522., 547., 239., 138.]]], requires_grad=True),\n",
       " '3_LinearTorch': {},\n",
       " '3_LinearTorch_output': tensor([[[   8.,   -5.,   11.],\n",
       "          [  18.,   -9.,   22.],\n",
       "          [  26.,  -12.,   31.],\n",
       "          [  35.,  -14.,   40.],\n",
       "          [  43.,  -17.,   48.],\n",
       "          [  49.,  -19.,   55.],\n",
       "          [  52.,  -20.,   60.],\n",
       "          [  51.,  -36.,   73.],\n",
       "          [  45.,  -65.,   95.],\n",
       "          [  37., -111.,  127.]]], requires_grad=True),\n",
       " '4_LIFTorch': {'vmem': tensor([[[ 6.0984e-01, -4.7561e+00,  4.6352e-01],\n",
       "           [ 9.4092e-01, -1.7609e+01,  3.2118e-01],\n",
       "           [ 7.9974e-01, -4.0612e+01,  1.6784e-01],\n",
       "           [ 6.2214e-01, -7.4647e+01,  2.0042e-01],\n",
       "           [ 5.0996e-01, -1.2144e+02,  3.0400e-01],\n",
       "           [ 3.6009e-01, -1.8156e+02,  1.3060e-01],\n",
       "           [ 3.0579e-02, -2.5455e+02,  2.1970e-01],\n",
       "           [ 5.3970e-01, -3.5423e+02,  5.7108e-01],\n",
       "           [ 2.4579e-01, -5.0542e+02,  2.5729e-01],\n",
       "           [ 5.5481e-02, -7.4660e+02,  2.6428e-02]]], grad_fn=<CopySlices>),\n",
       "  'isyn': tensor([[[[   7.6098],\n",
       "            [  -4.7561],\n",
       "            [  10.4635]],\n",
       "  \n",
       "           [[  24.3608],\n",
       "            [ -13.0853],\n",
       "            [  30.8803]],\n",
       "  \n",
       "           [[  47.9047],\n",
       "            [ -23.8618],\n",
       "            [  58.8623]],\n",
       "  \n",
       "           [[  78.8614],\n",
       "            [ -36.0153],\n",
       "            [  94.0408]],\n",
       "  \n",
       "           [[ 115.9182],\n",
       "            [ -50.4297],\n",
       "            [ 135.1134]],\n",
       "  \n",
       "           [[ 156.8750],\n",
       "            [ -66.0436],\n",
       "            [ 180.8414]],\n",
       "  \n",
       "           [[ 198.6880],\n",
       "            [ -81.8472],\n",
       "            [ 229.0955]],\n",
       "  \n",
       "           [[ 237.5106],\n",
       "            [-112.0997],\n",
       "            [ 287.3621]],\n",
       "  \n",
       "           [[ 268.7324],\n",
       "            [-168.4624],\n",
       "            [ 363.7141]],\n",
       "  \n",
       "           [[ 290.8217],\n",
       "            [-265.8329],\n",
       "            [ 466.7817]]]], grad_fn=<CopySlices>),\n",
       "  'irec': tensor([[[[0.],\n",
       "            [0.],\n",
       "            [0.]],\n",
       "  \n",
       "           [[0.],\n",
       "            [0.],\n",
       "            [0.]],\n",
       "  \n",
       "           [[0.],\n",
       "            [0.],\n",
       "            [0.]],\n",
       "  \n",
       "           [[0.],\n",
       "            [0.],\n",
       "            [0.]],\n",
       "  \n",
       "           [[0.],\n",
       "            [0.],\n",
       "            [0.]],\n",
       "  \n",
       "           [[0.],\n",
       "            [0.],\n",
       "            [0.]],\n",
       "  \n",
       "           [[0.],\n",
       "            [0.],\n",
       "            [0.]],\n",
       "  \n",
       "           [[0.],\n",
       "            [0.],\n",
       "            [0.]],\n",
       "  \n",
       "           [[0.],\n",
       "            [0.],\n",
       "            [0.]],\n",
       "  \n",
       "           [[0.],\n",
       "            [0.],\n",
       "            [0.]]]]),\n",
       "  'spikes': tensor([[[  7.,   0.,  10.],\n",
       "           [ 24.,   0.,  31.],\n",
       "           [ 48.,   0.,  59.],\n",
       "           [ 79.,   0.,  94.],\n",
       "           [116.,   0., 135.],\n",
       "           [157.,   0., 181.],\n",
       "           [199.,   0., 229.],\n",
       "           [237.,   0., 287.],\n",
       "           [269.,   0., 364.],\n",
       "           [291.,   0., 467.]]], grad_fn=<CopySlices>)},\n",
       " '4_LIFTorch_output': tensor([[[  7.,   0.,  10.],\n",
       "          [ 24.,   0.,  31.],\n",
       "          [ 48.,   0.,  59.],\n",
       "          [ 79.,   0.,  94.],\n",
       "          [116.,   0., 135.],\n",
       "          [157.,   0., 181.],\n",
       "          [199.,   0., 229.],\n",
       "          [237.,   0., 287.],\n",
       "          [269.,   0., 364.],\n",
       "          [291.,   0., 467.]]], requires_grad=True)}"
      ]
     },
     "execution_count": 17,
     "metadata": {},
     "output_type": "execute_result"
    }
   ],
   "source": [
    "# - Examine the recorded outputs from the network; the LinearTorch layers have quantised output\n",
    "rd"
   ]
  },
  {
   "attachments": {},
   "cell_type": "markdown",
   "id": "4d627220",
   "metadata": {},
   "source": [
    "As expected, the outputs of the Linear layers are now signed 8-bit integers, maintained as floating-point representation."
   ]
  },
  {
   "attachments": {},
   "cell_type": "markdown",
   "id": "667c4744",
   "metadata": {},
   "source": [
    "## Decay transformations\n",
    "In case of training decays, decay parameter of LIF neurons $\\exp{(-dt/\\tau)}$ can be quantized to match the \n",
    "way that decay is implemented in Xylo:\n",
    "\n",
    " bitshift subtraction:\n",
    " $V_{mem}~~ \\rightarrow V_{mem} \\cdot (1- \\frac{1}{2^N})$ "
   ]
  },
  {
   "cell_type": "code",
   "execution_count": 20,
   "id": "5b0f6b61",
   "metadata": {},
   "outputs": [
    {
     "data": {
      "text/plain": [
       "TorchSequential  with shape (3, 3) {\n",
       "    LinearTorch '0_LinearTorch' with shape (3, 5)\n",
       "    LIFTorch '1_LIFTorch' with shape (5, 5)\n",
       "    TorchResidual '2_TorchResidual' with shape (5, 5) {\n",
       "        LinearTorch '0_LinearTorch' with shape (5, 5)\n",
       "        LIFTorch '1_LIFTorch' with shape (5, 5)\n",
       "    }\n",
       "    LinearTorch '3_LinearTorch' with shape (5, 3)\n",
       "    LIFTorch '4_LIFTorch' with shape (3, 3)\n",
       "}"
      ]
     },
     "execution_count": 20,
     "metadata": {},
     "output_type": "execute_result"
    }
   ],
   "source": [
    "# - Build a network to use\n",
    "# activate the decay training for the last layer\n",
    "net_decay = Sequential(\n",
    "    LinearTorch((3, 5)),\n",
    "    LIFTorch(5),\n",
    "    Residual(\n",
    "        LinearTorch((5, 5)),\n",
    "        LIFTorch(5, has_rec=True),\n",
    "    ),\n",
    "    LinearTorch((5, 3)),\n",
    "    LIFTorch(3, leak_mode=\"decays\"),\n",
    ")\n",
    "net_decay"
   ]
  },
  {
   "cell_type": "code",
   "execution_count": 21,
   "id": "9451dac6",
   "metadata": {},
   "outputs": [
    {
     "name": "stdout",
     "output_type": "stream",
     "text": [
      "{'alpha': <function <lambda> at 0x7f8ed3137ca0>, 'beta': <function <lambda> at 0x7f8ed3137ca0>}\n"
     ]
    }
   ],
   "source": [
    "tconfig_decay = tt.make_param_T_config(net_decay, lambda p: tt.t_decay(p), \"decays\")\n",
    "print(tconfig_decay[\"4_LIFTorch\"])"
   ]
  },
  {
   "cell_type": "code",
   "execution_count": 22,
   "id": "0e7f0063",
   "metadata": {},
   "outputs": [
    {
     "name": "stdout",
     "output_type": "stream",
     "text": [
      "TorchSequential  with shape (3, 3) {\n",
      "    LinearTorch '0_LinearTorch' with shape (3, 5)\n",
      "    LIFTorch '1_LIFTorch' with shape (5, 5)\n",
      "    TorchResidual '2_TorchResidual' with shape (5, 5) {\n",
      "        LinearTorch '0_LinearTorch' with shape (5, 5)\n",
      "        LIFTorch '1_LIFTorch' with shape (5, 5)\n",
      "    }\n",
      "    LinearTorch '3_LinearTorch' with shape (5, 3)\n",
      "    TWrapper '4_LIFTorch' with shape (3, 3) {\n",
      "        LIFTorch '_mod' with shape (3, 3)\n",
      "    }\n",
      "}\n"
     ]
    }
   ],
   "source": [
    "t_net_decay = tt.make_param_T_network(net_decay, tconfig_decay)\n",
    "print(t_net_decay)"
   ]
  },
  {
   "attachments": {},
   "cell_type": "markdown",
   "id": "09847d38",
   "metadata": {},
   "source": [
    "## Building a network with bitshift decays \n",
    "in case of passing BitShift_training=True to the LIF neurons the membrane and synaptic decays will be directly applied based on bitshift subtraction. For quantization its enough to round them. \n"
   ]
  },
  {
   "cell_type": "code",
   "execution_count": 25,
   "id": "1af0b8ae",
   "metadata": {},
   "outputs": [
    {
     "data": {
      "text/plain": [
       "TorchSequential  with shape (3, 3) {\n",
       "    LinearTorch '0_LinearTorch' with shape (3, 5)\n",
       "    LIFTorch '1_LIFTorch' with shape (5, 5)\n",
       "    TorchResidual '2_TorchResidual' with shape (5, 5) {\n",
       "        LinearTorch '0_LinearTorch' with shape (5, 5)\n",
       "        LIFTorch '1_LIFTorch' with shape (5, 5)\n",
       "    }\n",
       "    LinearTorch '3_LinearTorch' with shape (5, 3)\n",
       "    LIFTorch '4_LIFTorch' with shape (3, 3)\n",
       "}"
      ]
     },
     "execution_count": 25,
     "metadata": {},
     "output_type": "execute_result"
    }
   ],
   "source": [
    "# - Build a network to use\n",
    "# activate the decay training for the last layer\n",
    "net_bitshift = Sequential(\n",
    "    LinearTorch((3, 5)),\n",
    "    LIFTorch(5),\n",
    "    Residual(\n",
    "        LinearTorch((5, 5)),\n",
    "        LIFTorch(5, has_rec=True),\n",
    "    ),\n",
    "    LinearTorch((5, 3)),\n",
    "    LIFTorch(3, leak_mode=\"bitshifts\"),\n",
    ")\n",
    "net_bitshift"
   ]
  },
  {
   "cell_type": "code",
   "execution_count": 26,
   "id": "c424a741",
   "metadata": {},
   "outputs": [
    {
     "name": "stdout",
     "output_type": "stream",
     "text": [
      "{'dash_mem': <function <lambda> at 0x7f8ed3063700>, 'dash_syn': <function <lambda> at 0x7f8ed3063700>}\n"
     ]
    }
   ],
   "source": [
    "tconfig_bitshift = tt.make_param_T_config(\n",
    "    net_bitshift, lambda p: tt.round_passthrough(p), \"bitshifts\"\n",
    ")\n",
    "print(tconfig_bitshift[\"4_LIFTorch\"])"
   ]
  },
  {
   "cell_type": "code",
   "execution_count": 27,
   "id": "aee70881",
   "metadata": {},
   "outputs": [
    {
     "name": "stdout",
     "output_type": "stream",
     "text": [
      "TorchSequential  with shape (3, 3) {\n",
      "    LinearTorch '0_LinearTorch' with shape (3, 5)\n",
      "    LIFTorch '1_LIFTorch' with shape (5, 5)\n",
      "    TorchResidual '2_TorchResidual' with shape (5, 5) {\n",
      "        LinearTorch '0_LinearTorch' with shape (5, 5)\n",
      "        LIFTorch '1_LIFTorch' with shape (5, 5)\n",
      "    }\n",
      "    LinearTorch '3_LinearTorch' with shape (5, 3)\n",
      "    TWrapper '4_LIFTorch' with shape (3, 3) {\n",
      "        LIFTorch '_mod' with shape (3, 3)\n",
      "    }\n",
      "}\n"
     ]
    }
   ],
   "source": [
    "t_net_bitshift = tt.make_param_T_network(net_bitshift, tconfig_bitshift)\n",
    "print(t_net_bitshift)"
   ]
  }
 ],
 "metadata": {
  "kernelspec": {
   "display_name": "Python 3.8.7 64-bit ('py3.8_torch1.12')",
   "language": "python",
   "name": "python3"
  },
  "language_info": {
   "codemirror_mode": {
    "name": "ipython",
    "version": 3
   },
   "file_extension": ".py",
   "mimetype": "text/x-python",
   "name": "python",
   "nbconvert_exporter": "python",
   "pygments_lexer": "ipython3",
   "version": "3.8.16"
  },
  "vscode": {
   "interpreter": {
    "hash": "f9bd1bf386d42091ca19c180a45216f16e5793edc5ffec88353d413783d71a94"
   }
  }
 },
 "nbformat": 4,
 "nbformat_minor": 5
}
